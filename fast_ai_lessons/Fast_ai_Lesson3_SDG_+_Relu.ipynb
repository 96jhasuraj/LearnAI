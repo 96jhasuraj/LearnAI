{
  "nbformat": 4,
  "nbformat_minor": 0,
  "metadata": {
    "colab": {
      "provenance": []
    },
    "kernelspec": {
      "name": "python3",
      "display_name": "Python 3"
    },
    "language_info": {
      "name": "python"
    },
    "widgets": {
      "application/vnd.jupyter.widget-state+json": {
        "3f5215c53f6a40119592cf83b1a7d398": {
          "model_module": "@jupyter-widgets/controls",
          "model_name": "VBoxModel",
          "model_module_version": "1.5.0",
          "state": {
            "_dom_classes": [
              "widget-interact"
            ],
            "_model_module": "@jupyter-widgets/controls",
            "_model_module_version": "1.5.0",
            "_model_name": "VBoxModel",
            "_view_count": null,
            "_view_module": "@jupyter-widgets/controls",
            "_view_module_version": "1.5.0",
            "_view_name": "VBoxView",
            "box_style": "",
            "children": [
              "IPY_MODEL_9d2b23c6788948c684892b74a3b1f529",
              "IPY_MODEL_6ff449b0a7584fc9af77061a871a4a1c",
              "IPY_MODEL_610fff7b9ebc4087bfac21d67519d7c9",
              "IPY_MODEL_76a13314963c4ac999b018708c5167eb"
            ],
            "layout": "IPY_MODEL_d0d67f7b32ab46548e061251243e7687"
          }
        },
        "9d2b23c6788948c684892b74a3b1f529": {
          "model_module": "@jupyter-widgets/controls",
          "model_name": "FloatSliderModel",
          "model_module_version": "1.5.0",
          "state": {
            "_dom_classes": [],
            "_model_module": "@jupyter-widgets/controls",
            "_model_module_version": "1.5.0",
            "_model_name": "FloatSliderModel",
            "_view_count": null,
            "_view_module": "@jupyter-widgets/controls",
            "_view_module_version": "1.5.0",
            "_view_name": "FloatSliderView",
            "continuous_update": true,
            "description": "a",
            "description_tooltip": null,
            "disabled": false,
            "layout": "IPY_MODEL_371d6730f2a643ae883cbb6e8fff0983",
            "max": 3.3000000000000003,
            "min": -1.1,
            "orientation": "horizontal",
            "readout": true,
            "readout_format": ".2f",
            "step": 0.1,
            "style": "IPY_MODEL_7e3c6292bded45e1909a0d3776ac3d0a",
            "value": 2.7
          }
        },
        "6ff449b0a7584fc9af77061a871a4a1c": {
          "model_module": "@jupyter-widgets/controls",
          "model_name": "FloatSliderModel",
          "model_module_version": "1.5.0",
          "state": {
            "_dom_classes": [],
            "_model_module": "@jupyter-widgets/controls",
            "_model_module_version": "1.5.0",
            "_model_name": "FloatSliderModel",
            "_view_count": null,
            "_view_module": "@jupyter-widgets/controls",
            "_view_module_version": "1.5.0",
            "_view_name": "FloatSliderView",
            "continuous_update": true,
            "description": "b",
            "description_tooltip": null,
            "disabled": false,
            "layout": "IPY_MODEL_70001e8a13204d2c8bbc1a77aa6d135a",
            "max": 3.3000000000000003,
            "min": -1.1,
            "orientation": "horizontal",
            "readout": true,
            "readout_format": ".2f",
            "step": 0.1,
            "style": "IPY_MODEL_7dd095f6ceeb43e19d11b9ec201c7448",
            "value": 1.5
          }
        },
        "610fff7b9ebc4087bfac21d67519d7c9": {
          "model_module": "@jupyter-widgets/controls",
          "model_name": "FloatSliderModel",
          "model_module_version": "1.5.0",
          "state": {
            "_dom_classes": [],
            "_model_module": "@jupyter-widgets/controls",
            "_model_module_version": "1.5.0",
            "_model_name": "FloatSliderModel",
            "_view_count": null,
            "_view_module": "@jupyter-widgets/controls",
            "_view_module_version": "1.5.0",
            "_view_name": "FloatSliderView",
            "continuous_update": true,
            "description": "c",
            "description_tooltip": null,
            "disabled": false,
            "layout": "IPY_MODEL_92cb5401b79345b18819f890267ed27e",
            "max": 3.3000000000000003,
            "min": -1.1,
            "orientation": "horizontal",
            "readout": true,
            "readout_format": ".2f",
            "step": 0.1,
            "style": "IPY_MODEL_6771bb74fb9c4dcdaeaa8ffdec610b9b",
            "value": 0.8
          }
        },
        "76a13314963c4ac999b018708c5167eb": {
          "model_module": "@jupyter-widgets/output",
          "model_name": "OutputModel",
          "model_module_version": "1.0.0",
          "state": {
            "_dom_classes": [],
            "_model_module": "@jupyter-widgets/output",
            "_model_module_version": "1.0.0",
            "_model_name": "OutputModel",
            "_view_count": null,
            "_view_module": "@jupyter-widgets/output",
            "_view_module_version": "1.0.0",
            "_view_name": "OutputView",
            "layout": "IPY_MODEL_6d480a6fa7d14001b94165c9ea05b08b",
            "msg_id": "",
            "outputs": [
              {
                "output_type": "display_data",
                "data": {
                  "text/plain": "<Figure size 576x432 with 1 Axes>",
                  "image/png": "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\n"
                },
                "metadata": {}
              }
            ]
          }
        },
        "d0d67f7b32ab46548e061251243e7687": {
          "model_module": "@jupyter-widgets/base",
          "model_name": "LayoutModel",
          "model_module_version": "1.2.0",
          "state": {
            "_model_module": "@jupyter-widgets/base",
            "_model_module_version": "1.2.0",
            "_model_name": "LayoutModel",
            "_view_count": null,
            "_view_module": "@jupyter-widgets/base",
            "_view_module_version": "1.2.0",
            "_view_name": "LayoutView",
            "align_content": null,
            "align_items": null,
            "align_self": null,
            "border": null,
            "bottom": null,
            "display": null,
            "flex": null,
            "flex_flow": null,
            "grid_area": null,
            "grid_auto_columns": null,
            "grid_auto_flow": null,
            "grid_auto_rows": null,
            "grid_column": null,
            "grid_gap": null,
            "grid_row": null,
            "grid_template_areas": null,
            "grid_template_columns": null,
            "grid_template_rows": null,
            "height": null,
            "justify_content": null,
            "justify_items": null,
            "left": null,
            "margin": null,
            "max_height": null,
            "max_width": null,
            "min_height": null,
            "min_width": null,
            "object_fit": null,
            "object_position": null,
            "order": null,
            "overflow": null,
            "overflow_x": null,
            "overflow_y": null,
            "padding": null,
            "right": null,
            "top": null,
            "visibility": null,
            "width": null
          }
        },
        "371d6730f2a643ae883cbb6e8fff0983": {
          "model_module": "@jupyter-widgets/base",
          "model_name": "LayoutModel",
          "model_module_version": "1.2.0",
          "state": {
            "_model_module": "@jupyter-widgets/base",
            "_model_module_version": "1.2.0",
            "_model_name": "LayoutModel",
            "_view_count": null,
            "_view_module": "@jupyter-widgets/base",
            "_view_module_version": "1.2.0",
            "_view_name": "LayoutView",
            "align_content": null,
            "align_items": null,
            "align_self": null,
            "border": null,
            "bottom": null,
            "display": null,
            "flex": null,
            "flex_flow": null,
            "grid_area": null,
            "grid_auto_columns": null,
            "grid_auto_flow": null,
            "grid_auto_rows": null,
            "grid_column": null,
            "grid_gap": null,
            "grid_row": null,
            "grid_template_areas": null,
            "grid_template_columns": null,
            "grid_template_rows": null,
            "height": null,
            "justify_content": null,
            "justify_items": null,
            "left": null,
            "margin": null,
            "max_height": null,
            "max_width": null,
            "min_height": null,
            "min_width": null,
            "object_fit": null,
            "object_position": null,
            "order": null,
            "overflow": null,
            "overflow_x": null,
            "overflow_y": null,
            "padding": null,
            "right": null,
            "top": null,
            "visibility": null,
            "width": null
          }
        },
        "7e3c6292bded45e1909a0d3776ac3d0a": {
          "model_module": "@jupyter-widgets/controls",
          "model_name": "SliderStyleModel",
          "model_module_version": "1.5.0",
          "state": {
            "_model_module": "@jupyter-widgets/controls",
            "_model_module_version": "1.5.0",
            "_model_name": "SliderStyleModel",
            "_view_count": null,
            "_view_module": "@jupyter-widgets/base",
            "_view_module_version": "1.2.0",
            "_view_name": "StyleView",
            "description_width": "",
            "handle_color": null
          }
        },
        "70001e8a13204d2c8bbc1a77aa6d135a": {
          "model_module": "@jupyter-widgets/base",
          "model_name": "LayoutModel",
          "model_module_version": "1.2.0",
          "state": {
            "_model_module": "@jupyter-widgets/base",
            "_model_module_version": "1.2.0",
            "_model_name": "LayoutModel",
            "_view_count": null,
            "_view_module": "@jupyter-widgets/base",
            "_view_module_version": "1.2.0",
            "_view_name": "LayoutView",
            "align_content": null,
            "align_items": null,
            "align_self": null,
            "border": null,
            "bottom": null,
            "display": null,
            "flex": null,
            "flex_flow": null,
            "grid_area": null,
            "grid_auto_columns": null,
            "grid_auto_flow": null,
            "grid_auto_rows": null,
            "grid_column": null,
            "grid_gap": null,
            "grid_row": null,
            "grid_template_areas": null,
            "grid_template_columns": null,
            "grid_template_rows": null,
            "height": null,
            "justify_content": null,
            "justify_items": null,
            "left": null,
            "margin": null,
            "max_height": null,
            "max_width": null,
            "min_height": null,
            "min_width": null,
            "object_fit": null,
            "object_position": null,
            "order": null,
            "overflow": null,
            "overflow_x": null,
            "overflow_y": null,
            "padding": null,
            "right": null,
            "top": null,
            "visibility": null,
            "width": null
          }
        },
        "7dd095f6ceeb43e19d11b9ec201c7448": {
          "model_module": "@jupyter-widgets/controls",
          "model_name": "SliderStyleModel",
          "model_module_version": "1.5.0",
          "state": {
            "_model_module": "@jupyter-widgets/controls",
            "_model_module_version": "1.5.0",
            "_model_name": "SliderStyleModel",
            "_view_count": null,
            "_view_module": "@jupyter-widgets/base",
            "_view_module_version": "1.2.0",
            "_view_name": "StyleView",
            "description_width": "",
            "handle_color": null
          }
        },
        "92cb5401b79345b18819f890267ed27e": {
          "model_module": "@jupyter-widgets/base",
          "model_name": "LayoutModel",
          "model_module_version": "1.2.0",
          "state": {
            "_model_module": "@jupyter-widgets/base",
            "_model_module_version": "1.2.0",
            "_model_name": "LayoutModel",
            "_view_count": null,
            "_view_module": "@jupyter-widgets/base",
            "_view_module_version": "1.2.0",
            "_view_name": "LayoutView",
            "align_content": null,
            "align_items": null,
            "align_self": null,
            "border": null,
            "bottom": null,
            "display": null,
            "flex": null,
            "flex_flow": null,
            "grid_area": null,
            "grid_auto_columns": null,
            "grid_auto_flow": null,
            "grid_auto_rows": null,
            "grid_column": null,
            "grid_gap": null,
            "grid_row": null,
            "grid_template_areas": null,
            "grid_template_columns": null,
            "grid_template_rows": null,
            "height": null,
            "justify_content": null,
            "justify_items": null,
            "left": null,
            "margin": null,
            "max_height": null,
            "max_width": null,
            "min_height": null,
            "min_width": null,
            "object_fit": null,
            "object_position": null,
            "order": null,
            "overflow": null,
            "overflow_x": null,
            "overflow_y": null,
            "padding": null,
            "right": null,
            "top": null,
            "visibility": null,
            "width": null
          }
        },
        "6771bb74fb9c4dcdaeaa8ffdec610b9b": {
          "model_module": "@jupyter-widgets/controls",
          "model_name": "SliderStyleModel",
          "model_module_version": "1.5.0",
          "state": {
            "_model_module": "@jupyter-widgets/controls",
            "_model_module_version": "1.5.0",
            "_model_name": "SliderStyleModel",
            "_view_count": null,
            "_view_module": "@jupyter-widgets/base",
            "_view_module_version": "1.2.0",
            "_view_name": "StyleView",
            "description_width": "",
            "handle_color": null
          }
        },
        "6d480a6fa7d14001b94165c9ea05b08b": {
          "model_module": "@jupyter-widgets/base",
          "model_name": "LayoutModel",
          "model_module_version": "1.2.0",
          "state": {
            "_model_module": "@jupyter-widgets/base",
            "_model_module_version": "1.2.0",
            "_model_name": "LayoutModel",
            "_view_count": null,
            "_view_module": "@jupyter-widgets/base",
            "_view_module_version": "1.2.0",
            "_view_name": "LayoutView",
            "align_content": null,
            "align_items": null,
            "align_self": null,
            "border": null,
            "bottom": null,
            "display": null,
            "flex": null,
            "flex_flow": null,
            "grid_area": null,
            "grid_auto_columns": null,
            "grid_auto_flow": null,
            "grid_auto_rows": null,
            "grid_column": null,
            "grid_gap": null,
            "grid_row": null,
            "grid_template_areas": null,
            "grid_template_columns": null,
            "grid_template_rows": null,
            "height": null,
            "justify_content": null,
            "justify_items": null,
            "left": null,
            "margin": null,
            "max_height": null,
            "max_width": null,
            "min_height": null,
            "min_width": null,
            "object_fit": null,
            "object_position": null,
            "order": null,
            "overflow": null,
            "overflow_x": null,
            "overflow_y": null,
            "padding": null,
            "right": null,
            "top": null,
            "visibility": null,
            "width": null
          }
        },
        "a7079b9cd2424fd19e930733ad77592d": {
          "model_module": "@jupyter-widgets/controls",
          "model_name": "VBoxModel",
          "model_module_version": "1.5.0",
          "state": {
            "_dom_classes": [
              "widget-interact"
            ],
            "_model_module": "@jupyter-widgets/controls",
            "_model_module_version": "1.5.0",
            "_model_name": "VBoxModel",
            "_view_count": null,
            "_view_module": "@jupyter-widgets/controls",
            "_view_module_version": "1.5.0",
            "_view_name": "VBoxView",
            "box_style": "",
            "children": [
              "IPY_MODEL_f690b6d0fb884bdbb9867b143951b923",
              "IPY_MODEL_a395fc9c897d4a34b9233da43c8b173e",
              "IPY_MODEL_ef420a81a4f54cb48ed62cb250bc009d",
              "IPY_MODEL_956d108056df4a8cbdacb1216d0ea326"
            ],
            "layout": "IPY_MODEL_6ca60c009701446e83f33445266ac0e9"
          }
        },
        "f690b6d0fb884bdbb9867b143951b923": {
          "model_module": "@jupyter-widgets/controls",
          "model_name": "FloatSliderModel",
          "model_module_version": "1.5.0",
          "state": {
            "_dom_classes": [],
            "_model_module": "@jupyter-widgets/controls",
            "_model_module_version": "1.5.0",
            "_model_name": "FloatSliderModel",
            "_view_count": null,
            "_view_module": "@jupyter-widgets/controls",
            "_view_module_version": "1.5.0",
            "_view_name": "FloatSliderView",
            "continuous_update": true,
            "description": "a",
            "description_tooltip": null,
            "disabled": false,
            "layout": "IPY_MODEL_118d37106b9c4dedb7915b30a8f34212",
            "max": 3.3000000000000003,
            "min": -1.1,
            "orientation": "horizontal",
            "readout": true,
            "readout_format": ".2f",
            "step": 0.1,
            "style": "IPY_MODEL_15e181176b9f46b197eb91ca9e80d176",
            "value": 1.1
          }
        },
        "a395fc9c897d4a34b9233da43c8b173e": {
          "model_module": "@jupyter-widgets/controls",
          "model_name": "FloatSliderModel",
          "model_module_version": "1.5.0",
          "state": {
            "_dom_classes": [],
            "_model_module": "@jupyter-widgets/controls",
            "_model_module_version": "1.5.0",
            "_model_name": "FloatSliderModel",
            "_view_count": null,
            "_view_module": "@jupyter-widgets/controls",
            "_view_module_version": "1.5.0",
            "_view_name": "FloatSliderView",
            "continuous_update": true,
            "description": "b",
            "description_tooltip": null,
            "disabled": false,
            "layout": "IPY_MODEL_809085fcb7044a29b04fe482a1805481",
            "max": 3.3000000000000003,
            "min": -1.1,
            "orientation": "horizontal",
            "readout": true,
            "readout_format": ".2f",
            "step": 0.1,
            "style": "IPY_MODEL_29f15ad180aa456b976a3aaf699e7fae",
            "value": 1.1
          }
        },
        "ef420a81a4f54cb48ed62cb250bc009d": {
          "model_module": "@jupyter-widgets/controls",
          "model_name": "FloatSliderModel",
          "model_module_version": "1.5.0",
          "state": {
            "_dom_classes": [],
            "_model_module": "@jupyter-widgets/controls",
            "_model_module_version": "1.5.0",
            "_model_name": "FloatSliderModel",
            "_view_count": null,
            "_view_module": "@jupyter-widgets/controls",
            "_view_module_version": "1.5.0",
            "_view_name": "FloatSliderView",
            "continuous_update": true,
            "description": "c",
            "description_tooltip": null,
            "disabled": false,
            "layout": "IPY_MODEL_d14bc877cbe24f0eb354dca612f1f7ac",
            "max": 3.3000000000000003,
            "min": -1.1,
            "orientation": "horizontal",
            "readout": true,
            "readout_format": ".2f",
            "step": 0.1,
            "style": "IPY_MODEL_4176915a2987441a8670fbef35314fd2",
            "value": 3
          }
        },
        "956d108056df4a8cbdacb1216d0ea326": {
          "model_module": "@jupyter-widgets/output",
          "model_name": "OutputModel",
          "model_module_version": "1.0.0",
          "state": {
            "_dom_classes": [],
            "_model_module": "@jupyter-widgets/output",
            "_model_module_version": "1.0.0",
            "_model_name": "OutputModel",
            "_view_count": null,
            "_view_module": "@jupyter-widgets/output",
            "_view_module_version": "1.0.0",
            "_view_name": "OutputView",
            "layout": "IPY_MODEL_bef20af74e1d4160b06ebd0d073d10bc",
            "msg_id": "",
            "outputs": [
              {
                "output_type": "display_data",
                "data": {
                  "text/plain": "<Figure size 576x432 with 1 Axes>",
                  "image/png": "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\n"
                },
                "metadata": {}
              }
            ]
          }
        },
        "6ca60c009701446e83f33445266ac0e9": {
          "model_module": "@jupyter-widgets/base",
          "model_name": "LayoutModel",
          "model_module_version": "1.2.0",
          "state": {
            "_model_module": "@jupyter-widgets/base",
            "_model_module_version": "1.2.0",
            "_model_name": "LayoutModel",
            "_view_count": null,
            "_view_module": "@jupyter-widgets/base",
            "_view_module_version": "1.2.0",
            "_view_name": "LayoutView",
            "align_content": null,
            "align_items": null,
            "align_self": null,
            "border": null,
            "bottom": null,
            "display": null,
            "flex": null,
            "flex_flow": null,
            "grid_area": null,
            "grid_auto_columns": null,
            "grid_auto_flow": null,
            "grid_auto_rows": null,
            "grid_column": null,
            "grid_gap": null,
            "grid_row": null,
            "grid_template_areas": null,
            "grid_template_columns": null,
            "grid_template_rows": null,
            "height": null,
            "justify_content": null,
            "justify_items": null,
            "left": null,
            "margin": null,
            "max_height": null,
            "max_width": null,
            "min_height": null,
            "min_width": null,
            "object_fit": null,
            "object_position": null,
            "order": null,
            "overflow": null,
            "overflow_x": null,
            "overflow_y": null,
            "padding": null,
            "right": null,
            "top": null,
            "visibility": null,
            "width": null
          }
        },
        "118d37106b9c4dedb7915b30a8f34212": {
          "model_module": "@jupyter-widgets/base",
          "model_name": "LayoutModel",
          "model_module_version": "1.2.0",
          "state": {
            "_model_module": "@jupyter-widgets/base",
            "_model_module_version": "1.2.0",
            "_model_name": "LayoutModel",
            "_view_count": null,
            "_view_module": "@jupyter-widgets/base",
            "_view_module_version": "1.2.0",
            "_view_name": "LayoutView",
            "align_content": null,
            "align_items": null,
            "align_self": null,
            "border": null,
            "bottom": null,
            "display": null,
            "flex": null,
            "flex_flow": null,
            "grid_area": null,
            "grid_auto_columns": null,
            "grid_auto_flow": null,
            "grid_auto_rows": null,
            "grid_column": null,
            "grid_gap": null,
            "grid_row": null,
            "grid_template_areas": null,
            "grid_template_columns": null,
            "grid_template_rows": null,
            "height": null,
            "justify_content": null,
            "justify_items": null,
            "left": null,
            "margin": null,
            "max_height": null,
            "max_width": null,
            "min_height": null,
            "min_width": null,
            "object_fit": null,
            "object_position": null,
            "order": null,
            "overflow": null,
            "overflow_x": null,
            "overflow_y": null,
            "padding": null,
            "right": null,
            "top": null,
            "visibility": null,
            "width": null
          }
        },
        "15e181176b9f46b197eb91ca9e80d176": {
          "model_module": "@jupyter-widgets/controls",
          "model_name": "SliderStyleModel",
          "model_module_version": "1.5.0",
          "state": {
            "_model_module": "@jupyter-widgets/controls",
            "_model_module_version": "1.5.0",
            "_model_name": "SliderStyleModel",
            "_view_count": null,
            "_view_module": "@jupyter-widgets/base",
            "_view_module_version": "1.2.0",
            "_view_name": "StyleView",
            "description_width": "",
            "handle_color": null
          }
        },
        "809085fcb7044a29b04fe482a1805481": {
          "model_module": "@jupyter-widgets/base",
          "model_name": "LayoutModel",
          "model_module_version": "1.2.0",
          "state": {
            "_model_module": "@jupyter-widgets/base",
            "_model_module_version": "1.2.0",
            "_model_name": "LayoutModel",
            "_view_count": null,
            "_view_module": "@jupyter-widgets/base",
            "_view_module_version": "1.2.0",
            "_view_name": "LayoutView",
            "align_content": null,
            "align_items": null,
            "align_self": null,
            "border": null,
            "bottom": null,
            "display": null,
            "flex": null,
            "flex_flow": null,
            "grid_area": null,
            "grid_auto_columns": null,
            "grid_auto_flow": null,
            "grid_auto_rows": null,
            "grid_column": null,
            "grid_gap": null,
            "grid_row": null,
            "grid_template_areas": null,
            "grid_template_columns": null,
            "grid_template_rows": null,
            "height": null,
            "justify_content": null,
            "justify_items": null,
            "left": null,
            "margin": null,
            "max_height": null,
            "max_width": null,
            "min_height": null,
            "min_width": null,
            "object_fit": null,
            "object_position": null,
            "order": null,
            "overflow": null,
            "overflow_x": null,
            "overflow_y": null,
            "padding": null,
            "right": null,
            "top": null,
            "visibility": null,
            "width": null
          }
        },
        "29f15ad180aa456b976a3aaf699e7fae": {
          "model_module": "@jupyter-widgets/controls",
          "model_name": "SliderStyleModel",
          "model_module_version": "1.5.0",
          "state": {
            "_model_module": "@jupyter-widgets/controls",
            "_model_module_version": "1.5.0",
            "_model_name": "SliderStyleModel",
            "_view_count": null,
            "_view_module": "@jupyter-widgets/base",
            "_view_module_version": "1.2.0",
            "_view_name": "StyleView",
            "description_width": "",
            "handle_color": null
          }
        },
        "d14bc877cbe24f0eb354dca612f1f7ac": {
          "model_module": "@jupyter-widgets/base",
          "model_name": "LayoutModel",
          "model_module_version": "1.2.0",
          "state": {
            "_model_module": "@jupyter-widgets/base",
            "_model_module_version": "1.2.0",
            "_model_name": "LayoutModel",
            "_view_count": null,
            "_view_module": "@jupyter-widgets/base",
            "_view_module_version": "1.2.0",
            "_view_name": "LayoutView",
            "align_content": null,
            "align_items": null,
            "align_self": null,
            "border": null,
            "bottom": null,
            "display": null,
            "flex": null,
            "flex_flow": null,
            "grid_area": null,
            "grid_auto_columns": null,
            "grid_auto_flow": null,
            "grid_auto_rows": null,
            "grid_column": null,
            "grid_gap": null,
            "grid_row": null,
            "grid_template_areas": null,
            "grid_template_columns": null,
            "grid_template_rows": null,
            "height": null,
            "justify_content": null,
            "justify_items": null,
            "left": null,
            "margin": null,
            "max_height": null,
            "max_width": null,
            "min_height": null,
            "min_width": null,
            "object_fit": null,
            "object_position": null,
            "order": null,
            "overflow": null,
            "overflow_x": null,
            "overflow_y": null,
            "padding": null,
            "right": null,
            "top": null,
            "visibility": null,
            "width": null
          }
        },
        "4176915a2987441a8670fbef35314fd2": {
          "model_module": "@jupyter-widgets/controls",
          "model_name": "SliderStyleModel",
          "model_module_version": "1.5.0",
          "state": {
            "_model_module": "@jupyter-widgets/controls",
            "_model_module_version": "1.5.0",
            "_model_name": "SliderStyleModel",
            "_view_count": null,
            "_view_module": "@jupyter-widgets/base",
            "_view_module_version": "1.2.0",
            "_view_name": "StyleView",
            "description_width": "",
            "handle_color": null
          }
        },
        "bef20af74e1d4160b06ebd0d073d10bc": {
          "model_module": "@jupyter-widgets/base",
          "model_name": "LayoutModel",
          "model_module_version": "1.2.0",
          "state": {
            "_model_module": "@jupyter-widgets/base",
            "_model_module_version": "1.2.0",
            "_model_name": "LayoutModel",
            "_view_count": null,
            "_view_module": "@jupyter-widgets/base",
            "_view_module_version": "1.2.0",
            "_view_name": "LayoutView",
            "align_content": null,
            "align_items": null,
            "align_self": null,
            "border": null,
            "bottom": null,
            "display": null,
            "flex": null,
            "flex_flow": null,
            "grid_area": null,
            "grid_auto_columns": null,
            "grid_auto_flow": null,
            "grid_auto_rows": null,
            "grid_column": null,
            "grid_gap": null,
            "grid_row": null,
            "grid_template_areas": null,
            "grid_template_columns": null,
            "grid_template_rows": null,
            "height": null,
            "justify_content": null,
            "justify_items": null,
            "left": null,
            "margin": null,
            "max_height": null,
            "max_width": null,
            "min_height": null,
            "min_width": null,
            "object_fit": null,
            "object_position": null,
            "order": null,
            "overflow": null,
            "overflow_x": null,
            "overflow_y": null,
            "padding": null,
            "right": null,
            "top": null,
            "visibility": null,
            "width": null
          }
        },
        "74215d9c51054b1db59808984abf979e": {
          "model_module": "@jupyter-widgets/controls",
          "model_name": "VBoxModel",
          "model_module_version": "1.5.0",
          "state": {
            "_dom_classes": [
              "widget-interact"
            ],
            "_model_module": "@jupyter-widgets/controls",
            "_model_module_version": "1.5.0",
            "_model_name": "VBoxModel",
            "_view_count": null,
            "_view_module": "@jupyter-widgets/controls",
            "_view_module_version": "1.5.0",
            "_view_name": "VBoxView",
            "box_style": "",
            "children": [
              "IPY_MODEL_f252b78ce7d94f5fa3b9bfae25c727dd",
              "IPY_MODEL_d68f6c002cd64c98b5411fe070609121",
              "IPY_MODEL_3e0d77dd9a584830a00acec573f563c7"
            ],
            "layout": "IPY_MODEL_782e565f68684d17a264c0797b823c2d"
          }
        },
        "f252b78ce7d94f5fa3b9bfae25c727dd": {
          "model_module": "@jupyter-widgets/controls",
          "model_name": "FloatSliderModel",
          "model_module_version": "1.5.0",
          "state": {
            "_dom_classes": [],
            "_model_module": "@jupyter-widgets/controls",
            "_model_module_version": "1.5.0",
            "_model_name": "FloatSliderModel",
            "_view_count": null,
            "_view_module": "@jupyter-widgets/controls",
            "_view_module_version": "1.5.0",
            "_view_name": "FloatSliderView",
            "continuous_update": true,
            "description": "m",
            "description_tooltip": null,
            "disabled": false,
            "layout": "IPY_MODEL_9cd71e971a95447593651fbfffbe2880",
            "max": 4.5,
            "min": -1.5,
            "orientation": "horizontal",
            "readout": true,
            "readout_format": ".2f",
            "step": 0.1,
            "style": "IPY_MODEL_3bf4cf58091b448980acd720a059fd39",
            "value": 1.5
          }
        },
        "d68f6c002cd64c98b5411fe070609121": {
          "model_module": "@jupyter-widgets/controls",
          "model_name": "FloatSliderModel",
          "model_module_version": "1.5.0",
          "state": {
            "_dom_classes": [],
            "_model_module": "@jupyter-widgets/controls",
            "_model_module_version": "1.5.0",
            "_model_name": "FloatSliderModel",
            "_view_count": null,
            "_view_module": "@jupyter-widgets/controls",
            "_view_module_version": "1.5.0",
            "_view_name": "FloatSliderView",
            "continuous_update": true,
            "description": "b",
            "description_tooltip": null,
            "disabled": false,
            "layout": "IPY_MODEL_e18d18977b264fa78f50fd955fd00d2a",
            "max": 4.5,
            "min": -1.5,
            "orientation": "horizontal",
            "readout": true,
            "readout_format": ".2f",
            "step": 0.1,
            "style": "IPY_MODEL_ed462815b20b4174822cc04bcee8714a",
            "value": 1.5
          }
        },
        "3e0d77dd9a584830a00acec573f563c7": {
          "model_module": "@jupyter-widgets/output",
          "model_name": "OutputModel",
          "model_module_version": "1.0.0",
          "state": {
            "_dom_classes": [],
            "_model_module": "@jupyter-widgets/output",
            "_model_module_version": "1.0.0",
            "_model_name": "OutputModel",
            "_view_count": null,
            "_view_module": "@jupyter-widgets/output",
            "_view_module_version": "1.0.0",
            "_view_name": "OutputView",
            "layout": "IPY_MODEL_94409b700d9843c9ae81c36528e6a362",
            "msg_id": "",
            "outputs": [
              {
                "output_type": "display_data",
                "data": {
                  "text/plain": "<Figure size 576x432 with 1 Axes>",
                  "image/png": "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\n"
                },
                "metadata": {}
              }
            ]
          }
        },
        "782e565f68684d17a264c0797b823c2d": {
          "model_module": "@jupyter-widgets/base",
          "model_name": "LayoutModel",
          "model_module_version": "1.2.0",
          "state": {
            "_model_module": "@jupyter-widgets/base",
            "_model_module_version": "1.2.0",
            "_model_name": "LayoutModel",
            "_view_count": null,
            "_view_module": "@jupyter-widgets/base",
            "_view_module_version": "1.2.0",
            "_view_name": "LayoutView",
            "align_content": null,
            "align_items": null,
            "align_self": null,
            "border": null,
            "bottom": null,
            "display": null,
            "flex": null,
            "flex_flow": null,
            "grid_area": null,
            "grid_auto_columns": null,
            "grid_auto_flow": null,
            "grid_auto_rows": null,
            "grid_column": null,
            "grid_gap": null,
            "grid_row": null,
            "grid_template_areas": null,
            "grid_template_columns": null,
            "grid_template_rows": null,
            "height": null,
            "justify_content": null,
            "justify_items": null,
            "left": null,
            "margin": null,
            "max_height": null,
            "max_width": null,
            "min_height": null,
            "min_width": null,
            "object_fit": null,
            "object_position": null,
            "order": null,
            "overflow": null,
            "overflow_x": null,
            "overflow_y": null,
            "padding": null,
            "right": null,
            "top": null,
            "visibility": null,
            "width": null
          }
        },
        "9cd71e971a95447593651fbfffbe2880": {
          "model_module": "@jupyter-widgets/base",
          "model_name": "LayoutModel",
          "model_module_version": "1.2.0",
          "state": {
            "_model_module": "@jupyter-widgets/base",
            "_model_module_version": "1.2.0",
            "_model_name": "LayoutModel",
            "_view_count": null,
            "_view_module": "@jupyter-widgets/base",
            "_view_module_version": "1.2.0",
            "_view_name": "LayoutView",
            "align_content": null,
            "align_items": null,
            "align_self": null,
            "border": null,
            "bottom": null,
            "display": null,
            "flex": null,
            "flex_flow": null,
            "grid_area": null,
            "grid_auto_columns": null,
            "grid_auto_flow": null,
            "grid_auto_rows": null,
            "grid_column": null,
            "grid_gap": null,
            "grid_row": null,
            "grid_template_areas": null,
            "grid_template_columns": null,
            "grid_template_rows": null,
            "height": null,
            "justify_content": null,
            "justify_items": null,
            "left": null,
            "margin": null,
            "max_height": null,
            "max_width": null,
            "min_height": null,
            "min_width": null,
            "object_fit": null,
            "object_position": null,
            "order": null,
            "overflow": null,
            "overflow_x": null,
            "overflow_y": null,
            "padding": null,
            "right": null,
            "top": null,
            "visibility": null,
            "width": null
          }
        },
        "3bf4cf58091b448980acd720a059fd39": {
          "model_module": "@jupyter-widgets/controls",
          "model_name": "SliderStyleModel",
          "model_module_version": "1.5.0",
          "state": {
            "_model_module": "@jupyter-widgets/controls",
            "_model_module_version": "1.5.0",
            "_model_name": "SliderStyleModel",
            "_view_count": null,
            "_view_module": "@jupyter-widgets/base",
            "_view_module_version": "1.2.0",
            "_view_name": "StyleView",
            "description_width": "",
            "handle_color": null
          }
        },
        "e18d18977b264fa78f50fd955fd00d2a": {
          "model_module": "@jupyter-widgets/base",
          "model_name": "LayoutModel",
          "model_module_version": "1.2.0",
          "state": {
            "_model_module": "@jupyter-widgets/base",
            "_model_module_version": "1.2.0",
            "_model_name": "LayoutModel",
            "_view_count": null,
            "_view_module": "@jupyter-widgets/base",
            "_view_module_version": "1.2.0",
            "_view_name": "LayoutView",
            "align_content": null,
            "align_items": null,
            "align_self": null,
            "border": null,
            "bottom": null,
            "display": null,
            "flex": null,
            "flex_flow": null,
            "grid_area": null,
            "grid_auto_columns": null,
            "grid_auto_flow": null,
            "grid_auto_rows": null,
            "grid_column": null,
            "grid_gap": null,
            "grid_row": null,
            "grid_template_areas": null,
            "grid_template_columns": null,
            "grid_template_rows": null,
            "height": null,
            "justify_content": null,
            "justify_items": null,
            "left": null,
            "margin": null,
            "max_height": null,
            "max_width": null,
            "min_height": null,
            "min_width": null,
            "object_fit": null,
            "object_position": null,
            "order": null,
            "overflow": null,
            "overflow_x": null,
            "overflow_y": null,
            "padding": null,
            "right": null,
            "top": null,
            "visibility": null,
            "width": null
          }
        },
        "ed462815b20b4174822cc04bcee8714a": {
          "model_module": "@jupyter-widgets/controls",
          "model_name": "SliderStyleModel",
          "model_module_version": "1.5.0",
          "state": {
            "_model_module": "@jupyter-widgets/controls",
            "_model_module_version": "1.5.0",
            "_model_name": "SliderStyleModel",
            "_view_count": null,
            "_view_module": "@jupyter-widgets/base",
            "_view_module_version": "1.2.0",
            "_view_name": "StyleView",
            "description_width": "",
            "handle_color": null
          }
        },
        "94409b700d9843c9ae81c36528e6a362": {
          "model_module": "@jupyter-widgets/base",
          "model_name": "LayoutModel",
          "model_module_version": "1.2.0",
          "state": {
            "_model_module": "@jupyter-widgets/base",
            "_model_module_version": "1.2.0",
            "_model_name": "LayoutModel",
            "_view_count": null,
            "_view_module": "@jupyter-widgets/base",
            "_view_module_version": "1.2.0",
            "_view_name": "LayoutView",
            "align_content": null,
            "align_items": null,
            "align_self": null,
            "border": null,
            "bottom": null,
            "display": null,
            "flex": null,
            "flex_flow": null,
            "grid_area": null,
            "grid_auto_columns": null,
            "grid_auto_flow": null,
            "grid_auto_rows": null,
            "grid_column": null,
            "grid_gap": null,
            "grid_row": null,
            "grid_template_areas": null,
            "grid_template_columns": null,
            "grid_template_rows": null,
            "height": null,
            "justify_content": null,
            "justify_items": null,
            "left": null,
            "margin": null,
            "max_height": null,
            "max_width": null,
            "min_height": null,
            "min_width": null,
            "object_fit": null,
            "object_position": null,
            "order": null,
            "overflow": null,
            "overflow_x": null,
            "overflow_y": null,
            "padding": null,
            "right": null,
            "top": null,
            "visibility": null,
            "width": null
          }
        },
        "d350b3cec72d472badb1834248b26a10": {
          "model_module": "@jupyter-widgets/controls",
          "model_name": "VBoxModel",
          "model_module_version": "1.5.0",
          "state": {
            "_dom_classes": [
              "widget-interact"
            ],
            "_model_module": "@jupyter-widgets/controls",
            "_model_module_version": "1.5.0",
            "_model_name": "VBoxModel",
            "_view_count": null,
            "_view_module": "@jupyter-widgets/controls",
            "_view_module_version": "1.5.0",
            "_view_name": "VBoxView",
            "box_style": "",
            "children": [
              "IPY_MODEL_9f20f273ad464129888918924b34a97f",
              "IPY_MODEL_f2a1402214944681b16cc5114cd75c7b",
              "IPY_MODEL_efbca79033d84e16b596ec9c7873d2de",
              "IPY_MODEL_e4cfcb5e44ba438b9cd9d4130f51ff9e",
              "IPY_MODEL_a1f39ca07d3748878a8dac0aa1345ecb",
              "IPY_MODEL_83c099005b5e42209a90c6da619c0bbb",
              "IPY_MODEL_352e1b29b5d0426d9ef0655944f6c966"
            ],
            "layout": "IPY_MODEL_8ec1cddfca684042b818418f4bd6b5a1"
          }
        },
        "9f20f273ad464129888918924b34a97f": {
          "model_module": "@jupyter-widgets/controls",
          "model_name": "FloatSliderModel",
          "model_module_version": "1.5.0",
          "state": {
            "_dom_classes": [],
            "_model_module": "@jupyter-widgets/controls",
            "_model_module_version": "1.5.0",
            "_model_name": "FloatSliderModel",
            "_view_count": null,
            "_view_module": "@jupyter-widgets/controls",
            "_view_module_version": "1.5.0",
            "_view_name": "FloatSliderView",
            "continuous_update": true,
            "description": "m1",
            "description_tooltip": null,
            "disabled": false,
            "layout": "IPY_MODEL_e32364f10d484658affda2d7b9969cab",
            "max": 1.5,
            "min": -4.5,
            "orientation": "horizontal",
            "readout": true,
            "readout_format": ".2f",
            "step": 0.1,
            "style": "IPY_MODEL_fa95277b735b42a6823dc98b3b500099",
            "value": -3.3
          }
        },
        "f2a1402214944681b16cc5114cd75c7b": {
          "model_module": "@jupyter-widgets/controls",
          "model_name": "FloatSliderModel",
          "model_module_version": "1.5.0",
          "state": {
            "_dom_classes": [],
            "_model_module": "@jupyter-widgets/controls",
            "_model_module_version": "1.5.0",
            "_model_name": "FloatSliderModel",
            "_view_count": null,
            "_view_module": "@jupyter-widgets/controls",
            "_view_module_version": "1.5.0",
            "_view_name": "FloatSliderView",
            "continuous_update": true,
            "description": "b1",
            "description_tooltip": null,
            "disabled": false,
            "layout": "IPY_MODEL_c259c476d98849ddbf45917f783307a4",
            "max": 1.5,
            "min": -4.5,
            "orientation": "horizontal",
            "readout": true,
            "readout_format": ".2f",
            "step": 0.1,
            "style": "IPY_MODEL_266c4c440697411c9a160209d323d6db",
            "value": -1
          }
        },
        "efbca79033d84e16b596ec9c7873d2de": {
          "model_module": "@jupyter-widgets/controls",
          "model_name": "FloatSliderModel",
          "model_module_version": "1.5.0",
          "state": {
            "_dom_classes": [],
            "_model_module": "@jupyter-widgets/controls",
            "_model_module_version": "1.5.0",
            "_model_name": "FloatSliderModel",
            "_view_count": null,
            "_view_module": "@jupyter-widgets/controls",
            "_view_module_version": "1.5.0",
            "_view_name": "FloatSliderView",
            "continuous_update": true,
            "description": "m2",
            "description_tooltip": null,
            "disabled": false,
            "layout": "IPY_MODEL_91bee670998446d594bc8cbd913a43b9",
            "max": 4.5,
            "min": -1.5,
            "orientation": "horizontal",
            "readout": true,
            "readout_format": ".2f",
            "step": 0.1,
            "style": "IPY_MODEL_44f36b20c97b4429932ef3f31780c225",
            "value": 0.3
          }
        },
        "e4cfcb5e44ba438b9cd9d4130f51ff9e": {
          "model_module": "@jupyter-widgets/controls",
          "model_name": "FloatSliderModel",
          "model_module_version": "1.5.0",
          "state": {
            "_dom_classes": [],
            "_model_module": "@jupyter-widgets/controls",
            "_model_module_version": "1.5.0",
            "_model_name": "FloatSliderModel",
            "_view_count": null,
            "_view_module": "@jupyter-widgets/controls",
            "_view_module_version": "1.5.0",
            "_view_name": "FloatSliderView",
            "continuous_update": true,
            "description": "b2",
            "description_tooltip": null,
            "disabled": false,
            "layout": "IPY_MODEL_4b3366c0e35448dda3d385306bc98dea",
            "max": 4.5,
            "min": -1.5,
            "orientation": "horizontal",
            "readout": true,
            "readout_format": ".2f",
            "step": 0.1,
            "style": "IPY_MODEL_83baeb3fb1654f5685b4c17fe36feba0",
            "value": 2.4
          }
        },
        "a1f39ca07d3748878a8dac0aa1345ecb": {
          "model_module": "@jupyter-widgets/controls",
          "model_name": "FloatSliderModel",
          "model_module_version": "1.5.0",
          "state": {
            "_dom_classes": [],
            "_model_module": "@jupyter-widgets/controls",
            "_model_module_version": "1.5.0",
            "_model_name": "FloatSliderModel",
            "_view_count": null,
            "_view_module": "@jupyter-widgets/controls",
            "_view_module_version": "1.5.0",
            "_view_name": "FloatSliderView",
            "continuous_update": true,
            "description": "m3",
            "description_tooltip": null,
            "disabled": false,
            "layout": "IPY_MODEL_54b246467c3e41d78d260539e7b8a444",
            "max": 3.3000000000000003,
            "min": -1.1,
            "orientation": "horizontal",
            "readout": true,
            "readout_format": ".2f",
            "step": 0.1,
            "style": "IPY_MODEL_fdd1b13abd5e4bfb80dd8bb28cd1e09d",
            "value": 1.4
          }
        },
        "83c099005b5e42209a90c6da619c0bbb": {
          "model_module": "@jupyter-widgets/controls",
          "model_name": "FloatSliderModel",
          "model_module_version": "1.5.0",
          "state": {
            "_dom_classes": [],
            "_model_module": "@jupyter-widgets/controls",
            "_model_module_version": "1.5.0",
            "_model_name": "FloatSliderModel",
            "_view_count": null,
            "_view_module": "@jupyter-widgets/controls",
            "_view_module_version": "1.5.0",
            "_view_name": "FloatSliderView",
            "continuous_update": true,
            "description": "b3",
            "description_tooltip": null,
            "disabled": false,
            "layout": "IPY_MODEL_c447ba0d1fca498c84d3c4ef32af9dc3",
            "max": 3.3000000000000003,
            "min": -1.1,
            "orientation": "horizontal",
            "readout": true,
            "readout_format": ".2f",
            "step": 0.1,
            "style": "IPY_MODEL_808d835341c94ff498158474eace9908",
            "value": -0.6
          }
        },
        "352e1b29b5d0426d9ef0655944f6c966": {
          "model_module": "@jupyter-widgets/output",
          "model_name": "OutputModel",
          "model_module_version": "1.0.0",
          "state": {
            "_dom_classes": [],
            "_model_module": "@jupyter-widgets/output",
            "_model_module_version": "1.0.0",
            "_model_name": "OutputModel",
            "_view_count": null,
            "_view_module": "@jupyter-widgets/output",
            "_view_module_version": "1.0.0",
            "_view_name": "OutputView",
            "layout": "IPY_MODEL_9285d9c7ef9b4e69914c386a06c2b334",
            "msg_id": "",
            "outputs": [
              {
                "output_type": "display_data",
                "data": {
                  "text/plain": "<Figure size 576x432 with 1 Axes>",
                  "image/png": "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\n"
                },
                "metadata": {}
              }
            ]
          }
        },
        "8ec1cddfca684042b818418f4bd6b5a1": {
          "model_module": "@jupyter-widgets/base",
          "model_name": "LayoutModel",
          "model_module_version": "1.2.0",
          "state": {
            "_model_module": "@jupyter-widgets/base",
            "_model_module_version": "1.2.0",
            "_model_name": "LayoutModel",
            "_view_count": null,
            "_view_module": "@jupyter-widgets/base",
            "_view_module_version": "1.2.0",
            "_view_name": "LayoutView",
            "align_content": null,
            "align_items": null,
            "align_self": null,
            "border": null,
            "bottom": null,
            "display": null,
            "flex": null,
            "flex_flow": null,
            "grid_area": null,
            "grid_auto_columns": null,
            "grid_auto_flow": null,
            "grid_auto_rows": null,
            "grid_column": null,
            "grid_gap": null,
            "grid_row": null,
            "grid_template_areas": null,
            "grid_template_columns": null,
            "grid_template_rows": null,
            "height": null,
            "justify_content": null,
            "justify_items": null,
            "left": null,
            "margin": null,
            "max_height": null,
            "max_width": null,
            "min_height": null,
            "min_width": null,
            "object_fit": null,
            "object_position": null,
            "order": null,
            "overflow": null,
            "overflow_x": null,
            "overflow_y": null,
            "padding": null,
            "right": null,
            "top": null,
            "visibility": null,
            "width": null
          }
        },
        "e32364f10d484658affda2d7b9969cab": {
          "model_module": "@jupyter-widgets/base",
          "model_name": "LayoutModel",
          "model_module_version": "1.2.0",
          "state": {
            "_model_module": "@jupyter-widgets/base",
            "_model_module_version": "1.2.0",
            "_model_name": "LayoutModel",
            "_view_count": null,
            "_view_module": "@jupyter-widgets/base",
            "_view_module_version": "1.2.0",
            "_view_name": "LayoutView",
            "align_content": null,
            "align_items": null,
            "align_self": null,
            "border": null,
            "bottom": null,
            "display": null,
            "flex": null,
            "flex_flow": null,
            "grid_area": null,
            "grid_auto_columns": null,
            "grid_auto_flow": null,
            "grid_auto_rows": null,
            "grid_column": null,
            "grid_gap": null,
            "grid_row": null,
            "grid_template_areas": null,
            "grid_template_columns": null,
            "grid_template_rows": null,
            "height": null,
            "justify_content": null,
            "justify_items": null,
            "left": null,
            "margin": null,
            "max_height": null,
            "max_width": null,
            "min_height": null,
            "min_width": null,
            "object_fit": null,
            "object_position": null,
            "order": null,
            "overflow": null,
            "overflow_x": null,
            "overflow_y": null,
            "padding": null,
            "right": null,
            "top": null,
            "visibility": null,
            "width": null
          }
        },
        "fa95277b735b42a6823dc98b3b500099": {
          "model_module": "@jupyter-widgets/controls",
          "model_name": "SliderStyleModel",
          "model_module_version": "1.5.0",
          "state": {
            "_model_module": "@jupyter-widgets/controls",
            "_model_module_version": "1.5.0",
            "_model_name": "SliderStyleModel",
            "_view_count": null,
            "_view_module": "@jupyter-widgets/base",
            "_view_module_version": "1.2.0",
            "_view_name": "StyleView",
            "description_width": "",
            "handle_color": null
          }
        },
        "c259c476d98849ddbf45917f783307a4": {
          "model_module": "@jupyter-widgets/base",
          "model_name": "LayoutModel",
          "model_module_version": "1.2.0",
          "state": {
            "_model_module": "@jupyter-widgets/base",
            "_model_module_version": "1.2.0",
            "_model_name": "LayoutModel",
            "_view_count": null,
            "_view_module": "@jupyter-widgets/base",
            "_view_module_version": "1.2.0",
            "_view_name": "LayoutView",
            "align_content": null,
            "align_items": null,
            "align_self": null,
            "border": null,
            "bottom": null,
            "display": null,
            "flex": null,
            "flex_flow": null,
            "grid_area": null,
            "grid_auto_columns": null,
            "grid_auto_flow": null,
            "grid_auto_rows": null,
            "grid_column": null,
            "grid_gap": null,
            "grid_row": null,
            "grid_template_areas": null,
            "grid_template_columns": null,
            "grid_template_rows": null,
            "height": null,
            "justify_content": null,
            "justify_items": null,
            "left": null,
            "margin": null,
            "max_height": null,
            "max_width": null,
            "min_height": null,
            "min_width": null,
            "object_fit": null,
            "object_position": null,
            "order": null,
            "overflow": null,
            "overflow_x": null,
            "overflow_y": null,
            "padding": null,
            "right": null,
            "top": null,
            "visibility": null,
            "width": null
          }
        },
        "266c4c440697411c9a160209d323d6db": {
          "model_module": "@jupyter-widgets/controls",
          "model_name": "SliderStyleModel",
          "model_module_version": "1.5.0",
          "state": {
            "_model_module": "@jupyter-widgets/controls",
            "_model_module_version": "1.5.0",
            "_model_name": "SliderStyleModel",
            "_view_count": null,
            "_view_module": "@jupyter-widgets/base",
            "_view_module_version": "1.2.0",
            "_view_name": "StyleView",
            "description_width": "",
            "handle_color": null
          }
        },
        "91bee670998446d594bc8cbd913a43b9": {
          "model_module": "@jupyter-widgets/base",
          "model_name": "LayoutModel",
          "model_module_version": "1.2.0",
          "state": {
            "_model_module": "@jupyter-widgets/base",
            "_model_module_version": "1.2.0",
            "_model_name": "LayoutModel",
            "_view_count": null,
            "_view_module": "@jupyter-widgets/base",
            "_view_module_version": "1.2.0",
            "_view_name": "LayoutView",
            "align_content": null,
            "align_items": null,
            "align_self": null,
            "border": null,
            "bottom": null,
            "display": null,
            "flex": null,
            "flex_flow": null,
            "grid_area": null,
            "grid_auto_columns": null,
            "grid_auto_flow": null,
            "grid_auto_rows": null,
            "grid_column": null,
            "grid_gap": null,
            "grid_row": null,
            "grid_template_areas": null,
            "grid_template_columns": null,
            "grid_template_rows": null,
            "height": null,
            "justify_content": null,
            "justify_items": null,
            "left": null,
            "margin": null,
            "max_height": null,
            "max_width": null,
            "min_height": null,
            "min_width": null,
            "object_fit": null,
            "object_position": null,
            "order": null,
            "overflow": null,
            "overflow_x": null,
            "overflow_y": null,
            "padding": null,
            "right": null,
            "top": null,
            "visibility": null,
            "width": null
          }
        },
        "44f36b20c97b4429932ef3f31780c225": {
          "model_module": "@jupyter-widgets/controls",
          "model_name": "SliderStyleModel",
          "model_module_version": "1.5.0",
          "state": {
            "_model_module": "@jupyter-widgets/controls",
            "_model_module_version": "1.5.0",
            "_model_name": "SliderStyleModel",
            "_view_count": null,
            "_view_module": "@jupyter-widgets/base",
            "_view_module_version": "1.2.0",
            "_view_name": "StyleView",
            "description_width": "",
            "handle_color": null
          }
        },
        "4b3366c0e35448dda3d385306bc98dea": {
          "model_module": "@jupyter-widgets/base",
          "model_name": "LayoutModel",
          "model_module_version": "1.2.0",
          "state": {
            "_model_module": "@jupyter-widgets/base",
            "_model_module_version": "1.2.0",
            "_model_name": "LayoutModel",
            "_view_count": null,
            "_view_module": "@jupyter-widgets/base",
            "_view_module_version": "1.2.0",
            "_view_name": "LayoutView",
            "align_content": null,
            "align_items": null,
            "align_self": null,
            "border": null,
            "bottom": null,
            "display": null,
            "flex": null,
            "flex_flow": null,
            "grid_area": null,
            "grid_auto_columns": null,
            "grid_auto_flow": null,
            "grid_auto_rows": null,
            "grid_column": null,
            "grid_gap": null,
            "grid_row": null,
            "grid_template_areas": null,
            "grid_template_columns": null,
            "grid_template_rows": null,
            "height": null,
            "justify_content": null,
            "justify_items": null,
            "left": null,
            "margin": null,
            "max_height": null,
            "max_width": null,
            "min_height": null,
            "min_width": null,
            "object_fit": null,
            "object_position": null,
            "order": null,
            "overflow": null,
            "overflow_x": null,
            "overflow_y": null,
            "padding": null,
            "right": null,
            "top": null,
            "visibility": null,
            "width": null
          }
        },
        "83baeb3fb1654f5685b4c17fe36feba0": {
          "model_module": "@jupyter-widgets/controls",
          "model_name": "SliderStyleModel",
          "model_module_version": "1.5.0",
          "state": {
            "_model_module": "@jupyter-widgets/controls",
            "_model_module_version": "1.5.0",
            "_model_name": "SliderStyleModel",
            "_view_count": null,
            "_view_module": "@jupyter-widgets/base",
            "_view_module_version": "1.2.0",
            "_view_name": "StyleView",
            "description_width": "",
            "handle_color": null
          }
        },
        "54b246467c3e41d78d260539e7b8a444": {
          "model_module": "@jupyter-widgets/base",
          "model_name": "LayoutModel",
          "model_module_version": "1.2.0",
          "state": {
            "_model_module": "@jupyter-widgets/base",
            "_model_module_version": "1.2.0",
            "_model_name": "LayoutModel",
            "_view_count": null,
            "_view_module": "@jupyter-widgets/base",
            "_view_module_version": "1.2.0",
            "_view_name": "LayoutView",
            "align_content": null,
            "align_items": null,
            "align_self": null,
            "border": null,
            "bottom": null,
            "display": null,
            "flex": null,
            "flex_flow": null,
            "grid_area": null,
            "grid_auto_columns": null,
            "grid_auto_flow": null,
            "grid_auto_rows": null,
            "grid_column": null,
            "grid_gap": null,
            "grid_row": null,
            "grid_template_areas": null,
            "grid_template_columns": null,
            "grid_template_rows": null,
            "height": null,
            "justify_content": null,
            "justify_items": null,
            "left": null,
            "margin": null,
            "max_height": null,
            "max_width": null,
            "min_height": null,
            "min_width": null,
            "object_fit": null,
            "object_position": null,
            "order": null,
            "overflow": null,
            "overflow_x": null,
            "overflow_y": null,
            "padding": null,
            "right": null,
            "top": null,
            "visibility": null,
            "width": null
          }
        },
        "fdd1b13abd5e4bfb80dd8bb28cd1e09d": {
          "model_module": "@jupyter-widgets/controls",
          "model_name": "SliderStyleModel",
          "model_module_version": "1.5.0",
          "state": {
            "_model_module": "@jupyter-widgets/controls",
            "_model_module_version": "1.5.0",
            "_model_name": "SliderStyleModel",
            "_view_count": null,
            "_view_module": "@jupyter-widgets/base",
            "_view_module_version": "1.2.0",
            "_view_name": "StyleView",
            "description_width": "",
            "handle_color": null
          }
        },
        "c447ba0d1fca498c84d3c4ef32af9dc3": {
          "model_module": "@jupyter-widgets/base",
          "model_name": "LayoutModel",
          "model_module_version": "1.2.0",
          "state": {
            "_model_module": "@jupyter-widgets/base",
            "_model_module_version": "1.2.0",
            "_model_name": "LayoutModel",
            "_view_count": null,
            "_view_module": "@jupyter-widgets/base",
            "_view_module_version": "1.2.0",
            "_view_name": "LayoutView",
            "align_content": null,
            "align_items": null,
            "align_self": null,
            "border": null,
            "bottom": null,
            "display": null,
            "flex": null,
            "flex_flow": null,
            "grid_area": null,
            "grid_auto_columns": null,
            "grid_auto_flow": null,
            "grid_auto_rows": null,
            "grid_column": null,
            "grid_gap": null,
            "grid_row": null,
            "grid_template_areas": null,
            "grid_template_columns": null,
            "grid_template_rows": null,
            "height": null,
            "justify_content": null,
            "justify_items": null,
            "left": null,
            "margin": null,
            "max_height": null,
            "max_width": null,
            "min_height": null,
            "min_width": null,
            "object_fit": null,
            "object_position": null,
            "order": null,
            "overflow": null,
            "overflow_x": null,
            "overflow_y": null,
            "padding": null,
            "right": null,
            "top": null,
            "visibility": null,
            "width": null
          }
        },
        "808d835341c94ff498158474eace9908": {
          "model_module": "@jupyter-widgets/controls",
          "model_name": "SliderStyleModel",
          "model_module_version": "1.5.0",
          "state": {
            "_model_module": "@jupyter-widgets/controls",
            "_model_module_version": "1.5.0",
            "_model_name": "SliderStyleModel",
            "_view_count": null,
            "_view_module": "@jupyter-widgets/base",
            "_view_module_version": "1.2.0",
            "_view_name": "StyleView",
            "description_width": "",
            "handle_color": null
          }
        },
        "9285d9c7ef9b4e69914c386a06c2b334": {
          "model_module": "@jupyter-widgets/base",
          "model_name": "LayoutModel",
          "model_module_version": "1.2.0",
          "state": {
            "_model_module": "@jupyter-widgets/base",
            "_model_module_version": "1.2.0",
            "_model_name": "LayoutModel",
            "_view_count": null,
            "_view_module": "@jupyter-widgets/base",
            "_view_module_version": "1.2.0",
            "_view_name": "LayoutView",
            "align_content": null,
            "align_items": null,
            "align_self": null,
            "border": null,
            "bottom": null,
            "display": null,
            "flex": null,
            "flex_flow": null,
            "grid_area": null,
            "grid_auto_columns": null,
            "grid_auto_flow": null,
            "grid_auto_rows": null,
            "grid_column": null,
            "grid_gap": null,
            "grid_row": null,
            "grid_template_areas": null,
            "grid_template_columns": null,
            "grid_template_rows": null,
            "height": null,
            "justify_content": null,
            "justify_items": null,
            "left": null,
            "margin": null,
            "max_height": null,
            "max_width": null,
            "min_height": null,
            "min_width": null,
            "object_fit": null,
            "object_position": null,
            "order": null,
            "overflow": null,
            "overflow_x": null,
            "overflow_y": null,
            "padding": null,
            "right": null,
            "top": null,
            "visibility": null,
            "width": null
          }
        }
      }
    }
  },
  "cells": [
    {
      "cell_type": "code",
      "execution_count": 1,
      "metadata": {
        "id": "8TWwd04tv1ll"
      },
      "outputs": [],
      "source": [
        "from ipywidgets import interact\n",
        "from fastai.basics import *"
      ]
    },
    {
      "cell_type": "code",
      "source": [
        "plt.rc('figure', dpi=90)\n",
        "\n",
        "def plot_function(f, title=None, min=-2.1, max=2.1, color='r', ylim=None):\n",
        "    x = torch.linspace(min,max, 100)[:,None]\n",
        "    if ylim: plt.ylim(ylim)\n",
        "    plt.plot(x, f(x), color)\n",
        "    if title is not None: plt.title(title)"
      ],
      "metadata": {
        "id": "onmntY5O7X7U"
      },
      "execution_count": 2,
      "outputs": []
    },
    {
      "cell_type": "code",
      "source": [
        "def quad(a, b, c, x): return a*x**2 + b*x + c"
      ],
      "metadata": {
        "id": "HmqgnK-V7hVp"
      },
      "execution_count": 3,
      "outputs": []
    },
    {
      "cell_type": "code",
      "source": [
        "??partial"
      ],
      "metadata": {
        "id": "6Xkmm_C97ngE"
      },
      "execution_count": 4,
      "outputs": []
    },
    {
      "cell_type": "code",
      "source": [
        "def mk_quad(a,b,c): return partial(quad, a,b,c)"
      ],
      "metadata": {
        "id": "F6qsiY1U7uNW"
      },
      "execution_count": 5,
      "outputs": []
    },
    {
      "cell_type": "code",
      "source": [
        "quad_func = mk_quad(3,2,1)\n",
        "plot_function(quad_func)"
      ],
      "metadata": {
        "colab": {
          "base_uri": "https://localhost:8080/",
          "height": 389
        },
        "id": "p2o2THC-77g8",
        "outputId": "71b11145-73f0-44bb-8445-ab60cb991a14"
      },
      "execution_count": 6,
      "outputs": [
        {
          "output_type": "display_data",
          "data": {
            "text/plain": [
              "<Figure size 576x432 with 1 Axes>"
            ],
            "image/png": "[encoded data removed]"
          },
          "metadata": {}
        }
      ]
    },
    {
      "cell_type": "code",
      "source": [
        "def noise(x, scale): return np.random.normal(scale=scale, size=x.shape)"
      ],
      "metadata": {
        "id": "w1nOdR4Z8APi"
      },
      "execution_count": 7,
      "outputs": []
    },
    {
      "cell_type": "code",
      "source": [
        "def add_noise(x, mult, add): return x * (1+noise(x,mult)) + noise(x,add)"
      ],
      "metadata": {
        "id": "At9Htr868Hov"
      },
      "execution_count": 14,
      "outputs": []
    },
    {
      "cell_type": "code",
      "source": [
        "np.random.seed(42)\n",
        "\n",
        "x = torch.linspace(-2, 2, steps=20)[:,None]\n",
        "y = add_noise(quad_func(x), 0.15, 1.5)\n",
        "print(x[:2],y[:2])\n",
        "plt.scatter(x,y);"
      ],
      "metadata": {
        "colab": {
          "base_uri": "https://localhost:8080/",
          "height": 476
        },
        "id": "cuwCNAA_8iRz",
        "outputId": "52573dbb-37d0-49b4-a04f-79e69db434b0"
      },
      "execution_count": 15,
      "outputs": [
        {
          "output_type": "stream",
          "name": "stdout",
          "text": [
            "tensor([[-2.0000],\n",
            "        [-1.7895]]) tensor([[11.8690],\n",
            "        [ 6.5433]], dtype=torch.float64)\n"
          ]
        },
        {
          "output_type": "stream",
          "name": "stderr",
          "text": [
            "<ipython-input-14-7891ca75956d>:1: DeprecationWarning: __array_wrap__ must accept context and return_scalar arguments (positionally) in the future. (Deprecated NumPy 2.0)\n",
            "  def add_noise(x, mult, add): return x * (1+noise(x,mult)) + noise(x,add)\n"
          ]
        },
        {
          "output_type": "display_data",
          "data": {
            "text/plain": [
              "<Figure size 576x432 with 1 Axes>"
            ],
            "image/png": "[encoded data removed]"
          },
          "metadata": {}
        }
      ]
    },
    {
      "cell_type": "code",
      "source": [
        "@interact(a=1.1, b=1.1, c=1.1)\n",
        "def plot_quad(a, b, c):\n",
        "    plt.scatter(x,y)\n",
        "    plot_function(mk_quad(a,b,c), ylim=(-3,13))"
      ],
      "metadata": {
        "colab": {
          "base_uri": "https://localhost:8080/",
          "height": 485,
          "referenced_widgets": [
            "3f5215c53f6a40119592cf83b1a7d398",
            "9d2b23c6788948c684892b74a3b1f529",
            "6ff449b0a7584fc9af77061a871a4a1c",
            "610fff7b9ebc4087bfac21d67519d7c9",
            "76a13314963c4ac999b018708c5167eb",
            "d0d67f7b32ab46548e061251243e7687",
            "371d6730f2a643ae883cbb6e8fff0983",
            "7e3c6292bded45e1909a0d3776ac3d0a",
            "70001e8a13204d2c8bbc1a77aa6d135a",
            "7dd095f6ceeb43e19d11b9ec201c7448",
            "92cb5401b79345b18819f890267ed27e",
            "6771bb74fb9c4dcdaeaa8ffdec610b9b",
            "6d480a6fa7d14001b94165c9ea05b08b"
          ]
        },
        "id": "gmbiwrVe8vyd",
        "outputId": "50c365d2-1aba-4d57-8525-e77324296774"
      },
      "execution_count": 16,
      "outputs": [
        {
          "output_type": "display_data",
          "data": {
            "text/plain": [
              "interactive(children=(FloatSlider(value=1.1, description='a', max=3.3000000000000003, min=-1.1), FloatSlider(v…"
            ],
            "application/vnd.jupyter.widget-view+json": {
              "version_major": 2,
              "version_minor": 0,
              "model_id": "3f5215c53f6a40119592cf83b1a7d398"
            }
          },
          "metadata": {}
        }
      ]
    },
    {
      "cell_type": "code",
      "source": [
        "#MAE\n",
        "def mae(preds, acts): return (torch.abs(preds-acts)).mean()"
      ],
      "metadata": {
        "id": "AvyDTSP99wD7"
      },
      "execution_count": 18,
      "outputs": []
    },
    {
      "cell_type": "code",
      "source": [
        "@interact(a=1.1, b=1.1, c=1.1)\n",
        "def plot_quad(a, b, c):\n",
        "    f = mk_quad(a,b,c)\n",
        "    plt.scatter(x,y)\n",
        "    loss = mae(f(x), y)\n",
        "    plot_function(f, ylim=(-3,12), title=f\"MAE: {loss:.2f}\")"
      ],
      "metadata": {
        "colab": {
          "base_uri": "https://localhost:8080/",
          "height": 504,
          "referenced_widgets": [
            "a7079b9cd2424fd19e930733ad77592d",
            "f690b6d0fb884bdbb9867b143951b923",
            "a395fc9c897d4a34b9233da43c8b173e",
            "ef420a81a4f54cb48ed62cb250bc009d",
            "956d108056df4a8cbdacb1216d0ea326",
            "6ca60c009701446e83f33445266ac0e9",
            "118d37106b9c4dedb7915b30a8f34212",
            "15e181176b9f46b197eb91ca9e80d176",
            "809085fcb7044a29b04fe482a1805481",
            "29f15ad180aa456b976a3aaf699e7fae",
            "d14bc877cbe24f0eb354dca612f1f7ac",
            "4176915a2987441a8670fbef35314fd2",
            "bef20af74e1d4160b06ebd0d073d10bc"
          ]
        },
        "id": "XgfX8xWM9-6t",
        "outputId": "bc5c70c2-d74f-4d06-c306-1853d0e1e8a8"
      },
      "execution_count": 19,
      "outputs": [
        {
          "output_type": "display_data",
          "data": {
            "text/plain": [
              "interactive(children=(FloatSlider(value=1.1, description='a', max=3.3000000000000003, min=-1.1), FloatSlider(v…"
            ],
            "application/vnd.jupyter.widget-view+json": {
              "version_major": 2,
              "version_minor": 0,
              "model_id": "a7079b9cd2424fd19e930733ad77592d"
            }
          },
          "metadata": {}
        }
      ]
    },
    {
      "cell_type": "code",
      "source": [
        "def quad_mae(params):\n",
        "    f = mk_quad(*params)\n",
        "    return mae(f(x), y)"
      ],
      "metadata": {
        "id": "s9Wmr349-FJc"
      },
      "execution_count": 20,
      "outputs": []
    },
    {
      "cell_type": "code",
      "source": [
        "params = torch.tensor([1.1,1.1,1.1])\n",
        "params.requires_grad_()\n",
        "for i in range(20):\n",
        "    loss = quad_mae(params)\n",
        "    loss.backward()\n",
        "    with torch.no_grad():\n",
        "      params -= params.grad*0.01\n",
        "    print(f'step={i}; loss={loss:.2f}')"
      ],
      "metadata": {
        "colab": {
          "base_uri": "https://localhost:8080/"
        },
        "id": "vtBakXPO-ftq",
        "outputId": "39b89989-b064-4ff7-b43f-8b0d00d996a9"
      },
      "execution_count": 23,
      "outputs": [
        {
          "output_type": "stream",
          "name": "stdout",
          "text": [
            "step=0; loss=2.42\n",
            "step=1; loss=2.40\n",
            "step=2; loss=2.36\n",
            "step=3; loss=2.30\n",
            "step=4; loss=2.21\n",
            "step=5; loss=2.11\n",
            "step=6; loss=1.98\n",
            "step=7; loss=1.85\n",
            "step=8; loss=1.72\n",
            "step=9; loss=1.58\n",
            "step=10; loss=1.46\n",
            "step=11; loss=1.35\n",
            "step=12; loss=1.22\n",
            "step=13; loss=1.17\n",
            "step=14; loss=1.17\n",
            "step=15; loss=1.26\n",
            "step=16; loss=1.40\n",
            "step=17; loss=1.55\n",
            "step=18; loss=1.70\n",
            "step=19; loss=1.83\n"
          ]
        }
      ]
    },
    {
      "cell_type": "code",
      "source": [
        "loss = quad_mae(params)\n",
        "print(loss,params)"
      ],
      "metadata": {
        "colab": {
          "base_uri": "https://localhost:8080/"
        },
        "id": "yew1tWMb-2Ur",
        "outputId": "e23bbabc-a2f9-427e-a66c-dbd0b08ba4ce"
      },
      "execution_count": 24,
      "outputs": [
        {
          "output_type": "stream",
          "name": "stdout",
          "text": [
            "tensor(1.9472, dtype=torch.float64, grad_fn=<MeanBackward0>) tensor([3.1693, 1.3089, 1.6910], requires_grad=True)\n"
          ]
        }
      ]
    },
    {
      "cell_type": "code",
      "source": [
        "#NN can approximate anything computable given enough freedom\n",
        "def relu(m,b,x):\n",
        "    y = m*x+b\n",
        "    return torch.clip(y, 0.)"
      ],
      "metadata": {
        "id": "DrScS3RU_KSw"
      },
      "execution_count": 25,
      "outputs": []
    },
    {
      "cell_type": "code",
      "source": [
        "@interact(m=1.5, b=1.5)\n",
        "def plot_relu(m, b):\n",
        "    plot_function(partial(relu, m,b), ylim=(-1,4))\n"
      ],
      "metadata": {
        "colab": {
          "base_uri": "https://localhost:8080/",
          "height": 458,
          "referenced_widgets": [
            "74215d9c51054b1db59808984abf979e",
            "f252b78ce7d94f5fa3b9bfae25c727dd",
            "d68f6c002cd64c98b5411fe070609121",
            "3e0d77dd9a584830a00acec573f563c7",
            "782e565f68684d17a264c0797b823c2d",
            "9cd71e971a95447593651fbfffbe2880",
            "3bf4cf58091b448980acd720a059fd39",
            "e18d18977b264fa78f50fd955fd00d2a",
            "ed462815b20b4174822cc04bcee8714a",
            "94409b700d9843c9ae81c36528e6a362"
          ]
        },
        "id": "MQCoW43A_4Fc",
        "outputId": "7f0c673c-e774-47ba-e63d-3d04999afc30"
      },
      "execution_count": 29,
      "outputs": [
        {
          "output_type": "display_data",
          "data": {
            "text/plain": [
              "interactive(children=(FloatSlider(value=1.5, description='m', max=4.5, min=-1.5), FloatSlider(value=1.5, descr…"
            ],
            "application/vnd.jupyter.widget-view+json": {
              "version_major": 2,
              "version_minor": 0,
              "model_id": "74215d9c51054b1db59808984abf979e"
            }
          },
          "metadata": {}
        }
      ]
    },
    {
      "cell_type": "code",
      "source": [
        "def double_relu(m1,b1,m2,b2,m3,b3,x):\n",
        "    return relu(m1,b1,x) + relu(m2,b2,x) + relu(m3,b3,x)\n",
        "\n",
        "@interact(m1=-1.5, b1=-1.5, m2=1.5, b2=1.5 , m3 = 1.1 , b3=1.1)\n",
        "def plot_double_relu(m1, b1, m2, b2,m3,b3):\n",
        "    plot_function(partial(double_relu, m1,b1,m2,b2,m3,b3), ylim=(-1,6))\n"
      ],
      "metadata": {
        "colab": {
          "base_uri": "https://localhost:8080/",
          "height": 586,
          "referenced_widgets": [
            "d350b3cec72d472badb1834248b26a10",
            "9f20f273ad464129888918924b34a97f",
            "f2a1402214944681b16cc5114cd75c7b",
            "efbca79033d84e16b596ec9c7873d2de",
            "e4cfcb5e44ba438b9cd9d4130f51ff9e",
            "a1f39ca07d3748878a8dac0aa1345ecb",
            "83c099005b5e42209a90c6da619c0bbb",
            "352e1b29b5d0426d9ef0655944f6c966",
            "8ec1cddfca684042b818418f4bd6b5a1",
            "e32364f10d484658affda2d7b9969cab",
            "fa95277b735b42a6823dc98b3b500099",
            "c259c476d98849ddbf45917f783307a4",
            "266c4c440697411c9a160209d323d6db",
            "91bee670998446d594bc8cbd913a43b9",
            "44f36b20c97b4429932ef3f31780c225",
            "4b3366c0e35448dda3d385306bc98dea",
            "83baeb3fb1654f5685b4c17fe36feba0",
            "54b246467c3e41d78d260539e7b8a444",
            "fdd1b13abd5e4bfb80dd8bb28cd1e09d",
            "c447ba0d1fca498c84d3c4ef32af9dc3",
            "808d835341c94ff498158474eace9908",
            "9285d9c7ef9b4e69914c386a06c2b334"
          ]
        },
        "id": "6hoKW_uR_7oa",
        "outputId": "647241cf-c6a8-4688-ce80-6c2ccfe9b0a5"
      },
      "execution_count": 32,
      "outputs": [
        {
          "output_type": "display_data",
          "data": {
            "text/plain": [
              "interactive(children=(FloatSlider(value=-1.5, description='m1', max=1.5, min=-4.5), FloatSlider(value=-1.5, de…"
            ],
            "application/vnd.jupyter.widget-view+json": {
              "version_major": 2,
              "version_minor": 0,
              "model_id": "d350b3cec72d472badb1834248b26a10"
            }
          },
          "metadata": {}
        }
      ]
    },
    {
      "cell_type": "code",
      "source": [],
      "metadata": {
        "id": "1UXYkng1Awlo"
      },
      "execution_count": null,
      "outputs": []
    }
  ]
}