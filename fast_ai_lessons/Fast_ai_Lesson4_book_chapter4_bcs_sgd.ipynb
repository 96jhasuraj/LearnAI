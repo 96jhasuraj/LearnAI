{
  "nbformat": 4,
  "nbformat_minor": 0,
  "metadata": {
    "colab": {
      "provenance": [],
      "gpuType": "T4"
    },
    "kernelspec": {
      "name": "python3",
      "display_name": "Python 3"
    },
    "language_info": {
      "name": "python"
    },
    "accelerator": "GPU"
  },
  "cells": [
    {
      "cell_type": "markdown",
      "source": [
        "1. Covers basics of pytorch -> go through their official tutorials\n",
        "2. breaks down what fastai cnn_learner is doing under the hood\n",
        "  1. train_batch\n",
        "  2. calculate gradient\n",
        "  3. optimizer updates params\n",
        "  4. check acc over validity set\n",
        "\n",
        "3. how to write your own optimizer\n",
        "4. plot accuracy plots\n",
        "5. nn.Sequantial\n",
        "6. universal approximation algorithm\n",
        "7. role of relu\n",
        "\n",
        "By the end of the lesson we took a dataset , wrote our own model & parts . Then replaced these parts with the parts which we saw in lesson 1/2\n"
      ],
      "metadata": {
        "id": "WopThYostafd"
      }
    },
    {
      "cell_type": "code",
      "execution_count": null,
      "metadata": {
        "id": "UFgwsAiBFmYh"
      },
      "outputs": [],
      "source": [
        "from fastai.vision.all import *\n",
        "matplotlib.rc('image', cmap='Greys')"
      ]
    },
    {
      "cell_type": "code",
      "source": [
        "mnist_path = untar_data(URLs.MNIST)"
      ],
      "metadata": {
        "id": "vQLbaVHoF9Kf"
      },
      "execution_count": null,
      "outputs": []
    },
    {
      "cell_type": "code",
      "source": [
        "Path.BASE_PATH = mnist_path"
      ],
      "metadata": {
        "id": "Iem2AnSPGKDb"
      },
      "execution_count": null,
      "outputs": []
    },
    {
      "cell_type": "code",
      "source": [
        "(mnist_path/'testing/').ls().sorted()"
      ],
      "metadata": {
        "colab": {
          "base_uri": "https://localhost:8080/"
        },
        "id": "nl7my5YFGOoE",
        "outputId": "7a54a696-832f-4f2b-b560-0cd0f7b7ff0b"
      },
      "execution_count": null,
      "outputs": [
        {
          "output_type": "execute_result",
          "data": {
            "text/plain": [
              "(#10) [Path('testing/0'),Path('testing/1'),Path('testing/2'),Path('testing/3'),Path('testing/4'),Path('testing/5'),Path('testing/6'),Path('testing/7'),Path('testing/8'),Path('testing/9')]"
            ]
          },
          "metadata": {},
          "execution_count": 30
        }
      ]
    },
    {
      "cell_type": "code",
      "source": [
        "test_ds = []\n",
        "train_ds = []\n",
        "\n",
        "def populate(l,_path):\n",
        "  for p in _path.ls().sorted():\n",
        "    print(p)\n",
        "    l.append([Image.open(x) for x in p.ls()])"
      ],
      "metadata": {
        "id": "PyY_-fRGGRvI"
      },
      "execution_count": null,
      "outputs": []
    },
    {
      "cell_type": "code",
      "source": [
        "populate(train_ds,(mnist_path/'training/'))\n",
        "populate(test_ds,(mnist_path/'testing/'))"
      ],
      "metadata": {
        "colab": {
          "base_uri": "https://localhost:8080/"
        },
        "id": "eYwVLrPVIbVo",
        "outputId": "d6d00546-12ad-488c-e70b-aa89d398efeb"
      },
      "execution_count": null,
      "outputs": [
        {
          "output_type": "stream",
          "name": "stdout",
          "text": [
            "/root/.fastai/data/mnist_png/training/0\n",
            "/root/.fastai/data/mnist_png/training/1\n",
            "/root/.fastai/data/mnist_png/training/2\n",
            "/root/.fastai/data/mnist_png/training/3\n",
            "/root/.fastai/data/mnist_png/training/4\n",
            "/root/.fastai/data/mnist_png/training/5\n",
            "/root/.fastai/data/mnist_png/training/6\n",
            "/root/.fastai/data/mnist_png/training/7\n",
            "/root/.fastai/data/mnist_png/training/8\n",
            "/root/.fastai/data/mnist_png/training/9\n",
            "/root/.fastai/data/mnist_png/testing/0\n",
            "/root/.fastai/data/mnist_png/testing/1\n",
            "/root/.fastai/data/mnist_png/testing/2\n",
            "/root/.fastai/data/mnist_png/testing/3\n",
            "/root/.fastai/data/mnist_png/testing/4\n",
            "/root/.fastai/data/mnist_png/testing/5\n",
            "/root/.fastai/data/mnist_png/testing/6\n",
            "/root/.fastai/data/mnist_png/testing/7\n",
            "/root/.fastai/data/mnist_png/testing/8\n",
            "/root/.fastai/data/mnist_png/testing/9\n"
          ]
        }
      ]
    },
    {
      "cell_type": "code",
      "source": [
        "im9 = train_ds[9][0]\n",
        "im9_t = tensor(im9)\n",
        "df = pd.DataFrame(im9_t)\n",
        "df.style.set_properties(**{'font-size':'6pt'}).background_gradient('Greys')"
      ],
      "metadata": {
        "colab": {
          "base_uri": "https://localhost:8080/",
          "height": 947
        },
        "id": "y8PKin0cIpJu",
        "outputId": "d636f3f1-4616-46fd-bfc8-42206115c16a"
      },
      "execution_count": null,
      "outputs": [
        {
          "output_type": "execute_result",
          "data": {
            "text/plain": [
              "<pandas.io.formats.style.Styler at 0x7d8752f54350>"
            ],
            "text/html": [
              "<style type=\"text/css\">\n",
              "#T_36ee1_row0_col0, #T_36ee1_row0_col1, #T_36ee1_row0_col2, #T_36ee1_row0_col3, #T_36ee1_row0_col4, #T_36ee1_row0_col5, #T_36ee1_row0_col6, #T_36ee1_row0_col7, #T_36ee1_row0_col8, #T_36ee1_row0_col9, #T_36ee1_row0_col10, #T_36ee1_row0_col11, #T_36ee1_row0_col12, #T_36ee1_row0_col13, #T_36ee1_row0_col14, #T_36ee1_row0_col15, #T_36ee1_row0_col16, #T_36ee1_row0_col17, #T_36ee1_row0_col18, #T_36ee1_row0_col19, #T_36ee1_row0_col20, #T_36ee1_row0_col21, #T_36ee1_row0_col22, #T_36ee1_row0_col23, #T_36ee1_row0_col24, #T_36ee1_row0_col25, #T_36ee1_row0_col26, #T_36ee1_row0_col27, #T_36ee1_row1_col0, #T_36ee1_row1_col1, #T_36ee1_row1_col2, #T_36ee1_row1_col3, #T_36ee1_row1_col4, #T_36ee1_row1_col5, #T_36ee1_row1_col6, #T_36ee1_row1_col7, #T_36ee1_row1_col8, #T_36ee1_row1_col9, #T_36ee1_row1_col10, #T_36ee1_row1_col11, #T_36ee1_row1_col12, #T_36ee1_row1_col13, #T_36ee1_row1_col14, #T_36ee1_row1_col15, #T_36ee1_row1_col16, #T_36ee1_row1_col17, #T_36ee1_row1_col18, #T_36ee1_row1_col19, #T_36ee1_row1_col20, #T_36ee1_row1_col21, #T_36ee1_row1_col22, #T_36ee1_row1_col23, #T_36ee1_row1_col24, #T_36ee1_row1_col25, #T_36ee1_row1_col26, #T_36ee1_row1_col27, #T_36ee1_row2_col0, #T_36ee1_row2_col1, #T_36ee1_row2_col2, #T_36ee1_row2_col3, #T_36ee1_row2_col4, #T_36ee1_row2_col5, #T_36ee1_row2_col6, #T_36ee1_row2_col7, #T_36ee1_row2_col8, #T_36ee1_row2_col9, #T_36ee1_row2_col10, #T_36ee1_row2_col11, #T_36ee1_row2_col12, #T_36ee1_row2_col13, #T_36ee1_row2_col14, #T_36ee1_row2_col15, #T_36ee1_row2_col16, #T_36ee1_row2_col17, #T_36ee1_row2_col18, #T_36ee1_row2_col19, #T_36ee1_row2_col20, #T_36ee1_row2_col21, #T_36ee1_row2_col22, #T_36ee1_row2_col23, #T_36ee1_row2_col24, #T_36ee1_row2_col25, #T_36ee1_row2_col26, #T_36ee1_row2_col27, #T_36ee1_row3_col0, #T_36ee1_row3_col1, #T_36ee1_row3_col2, #T_36ee1_row3_col3, #T_36ee1_row3_col4, #T_36ee1_row3_col5, #T_36ee1_row3_col6, #T_36ee1_row3_col7, #T_36ee1_row3_col8, #T_36ee1_row3_col9, #T_36ee1_row3_col10, #T_36ee1_row3_col11, #T_36ee1_row3_col12, #T_36ee1_row3_col13, #T_36ee1_row3_col14, #T_36ee1_row3_col15, #T_36ee1_row3_col16, #T_36ee1_row3_col17, #T_36ee1_row3_col18, #T_36ee1_row3_col19, #T_36ee1_row3_col20, #T_36ee1_row3_col21, #T_36ee1_row3_col22, #T_36ee1_row3_col23, #T_36ee1_row3_col24, #T_36ee1_row3_col25, #T_36ee1_row3_col26, #T_36ee1_row3_col27, #T_36ee1_row4_col0, #T_36ee1_row4_col1, #T_36ee1_row4_col2, #T_36ee1_row4_col3, #T_36ee1_row4_col4, #T_36ee1_row4_col5, #T_36ee1_row4_col6, #T_36ee1_row4_col7, #T_36ee1_row4_col8, #T_36ee1_row4_col9, #T_36ee1_row4_col10, #T_36ee1_row4_col11, #T_36ee1_row4_col12, #T_36ee1_row4_col13, #T_36ee1_row4_col14, #T_36ee1_row4_col15, #T_36ee1_row4_col16, #T_36ee1_row4_col17, #T_36ee1_row4_col18, #T_36ee1_row4_col19, #T_36ee1_row4_col20, #T_36ee1_row4_col21, #T_36ee1_row4_col22, #T_36ee1_row4_col23, #T_36ee1_row4_col24, #T_36ee1_row4_col25, #T_36ee1_row4_col26, #T_36ee1_row4_col27, #T_36ee1_row5_col0, #T_36ee1_row5_col1, #T_36ee1_row5_col2, #T_36ee1_row5_col3, #T_36ee1_row5_col4, #T_36ee1_row5_col5, #T_36ee1_row5_col6, #T_36ee1_row5_col7, #T_36ee1_row5_col8, #T_36ee1_row5_col9, #T_36ee1_row5_col10, #T_36ee1_row5_col11, #T_36ee1_row5_col12, #T_36ee1_row5_col13, #T_36ee1_row5_col14, #T_36ee1_row5_col15, #T_36ee1_row5_col16, #T_36ee1_row5_col17, #T_36ee1_row5_col18, #T_36ee1_row5_col19, #T_36ee1_row5_col20, #T_36ee1_row5_col21, #T_36ee1_row5_col22, #T_36ee1_row5_col23, #T_36ee1_row5_col24, #T_36ee1_row5_col25, #T_36ee1_row5_col26, #T_36ee1_row5_col27, #T_36ee1_row6_col0, #T_36ee1_row6_col1, #T_36ee1_row6_col2, #T_36ee1_row6_col3, #T_36ee1_row6_col4, #T_36ee1_row6_col5, #T_36ee1_row6_col6, #T_36ee1_row6_col7, #T_36ee1_row6_col8, #T_36ee1_row6_col9, #T_36ee1_row6_col10, #T_36ee1_row6_col11, #T_36ee1_row6_col12, #T_36ee1_row6_col13, #T_36ee1_row6_col14, #T_36ee1_row6_col21, #T_36ee1_row6_col22, #T_36ee1_row6_col23, #T_36ee1_row6_col24, #T_36ee1_row6_col25, #T_36ee1_row6_col26, #T_36ee1_row6_col27, #T_36ee1_row7_col0, #T_36ee1_row7_col1, #T_36ee1_row7_col2, #T_36ee1_row7_col3, #T_36ee1_row7_col4, #T_36ee1_row7_col5, #T_36ee1_row7_col6, #T_36ee1_row7_col7, #T_36ee1_row7_col8, #T_36ee1_row7_col9, #T_36ee1_row7_col10, #T_36ee1_row7_col11, #T_36ee1_row7_col21, #T_36ee1_row7_col22, #T_36ee1_row7_col23, #T_36ee1_row7_col24, #T_36ee1_row7_col25, #T_36ee1_row7_col26, #T_36ee1_row7_col27, #T_36ee1_row8_col0, #T_36ee1_row8_col1, #T_36ee1_row8_col2, #T_36ee1_row8_col3, #T_36ee1_row8_col4, #T_36ee1_row8_col5, #T_36ee1_row8_col6, #T_36ee1_row8_col7, #T_36ee1_row8_col8, #T_36ee1_row8_col9, #T_36ee1_row8_col10, #T_36ee1_row8_col21, #T_36ee1_row8_col22, #T_36ee1_row8_col23, #T_36ee1_row8_col24, #T_36ee1_row8_col25, #T_36ee1_row8_col26, #T_36ee1_row8_col27, #T_36ee1_row9_col0, #T_36ee1_row9_col1, #T_36ee1_row9_col2, #T_36ee1_row9_col3, #T_36ee1_row9_col4, #T_36ee1_row9_col5, #T_36ee1_row9_col6, #T_36ee1_row9_col7, #T_36ee1_row9_col8, #T_36ee1_row9_col15, #T_36ee1_row9_col16, #T_36ee1_row9_col23, #T_36ee1_row9_col24, #T_36ee1_row9_col25, #T_36ee1_row9_col26, #T_36ee1_row9_col27, #T_36ee1_row10_col0, #T_36ee1_row10_col1, #T_36ee1_row10_col2, #T_36ee1_row10_col3, #T_36ee1_row10_col4, #T_36ee1_row10_col5, #T_36ee1_row10_col6, #T_36ee1_row10_col7, #T_36ee1_row10_col13, #T_36ee1_row10_col14, #T_36ee1_row10_col15, #T_36ee1_row10_col23, #T_36ee1_row10_col24, #T_36ee1_row10_col25, #T_36ee1_row10_col26, #T_36ee1_row10_col27, #T_36ee1_row11_col0, #T_36ee1_row11_col1, #T_36ee1_row11_col2, #T_36ee1_row11_col3, #T_36ee1_row11_col4, #T_36ee1_row11_col5, #T_36ee1_row11_col6, #T_36ee1_row11_col7, #T_36ee1_row11_col12, #T_36ee1_row11_col13, #T_36ee1_row11_col23, #T_36ee1_row11_col24, #T_36ee1_row11_col25, #T_36ee1_row11_col26, #T_36ee1_row11_col27, #T_36ee1_row12_col0, #T_36ee1_row12_col1, #T_36ee1_row12_col2, #T_36ee1_row12_col3, #T_36ee1_row12_col4, #T_36ee1_row12_col5, #T_36ee1_row12_col6, #T_36ee1_row12_col11, #T_36ee1_row12_col12, #T_36ee1_row12_col22, #T_36ee1_row12_col23, #T_36ee1_row12_col24, #T_36ee1_row12_col25, #T_36ee1_row12_col26, #T_36ee1_row12_col27, #T_36ee1_row13_col0, #T_36ee1_row13_col1, #T_36ee1_row13_col2, #T_36ee1_row13_col3, #T_36ee1_row13_col4, #T_36ee1_row13_col5, #T_36ee1_row13_col6, #T_36ee1_row13_col10, #T_36ee1_row13_col11, #T_36ee1_row13_col12, #T_36ee1_row13_col21, #T_36ee1_row13_col22, #T_36ee1_row13_col23, #T_36ee1_row13_col24, #T_36ee1_row13_col25, #T_36ee1_row13_col26, #T_36ee1_row13_col27, #T_36ee1_row14_col0, #T_36ee1_row14_col1, #T_36ee1_row14_col2, #T_36ee1_row14_col3, #T_36ee1_row14_col4, #T_36ee1_row14_col5, #T_36ee1_row14_col6, #T_36ee1_row14_col10, #T_36ee1_row14_col21, #T_36ee1_row14_col22, #T_36ee1_row14_col23, #T_36ee1_row14_col24, #T_36ee1_row14_col25, #T_36ee1_row14_col26, #T_36ee1_row14_col27, #T_36ee1_row15_col0, #T_36ee1_row15_col1, #T_36ee1_row15_col2, #T_36ee1_row15_col3, #T_36ee1_row15_col4, #T_36ee1_row15_col5, #T_36ee1_row15_col6, #T_36ee1_row15_col20, #T_36ee1_row15_col21, #T_36ee1_row15_col22, #T_36ee1_row15_col23, #T_36ee1_row15_col24, #T_36ee1_row15_col25, #T_36ee1_row15_col26, #T_36ee1_row15_col27, #T_36ee1_row16_col0, #T_36ee1_row16_col1, #T_36ee1_row16_col2, #T_36ee1_row16_col3, #T_36ee1_row16_col4, #T_36ee1_row16_col5, #T_36ee1_row16_col6, #T_36ee1_row16_col19, #T_36ee1_row16_col20, #T_36ee1_row16_col21, #T_36ee1_row16_col22, #T_36ee1_row16_col23, #T_36ee1_row16_col24, #T_36ee1_row16_col25, #T_36ee1_row16_col26, #T_36ee1_row16_col27, #T_36ee1_row17_col0, #T_36ee1_row17_col1, #T_36ee1_row17_col2, #T_36ee1_row17_col3, #T_36ee1_row17_col4, #T_36ee1_row17_col5, #T_36ee1_row17_col6, #T_36ee1_row17_col7, #T_36ee1_row17_col8, #T_36ee1_row17_col9, #T_36ee1_row17_col10, #T_36ee1_row17_col11, #T_36ee1_row17_col12, #T_36ee1_row17_col18, #T_36ee1_row17_col19, #T_36ee1_row17_col20, #T_36ee1_row17_col21, #T_36ee1_row17_col22, #T_36ee1_row17_col23, #T_36ee1_row17_col24, #T_36ee1_row17_col25, #T_36ee1_row17_col26, #T_36ee1_row17_col27, #T_36ee1_row18_col0, #T_36ee1_row18_col1, #T_36ee1_row18_col2, #T_36ee1_row18_col3, #T_36ee1_row18_col4, #T_36ee1_row18_col5, #T_36ee1_row18_col6, #T_36ee1_row18_col7, #T_36ee1_row18_col8, #T_36ee1_row18_col9, #T_36ee1_row18_col10, #T_36ee1_row18_col11, #T_36ee1_row18_col17, #T_36ee1_row18_col18, #T_36ee1_row18_col19, #T_36ee1_row18_col20, #T_36ee1_row18_col21, #T_36ee1_row18_col22, #T_36ee1_row18_col23, #T_36ee1_row18_col24, #T_36ee1_row18_col25, #T_36ee1_row18_col26, #T_36ee1_row18_col27, #T_36ee1_row19_col0, #T_36ee1_row19_col1, #T_36ee1_row19_col2, #T_36ee1_row19_col3, #T_36ee1_row19_col4, #T_36ee1_row19_col5, #T_36ee1_row19_col6, #T_36ee1_row19_col7, #T_36ee1_row19_col8, #T_36ee1_row19_col9, #T_36ee1_row19_col10, #T_36ee1_row19_col16, #T_36ee1_row19_col17, #T_36ee1_row19_col18, #T_36ee1_row19_col19, #T_36ee1_row19_col20, #T_36ee1_row19_col21, #T_36ee1_row19_col22, #T_36ee1_row19_col23, #T_36ee1_row19_col24, #T_36ee1_row19_col25, #T_36ee1_row19_col26, #T_36ee1_row19_col27, #T_36ee1_row20_col0, #T_36ee1_row20_col1, #T_36ee1_row20_col2, #T_36ee1_row20_col3, #T_36ee1_row20_col4, #T_36ee1_row20_col5, #T_36ee1_row20_col6, #T_36ee1_row20_col7, #T_36ee1_row20_col8, #T_36ee1_row20_col9, #T_36ee1_row20_col15, #T_36ee1_row20_col16, #T_36ee1_row20_col17, #T_36ee1_row20_col18, #T_36ee1_row20_col19, #T_36ee1_row20_col20, #T_36ee1_row20_col21, #T_36ee1_row20_col22, #T_36ee1_row20_col23, #T_36ee1_row20_col24, #T_36ee1_row20_col25, #T_36ee1_row20_col26, #T_36ee1_row20_col27, #T_36ee1_row21_col0, #T_36ee1_row21_col1, #T_36ee1_row21_col2, #T_36ee1_row21_col3, #T_36ee1_row21_col4, #T_36ee1_row21_col5, #T_36ee1_row21_col6, #T_36ee1_row21_col7, #T_36ee1_row21_col8, #T_36ee1_row21_col14, #T_36ee1_row21_col15, #T_36ee1_row21_col16, #T_36ee1_row21_col17, #T_36ee1_row21_col18, #T_36ee1_row21_col19, #T_36ee1_row21_col20, #T_36ee1_row21_col21, #T_36ee1_row21_col22, #T_36ee1_row21_col23, #T_36ee1_row21_col24, #T_36ee1_row21_col25, #T_36ee1_row21_col26, #T_36ee1_row21_col27, #T_36ee1_row22_col0, #T_36ee1_row22_col1, #T_36ee1_row22_col2, #T_36ee1_row22_col3, #T_36ee1_row22_col4, #T_36ee1_row22_col5, #T_36ee1_row22_col6, #T_36ee1_row22_col7, #T_36ee1_row22_col8, #T_36ee1_row22_col14, #T_36ee1_row22_col15, #T_36ee1_row22_col16, #T_36ee1_row22_col17, #T_36ee1_row22_col18, #T_36ee1_row22_col19, #T_36ee1_row22_col20, #T_36ee1_row22_col21, #T_36ee1_row22_col22, #T_36ee1_row22_col23, #T_36ee1_row22_col24, #T_36ee1_row22_col25, #T_36ee1_row22_col26, #T_36ee1_row22_col27, #T_36ee1_row23_col0, #T_36ee1_row23_col1, #T_36ee1_row23_col2, #T_36ee1_row23_col3, #T_36ee1_row23_col4, #T_36ee1_row23_col5, #T_36ee1_row23_col6, #T_36ee1_row23_col7, #T_36ee1_row23_col14, #T_36ee1_row23_col15, #T_36ee1_row23_col16, #T_36ee1_row23_col17, #T_36ee1_row23_col18, #T_36ee1_row23_col19, #T_36ee1_row23_col20, #T_36ee1_row23_col21, #T_36ee1_row23_col22, #T_36ee1_row23_col23, #T_36ee1_row23_col24, #T_36ee1_row23_col25, #T_36ee1_row23_col26, #T_36ee1_row23_col27, #T_36ee1_row24_col0, #T_36ee1_row24_col1, #T_36ee1_row24_col2, #T_36ee1_row24_col3, #T_36ee1_row24_col4, #T_36ee1_row24_col5, #T_36ee1_row24_col6, #T_36ee1_row24_col7, #T_36ee1_row24_col13, #T_36ee1_row24_col14, #T_36ee1_row24_col15, #T_36ee1_row24_col16, #T_36ee1_row24_col17, #T_36ee1_row24_col18, #T_36ee1_row24_col19, #T_36ee1_row24_col20, #T_36ee1_row24_col21, #T_36ee1_row24_col22, #T_36ee1_row24_col23, #T_36ee1_row24_col24, #T_36ee1_row24_col25, #T_36ee1_row24_col26, #T_36ee1_row24_col27, #T_36ee1_row25_col0, #T_36ee1_row25_col1, #T_36ee1_row25_col2, #T_36ee1_row25_col3, #T_36ee1_row25_col4, #T_36ee1_row25_col5, #T_36ee1_row25_col6, #T_36ee1_row25_col7, #T_36ee1_row25_col11, #T_36ee1_row25_col12, #T_36ee1_row25_col13, #T_36ee1_row25_col14, #T_36ee1_row25_col15, #T_36ee1_row25_col16, #T_36ee1_row25_col17, #T_36ee1_row25_col18, #T_36ee1_row25_col19, #T_36ee1_row25_col20, #T_36ee1_row25_col21, #T_36ee1_row25_col22, #T_36ee1_row25_col23, #T_36ee1_row25_col24, #T_36ee1_row25_col25, #T_36ee1_row25_col26, #T_36ee1_row25_col27, #T_36ee1_row26_col0, #T_36ee1_row26_col1, #T_36ee1_row26_col2, #T_36ee1_row26_col3, #T_36ee1_row26_col4, #T_36ee1_row26_col5, #T_36ee1_row26_col6, #T_36ee1_row26_col7, #T_36ee1_row26_col8, #T_36ee1_row26_col9, #T_36ee1_row26_col10, #T_36ee1_row26_col11, #T_36ee1_row26_col12, #T_36ee1_row26_col13, #T_36ee1_row26_col14, #T_36ee1_row26_col15, #T_36ee1_row26_col16, #T_36ee1_row26_col17, #T_36ee1_row26_col18, #T_36ee1_row26_col19, #T_36ee1_row26_col20, #T_36ee1_row26_col21, #T_36ee1_row26_col22, #T_36ee1_row26_col23, #T_36ee1_row26_col24, #T_36ee1_row26_col25, #T_36ee1_row26_col26, #T_36ee1_row26_col27, #T_36ee1_row27_col0, #T_36ee1_row27_col1, #T_36ee1_row27_col2, #T_36ee1_row27_col3, #T_36ee1_row27_col4, #T_36ee1_row27_col5, #T_36ee1_row27_col6, #T_36ee1_row27_col7, #T_36ee1_row27_col8, #T_36ee1_row27_col9, #T_36ee1_row27_col10, #T_36ee1_row27_col11, #T_36ee1_row27_col12, #T_36ee1_row27_col13, #T_36ee1_row27_col14, #T_36ee1_row27_col15, #T_36ee1_row27_col16, #T_36ee1_row27_col17, #T_36ee1_row27_col18, #T_36ee1_row27_col19, #T_36ee1_row27_col20, #T_36ee1_row27_col21, #T_36ee1_row27_col22, #T_36ee1_row27_col23, #T_36ee1_row27_col24, #T_36ee1_row27_col25, #T_36ee1_row27_col26, #T_36ee1_row27_col27 {\n",
              "  font-size: 6pt;\n",
              "  background-color: #ffffff;\n",
              "  color: #000000;\n",
              "}\n",
              "#T_36ee1_row6_col15, #T_36ee1_row25_col10 {\n",
              "  font-size: 6pt;\n",
              "  background-color: #e9e9e9;\n",
              "  color: #000000;\n",
              "}\n",
              "#T_36ee1_row6_col16 {\n",
              "  font-size: 6pt;\n",
              "  background-color: #9a9a9a;\n",
              "  color: #f1f1f1;\n",
              "}\n",
              "#T_36ee1_row6_col17 {\n",
              "  font-size: 6pt;\n",
              "  background-color: #686868;\n",
              "  color: #f1f1f1;\n",
              "}\n",
              "#T_36ee1_row6_col18 {\n",
              "  font-size: 6pt;\n",
              "  background-color: #3a3a3a;\n",
              "  color: #f1f1f1;\n",
              "}\n",
              "#T_36ee1_row6_col19 {\n",
              "  font-size: 6pt;\n",
              "  background-color: #2b2b2b;\n",
              "  color: #f1f1f1;\n",
              "}\n",
              "#T_36ee1_row6_col20 {\n",
              "  font-size: 6pt;\n",
              "  background-color: #d3d3d3;\n",
              "  color: #000000;\n",
              "}\n",
              "#T_36ee1_row7_col12, #T_36ee1_row10_col16, #T_36ee1_row14_col11, #T_36ee1_row19_col15 {\n",
              "  font-size: 6pt;\n",
              "  background-color: #e8e8e8;\n",
              "  color: #000000;\n",
              "}\n",
              "#T_36ee1_row7_col13, #T_36ee1_row24_col11 {\n",
              "  font-size: 6pt;\n",
              "  background-color: #797979;\n",
              "  color: #f1f1f1;\n",
              "}\n",
              "#T_36ee1_row7_col14 {\n",
              "  font-size: 6pt;\n",
              "  background-color: #131313;\n",
              "  color: #f1f1f1;\n",
              "}\n",
              "#T_36ee1_row7_col15, #T_36ee1_row9_col11, #T_36ee1_row10_col10, #T_36ee1_row12_col8, #T_36ee1_row22_col10 {\n",
              "  font-size: 6pt;\n",
              "  background-color: #010101;\n",
              "  color: #f1f1f1;\n",
              "}\n",
              "#T_36ee1_row7_col16, #T_36ee1_row7_col17, #T_36ee1_row7_col19, #T_36ee1_row8_col13, #T_36ee1_row8_col19, #T_36ee1_row9_col19, #T_36ee1_row10_col18, #T_36ee1_row10_col21, #T_36ee1_row10_col22, #T_36ee1_row11_col9, #T_36ee1_row11_col20, #T_36ee1_row12_col15, #T_36ee1_row12_col19, #T_36ee1_row13_col7, #T_36ee1_row13_col8, #T_36ee1_row13_col18, #T_36ee1_row13_col19, #T_36ee1_row14_col7, #T_36ee1_row14_col8, #T_36ee1_row14_col17, #T_36ee1_row14_col18, #T_36ee1_row15_col8, #T_36ee1_row15_col12, #T_36ee1_row15_col13, #T_36ee1_row15_col14, #T_36ee1_row15_col15, #T_36ee1_row15_col16, #T_36ee1_row15_col17, #T_36ee1_row16_col16, #T_36ee1_row17_col15, #T_36ee1_row18_col14, #T_36ee1_row19_col13, #T_36ee1_row20_col12, #T_36ee1_row21_col11, #T_36ee1_row22_col11, #T_36ee1_row23_col10, #T_36ee1_row23_col11, #T_36ee1_row24_col9 {\n",
              "  font-size: 6pt;\n",
              "  background-color: #000000;\n",
              "  color: #f1f1f1;\n",
              "}\n",
              "#T_36ee1_row7_col18, #T_36ee1_row11_col16 {\n",
              "  font-size: 6pt;\n",
              "  background-color: #1e1e1e;\n",
              "  color: #f1f1f1;\n",
              "}\n",
              "#T_36ee1_row7_col20, #T_36ee1_row8_col20 {\n",
              "  font-size: 6pt;\n",
              "  background-color: #7c7c7c;\n",
              "  color: #f1f1f1;\n",
              "}\n",
              "#T_36ee1_row8_col11 {\n",
              "  font-size: 6pt;\n",
              "  background-color: #8e8e8e;\n",
              "  color: #f1f1f1;\n",
              "}\n",
              "#T_36ee1_row8_col12, #T_36ee1_row12_col20, #T_36ee1_row15_col11, #T_36ee1_row24_col10 {\n",
              "  font-size: 6pt;\n",
              "  background-color: #030303;\n",
              "  color: #f1f1f1;\n",
              "}\n",
              "#T_36ee1_row8_col14, #T_36ee1_row9_col12, #T_36ee1_row22_col12 {\n",
              "  font-size: 6pt;\n",
              "  background-color: #2c2c2c;\n",
              "  color: #f1f1f1;\n",
              "}\n",
              "#T_36ee1_row8_col15 {\n",
              "  font-size: 6pt;\n",
              "  background-color: #898989;\n",
              "  color: #f1f1f1;\n",
              "}\n",
              "#T_36ee1_row8_col16 {\n",
              "  font-size: 6pt;\n",
              "  background-color: #e0e0e0;\n",
              "  color: #000000;\n",
              "}\n",
              "#T_36ee1_row8_col17, #T_36ee1_row14_col20, #T_36ee1_row15_col19, #T_36ee1_row20_col14, #T_36ee1_row21_col13, #T_36ee1_row24_col12 {\n",
              "  font-size: 6pt;\n",
              "  background-color: #fbfbfb;\n",
              "  color: #000000;\n",
              "}\n",
              "#T_36ee1_row8_col18, #T_36ee1_row22_col13 {\n",
              "  font-size: 6pt;\n",
              "  background-color: #dfdfdf;\n",
              "  color: #000000;\n",
              "}\n",
              "#T_36ee1_row9_col9, #T_36ee1_row11_col11, #T_36ee1_row12_col10 {\n",
              "  font-size: 6pt;\n",
              "  background-color: #f7f7f7;\n",
              "  color: #000000;\n",
              "}\n",
              "#T_36ee1_row9_col10 {\n",
              "  font-size: 6pt;\n",
              "  background-color: #474747;\n",
              "  color: #f1f1f1;\n",
              "}\n",
              "#T_36ee1_row9_col13 {\n",
              "  font-size: 6pt;\n",
              "  background-color: #d8d8d8;\n",
              "  color: #000000;\n",
              "}\n",
              "#T_36ee1_row9_col14, #T_36ee1_row20_col10 {\n",
              "  font-size: 6pt;\n",
              "  background-color: #fcfcfc;\n",
              "  color: #000000;\n",
              "}\n",
              "#T_36ee1_row9_col17 {\n",
              "  font-size: 6pt;\n",
              "  background-color: #f0f0f0;\n",
              "  color: #000000;\n",
              "}\n",
              "#T_36ee1_row9_col18, #T_36ee1_row21_col12 {\n",
              "  font-size: 6pt;\n",
              "  background-color: #5d5d5d;\n",
              "  color: #f1f1f1;\n",
              "}\n",
              "#T_36ee1_row9_col20 {\n",
              "  font-size: 6pt;\n",
              "  background-color: #777777;\n",
              "  color: #f1f1f1;\n",
              "}\n",
              "#T_36ee1_row9_col21, #T_36ee1_row9_col22 {\n",
              "  font-size: 6pt;\n",
              "  background-color: #d4d4d4;\n",
              "  color: #000000;\n",
              "}\n",
              "#T_36ee1_row10_col8 {\n",
              "  font-size: 6pt;\n",
              "  background-color: #eaeaea;\n",
              "  color: #000000;\n",
              "}\n",
              "#T_36ee1_row10_col9 {\n",
              "  font-size: 6pt;\n",
              "  background-color: #414141;\n",
              "  color: #f1f1f1;\n",
              "}\n",
              "#T_36ee1_row10_col11, #T_36ee1_row10_col17, #T_36ee1_row12_col9 {\n",
              "  font-size: 6pt;\n",
              "  background-color: #464646;\n",
              "  color: #f1f1f1;\n",
              "}\n",
              "#T_36ee1_row10_col12, #T_36ee1_row14_col12, #T_36ee1_row14_col13 {\n",
              "  font-size: 6pt;\n",
              "  background-color: #e4e4e4;\n",
              "  color: #000000;\n",
              "}\n",
              "#T_36ee1_row10_col19 {\n",
              "  font-size: 6pt;\n",
              "  background-color: #6b6b6b;\n",
              "  color: #f1f1f1;\n",
              "}\n",
              "#T_36ee1_row10_col20, #T_36ee1_row11_col8, #T_36ee1_row17_col14 {\n",
              "  font-size: 6pt;\n",
              "  background-color: #616161;\n",
              "  color: #f1f1f1;\n",
              "}\n",
              "#T_36ee1_row11_col10 {\n",
              "  font-size: 6pt;\n",
              "  background-color: #696969;\n",
              "  color: #f1f1f1;\n",
              "}\n",
              "#T_36ee1_row11_col14, #T_36ee1_row16_col18, #T_36ee1_row17_col17, #T_36ee1_row23_col13 {\n",
              "  font-size: 6pt;\n",
              "  background-color: #fafafa;\n",
              "  color: #000000;\n",
              "}\n",
              "#T_36ee1_row11_col15, #T_36ee1_row13_col9 {\n",
              "  font-size: 6pt;\n",
              "  background-color: #b3b3b3;\n",
              "  color: #000000;\n",
              "}\n",
              "#T_36ee1_row11_col17 {\n",
              "  font-size: 6pt;\n",
              "  background-color: #1f1f1f;\n",
              "  color: #f1f1f1;\n",
              "}\n",
              "#T_36ee1_row11_col18 {\n",
              "  font-size: 6pt;\n",
              "  background-color: #bebebe;\n",
              "  color: #000000;\n",
              "}\n",
              "#T_36ee1_row11_col19 {\n",
              "  font-size: 6pt;\n",
              "  background-color: #676767;\n",
              "  color: #f1f1f1;\n",
              "}\n",
              "#T_36ee1_row11_col21 {\n",
              "  font-size: 6pt;\n",
              "  background-color: #505050;\n",
              "  color: #f1f1f1;\n",
              "}\n",
              "#T_36ee1_row11_col22, #T_36ee1_row13_col13 {\n",
              "  font-size: 6pt;\n",
              "  background-color: #f5f5f5;\n",
              "  color: #000000;\n",
              "}\n",
              "#T_36ee1_row12_col7 {\n",
              "  font-size: 6pt;\n",
              "  background-color: #8c8c8c;\n",
              "  color: #f1f1f1;\n",
              "}\n",
              "#T_36ee1_row12_col13 {\n",
              "  font-size: 6pt;\n",
              "  background-color: #f2f2f2;\n",
              "  color: #000000;\n",
              "}\n",
              "#T_36ee1_row12_col14 {\n",
              "  font-size: 6pt;\n",
              "  background-color: #272727;\n",
              "  color: #f1f1f1;\n",
              "}\n",
              "#T_36ee1_row12_col16 {\n",
              "  font-size: 6pt;\n",
              "  background-color: #6a6a6a;\n",
              "  color: #f1f1f1;\n",
              "}\n",
              "#T_36ee1_row12_col17 {\n",
              "  font-size: 6pt;\n",
              "  background-color: #ececec;\n",
              "  color: #000000;\n",
              "}\n",
              "#T_36ee1_row12_col18 {\n",
              "  font-size: 6pt;\n",
              "  background-color: #6c6c6c;\n",
              "  color: #f1f1f1;\n",
              "}\n",
              "#T_36ee1_row12_col21 {\n",
              "  font-size: 6pt;\n",
              "  background-color: #c0c0c0;\n",
              "  color: #000000;\n",
              "}\n",
              "#T_36ee1_row13_col14 {\n",
              "  font-size: 6pt;\n",
              "  background-color: #a3a3a3;\n",
              "  color: #f1f1f1;\n",
              "}\n",
              "#T_36ee1_row13_col15 {\n",
              "  font-size: 6pt;\n",
              "  background-color: #b4b4b4;\n",
              "  color: #000000;\n",
              "}\n",
              "#T_36ee1_row13_col16 {\n",
              "  font-size: 6pt;\n",
              "  background-color: #c2c2c2;\n",
              "  color: #000000;\n",
              "}\n",
              "#T_36ee1_row13_col17 {\n",
              "  font-size: 6pt;\n",
              "  background-color: #353535;\n",
              "  color: #f1f1f1;\n",
              "}\n",
              "#T_36ee1_row13_col20 {\n",
              "  font-size: 6pt;\n",
              "  background-color: #848484;\n",
              "  color: #f1f1f1;\n",
              "}\n",
              "#T_36ee1_row14_col9, #T_36ee1_row16_col14 {\n",
              "  font-size: 6pt;\n",
              "  background-color: #9f9f9f;\n",
              "  color: #f1f1f1;\n",
              "}\n",
              "#T_36ee1_row14_col14 {\n",
              "  font-size: 6pt;\n",
              "  background-color: #9d9d9d;\n",
              "  color: #f1f1f1;\n",
              "}\n",
              "#T_36ee1_row14_col15 {\n",
              "  font-size: 6pt;\n",
              "  background-color: #3c3c3c;\n",
              "  color: #f1f1f1;\n",
              "}\n",
              "#T_36ee1_row14_col16 {\n",
              "  font-size: 6pt;\n",
              "  background-color: #070707;\n",
              "  color: #f1f1f1;\n",
              "}\n",
              "#T_36ee1_row14_col19, #T_36ee1_row20_col13 {\n",
              "  font-size: 6pt;\n",
              "  background-color: #636363;\n",
              "  color: #f1f1f1;\n",
              "}\n",
              "#T_36ee1_row15_col7 {\n",
              "  font-size: 6pt;\n",
              "  background-color: #1b1b1b;\n",
              "  color: #f1f1f1;\n",
              "}\n",
              "#T_36ee1_row15_col9 {\n",
              "  font-size: 6pt;\n",
              "  background-color: #0a0a0a;\n",
              "  color: #f1f1f1;\n",
              "}\n",
              "#T_36ee1_row15_col10, #T_36ee1_row16_col9, #T_36ee1_row16_col11 {\n",
              "  font-size: 6pt;\n",
              "  background-color: #2f2f2f;\n",
              "  color: #f1f1f1;\n",
              "}\n",
              "#T_36ee1_row15_col18 {\n",
              "  font-size: 6pt;\n",
              "  background-color: #646464;\n",
              "  color: #f1f1f1;\n",
              "}\n",
              "#T_36ee1_row16_col7, #T_36ee1_row17_col13 {\n",
              "  font-size: 6pt;\n",
              "  background-color: #f6f6f6;\n",
              "  color: #000000;\n",
              "}\n",
              "#T_36ee1_row16_col8 {\n",
              "  font-size: 6pt;\n",
              "  background-color: #7e7e7e;\n",
              "  color: #f1f1f1;\n",
              "}\n",
              "#T_36ee1_row16_col10 {\n",
              "  font-size: 6pt;\n",
              "  background-color: #303030;\n",
              "  color: #f1f1f1;\n",
              "}\n",
              "#T_36ee1_row16_col12 {\n",
              "  font-size: 6pt;\n",
              "  background-color: #888888;\n",
              "  color: #f1f1f1;\n",
              "}\n",
              "#T_36ee1_row16_col13 {\n",
              "  font-size: 6pt;\n",
              "  background-color: #939393;\n",
              "  color: #f1f1f1;\n",
              "}\n",
              "#T_36ee1_row16_col15 {\n",
              "  font-size: 6pt;\n",
              "  background-color: #101010;\n",
              "  color: #f1f1f1;\n",
              "}\n",
              "#T_36ee1_row16_col17, #T_36ee1_row17_col16 {\n",
              "  font-size: 6pt;\n",
              "  background-color: #838383;\n",
              "  color: #f1f1f1;\n",
              "}\n",
              "#T_36ee1_row18_col12, #T_36ee1_row19_col11 {\n",
              "  font-size: 6pt;\n",
              "  background-color: #eeeeee;\n",
              "  color: #000000;\n",
              "}\n",
              "#T_36ee1_row18_col13, #T_36ee1_row19_col12 {\n",
              "  font-size: 6pt;\n",
              "  background-color: #292929;\n",
              "  color: #f1f1f1;\n",
              "}\n",
              "#T_36ee1_row18_col15 {\n",
              "  font-size: 6pt;\n",
              "  background-color: #484848;\n",
              "  color: #f1f1f1;\n",
              "}\n",
              "#T_36ee1_row18_col16 {\n",
              "  font-size: 6pt;\n",
              "  background-color: #f3f3f3;\n",
              "  color: #000000;\n",
              "}\n",
              "#T_36ee1_row19_col14 {\n",
              "  font-size: 6pt;\n",
              "  background-color: #545454;\n",
              "  color: #f1f1f1;\n",
              "}\n",
              "#T_36ee1_row20_col11, #T_36ee1_row23_col12 {\n",
              "  font-size: 6pt;\n",
              "  background-color: #5b5b5b;\n",
              "  color: #f1f1f1;\n",
              "}\n",
              "#T_36ee1_row21_col9 {\n",
              "  font-size: 6pt;\n",
              "  background-color: #fdfdfd;\n",
              "  color: #000000;\n",
              "}\n",
              "#T_36ee1_row21_col10 {\n",
              "  font-size: 6pt;\n",
              "  background-color: #707070;\n",
              "  color: #f1f1f1;\n",
              "}\n",
              "#T_36ee1_row22_col9 {\n",
              "  font-size: 6pt;\n",
              "  background-color: #909090;\n",
              "  color: #f1f1f1;\n",
              "}\n",
              "#T_36ee1_row23_col8 {\n",
              "  font-size: 6pt;\n",
              "  background-color: #c8c8c8;\n",
              "  color: #000000;\n",
              "}\n",
              "#T_36ee1_row23_col9 {\n",
              "  font-size: 6pt;\n",
              "  background-color: #050505;\n",
              "  color: #f1f1f1;\n",
              "}\n",
              "#T_36ee1_row24_col8 {\n",
              "  font-size: 6pt;\n",
              "  background-color: #2e2e2e;\n",
              "  color: #f1f1f1;\n",
              "}\n",
              "#T_36ee1_row25_col8 {\n",
              "  font-size: 6pt;\n",
              "  background-color: #323232;\n",
              "  color: #f1f1f1;\n",
              "}\n",
              "#T_36ee1_row25_col9 {\n",
              "  font-size: 6pt;\n",
              "  background-color: #1a1a1a;\n",
              "  color: #f1f1f1;\n",
              "}\n",
              "</style>\n",
              "<table id=\"T_36ee1\" class=\"dataframe\">\n",
              "  <thead>\n",
              "    <tr>\n",
              "      <th class=\"blank level0\" >&nbsp;</th>\n",
              "      <th id=\"T_36ee1_level0_col0\" class=\"col_heading level0 col0\" >0</th>\n",
              "      <th id=\"T_36ee1_level0_col1\" class=\"col_heading level0 col1\" >1</th>\n",
              "      <th id=\"T_36ee1_level0_col2\" class=\"col_heading level0 col2\" >2</th>\n",
              "      <th id=\"T_36ee1_level0_col3\" class=\"col_heading level0 col3\" >3</th>\n",
              "      <th id=\"T_36ee1_level0_col4\" class=\"col_heading level0 col4\" >4</th>\n",
              "      <th id=\"T_36ee1_level0_col5\" class=\"col_heading level0 col5\" >5</th>\n",
              "      <th id=\"T_36ee1_level0_col6\" class=\"col_heading level0 col6\" >6</th>\n",
              "      <th id=\"T_36ee1_level0_col7\" class=\"col_heading level0 col7\" >7</th>\n",
              "      <th id=\"T_36ee1_level0_col8\" class=\"col_heading level0 col8\" >8</th>\n",
              "      <th id=\"T_36ee1_level0_col9\" class=\"col_heading level0 col9\" >9</th>\n",
              "      <th id=\"T_36ee1_level0_col10\" class=\"col_heading level0 col10\" >10</th>\n",
              "      <th id=\"T_36ee1_level0_col11\" class=\"col_heading level0 col11\" >11</th>\n",
              "      <th id=\"T_36ee1_level0_col12\" class=\"col_heading level0 col12\" >12</th>\n",
              "      <th id=\"T_36ee1_level0_col13\" class=\"col_heading level0 col13\" >13</th>\n",
              "      <th id=\"T_36ee1_level0_col14\" class=\"col_heading level0 col14\" >14</th>\n",
              "      <th id=\"T_36ee1_level0_col15\" class=\"col_heading level0 col15\" >15</th>\n",
              "      <th id=\"T_36ee1_level0_col16\" class=\"col_heading level0 col16\" >16</th>\n",
              "      <th id=\"T_36ee1_level0_col17\" class=\"col_heading level0 col17\" >17</th>\n",
              "      <th id=\"T_36ee1_level0_col18\" class=\"col_heading level0 col18\" >18</th>\n",
              "      <th id=\"T_36ee1_level0_col19\" class=\"col_heading level0 col19\" >19</th>\n",
              "      <th id=\"T_36ee1_level0_col20\" class=\"col_heading level0 col20\" >20</th>\n",
              "      <th id=\"T_36ee1_level0_col21\" class=\"col_heading level0 col21\" >21</th>\n",
              "      <th id=\"T_36ee1_level0_col22\" class=\"col_heading level0 col22\" >22</th>\n",
              "      <th id=\"T_36ee1_level0_col23\" class=\"col_heading level0 col23\" >23</th>\n",
              "      <th id=\"T_36ee1_level0_col24\" class=\"col_heading level0 col24\" >24</th>\n",
              "      <th id=\"T_36ee1_level0_col25\" class=\"col_heading level0 col25\" >25</th>\n",
              "      <th id=\"T_36ee1_level0_col26\" class=\"col_heading level0 col26\" >26</th>\n",
              "      <th id=\"T_36ee1_level0_col27\" class=\"col_heading level0 col27\" >27</th>\n",
              "    </tr>\n",
              "  </thead>\n",
              "  <tbody>\n",
              "    <tr>\n",
              "      <th id=\"T_36ee1_level0_row0\" class=\"row_heading level0 row0\" >0</th>\n",
              "      <td id=\"T_36ee1_row0_col0\" class=\"data row0 col0\" >0</td>\n",
              "      <td id=\"T_36ee1_row0_col1\" class=\"data row0 col1\" >0</td>\n",
              "      <td id=\"T_36ee1_row0_col2\" class=\"data row0 col2\" >0</td>\n",
              "      <td id=\"T_36ee1_row0_col3\" class=\"data row0 col3\" >0</td>\n",
              "      <td id=\"T_36ee1_row0_col4\" class=\"data row0 col4\" >0</td>\n",
              "      <td id=\"T_36ee1_row0_col5\" class=\"data row0 col5\" >0</td>\n",
              "      <td id=\"T_36ee1_row0_col6\" class=\"data row0 col6\" >0</td>\n",
              "      <td id=\"T_36ee1_row0_col7\" class=\"data row0 col7\" >0</td>\n",
              "      <td id=\"T_36ee1_row0_col8\" class=\"data row0 col8\" >0</td>\n",
              "      <td id=\"T_36ee1_row0_col9\" class=\"data row0 col9\" >0</td>\n",
              "      <td id=\"T_36ee1_row0_col10\" class=\"data row0 col10\" >0</td>\n",
              "      <td id=\"T_36ee1_row0_col11\" class=\"data row0 col11\" >0</td>\n",
              "      <td id=\"T_36ee1_row0_col12\" class=\"data row0 col12\" >0</td>\n",
              "      <td id=\"T_36ee1_row0_col13\" class=\"data row0 col13\" >0</td>\n",
              "      <td id=\"T_36ee1_row0_col14\" class=\"data row0 col14\" >0</td>\n",
              "      <td id=\"T_36ee1_row0_col15\" class=\"data row0 col15\" >0</td>\n",
              "      <td id=\"T_36ee1_row0_col16\" class=\"data row0 col16\" >0</td>\n",
              "      <td id=\"T_36ee1_row0_col17\" class=\"data row0 col17\" >0</td>\n",
              "      <td id=\"T_36ee1_row0_col18\" class=\"data row0 col18\" >0</td>\n",
              "      <td id=\"T_36ee1_row0_col19\" class=\"data row0 col19\" >0</td>\n",
              "      <td id=\"T_36ee1_row0_col20\" class=\"data row0 col20\" >0</td>\n",
              "      <td id=\"T_36ee1_row0_col21\" class=\"data row0 col21\" >0</td>\n",
              "      <td id=\"T_36ee1_row0_col22\" class=\"data row0 col22\" >0</td>\n",
              "      <td id=\"T_36ee1_row0_col23\" class=\"data row0 col23\" >0</td>\n",
              "      <td id=\"T_36ee1_row0_col24\" class=\"data row0 col24\" >0</td>\n",
              "      <td id=\"T_36ee1_row0_col25\" class=\"data row0 col25\" >0</td>\n",
              "      <td id=\"T_36ee1_row0_col26\" class=\"data row0 col26\" >0</td>\n",
              "      <td id=\"T_36ee1_row0_col27\" class=\"data row0 col27\" >0</td>\n",
              "    </tr>\n",
              "    <tr>\n",
              "      <th id=\"T_36ee1_level0_row1\" class=\"row_heading level0 row1\" >1</th>\n",
              "      <td id=\"T_36ee1_row1_col0\" class=\"data row1 col0\" >0</td>\n",
              "      <td id=\"T_36ee1_row1_col1\" class=\"data row1 col1\" >0</td>\n",
              "      <td id=\"T_36ee1_row1_col2\" class=\"data row1 col2\" >0</td>\n",
              "      <td id=\"T_36ee1_row1_col3\" class=\"data row1 col3\" >0</td>\n",
              "      <td id=\"T_36ee1_row1_col4\" class=\"data row1 col4\" >0</td>\n",
              "      <td id=\"T_36ee1_row1_col5\" class=\"data row1 col5\" >0</td>\n",
              "      <td id=\"T_36ee1_row1_col6\" class=\"data row1 col6\" >0</td>\n",
              "      <td id=\"T_36ee1_row1_col7\" class=\"data row1 col7\" >0</td>\n",
              "      <td id=\"T_36ee1_row1_col8\" class=\"data row1 col8\" >0</td>\n",
              "      <td id=\"T_36ee1_row1_col9\" class=\"data row1 col9\" >0</td>\n",
              "      <td id=\"T_36ee1_row1_col10\" class=\"data row1 col10\" >0</td>\n",
              "      <td id=\"T_36ee1_row1_col11\" class=\"data row1 col11\" >0</td>\n",
              "      <td id=\"T_36ee1_row1_col12\" class=\"data row1 col12\" >0</td>\n",
              "      <td id=\"T_36ee1_row1_col13\" class=\"data row1 col13\" >0</td>\n",
              "      <td id=\"T_36ee1_row1_col14\" class=\"data row1 col14\" >0</td>\n",
              "      <td id=\"T_36ee1_row1_col15\" class=\"data row1 col15\" >0</td>\n",
              "      <td id=\"T_36ee1_row1_col16\" class=\"data row1 col16\" >0</td>\n",
              "      <td id=\"T_36ee1_row1_col17\" class=\"data row1 col17\" >0</td>\n",
              "      <td id=\"T_36ee1_row1_col18\" class=\"data row1 col18\" >0</td>\n",
              "      <td id=\"T_36ee1_row1_col19\" class=\"data row1 col19\" >0</td>\n",
              "      <td id=\"T_36ee1_row1_col20\" class=\"data row1 col20\" >0</td>\n",
              "      <td id=\"T_36ee1_row1_col21\" class=\"data row1 col21\" >0</td>\n",
              "      <td id=\"T_36ee1_row1_col22\" class=\"data row1 col22\" >0</td>\n",
              "      <td id=\"T_36ee1_row1_col23\" class=\"data row1 col23\" >0</td>\n",
              "      <td id=\"T_36ee1_row1_col24\" class=\"data row1 col24\" >0</td>\n",
              "      <td id=\"T_36ee1_row1_col25\" class=\"data row1 col25\" >0</td>\n",
              "      <td id=\"T_36ee1_row1_col26\" class=\"data row1 col26\" >0</td>\n",
              "      <td id=\"T_36ee1_row1_col27\" class=\"data row1 col27\" >0</td>\n",
              "    </tr>\n",
              "    <tr>\n",
              "      <th id=\"T_36ee1_level0_row2\" class=\"row_heading level0 row2\" >2</th>\n",
              "      <td id=\"T_36ee1_row2_col0\" class=\"data row2 col0\" >0</td>\n",
              "      <td id=\"T_36ee1_row2_col1\" class=\"data row2 col1\" >0</td>\n",
              "      <td id=\"T_36ee1_row2_col2\" class=\"data row2 col2\" >0</td>\n",
              "      <td id=\"T_36ee1_row2_col3\" class=\"data row2 col3\" >0</td>\n",
              "      <td id=\"T_36ee1_row2_col4\" class=\"data row2 col4\" >0</td>\n",
              "      <td id=\"T_36ee1_row2_col5\" class=\"data row2 col5\" >0</td>\n",
              "      <td id=\"T_36ee1_row2_col6\" class=\"data row2 col6\" >0</td>\n",
              "      <td id=\"T_36ee1_row2_col7\" class=\"data row2 col7\" >0</td>\n",
              "      <td id=\"T_36ee1_row2_col8\" class=\"data row2 col8\" >0</td>\n",
              "      <td id=\"T_36ee1_row2_col9\" class=\"data row2 col9\" >0</td>\n",
              "      <td id=\"T_36ee1_row2_col10\" class=\"data row2 col10\" >0</td>\n",
              "      <td id=\"T_36ee1_row2_col11\" class=\"data row2 col11\" >0</td>\n",
              "      <td id=\"T_36ee1_row2_col12\" class=\"data row2 col12\" >0</td>\n",
              "      <td id=\"T_36ee1_row2_col13\" class=\"data row2 col13\" >0</td>\n",
              "      <td id=\"T_36ee1_row2_col14\" class=\"data row2 col14\" >0</td>\n",
              "      <td id=\"T_36ee1_row2_col15\" class=\"data row2 col15\" >0</td>\n",
              "      <td id=\"T_36ee1_row2_col16\" class=\"data row2 col16\" >0</td>\n",
              "      <td id=\"T_36ee1_row2_col17\" class=\"data row2 col17\" >0</td>\n",
              "      <td id=\"T_36ee1_row2_col18\" class=\"data row2 col18\" >0</td>\n",
              "      <td id=\"T_36ee1_row2_col19\" class=\"data row2 col19\" >0</td>\n",
              "      <td id=\"T_36ee1_row2_col20\" class=\"data row2 col20\" >0</td>\n",
              "      <td id=\"T_36ee1_row2_col21\" class=\"data row2 col21\" >0</td>\n",
              "      <td id=\"T_36ee1_row2_col22\" class=\"data row2 col22\" >0</td>\n",
              "      <td id=\"T_36ee1_row2_col23\" class=\"data row2 col23\" >0</td>\n",
              "      <td id=\"T_36ee1_row2_col24\" class=\"data row2 col24\" >0</td>\n",
              "      <td id=\"T_36ee1_row2_col25\" class=\"data row2 col25\" >0</td>\n",
              "      <td id=\"T_36ee1_row2_col26\" class=\"data row2 col26\" >0</td>\n",
              "      <td id=\"T_36ee1_row2_col27\" class=\"data row2 col27\" >0</td>\n",
              "    </tr>\n",
              "    <tr>\n",
              "      <th id=\"T_36ee1_level0_row3\" class=\"row_heading level0 row3\" >3</th>\n",
              "      <td id=\"T_36ee1_row3_col0\" class=\"data row3 col0\" >0</td>\n",
              "      <td id=\"T_36ee1_row3_col1\" class=\"data row3 col1\" >0</td>\n",
              "      <td id=\"T_36ee1_row3_col2\" class=\"data row3 col2\" >0</td>\n",
              "      <td id=\"T_36ee1_row3_col3\" class=\"data row3 col3\" >0</td>\n",
              "      <td id=\"T_36ee1_row3_col4\" class=\"data row3 col4\" >0</td>\n",
              "      <td id=\"T_36ee1_row3_col5\" class=\"data row3 col5\" >0</td>\n",
              "      <td id=\"T_36ee1_row3_col6\" class=\"data row3 col6\" >0</td>\n",
              "      <td id=\"T_36ee1_row3_col7\" class=\"data row3 col7\" >0</td>\n",
              "      <td id=\"T_36ee1_row3_col8\" class=\"data row3 col8\" >0</td>\n",
              "      <td id=\"T_36ee1_row3_col9\" class=\"data row3 col9\" >0</td>\n",
              "      <td id=\"T_36ee1_row3_col10\" class=\"data row3 col10\" >0</td>\n",
              "      <td id=\"T_36ee1_row3_col11\" class=\"data row3 col11\" >0</td>\n",
              "      <td id=\"T_36ee1_row3_col12\" class=\"data row3 col12\" >0</td>\n",
              "      <td id=\"T_36ee1_row3_col13\" class=\"data row3 col13\" >0</td>\n",
              "      <td id=\"T_36ee1_row3_col14\" class=\"data row3 col14\" >0</td>\n",
              "      <td id=\"T_36ee1_row3_col15\" class=\"data row3 col15\" >0</td>\n",
              "      <td id=\"T_36ee1_row3_col16\" class=\"data row3 col16\" >0</td>\n",
              "      <td id=\"T_36ee1_row3_col17\" class=\"data row3 col17\" >0</td>\n",
              "      <td id=\"T_36ee1_row3_col18\" class=\"data row3 col18\" >0</td>\n",
              "      <td id=\"T_36ee1_row3_col19\" class=\"data row3 col19\" >0</td>\n",
              "      <td id=\"T_36ee1_row3_col20\" class=\"data row3 col20\" >0</td>\n",
              "      <td id=\"T_36ee1_row3_col21\" class=\"data row3 col21\" >0</td>\n",
              "      <td id=\"T_36ee1_row3_col22\" class=\"data row3 col22\" >0</td>\n",
              "      <td id=\"T_36ee1_row3_col23\" class=\"data row3 col23\" >0</td>\n",
              "      <td id=\"T_36ee1_row3_col24\" class=\"data row3 col24\" >0</td>\n",
              "      <td id=\"T_36ee1_row3_col25\" class=\"data row3 col25\" >0</td>\n",
              "      <td id=\"T_36ee1_row3_col26\" class=\"data row3 col26\" >0</td>\n",
              "      <td id=\"T_36ee1_row3_col27\" class=\"data row3 col27\" >0</td>\n",
              "    </tr>\n",
              "    <tr>\n",
              "      <th id=\"T_36ee1_level0_row4\" class=\"row_heading level0 row4\" >4</th>\n",
              "      <td id=\"T_36ee1_row4_col0\" class=\"data row4 col0\" >0</td>\n",
              "      <td id=\"T_36ee1_row4_col1\" class=\"data row4 col1\" >0</td>\n",
              "      <td id=\"T_36ee1_row4_col2\" class=\"data row4 col2\" >0</td>\n",
              "      <td id=\"T_36ee1_row4_col3\" class=\"data row4 col3\" >0</td>\n",
              "      <td id=\"T_36ee1_row4_col4\" class=\"data row4 col4\" >0</td>\n",
              "      <td id=\"T_36ee1_row4_col5\" class=\"data row4 col5\" >0</td>\n",
              "      <td id=\"T_36ee1_row4_col6\" class=\"data row4 col6\" >0</td>\n",
              "      <td id=\"T_36ee1_row4_col7\" class=\"data row4 col7\" >0</td>\n",
              "      <td id=\"T_36ee1_row4_col8\" class=\"data row4 col8\" >0</td>\n",
              "      <td id=\"T_36ee1_row4_col9\" class=\"data row4 col9\" >0</td>\n",
              "      <td id=\"T_36ee1_row4_col10\" class=\"data row4 col10\" >0</td>\n",
              "      <td id=\"T_36ee1_row4_col11\" class=\"data row4 col11\" >0</td>\n",
              "      <td id=\"T_36ee1_row4_col12\" class=\"data row4 col12\" >0</td>\n",
              "      <td id=\"T_36ee1_row4_col13\" class=\"data row4 col13\" >0</td>\n",
              "      <td id=\"T_36ee1_row4_col14\" class=\"data row4 col14\" >0</td>\n",
              "      <td id=\"T_36ee1_row4_col15\" class=\"data row4 col15\" >0</td>\n",
              "      <td id=\"T_36ee1_row4_col16\" class=\"data row4 col16\" >0</td>\n",
              "      <td id=\"T_36ee1_row4_col17\" class=\"data row4 col17\" >0</td>\n",
              "      <td id=\"T_36ee1_row4_col18\" class=\"data row4 col18\" >0</td>\n",
              "      <td id=\"T_36ee1_row4_col19\" class=\"data row4 col19\" >0</td>\n",
              "      <td id=\"T_36ee1_row4_col20\" class=\"data row4 col20\" >0</td>\n",
              "      <td id=\"T_36ee1_row4_col21\" class=\"data row4 col21\" >0</td>\n",
              "      <td id=\"T_36ee1_row4_col22\" class=\"data row4 col22\" >0</td>\n",
              "      <td id=\"T_36ee1_row4_col23\" class=\"data row4 col23\" >0</td>\n",
              "      <td id=\"T_36ee1_row4_col24\" class=\"data row4 col24\" >0</td>\n",
              "      <td id=\"T_36ee1_row4_col25\" class=\"data row4 col25\" >0</td>\n",
              "      <td id=\"T_36ee1_row4_col26\" class=\"data row4 col26\" >0</td>\n",
              "      <td id=\"T_36ee1_row4_col27\" class=\"data row4 col27\" >0</td>\n",
              "    </tr>\n",
              "    <tr>\n",
              "      <th id=\"T_36ee1_level0_row5\" class=\"row_heading level0 row5\" >5</th>\n",
              "      <td id=\"T_36ee1_row5_col0\" class=\"data row5 col0\" >0</td>\n",
              "      <td id=\"T_36ee1_row5_col1\" class=\"data row5 col1\" >0</td>\n",
              "      <td id=\"T_36ee1_row5_col2\" class=\"data row5 col2\" >0</td>\n",
              "      <td id=\"T_36ee1_row5_col3\" class=\"data row5 col3\" >0</td>\n",
              "      <td id=\"T_36ee1_row5_col4\" class=\"data row5 col4\" >0</td>\n",
              "      <td id=\"T_36ee1_row5_col5\" class=\"data row5 col5\" >0</td>\n",
              "      <td id=\"T_36ee1_row5_col6\" class=\"data row5 col6\" >0</td>\n",
              "      <td id=\"T_36ee1_row5_col7\" class=\"data row5 col7\" >0</td>\n",
              "      <td id=\"T_36ee1_row5_col8\" class=\"data row5 col8\" >0</td>\n",
              "      <td id=\"T_36ee1_row5_col9\" class=\"data row5 col9\" >0</td>\n",
              "      <td id=\"T_36ee1_row5_col10\" class=\"data row5 col10\" >0</td>\n",
              "      <td id=\"T_36ee1_row5_col11\" class=\"data row5 col11\" >0</td>\n",
              "      <td id=\"T_36ee1_row5_col12\" class=\"data row5 col12\" >0</td>\n",
              "      <td id=\"T_36ee1_row5_col13\" class=\"data row5 col13\" >0</td>\n",
              "      <td id=\"T_36ee1_row5_col14\" class=\"data row5 col14\" >0</td>\n",
              "      <td id=\"T_36ee1_row5_col15\" class=\"data row5 col15\" >0</td>\n",
              "      <td id=\"T_36ee1_row5_col16\" class=\"data row5 col16\" >0</td>\n",
              "      <td id=\"T_36ee1_row5_col17\" class=\"data row5 col17\" >0</td>\n",
              "      <td id=\"T_36ee1_row5_col18\" class=\"data row5 col18\" >0</td>\n",
              "      <td id=\"T_36ee1_row5_col19\" class=\"data row5 col19\" >0</td>\n",
              "      <td id=\"T_36ee1_row5_col20\" class=\"data row5 col20\" >0</td>\n",
              "      <td id=\"T_36ee1_row5_col21\" class=\"data row5 col21\" >0</td>\n",
              "      <td id=\"T_36ee1_row5_col22\" class=\"data row5 col22\" >0</td>\n",
              "      <td id=\"T_36ee1_row5_col23\" class=\"data row5 col23\" >0</td>\n",
              "      <td id=\"T_36ee1_row5_col24\" class=\"data row5 col24\" >0</td>\n",
              "      <td id=\"T_36ee1_row5_col25\" class=\"data row5 col25\" >0</td>\n",
              "      <td id=\"T_36ee1_row5_col26\" class=\"data row5 col26\" >0</td>\n",
              "      <td id=\"T_36ee1_row5_col27\" class=\"data row5 col27\" >0</td>\n",
              "    </tr>\n",
              "    <tr>\n",
              "      <th id=\"T_36ee1_level0_row6\" class=\"row_heading level0 row6\" >6</th>\n",
              "      <td id=\"T_36ee1_row6_col0\" class=\"data row6 col0\" >0</td>\n",
              "      <td id=\"T_36ee1_row6_col1\" class=\"data row6 col1\" >0</td>\n",
              "      <td id=\"T_36ee1_row6_col2\" class=\"data row6 col2\" >0</td>\n",
              "      <td id=\"T_36ee1_row6_col3\" class=\"data row6 col3\" >0</td>\n",
              "      <td id=\"T_36ee1_row6_col4\" class=\"data row6 col4\" >0</td>\n",
              "      <td id=\"T_36ee1_row6_col5\" class=\"data row6 col5\" >0</td>\n",
              "      <td id=\"T_36ee1_row6_col6\" class=\"data row6 col6\" >0</td>\n",
              "      <td id=\"T_36ee1_row6_col7\" class=\"data row6 col7\" >0</td>\n",
              "      <td id=\"T_36ee1_row6_col8\" class=\"data row6 col8\" >0</td>\n",
              "      <td id=\"T_36ee1_row6_col9\" class=\"data row6 col9\" >0</td>\n",
              "      <td id=\"T_36ee1_row6_col10\" class=\"data row6 col10\" >0</td>\n",
              "      <td id=\"T_36ee1_row6_col11\" class=\"data row6 col11\" >0</td>\n",
              "      <td id=\"T_36ee1_row6_col12\" class=\"data row6 col12\" >0</td>\n",
              "      <td id=\"T_36ee1_row6_col13\" class=\"data row6 col13\" >0</td>\n",
              "      <td id=\"T_36ee1_row6_col14\" class=\"data row6 col14\" >0</td>\n",
              "      <td id=\"T_36ee1_row6_col15\" class=\"data row6 col15\" >41</td>\n",
              "      <td id=\"T_36ee1_row6_col16\" class=\"data row6 col16\" >124</td>\n",
              "      <td id=\"T_36ee1_row6_col17\" class=\"data row6 col17\" >169</td>\n",
              "      <td id=\"T_36ee1_row6_col18\" class=\"data row6 col18\" >207</td>\n",
              "      <td id=\"T_36ee1_row6_col19\" class=\"data row6 col19\" >218</td>\n",
              "      <td id=\"T_36ee1_row6_col20\" class=\"data row6 col20\" >71</td>\n",
              "      <td id=\"T_36ee1_row6_col21\" class=\"data row6 col21\" >0</td>\n",
              "      <td id=\"T_36ee1_row6_col22\" class=\"data row6 col22\" >0</td>\n",
              "      <td id=\"T_36ee1_row6_col23\" class=\"data row6 col23\" >0</td>\n",
              "      <td id=\"T_36ee1_row6_col24\" class=\"data row6 col24\" >0</td>\n",
              "      <td id=\"T_36ee1_row6_col25\" class=\"data row6 col25\" >0</td>\n",
              "      <td id=\"T_36ee1_row6_col26\" class=\"data row6 col26\" >0</td>\n",
              "      <td id=\"T_36ee1_row6_col27\" class=\"data row6 col27\" >0</td>\n",
              "    </tr>\n",
              "    <tr>\n",
              "      <th id=\"T_36ee1_level0_row7\" class=\"row_heading level0 row7\" >7</th>\n",
              "      <td id=\"T_36ee1_row7_col0\" class=\"data row7 col0\" >0</td>\n",
              "      <td id=\"T_36ee1_row7_col1\" class=\"data row7 col1\" >0</td>\n",
              "      <td id=\"T_36ee1_row7_col2\" class=\"data row7 col2\" >0</td>\n",
              "      <td id=\"T_36ee1_row7_col3\" class=\"data row7 col3\" >0</td>\n",
              "      <td id=\"T_36ee1_row7_col4\" class=\"data row7 col4\" >0</td>\n",
              "      <td id=\"T_36ee1_row7_col5\" class=\"data row7 col5\" >0</td>\n",
              "      <td id=\"T_36ee1_row7_col6\" class=\"data row7 col6\" >0</td>\n",
              "      <td id=\"T_36ee1_row7_col7\" class=\"data row7 col7\" >0</td>\n",
              "      <td id=\"T_36ee1_row7_col8\" class=\"data row7 col8\" >0</td>\n",
              "      <td id=\"T_36ee1_row7_col9\" class=\"data row7 col9\" >0</td>\n",
              "      <td id=\"T_36ee1_row7_col10\" class=\"data row7 col10\" >0</td>\n",
              "      <td id=\"T_36ee1_row7_col11\" class=\"data row7 col11\" >0</td>\n",
              "      <td id=\"T_36ee1_row7_col12\" class=\"data row7 col12\" >43</td>\n",
              "      <td id=\"T_36ee1_row7_col13\" class=\"data row7 col13\" >153</td>\n",
              "      <td id=\"T_36ee1_row7_col14\" class=\"data row7 col14\" >238</td>\n",
              "      <td id=\"T_36ee1_row7_col15\" class=\"data row7 col15\" >253</td>\n",
              "      <td id=\"T_36ee1_row7_col16\" class=\"data row7 col16\" >254</td>\n",
              "      <td id=\"T_36ee1_row7_col17\" class=\"data row7 col17\" >254</td>\n",
              "      <td id=\"T_36ee1_row7_col18\" class=\"data row7 col18\" >228</td>\n",
              "      <td id=\"T_36ee1_row7_col19\" class=\"data row7 col19\" >254</td>\n",
              "      <td id=\"T_36ee1_row7_col20\" class=\"data row7 col20\" >150</td>\n",
              "      <td id=\"T_36ee1_row7_col21\" class=\"data row7 col21\" >0</td>\n",
              "      <td id=\"T_36ee1_row7_col22\" class=\"data row7 col22\" >0</td>\n",
              "      <td id=\"T_36ee1_row7_col23\" class=\"data row7 col23\" >0</td>\n",
              "      <td id=\"T_36ee1_row7_col24\" class=\"data row7 col24\" >0</td>\n",
              "      <td id=\"T_36ee1_row7_col25\" class=\"data row7 col25\" >0</td>\n",
              "      <td id=\"T_36ee1_row7_col26\" class=\"data row7 col26\" >0</td>\n",
              "      <td id=\"T_36ee1_row7_col27\" class=\"data row7 col27\" >0</td>\n",
              "    </tr>\n",
              "    <tr>\n",
              "      <th id=\"T_36ee1_level0_row8\" class=\"row_heading level0 row8\" >8</th>\n",
              "      <td id=\"T_36ee1_row8_col0\" class=\"data row8 col0\" >0</td>\n",
              "      <td id=\"T_36ee1_row8_col1\" class=\"data row8 col1\" >0</td>\n",
              "      <td id=\"T_36ee1_row8_col2\" class=\"data row8 col2\" >0</td>\n",
              "      <td id=\"T_36ee1_row8_col3\" class=\"data row8 col3\" >0</td>\n",
              "      <td id=\"T_36ee1_row8_col4\" class=\"data row8 col4\" >0</td>\n",
              "      <td id=\"T_36ee1_row8_col5\" class=\"data row8 col5\" >0</td>\n",
              "      <td id=\"T_36ee1_row8_col6\" class=\"data row8 col6\" >0</td>\n",
              "      <td id=\"T_36ee1_row8_col7\" class=\"data row8 col7\" >0</td>\n",
              "      <td id=\"T_36ee1_row8_col8\" class=\"data row8 col8\" >0</td>\n",
              "      <td id=\"T_36ee1_row8_col9\" class=\"data row8 col9\" >0</td>\n",
              "      <td id=\"T_36ee1_row8_col10\" class=\"data row8 col10\" >0</td>\n",
              "      <td id=\"T_36ee1_row8_col11\" class=\"data row8 col11\" >134</td>\n",
              "      <td id=\"T_36ee1_row8_col12\" class=\"data row8 col12\" >251</td>\n",
              "      <td id=\"T_36ee1_row8_col13\" class=\"data row8 col13\" >254</td>\n",
              "      <td id=\"T_36ee1_row8_col14\" class=\"data row8 col14\" >217</td>\n",
              "      <td id=\"T_36ee1_row8_col15\" class=\"data row8 col15\" >138</td>\n",
              "      <td id=\"T_36ee1_row8_col16\" class=\"data row8 col16\" >54</td>\n",
              "      <td id=\"T_36ee1_row8_col17\" class=\"data row8 col17\" >8</td>\n",
              "      <td id=\"T_36ee1_row8_col18\" class=\"data row8 col18\" >56</td>\n",
              "      <td id=\"T_36ee1_row8_col19\" class=\"data row8 col19\" >254</td>\n",
              "      <td id=\"T_36ee1_row8_col20\" class=\"data row8 col20\" >150</td>\n",
              "      <td id=\"T_36ee1_row8_col21\" class=\"data row8 col21\" >0</td>\n",
              "      <td id=\"T_36ee1_row8_col22\" class=\"data row8 col22\" >0</td>\n",
              "      <td id=\"T_36ee1_row8_col23\" class=\"data row8 col23\" >0</td>\n",
              "      <td id=\"T_36ee1_row8_col24\" class=\"data row8 col24\" >0</td>\n",
              "      <td id=\"T_36ee1_row8_col25\" class=\"data row8 col25\" >0</td>\n",
              "      <td id=\"T_36ee1_row8_col26\" class=\"data row8 col26\" >0</td>\n",
              "      <td id=\"T_36ee1_row8_col27\" class=\"data row8 col27\" >0</td>\n",
              "    </tr>\n",
              "    <tr>\n",
              "      <th id=\"T_36ee1_level0_row9\" class=\"row_heading level0 row9\" >9</th>\n",
              "      <td id=\"T_36ee1_row9_col0\" class=\"data row9 col0\" >0</td>\n",
              "      <td id=\"T_36ee1_row9_col1\" class=\"data row9 col1\" >0</td>\n",
              "      <td id=\"T_36ee1_row9_col2\" class=\"data row9 col2\" >0</td>\n",
              "      <td id=\"T_36ee1_row9_col3\" class=\"data row9 col3\" >0</td>\n",
              "      <td id=\"T_36ee1_row9_col4\" class=\"data row9 col4\" >0</td>\n",
              "      <td id=\"T_36ee1_row9_col5\" class=\"data row9 col5\" >0</td>\n",
              "      <td id=\"T_36ee1_row9_col6\" class=\"data row9 col6\" >0</td>\n",
              "      <td id=\"T_36ee1_row9_col7\" class=\"data row9 col7\" >0</td>\n",
              "      <td id=\"T_36ee1_row9_col8\" class=\"data row9 col8\" >0</td>\n",
              "      <td id=\"T_36ee1_row9_col9\" class=\"data row9 col9\" >18</td>\n",
              "      <td id=\"T_36ee1_row9_col10\" class=\"data row9 col10\" >199</td>\n",
              "      <td id=\"T_36ee1_row9_col11\" class=\"data row9 col11\" >253</td>\n",
              "      <td id=\"T_36ee1_row9_col12\" class=\"data row9 col12\" >217</td>\n",
              "      <td id=\"T_36ee1_row9_col13\" class=\"data row9 col13\" >65</td>\n",
              "      <td id=\"T_36ee1_row9_col14\" class=\"data row9 col14\" >6</td>\n",
              "      <td id=\"T_36ee1_row9_col15\" class=\"data row9 col15\" >0</td>\n",
              "      <td id=\"T_36ee1_row9_col16\" class=\"data row9 col16\" >0</td>\n",
              "      <td id=\"T_36ee1_row9_col17\" class=\"data row9 col17\" >32</td>\n",
              "      <td id=\"T_36ee1_row9_col18\" class=\"data row9 col18\" >180</td>\n",
              "      <td id=\"T_36ee1_row9_col19\" class=\"data row9 col19\" >254</td>\n",
              "      <td id=\"T_36ee1_row9_col20\" class=\"data row9 col20\" >155</td>\n",
              "      <td id=\"T_36ee1_row9_col21\" class=\"data row9 col21\" >70</td>\n",
              "      <td id=\"T_36ee1_row9_col22\" class=\"data row9 col22\" >20</td>\n",
              "      <td id=\"T_36ee1_row9_col23\" class=\"data row9 col23\" >0</td>\n",
              "      <td id=\"T_36ee1_row9_col24\" class=\"data row9 col24\" >0</td>\n",
              "      <td id=\"T_36ee1_row9_col25\" class=\"data row9 col25\" >0</td>\n",
              "      <td id=\"T_36ee1_row9_col26\" class=\"data row9 col26\" >0</td>\n",
              "      <td id=\"T_36ee1_row9_col27\" class=\"data row9 col27\" >0</td>\n",
              "    </tr>\n",
              "    <tr>\n",
              "      <th id=\"T_36ee1_level0_row10\" class=\"row_heading level0 row10\" >10</th>\n",
              "      <td id=\"T_36ee1_row10_col0\" class=\"data row10 col0\" >0</td>\n",
              "      <td id=\"T_36ee1_row10_col1\" class=\"data row10 col1\" >0</td>\n",
              "      <td id=\"T_36ee1_row10_col2\" class=\"data row10 col2\" >0</td>\n",
              "      <td id=\"T_36ee1_row10_col3\" class=\"data row10 col3\" >0</td>\n",
              "      <td id=\"T_36ee1_row10_col4\" class=\"data row10 col4\" >0</td>\n",
              "      <td id=\"T_36ee1_row10_col5\" class=\"data row10 col5\" >0</td>\n",
              "      <td id=\"T_36ee1_row10_col6\" class=\"data row10 col6\" >0</td>\n",
              "      <td id=\"T_36ee1_row10_col7\" class=\"data row10 col7\" >0</td>\n",
              "      <td id=\"T_36ee1_row10_col8\" class=\"data row10 col8\" >40</td>\n",
              "      <td id=\"T_36ee1_row10_col9\" class=\"data row10 col9\" >202</td>\n",
              "      <td id=\"T_36ee1_row10_col10\" class=\"data row10 col10\" >254</td>\n",
              "      <td id=\"T_36ee1_row10_col11\" class=\"data row10 col11\" >199</td>\n",
              "      <td id=\"T_36ee1_row10_col12\" class=\"data row10 col12\" >48</td>\n",
              "      <td id=\"T_36ee1_row10_col13\" class=\"data row10 col13\" >0</td>\n",
              "      <td id=\"T_36ee1_row10_col14\" class=\"data row10 col14\" >0</td>\n",
              "      <td id=\"T_36ee1_row10_col15\" class=\"data row10 col15\" >0</td>\n",
              "      <td id=\"T_36ee1_row10_col16\" class=\"data row10 col16\" >43</td>\n",
              "      <td id=\"T_36ee1_row10_col17\" class=\"data row10 col17\" >199</td>\n",
              "      <td id=\"T_36ee1_row10_col18\" class=\"data row10 col18\" >254</td>\n",
              "      <td id=\"T_36ee1_row10_col19\" class=\"data row10 col19\" >166</td>\n",
              "      <td id=\"T_36ee1_row10_col20\" class=\"data row10 col20\" >176</td>\n",
              "      <td id=\"T_36ee1_row10_col21\" class=\"data row10 col21\" >254</td>\n",
              "      <td id=\"T_36ee1_row10_col22\" class=\"data row10 col22\" >73</td>\n",
              "      <td id=\"T_36ee1_row10_col23\" class=\"data row10 col23\" >0</td>\n",
              "      <td id=\"T_36ee1_row10_col24\" class=\"data row10 col24\" >0</td>\n",
              "      <td id=\"T_36ee1_row10_col25\" class=\"data row10 col25\" >0</td>\n",
              "      <td id=\"T_36ee1_row10_col26\" class=\"data row10 col26\" >0</td>\n",
              "      <td id=\"T_36ee1_row10_col27\" class=\"data row10 col27\" >0</td>\n",
              "    </tr>\n",
              "    <tr>\n",
              "      <th id=\"T_36ee1_level0_row11\" class=\"row_heading level0 row11\" >11</th>\n",
              "      <td id=\"T_36ee1_row11_col0\" class=\"data row11 col0\" >0</td>\n",
              "      <td id=\"T_36ee1_row11_col1\" class=\"data row11 col1\" >0</td>\n",
              "      <td id=\"T_36ee1_row11_col2\" class=\"data row11 col2\" >0</td>\n",
              "      <td id=\"T_36ee1_row11_col3\" class=\"data row11 col3\" >0</td>\n",
              "      <td id=\"T_36ee1_row11_col4\" class=\"data row11 col4\" >0</td>\n",
              "      <td id=\"T_36ee1_row11_col5\" class=\"data row11 col5\" >0</td>\n",
              "      <td id=\"T_36ee1_row11_col6\" class=\"data row11 col6\" >0</td>\n",
              "      <td id=\"T_36ee1_row11_col7\" class=\"data row11 col7\" >0</td>\n",
              "      <td id=\"T_36ee1_row11_col8\" class=\"data row11 col8\" >176</td>\n",
              "      <td id=\"T_36ee1_row11_col9\" class=\"data row11 col9\" >254</td>\n",
              "      <td id=\"T_36ee1_row11_col10\" class=\"data row11 col10\" >169</td>\n",
              "      <td id=\"T_36ee1_row11_col11\" class=\"data row11 col11\" >18</td>\n",
              "      <td id=\"T_36ee1_row11_col12\" class=\"data row11 col12\" >0</td>\n",
              "      <td id=\"T_36ee1_row11_col13\" class=\"data row11 col13\" >0</td>\n",
              "      <td id=\"T_36ee1_row11_col14\" class=\"data row11 col14\" >11</td>\n",
              "      <td id=\"T_36ee1_row11_col15\" class=\"data row11 col15\" >104</td>\n",
              "      <td id=\"T_36ee1_row11_col16\" class=\"data row11 col16\" >228</td>\n",
              "      <td id=\"T_36ee1_row11_col17\" class=\"data row11 col17\" >227</td>\n",
              "      <td id=\"T_36ee1_row11_col18\" class=\"data row11 col18\" >95</td>\n",
              "      <td id=\"T_36ee1_row11_col19\" class=\"data row11 col19\" >170</td>\n",
              "      <td id=\"T_36ee1_row11_col20\" class=\"data row11 col20\" >254</td>\n",
              "      <td id=\"T_36ee1_row11_col21\" class=\"data row11 col21\" >192</td>\n",
              "      <td id=\"T_36ee1_row11_col22\" class=\"data row11 col22\" >6</td>\n",
              "      <td id=\"T_36ee1_row11_col23\" class=\"data row11 col23\" >0</td>\n",
              "      <td id=\"T_36ee1_row11_col24\" class=\"data row11 col24\" >0</td>\n",
              "      <td id=\"T_36ee1_row11_col25\" class=\"data row11 col25\" >0</td>\n",
              "      <td id=\"T_36ee1_row11_col26\" class=\"data row11 col26\" >0</td>\n",
              "      <td id=\"T_36ee1_row11_col27\" class=\"data row11 col27\" >0</td>\n",
              "    </tr>\n",
              "    <tr>\n",
              "      <th id=\"T_36ee1_level0_row12\" class=\"row_heading level0 row12\" >12</th>\n",
              "      <td id=\"T_36ee1_row12_col0\" class=\"data row12 col0\" >0</td>\n",
              "      <td id=\"T_36ee1_row12_col1\" class=\"data row12 col1\" >0</td>\n",
              "      <td id=\"T_36ee1_row12_col2\" class=\"data row12 col2\" >0</td>\n",
              "      <td id=\"T_36ee1_row12_col3\" class=\"data row12 col3\" >0</td>\n",
              "      <td id=\"T_36ee1_row12_col4\" class=\"data row12 col4\" >0</td>\n",
              "      <td id=\"T_36ee1_row12_col5\" class=\"data row12 col5\" >0</td>\n",
              "      <td id=\"T_36ee1_row12_col6\" class=\"data row12 col6\" >0</td>\n",
              "      <td id=\"T_36ee1_row12_col7\" class=\"data row12 col7\" >86</td>\n",
              "      <td id=\"T_36ee1_row12_col8\" class=\"data row12 col8\" >253</td>\n",
              "      <td id=\"T_36ee1_row12_col9\" class=\"data row12 col9\" >199</td>\n",
              "      <td id=\"T_36ee1_row12_col10\" class=\"data row12 col10\" >18</td>\n",
              "      <td id=\"T_36ee1_row12_col11\" class=\"data row12 col11\" >0</td>\n",
              "      <td id=\"T_36ee1_row12_col12\" class=\"data row12 col12\" >0</td>\n",
              "      <td id=\"T_36ee1_row12_col13\" class=\"data row12 col13\" >27</td>\n",
              "      <td id=\"T_36ee1_row12_col14\" class=\"data row12 col14\" >221</td>\n",
              "      <td id=\"T_36ee1_row12_col15\" class=\"data row12 col15\" >254</td>\n",
              "      <td id=\"T_36ee1_row12_col16\" class=\"data row12 col16\" >167</td>\n",
              "      <td id=\"T_36ee1_row12_col17\" class=\"data row12 col17\" >38</td>\n",
              "      <td id=\"T_36ee1_row12_col18\" class=\"data row12 col18\" >165</td>\n",
              "      <td id=\"T_36ee1_row12_col19\" class=\"data row12 col19\" >254</td>\n",
              "      <td id=\"T_36ee1_row12_col20\" class=\"data row12 col20\" >251</td>\n",
              "      <td id=\"T_36ee1_row12_col21\" class=\"data row12 col21\" >92</td>\n",
              "      <td id=\"T_36ee1_row12_col22\" class=\"data row12 col22\" >0</td>\n",
              "      <td id=\"T_36ee1_row12_col23\" class=\"data row12 col23\" >0</td>\n",
              "      <td id=\"T_36ee1_row12_col24\" class=\"data row12 col24\" >0</td>\n",
              "      <td id=\"T_36ee1_row12_col25\" class=\"data row12 col25\" >0</td>\n",
              "      <td id=\"T_36ee1_row12_col26\" class=\"data row12 col26\" >0</td>\n",
              "      <td id=\"T_36ee1_row12_col27\" class=\"data row12 col27\" >0</td>\n",
              "    </tr>\n",
              "    <tr>\n",
              "      <th id=\"T_36ee1_level0_row13\" class=\"row_heading level0 row13\" >13</th>\n",
              "      <td id=\"T_36ee1_row13_col0\" class=\"data row13 col0\" >0</td>\n",
              "      <td id=\"T_36ee1_row13_col1\" class=\"data row13 col1\" >0</td>\n",
              "      <td id=\"T_36ee1_row13_col2\" class=\"data row13 col2\" >0</td>\n",
              "      <td id=\"T_36ee1_row13_col3\" class=\"data row13 col3\" >0</td>\n",
              "      <td id=\"T_36ee1_row13_col4\" class=\"data row13 col4\" >0</td>\n",
              "      <td id=\"T_36ee1_row13_col5\" class=\"data row13 col5\" >0</td>\n",
              "      <td id=\"T_36ee1_row13_col6\" class=\"data row13 col6\" >0</td>\n",
              "      <td id=\"T_36ee1_row13_col7\" class=\"data row13 col7\" >160</td>\n",
              "      <td id=\"T_36ee1_row13_col8\" class=\"data row13 col8\" >254</td>\n",
              "      <td id=\"T_36ee1_row13_col9\" class=\"data row13 col9\" >104</td>\n",
              "      <td id=\"T_36ee1_row13_col10\" class=\"data row13 col10\" >0</td>\n",
              "      <td id=\"T_36ee1_row13_col11\" class=\"data row13 col11\" >0</td>\n",
              "      <td id=\"T_36ee1_row13_col12\" class=\"data row13 col12\" >0</td>\n",
              "      <td id=\"T_36ee1_row13_col13\" class=\"data row13 col13\" >22</td>\n",
              "      <td id=\"T_36ee1_row13_col14\" class=\"data row13 col14\" >117</td>\n",
              "      <td id=\"T_36ee1_row13_col15\" class=\"data row13 col15\" >103</td>\n",
              "      <td id=\"T_36ee1_row13_col16\" class=\"data row13 col16\" >90</td>\n",
              "      <td id=\"T_36ee1_row13_col17\" class=\"data row13 col17\" >211</td>\n",
              "      <td id=\"T_36ee1_row13_col18\" class=\"data row13 col18\" >254</td>\n",
              "      <td id=\"T_36ee1_row13_col19\" class=\"data row13 col19\" >254</td>\n",
              "      <td id=\"T_36ee1_row13_col20\" class=\"data row13 col20\" >143</td>\n",
              "      <td id=\"T_36ee1_row13_col21\" class=\"data row13 col21\" >0</td>\n",
              "      <td id=\"T_36ee1_row13_col22\" class=\"data row13 col22\" >0</td>\n",
              "      <td id=\"T_36ee1_row13_col23\" class=\"data row13 col23\" >0</td>\n",
              "      <td id=\"T_36ee1_row13_col24\" class=\"data row13 col24\" >0</td>\n",
              "      <td id=\"T_36ee1_row13_col25\" class=\"data row13 col25\" >0</td>\n",
              "      <td id=\"T_36ee1_row13_col26\" class=\"data row13 col26\" >0</td>\n",
              "      <td id=\"T_36ee1_row13_col27\" class=\"data row13 col27\" >0</td>\n",
              "    </tr>\n",
              "    <tr>\n",
              "      <th id=\"T_36ee1_level0_row14\" class=\"row_heading level0 row14\" >14</th>\n",
              "      <td id=\"T_36ee1_row14_col0\" class=\"data row14 col0\" >0</td>\n",
              "      <td id=\"T_36ee1_row14_col1\" class=\"data row14 col1\" >0</td>\n",
              "      <td id=\"T_36ee1_row14_col2\" class=\"data row14 col2\" >0</td>\n",
              "      <td id=\"T_36ee1_row14_col3\" class=\"data row14 col3\" >0</td>\n",
              "      <td id=\"T_36ee1_row14_col4\" class=\"data row14 col4\" >0</td>\n",
              "      <td id=\"T_36ee1_row14_col5\" class=\"data row14 col5\" >0</td>\n",
              "      <td id=\"T_36ee1_row14_col6\" class=\"data row14 col6\" >0</td>\n",
              "      <td id=\"T_36ee1_row14_col7\" class=\"data row14 col7\" >160</td>\n",
              "      <td id=\"T_36ee1_row14_col8\" class=\"data row14 col8\" >254</td>\n",
              "      <td id=\"T_36ee1_row14_col9\" class=\"data row14 col9\" >120</td>\n",
              "      <td id=\"T_36ee1_row14_col10\" class=\"data row14 col10\" >0</td>\n",
              "      <td id=\"T_36ee1_row14_col11\" class=\"data row14 col11\" >43</td>\n",
              "      <td id=\"T_36ee1_row14_col12\" class=\"data row14 col12\" >48</td>\n",
              "      <td id=\"T_36ee1_row14_col13\" class=\"data row14 col13\" >48</td>\n",
              "      <td id=\"T_36ee1_row14_col14\" class=\"data row14 col14\" >122</td>\n",
              "      <td id=\"T_36ee1_row14_col15\" class=\"data row14 col15\" >206</td>\n",
              "      <td id=\"T_36ee1_row14_col16\" class=\"data row14 col16\" >248</td>\n",
              "      <td id=\"T_36ee1_row14_col17\" class=\"data row14 col17\" >254</td>\n",
              "      <td id=\"T_36ee1_row14_col18\" class=\"data row14 col18\" >254</td>\n",
              "      <td id=\"T_36ee1_row14_col19\" class=\"data row14 col19\" >174</td>\n",
              "      <td id=\"T_36ee1_row14_col20\" class=\"data row14 col20\" >9</td>\n",
              "      <td id=\"T_36ee1_row14_col21\" class=\"data row14 col21\" >0</td>\n",
              "      <td id=\"T_36ee1_row14_col22\" class=\"data row14 col22\" >0</td>\n",
              "      <td id=\"T_36ee1_row14_col23\" class=\"data row14 col23\" >0</td>\n",
              "      <td id=\"T_36ee1_row14_col24\" class=\"data row14 col24\" >0</td>\n",
              "      <td id=\"T_36ee1_row14_col25\" class=\"data row14 col25\" >0</td>\n",
              "      <td id=\"T_36ee1_row14_col26\" class=\"data row14 col26\" >0</td>\n",
              "      <td id=\"T_36ee1_row14_col27\" class=\"data row14 col27\" >0</td>\n",
              "    </tr>\n",
              "    <tr>\n",
              "      <th id=\"T_36ee1_level0_row15\" class=\"row_heading level0 row15\" >15</th>\n",
              "      <td id=\"T_36ee1_row15_col0\" class=\"data row15 col0\" >0</td>\n",
              "      <td id=\"T_36ee1_row15_col1\" class=\"data row15 col1\" >0</td>\n",
              "      <td id=\"T_36ee1_row15_col2\" class=\"data row15 col2\" >0</td>\n",
              "      <td id=\"T_36ee1_row15_col3\" class=\"data row15 col3\" >0</td>\n",
              "      <td id=\"T_36ee1_row15_col4\" class=\"data row15 col4\" >0</td>\n",
              "      <td id=\"T_36ee1_row15_col5\" class=\"data row15 col5\" >0</td>\n",
              "      <td id=\"T_36ee1_row15_col6\" class=\"data row15 col6\" >0</td>\n",
              "      <td id=\"T_36ee1_row15_col7\" class=\"data row15 col7\" >145</td>\n",
              "      <td id=\"T_36ee1_row15_col8\" class=\"data row15 col8\" >254</td>\n",
              "      <td id=\"T_36ee1_row15_col9\" class=\"data row15 col9\" >245</td>\n",
              "      <td id=\"T_36ee1_row15_col10\" class=\"data row15 col10\" >216</td>\n",
              "      <td id=\"T_36ee1_row15_col11\" class=\"data row15 col11\" >251</td>\n",
              "      <td id=\"T_36ee1_row15_col12\" class=\"data row15 col12\" >254</td>\n",
              "      <td id=\"T_36ee1_row15_col13\" class=\"data row15 col13\" >254</td>\n",
              "      <td id=\"T_36ee1_row15_col14\" class=\"data row15 col14\" >254</td>\n",
              "      <td id=\"T_36ee1_row15_col15\" class=\"data row15 col15\" >254</td>\n",
              "      <td id=\"T_36ee1_row15_col16\" class=\"data row15 col16\" >254</td>\n",
              "      <td id=\"T_36ee1_row15_col17\" class=\"data row15 col17\" >254</td>\n",
              "      <td id=\"T_36ee1_row15_col18\" class=\"data row15 col18\" >173</td>\n",
              "      <td id=\"T_36ee1_row15_col19\" class=\"data row15 col19\" >9</td>\n",
              "      <td id=\"T_36ee1_row15_col20\" class=\"data row15 col20\" >0</td>\n",
              "      <td id=\"T_36ee1_row15_col21\" class=\"data row15 col21\" >0</td>\n",
              "      <td id=\"T_36ee1_row15_col22\" class=\"data row15 col22\" >0</td>\n",
              "      <td id=\"T_36ee1_row15_col23\" class=\"data row15 col23\" >0</td>\n",
              "      <td id=\"T_36ee1_row15_col24\" class=\"data row15 col24\" >0</td>\n",
              "      <td id=\"T_36ee1_row15_col25\" class=\"data row15 col25\" >0</td>\n",
              "      <td id=\"T_36ee1_row15_col26\" class=\"data row15 col26\" >0</td>\n",
              "      <td id=\"T_36ee1_row15_col27\" class=\"data row15 col27\" >0</td>\n",
              "    </tr>\n",
              "    <tr>\n",
              "      <th id=\"T_36ee1_level0_row16\" class=\"row_heading level0 row16\" >16</th>\n",
              "      <td id=\"T_36ee1_row16_col0\" class=\"data row16 col0\" >0</td>\n",
              "      <td id=\"T_36ee1_row16_col1\" class=\"data row16 col1\" >0</td>\n",
              "      <td id=\"T_36ee1_row16_col2\" class=\"data row16 col2\" >0</td>\n",
              "      <td id=\"T_36ee1_row16_col3\" class=\"data row16 col3\" >0</td>\n",
              "      <td id=\"T_36ee1_row16_col4\" class=\"data row16 col4\" >0</td>\n",
              "      <td id=\"T_36ee1_row16_col5\" class=\"data row16 col5\" >0</td>\n",
              "      <td id=\"T_36ee1_row16_col6\" class=\"data row16 col6\" >0</td>\n",
              "      <td id=\"T_36ee1_row16_col7\" class=\"data row16 col7\" >13</td>\n",
              "      <td id=\"T_36ee1_row16_col8\" class=\"data row16 col8\" >148</td>\n",
              "      <td id=\"T_36ee1_row16_col9\" class=\"data row16 col9\" >215</td>\n",
              "      <td id=\"T_36ee1_row16_col10\" class=\"data row16 col10\" >215</td>\n",
              "      <td id=\"T_36ee1_row16_col11\" class=\"data row16 col11\" >215</td>\n",
              "      <td id=\"T_36ee1_row16_col12\" class=\"data row16 col12\" >139</td>\n",
              "      <td id=\"T_36ee1_row16_col13\" class=\"data row16 col13\" >129</td>\n",
              "      <td id=\"T_36ee1_row16_col14\" class=\"data row16 col14\" >120</td>\n",
              "      <td id=\"T_36ee1_row16_col15\" class=\"data row16 col15\" >240</td>\n",
              "      <td id=\"T_36ee1_row16_col16\" class=\"data row16 col16\" >254</td>\n",
              "      <td id=\"T_36ee1_row16_col17\" class=\"data row16 col17\" >144</td>\n",
              "      <td id=\"T_36ee1_row16_col18\" class=\"data row16 col18\" >10</td>\n",
              "      <td id=\"T_36ee1_row16_col19\" class=\"data row16 col19\" >0</td>\n",
              "      <td id=\"T_36ee1_row16_col20\" class=\"data row16 col20\" >0</td>\n",
              "      <td id=\"T_36ee1_row16_col21\" class=\"data row16 col21\" >0</td>\n",
              "      <td id=\"T_36ee1_row16_col22\" class=\"data row16 col22\" >0</td>\n",
              "      <td id=\"T_36ee1_row16_col23\" class=\"data row16 col23\" >0</td>\n",
              "      <td id=\"T_36ee1_row16_col24\" class=\"data row16 col24\" >0</td>\n",
              "      <td id=\"T_36ee1_row16_col25\" class=\"data row16 col25\" >0</td>\n",
              "      <td id=\"T_36ee1_row16_col26\" class=\"data row16 col26\" >0</td>\n",
              "      <td id=\"T_36ee1_row16_col27\" class=\"data row16 col27\" >0</td>\n",
              "    </tr>\n",
              "    <tr>\n",
              "      <th id=\"T_36ee1_level0_row17\" class=\"row_heading level0 row17\" >17</th>\n",
              "      <td id=\"T_36ee1_row17_col0\" class=\"data row17 col0\" >0</td>\n",
              "      <td id=\"T_36ee1_row17_col1\" class=\"data row17 col1\" >0</td>\n",
              "      <td id=\"T_36ee1_row17_col2\" class=\"data row17 col2\" >0</td>\n",
              "      <td id=\"T_36ee1_row17_col3\" class=\"data row17 col3\" >0</td>\n",
              "      <td id=\"T_36ee1_row17_col4\" class=\"data row17 col4\" >0</td>\n",
              "      <td id=\"T_36ee1_row17_col5\" class=\"data row17 col5\" >0</td>\n",
              "      <td id=\"T_36ee1_row17_col6\" class=\"data row17 col6\" >0</td>\n",
              "      <td id=\"T_36ee1_row17_col7\" class=\"data row17 col7\" >0</td>\n",
              "      <td id=\"T_36ee1_row17_col8\" class=\"data row17 col8\" >0</td>\n",
              "      <td id=\"T_36ee1_row17_col9\" class=\"data row17 col9\" >0</td>\n",
              "      <td id=\"T_36ee1_row17_col10\" class=\"data row17 col10\" >0</td>\n",
              "      <td id=\"T_36ee1_row17_col11\" class=\"data row17 col11\" >0</td>\n",
              "      <td id=\"T_36ee1_row17_col12\" class=\"data row17 col12\" >0</td>\n",
              "      <td id=\"T_36ee1_row17_col13\" class=\"data row17 col13\" >19</td>\n",
              "      <td id=\"T_36ee1_row17_col14\" class=\"data row17 col14\" >176</td>\n",
              "      <td id=\"T_36ee1_row17_col15\" class=\"data row17 col15\" >254</td>\n",
              "      <td id=\"T_36ee1_row17_col16\" class=\"data row17 col16\" >144</td>\n",
              "      <td id=\"T_36ee1_row17_col17\" class=\"data row17 col17\" >10</td>\n",
              "      <td id=\"T_36ee1_row17_col18\" class=\"data row17 col18\" >0</td>\n",
              "      <td id=\"T_36ee1_row17_col19\" class=\"data row17 col19\" >0</td>\n",
              "      <td id=\"T_36ee1_row17_col20\" class=\"data row17 col20\" >0</td>\n",
              "      <td id=\"T_36ee1_row17_col21\" class=\"data row17 col21\" >0</td>\n",
              "      <td id=\"T_36ee1_row17_col22\" class=\"data row17 col22\" >0</td>\n",
              "      <td id=\"T_36ee1_row17_col23\" class=\"data row17 col23\" >0</td>\n",
              "      <td id=\"T_36ee1_row17_col24\" class=\"data row17 col24\" >0</td>\n",
              "      <td id=\"T_36ee1_row17_col25\" class=\"data row17 col25\" >0</td>\n",
              "      <td id=\"T_36ee1_row17_col26\" class=\"data row17 col26\" >0</td>\n",
              "      <td id=\"T_36ee1_row17_col27\" class=\"data row17 col27\" >0</td>\n",
              "    </tr>\n",
              "    <tr>\n",
              "      <th id=\"T_36ee1_level0_row18\" class=\"row_heading level0 row18\" >18</th>\n",
              "      <td id=\"T_36ee1_row18_col0\" class=\"data row18 col0\" >0</td>\n",
              "      <td id=\"T_36ee1_row18_col1\" class=\"data row18 col1\" >0</td>\n",
              "      <td id=\"T_36ee1_row18_col2\" class=\"data row18 col2\" >0</td>\n",
              "      <td id=\"T_36ee1_row18_col3\" class=\"data row18 col3\" >0</td>\n",
              "      <td id=\"T_36ee1_row18_col4\" class=\"data row18 col4\" >0</td>\n",
              "      <td id=\"T_36ee1_row18_col5\" class=\"data row18 col5\" >0</td>\n",
              "      <td id=\"T_36ee1_row18_col6\" class=\"data row18 col6\" >0</td>\n",
              "      <td id=\"T_36ee1_row18_col7\" class=\"data row18 col7\" >0</td>\n",
              "      <td id=\"T_36ee1_row18_col8\" class=\"data row18 col8\" >0</td>\n",
              "      <td id=\"T_36ee1_row18_col9\" class=\"data row18 col9\" >0</td>\n",
              "      <td id=\"T_36ee1_row18_col10\" class=\"data row18 col10\" >0</td>\n",
              "      <td id=\"T_36ee1_row18_col11\" class=\"data row18 col11\" >0</td>\n",
              "      <td id=\"T_36ee1_row18_col12\" class=\"data row18 col12\" >35</td>\n",
              "      <td id=\"T_36ee1_row18_col13\" class=\"data row18 col13\" >219</td>\n",
              "      <td id=\"T_36ee1_row18_col14\" class=\"data row18 col14\" >254</td>\n",
              "      <td id=\"T_36ee1_row18_col15\" class=\"data row18 col15\" >197</td>\n",
              "      <td id=\"T_36ee1_row18_col16\" class=\"data row18 col16\" >26</td>\n",
              "      <td id=\"T_36ee1_row18_col17\" class=\"data row18 col17\" >0</td>\n",
              "      <td id=\"T_36ee1_row18_col18\" class=\"data row18 col18\" >0</td>\n",
              "      <td id=\"T_36ee1_row18_col19\" class=\"data row18 col19\" >0</td>\n",
              "      <td id=\"T_36ee1_row18_col20\" class=\"data row18 col20\" >0</td>\n",
              "      <td id=\"T_36ee1_row18_col21\" class=\"data row18 col21\" >0</td>\n",
              "      <td id=\"T_36ee1_row18_col22\" class=\"data row18 col22\" >0</td>\n",
              "      <td id=\"T_36ee1_row18_col23\" class=\"data row18 col23\" >0</td>\n",
              "      <td id=\"T_36ee1_row18_col24\" class=\"data row18 col24\" >0</td>\n",
              "      <td id=\"T_36ee1_row18_col25\" class=\"data row18 col25\" >0</td>\n",
              "      <td id=\"T_36ee1_row18_col26\" class=\"data row18 col26\" >0</td>\n",
              "      <td id=\"T_36ee1_row18_col27\" class=\"data row18 col27\" >0</td>\n",
              "    </tr>\n",
              "    <tr>\n",
              "      <th id=\"T_36ee1_level0_row19\" class=\"row_heading level0 row19\" >19</th>\n",
              "      <td id=\"T_36ee1_row19_col0\" class=\"data row19 col0\" >0</td>\n",
              "      <td id=\"T_36ee1_row19_col1\" class=\"data row19 col1\" >0</td>\n",
              "      <td id=\"T_36ee1_row19_col2\" class=\"data row19 col2\" >0</td>\n",
              "      <td id=\"T_36ee1_row19_col3\" class=\"data row19 col3\" >0</td>\n",
              "      <td id=\"T_36ee1_row19_col4\" class=\"data row19 col4\" >0</td>\n",
              "      <td id=\"T_36ee1_row19_col5\" class=\"data row19 col5\" >0</td>\n",
              "      <td id=\"T_36ee1_row19_col6\" class=\"data row19 col6\" >0</td>\n",
              "      <td id=\"T_36ee1_row19_col7\" class=\"data row19 col7\" >0</td>\n",
              "      <td id=\"T_36ee1_row19_col8\" class=\"data row19 col8\" >0</td>\n",
              "      <td id=\"T_36ee1_row19_col9\" class=\"data row19 col9\" >0</td>\n",
              "      <td id=\"T_36ee1_row19_col10\" class=\"data row19 col10\" >0</td>\n",
              "      <td id=\"T_36ee1_row19_col11\" class=\"data row19 col11\" >34</td>\n",
              "      <td id=\"T_36ee1_row19_col12\" class=\"data row19 col12\" >219</td>\n",
              "      <td id=\"T_36ee1_row19_col13\" class=\"data row19 col13\" >254</td>\n",
              "      <td id=\"T_36ee1_row19_col14\" class=\"data row19 col14\" >188</td>\n",
              "      <td id=\"T_36ee1_row19_col15\" class=\"data row19 col15\" >43</td>\n",
              "      <td id=\"T_36ee1_row19_col16\" class=\"data row19 col16\" >0</td>\n",
              "      <td id=\"T_36ee1_row19_col17\" class=\"data row19 col17\" >0</td>\n",
              "      <td id=\"T_36ee1_row19_col18\" class=\"data row19 col18\" >0</td>\n",
              "      <td id=\"T_36ee1_row19_col19\" class=\"data row19 col19\" >0</td>\n",
              "      <td id=\"T_36ee1_row19_col20\" class=\"data row19 col20\" >0</td>\n",
              "      <td id=\"T_36ee1_row19_col21\" class=\"data row19 col21\" >0</td>\n",
              "      <td id=\"T_36ee1_row19_col22\" class=\"data row19 col22\" >0</td>\n",
              "      <td id=\"T_36ee1_row19_col23\" class=\"data row19 col23\" >0</td>\n",
              "      <td id=\"T_36ee1_row19_col24\" class=\"data row19 col24\" >0</td>\n",
              "      <td id=\"T_36ee1_row19_col25\" class=\"data row19 col25\" >0</td>\n",
              "      <td id=\"T_36ee1_row19_col26\" class=\"data row19 col26\" >0</td>\n",
              "      <td id=\"T_36ee1_row19_col27\" class=\"data row19 col27\" >0</td>\n",
              "    </tr>\n",
              "    <tr>\n",
              "      <th id=\"T_36ee1_level0_row20\" class=\"row_heading level0 row20\" >20</th>\n",
              "      <td id=\"T_36ee1_row20_col0\" class=\"data row20 col0\" >0</td>\n",
              "      <td id=\"T_36ee1_row20_col1\" class=\"data row20 col1\" >0</td>\n",
              "      <td id=\"T_36ee1_row20_col2\" class=\"data row20 col2\" >0</td>\n",
              "      <td id=\"T_36ee1_row20_col3\" class=\"data row20 col3\" >0</td>\n",
              "      <td id=\"T_36ee1_row20_col4\" class=\"data row20 col4\" >0</td>\n",
              "      <td id=\"T_36ee1_row20_col5\" class=\"data row20 col5\" >0</td>\n",
              "      <td id=\"T_36ee1_row20_col6\" class=\"data row20 col6\" >0</td>\n",
              "      <td id=\"T_36ee1_row20_col7\" class=\"data row20 col7\" >0</td>\n",
              "      <td id=\"T_36ee1_row20_col8\" class=\"data row20 col8\" >0</td>\n",
              "      <td id=\"T_36ee1_row20_col9\" class=\"data row20 col9\" >0</td>\n",
              "      <td id=\"T_36ee1_row20_col10\" class=\"data row20 col10\" >6</td>\n",
              "      <td id=\"T_36ee1_row20_col11\" class=\"data row20 col11\" >182</td>\n",
              "      <td id=\"T_36ee1_row20_col12\" class=\"data row20 col12\" >254</td>\n",
              "      <td id=\"T_36ee1_row20_col13\" class=\"data row20 col13\" >174</td>\n",
              "      <td id=\"T_36ee1_row20_col14\" class=\"data row20 col14\" >9</td>\n",
              "      <td id=\"T_36ee1_row20_col15\" class=\"data row20 col15\" >0</td>\n",
              "      <td id=\"T_36ee1_row20_col16\" class=\"data row20 col16\" >0</td>\n",
              "      <td id=\"T_36ee1_row20_col17\" class=\"data row20 col17\" >0</td>\n",
              "      <td id=\"T_36ee1_row20_col18\" class=\"data row20 col18\" >0</td>\n",
              "      <td id=\"T_36ee1_row20_col19\" class=\"data row20 col19\" >0</td>\n",
              "      <td id=\"T_36ee1_row20_col20\" class=\"data row20 col20\" >0</td>\n",
              "      <td id=\"T_36ee1_row20_col21\" class=\"data row20 col21\" >0</td>\n",
              "      <td id=\"T_36ee1_row20_col22\" class=\"data row20 col22\" >0</td>\n",
              "      <td id=\"T_36ee1_row20_col23\" class=\"data row20 col23\" >0</td>\n",
              "      <td id=\"T_36ee1_row20_col24\" class=\"data row20 col24\" >0</td>\n",
              "      <td id=\"T_36ee1_row20_col25\" class=\"data row20 col25\" >0</td>\n",
              "      <td id=\"T_36ee1_row20_col26\" class=\"data row20 col26\" >0</td>\n",
              "      <td id=\"T_36ee1_row20_col27\" class=\"data row20 col27\" >0</td>\n",
              "    </tr>\n",
              "    <tr>\n",
              "      <th id=\"T_36ee1_level0_row21\" class=\"row_heading level0 row21\" >21</th>\n",
              "      <td id=\"T_36ee1_row21_col0\" class=\"data row21 col0\" >0</td>\n",
              "      <td id=\"T_36ee1_row21_col1\" class=\"data row21 col1\" >0</td>\n",
              "      <td id=\"T_36ee1_row21_col2\" class=\"data row21 col2\" >0</td>\n",
              "      <td id=\"T_36ee1_row21_col3\" class=\"data row21 col3\" >0</td>\n",
              "      <td id=\"T_36ee1_row21_col4\" class=\"data row21 col4\" >0</td>\n",
              "      <td id=\"T_36ee1_row21_col5\" class=\"data row21 col5\" >0</td>\n",
              "      <td id=\"T_36ee1_row21_col6\" class=\"data row21 col6\" >0</td>\n",
              "      <td id=\"T_36ee1_row21_col7\" class=\"data row21 col7\" >0</td>\n",
              "      <td id=\"T_36ee1_row21_col8\" class=\"data row21 col8\" >0</td>\n",
              "      <td id=\"T_36ee1_row21_col9\" class=\"data row21 col9\" >5</td>\n",
              "      <td id=\"T_36ee1_row21_col10\" class=\"data row21 col10\" >162</td>\n",
              "      <td id=\"T_36ee1_row21_col11\" class=\"data row21 col11\" >254</td>\n",
              "      <td id=\"T_36ee1_row21_col12\" class=\"data row21 col12\" >180</td>\n",
              "      <td id=\"T_36ee1_row21_col13\" class=\"data row21 col13\" >9</td>\n",
              "      <td id=\"T_36ee1_row21_col14\" class=\"data row21 col14\" >0</td>\n",
              "      <td id=\"T_36ee1_row21_col15\" class=\"data row21 col15\" >0</td>\n",
              "      <td id=\"T_36ee1_row21_col16\" class=\"data row21 col16\" >0</td>\n",
              "      <td id=\"T_36ee1_row21_col17\" class=\"data row21 col17\" >0</td>\n",
              "      <td id=\"T_36ee1_row21_col18\" class=\"data row21 col18\" >0</td>\n",
              "      <td id=\"T_36ee1_row21_col19\" class=\"data row21 col19\" >0</td>\n",
              "      <td id=\"T_36ee1_row21_col20\" class=\"data row21 col20\" >0</td>\n",
              "      <td id=\"T_36ee1_row21_col21\" class=\"data row21 col21\" >0</td>\n",
              "      <td id=\"T_36ee1_row21_col22\" class=\"data row21 col22\" >0</td>\n",
              "      <td id=\"T_36ee1_row21_col23\" class=\"data row21 col23\" >0</td>\n",
              "      <td id=\"T_36ee1_row21_col24\" class=\"data row21 col24\" >0</td>\n",
              "      <td id=\"T_36ee1_row21_col25\" class=\"data row21 col25\" >0</td>\n",
              "      <td id=\"T_36ee1_row21_col26\" class=\"data row21 col26\" >0</td>\n",
              "      <td id=\"T_36ee1_row21_col27\" class=\"data row21 col27\" >0</td>\n",
              "    </tr>\n",
              "    <tr>\n",
              "      <th id=\"T_36ee1_level0_row22\" class=\"row_heading level0 row22\" >22</th>\n",
              "      <td id=\"T_36ee1_row22_col0\" class=\"data row22 col0\" >0</td>\n",
              "      <td id=\"T_36ee1_row22_col1\" class=\"data row22 col1\" >0</td>\n",
              "      <td id=\"T_36ee1_row22_col2\" class=\"data row22 col2\" >0</td>\n",
              "      <td id=\"T_36ee1_row22_col3\" class=\"data row22 col3\" >0</td>\n",
              "      <td id=\"T_36ee1_row22_col4\" class=\"data row22 col4\" >0</td>\n",
              "      <td id=\"T_36ee1_row22_col5\" class=\"data row22 col5\" >0</td>\n",
              "      <td id=\"T_36ee1_row22_col6\" class=\"data row22 col6\" >0</td>\n",
              "      <td id=\"T_36ee1_row22_col7\" class=\"data row22 col7\" >0</td>\n",
              "      <td id=\"T_36ee1_row22_col8\" class=\"data row22 col8\" >0</td>\n",
              "      <td id=\"T_36ee1_row22_col9\" class=\"data row22 col9\" >132</td>\n",
              "      <td id=\"T_36ee1_row22_col10\" class=\"data row22 col10\" >254</td>\n",
              "      <td id=\"T_36ee1_row22_col11\" class=\"data row22 col11\" >254</td>\n",
              "      <td id=\"T_36ee1_row22_col12\" class=\"data row22 col12\" >217</td>\n",
              "      <td id=\"T_36ee1_row22_col13\" class=\"data row22 col13\" >55</td>\n",
              "      <td id=\"T_36ee1_row22_col14\" class=\"data row22 col14\" >0</td>\n",
              "      <td id=\"T_36ee1_row22_col15\" class=\"data row22 col15\" >0</td>\n",
              "      <td id=\"T_36ee1_row22_col16\" class=\"data row22 col16\" >0</td>\n",
              "      <td id=\"T_36ee1_row22_col17\" class=\"data row22 col17\" >0</td>\n",
              "      <td id=\"T_36ee1_row22_col18\" class=\"data row22 col18\" >0</td>\n",
              "      <td id=\"T_36ee1_row22_col19\" class=\"data row22 col19\" >0</td>\n",
              "      <td id=\"T_36ee1_row22_col20\" class=\"data row22 col20\" >0</td>\n",
              "      <td id=\"T_36ee1_row22_col21\" class=\"data row22 col21\" >0</td>\n",
              "      <td id=\"T_36ee1_row22_col22\" class=\"data row22 col22\" >0</td>\n",
              "      <td id=\"T_36ee1_row22_col23\" class=\"data row22 col23\" >0</td>\n",
              "      <td id=\"T_36ee1_row22_col24\" class=\"data row22 col24\" >0</td>\n",
              "      <td id=\"T_36ee1_row22_col25\" class=\"data row22 col25\" >0</td>\n",
              "      <td id=\"T_36ee1_row22_col26\" class=\"data row22 col26\" >0</td>\n",
              "      <td id=\"T_36ee1_row22_col27\" class=\"data row22 col27\" >0</td>\n",
              "    </tr>\n",
              "    <tr>\n",
              "      <th id=\"T_36ee1_level0_row23\" class=\"row_heading level0 row23\" >23</th>\n",
              "      <td id=\"T_36ee1_row23_col0\" class=\"data row23 col0\" >0</td>\n",
              "      <td id=\"T_36ee1_row23_col1\" class=\"data row23 col1\" >0</td>\n",
              "      <td id=\"T_36ee1_row23_col2\" class=\"data row23 col2\" >0</td>\n",
              "      <td id=\"T_36ee1_row23_col3\" class=\"data row23 col3\" >0</td>\n",
              "      <td id=\"T_36ee1_row23_col4\" class=\"data row23 col4\" >0</td>\n",
              "      <td id=\"T_36ee1_row23_col5\" class=\"data row23 col5\" >0</td>\n",
              "      <td id=\"T_36ee1_row23_col6\" class=\"data row23 col6\" >0</td>\n",
              "      <td id=\"T_36ee1_row23_col7\" class=\"data row23 col7\" >0</td>\n",
              "      <td id=\"T_36ee1_row23_col8\" class=\"data row23 col8\" >83</td>\n",
              "      <td id=\"T_36ee1_row23_col9\" class=\"data row23 col9\" >250</td>\n",
              "      <td id=\"T_36ee1_row23_col10\" class=\"data row23 col10\" >255</td>\n",
              "      <td id=\"T_36ee1_row23_col11\" class=\"data row23 col11\" >254</td>\n",
              "      <td id=\"T_36ee1_row23_col12\" class=\"data row23 col12\" >182</td>\n",
              "      <td id=\"T_36ee1_row23_col13\" class=\"data row23 col13\" >10</td>\n",
              "      <td id=\"T_36ee1_row23_col14\" class=\"data row23 col14\" >0</td>\n",
              "      <td id=\"T_36ee1_row23_col15\" class=\"data row23 col15\" >0</td>\n",
              "      <td id=\"T_36ee1_row23_col16\" class=\"data row23 col16\" >0</td>\n",
              "      <td id=\"T_36ee1_row23_col17\" class=\"data row23 col17\" >0</td>\n",
              "      <td id=\"T_36ee1_row23_col18\" class=\"data row23 col18\" >0</td>\n",
              "      <td id=\"T_36ee1_row23_col19\" class=\"data row23 col19\" >0</td>\n",
              "      <td id=\"T_36ee1_row23_col20\" class=\"data row23 col20\" >0</td>\n",
              "      <td id=\"T_36ee1_row23_col21\" class=\"data row23 col21\" >0</td>\n",
              "      <td id=\"T_36ee1_row23_col22\" class=\"data row23 col22\" >0</td>\n",
              "      <td id=\"T_36ee1_row23_col23\" class=\"data row23 col23\" >0</td>\n",
              "      <td id=\"T_36ee1_row23_col24\" class=\"data row23 col24\" >0</td>\n",
              "      <td id=\"T_36ee1_row23_col25\" class=\"data row23 col25\" >0</td>\n",
              "      <td id=\"T_36ee1_row23_col26\" class=\"data row23 col26\" >0</td>\n",
              "      <td id=\"T_36ee1_row23_col27\" class=\"data row23 col27\" >0</td>\n",
              "    </tr>\n",
              "    <tr>\n",
              "      <th id=\"T_36ee1_level0_row24\" class=\"row_heading level0 row24\" >24</th>\n",
              "      <td id=\"T_36ee1_row24_col0\" class=\"data row24 col0\" >0</td>\n",
              "      <td id=\"T_36ee1_row24_col1\" class=\"data row24 col1\" >0</td>\n",
              "      <td id=\"T_36ee1_row24_col2\" class=\"data row24 col2\" >0</td>\n",
              "      <td id=\"T_36ee1_row24_col3\" class=\"data row24 col3\" >0</td>\n",
              "      <td id=\"T_36ee1_row24_col4\" class=\"data row24 col4\" >0</td>\n",
              "      <td id=\"T_36ee1_row24_col5\" class=\"data row24 col5\" >0</td>\n",
              "      <td id=\"T_36ee1_row24_col6\" class=\"data row24 col6\" >0</td>\n",
              "      <td id=\"T_36ee1_row24_col7\" class=\"data row24 col7\" >0</td>\n",
              "      <td id=\"T_36ee1_row24_col8\" class=\"data row24 col8\" >216</td>\n",
              "      <td id=\"T_36ee1_row24_col9\" class=\"data row24 col9\" >254</td>\n",
              "      <td id=\"T_36ee1_row24_col10\" class=\"data row24 col10\" >252</td>\n",
              "      <td id=\"T_36ee1_row24_col11\" class=\"data row24 col11\" >153</td>\n",
              "      <td id=\"T_36ee1_row24_col12\" class=\"data row24 col12\" >9</td>\n",
              "      <td id=\"T_36ee1_row24_col13\" class=\"data row24 col13\" >0</td>\n",
              "      <td id=\"T_36ee1_row24_col14\" class=\"data row24 col14\" >0</td>\n",
              "      <td id=\"T_36ee1_row24_col15\" class=\"data row24 col15\" >0</td>\n",
              "      <td id=\"T_36ee1_row24_col16\" class=\"data row24 col16\" >0</td>\n",
              "      <td id=\"T_36ee1_row24_col17\" class=\"data row24 col17\" >0</td>\n",
              "      <td id=\"T_36ee1_row24_col18\" class=\"data row24 col18\" >0</td>\n",
              "      <td id=\"T_36ee1_row24_col19\" class=\"data row24 col19\" >0</td>\n",
              "      <td id=\"T_36ee1_row24_col20\" class=\"data row24 col20\" >0</td>\n",
              "      <td id=\"T_36ee1_row24_col21\" class=\"data row24 col21\" >0</td>\n",
              "      <td id=\"T_36ee1_row24_col22\" class=\"data row24 col22\" >0</td>\n",
              "      <td id=\"T_36ee1_row24_col23\" class=\"data row24 col23\" >0</td>\n",
              "      <td id=\"T_36ee1_row24_col24\" class=\"data row24 col24\" >0</td>\n",
              "      <td id=\"T_36ee1_row24_col25\" class=\"data row24 col25\" >0</td>\n",
              "      <td id=\"T_36ee1_row24_col26\" class=\"data row24 col26\" >0</td>\n",
              "      <td id=\"T_36ee1_row24_col27\" class=\"data row24 col27\" >0</td>\n",
              "    </tr>\n",
              "    <tr>\n",
              "      <th id=\"T_36ee1_level0_row25\" class=\"row_heading level0 row25\" >25</th>\n",
              "      <td id=\"T_36ee1_row25_col0\" class=\"data row25 col0\" >0</td>\n",
              "      <td id=\"T_36ee1_row25_col1\" class=\"data row25 col1\" >0</td>\n",
              "      <td id=\"T_36ee1_row25_col2\" class=\"data row25 col2\" >0</td>\n",
              "      <td id=\"T_36ee1_row25_col3\" class=\"data row25 col3\" >0</td>\n",
              "      <td id=\"T_36ee1_row25_col4\" class=\"data row25 col4\" >0</td>\n",
              "      <td id=\"T_36ee1_row25_col5\" class=\"data row25 col5\" >0</td>\n",
              "      <td id=\"T_36ee1_row25_col6\" class=\"data row25 col6\" >0</td>\n",
              "      <td id=\"T_36ee1_row25_col7\" class=\"data row25 col7\" >0</td>\n",
              "      <td id=\"T_36ee1_row25_col8\" class=\"data row25 col8\" >213</td>\n",
              "      <td id=\"T_36ee1_row25_col9\" class=\"data row25 col9\" >232</td>\n",
              "      <td id=\"T_36ee1_row25_col10\" class=\"data row25 col10\" >42</td>\n",
              "      <td id=\"T_36ee1_row25_col11\" class=\"data row25 col11\" >0</td>\n",
              "      <td id=\"T_36ee1_row25_col12\" class=\"data row25 col12\" >0</td>\n",
              "      <td id=\"T_36ee1_row25_col13\" class=\"data row25 col13\" >0</td>\n",
              "      <td id=\"T_36ee1_row25_col14\" class=\"data row25 col14\" >0</td>\n",
              "      <td id=\"T_36ee1_row25_col15\" class=\"data row25 col15\" >0</td>\n",
              "      <td id=\"T_36ee1_row25_col16\" class=\"data row25 col16\" >0</td>\n",
              "      <td id=\"T_36ee1_row25_col17\" class=\"data row25 col17\" >0</td>\n",
              "      <td id=\"T_36ee1_row25_col18\" class=\"data row25 col18\" >0</td>\n",
              "      <td id=\"T_36ee1_row25_col19\" class=\"data row25 col19\" >0</td>\n",
              "      <td id=\"T_36ee1_row25_col20\" class=\"data row25 col20\" >0</td>\n",
              "      <td id=\"T_36ee1_row25_col21\" class=\"data row25 col21\" >0</td>\n",
              "      <td id=\"T_36ee1_row25_col22\" class=\"data row25 col22\" >0</td>\n",
              "      <td id=\"T_36ee1_row25_col23\" class=\"data row25 col23\" >0</td>\n",
              "      <td id=\"T_36ee1_row25_col24\" class=\"data row25 col24\" >0</td>\n",
              "      <td id=\"T_36ee1_row25_col25\" class=\"data row25 col25\" >0</td>\n",
              "      <td id=\"T_36ee1_row25_col26\" class=\"data row25 col26\" >0</td>\n",
              "      <td id=\"T_36ee1_row25_col27\" class=\"data row25 col27\" >0</td>\n",
              "    </tr>\n",
              "    <tr>\n",
              "      <th id=\"T_36ee1_level0_row26\" class=\"row_heading level0 row26\" >26</th>\n",
              "      <td id=\"T_36ee1_row26_col0\" class=\"data row26 col0\" >0</td>\n",
              "      <td id=\"T_36ee1_row26_col1\" class=\"data row26 col1\" >0</td>\n",
              "      <td id=\"T_36ee1_row26_col2\" class=\"data row26 col2\" >0</td>\n",
              "      <td id=\"T_36ee1_row26_col3\" class=\"data row26 col3\" >0</td>\n",
              "      <td id=\"T_36ee1_row26_col4\" class=\"data row26 col4\" >0</td>\n",
              "      <td id=\"T_36ee1_row26_col5\" class=\"data row26 col5\" >0</td>\n",
              "      <td id=\"T_36ee1_row26_col6\" class=\"data row26 col6\" >0</td>\n",
              "      <td id=\"T_36ee1_row26_col7\" class=\"data row26 col7\" >0</td>\n",
              "      <td id=\"T_36ee1_row26_col8\" class=\"data row26 col8\" >0</td>\n",
              "      <td id=\"T_36ee1_row26_col9\" class=\"data row26 col9\" >0</td>\n",
              "      <td id=\"T_36ee1_row26_col10\" class=\"data row26 col10\" >0</td>\n",
              "      <td id=\"T_36ee1_row26_col11\" class=\"data row26 col11\" >0</td>\n",
              "      <td id=\"T_36ee1_row26_col12\" class=\"data row26 col12\" >0</td>\n",
              "      <td id=\"T_36ee1_row26_col13\" class=\"data row26 col13\" >0</td>\n",
              "      <td id=\"T_36ee1_row26_col14\" class=\"data row26 col14\" >0</td>\n",
              "      <td id=\"T_36ee1_row26_col15\" class=\"data row26 col15\" >0</td>\n",
              "      <td id=\"T_36ee1_row26_col16\" class=\"data row26 col16\" >0</td>\n",
              "      <td id=\"T_36ee1_row26_col17\" class=\"data row26 col17\" >0</td>\n",
              "      <td id=\"T_36ee1_row26_col18\" class=\"data row26 col18\" >0</td>\n",
              "      <td id=\"T_36ee1_row26_col19\" class=\"data row26 col19\" >0</td>\n",
              "      <td id=\"T_36ee1_row26_col20\" class=\"data row26 col20\" >0</td>\n",
              "      <td id=\"T_36ee1_row26_col21\" class=\"data row26 col21\" >0</td>\n",
              "      <td id=\"T_36ee1_row26_col22\" class=\"data row26 col22\" >0</td>\n",
              "      <td id=\"T_36ee1_row26_col23\" class=\"data row26 col23\" >0</td>\n",
              "      <td id=\"T_36ee1_row26_col24\" class=\"data row26 col24\" >0</td>\n",
              "      <td id=\"T_36ee1_row26_col25\" class=\"data row26 col25\" >0</td>\n",
              "      <td id=\"T_36ee1_row26_col26\" class=\"data row26 col26\" >0</td>\n",
              "      <td id=\"T_36ee1_row26_col27\" class=\"data row26 col27\" >0</td>\n",
              "    </tr>\n",
              "    <tr>\n",
              "      <th id=\"T_36ee1_level0_row27\" class=\"row_heading level0 row27\" >27</th>\n",
              "      <td id=\"T_36ee1_row27_col0\" class=\"data row27 col0\" >0</td>\n",
              "      <td id=\"T_36ee1_row27_col1\" class=\"data row27 col1\" >0</td>\n",
              "      <td id=\"T_36ee1_row27_col2\" class=\"data row27 col2\" >0</td>\n",
              "      <td id=\"T_36ee1_row27_col3\" class=\"data row27 col3\" >0</td>\n",
              "      <td id=\"T_36ee1_row27_col4\" class=\"data row27 col4\" >0</td>\n",
              "      <td id=\"T_36ee1_row27_col5\" class=\"data row27 col5\" >0</td>\n",
              "      <td id=\"T_36ee1_row27_col6\" class=\"data row27 col6\" >0</td>\n",
              "      <td id=\"T_36ee1_row27_col7\" class=\"data row27 col7\" >0</td>\n",
              "      <td id=\"T_36ee1_row27_col8\" class=\"data row27 col8\" >0</td>\n",
              "      <td id=\"T_36ee1_row27_col9\" class=\"data row27 col9\" >0</td>\n",
              "      <td id=\"T_36ee1_row27_col10\" class=\"data row27 col10\" >0</td>\n",
              "      <td id=\"T_36ee1_row27_col11\" class=\"data row27 col11\" >0</td>\n",
              "      <td id=\"T_36ee1_row27_col12\" class=\"data row27 col12\" >0</td>\n",
              "      <td id=\"T_36ee1_row27_col13\" class=\"data row27 col13\" >0</td>\n",
              "      <td id=\"T_36ee1_row27_col14\" class=\"data row27 col14\" >0</td>\n",
              "      <td id=\"T_36ee1_row27_col15\" class=\"data row27 col15\" >0</td>\n",
              "      <td id=\"T_36ee1_row27_col16\" class=\"data row27 col16\" >0</td>\n",
              "      <td id=\"T_36ee1_row27_col17\" class=\"data row27 col17\" >0</td>\n",
              "      <td id=\"T_36ee1_row27_col18\" class=\"data row27 col18\" >0</td>\n",
              "      <td id=\"T_36ee1_row27_col19\" class=\"data row27 col19\" >0</td>\n",
              "      <td id=\"T_36ee1_row27_col20\" class=\"data row27 col20\" >0</td>\n",
              "      <td id=\"T_36ee1_row27_col21\" class=\"data row27 col21\" >0</td>\n",
              "      <td id=\"T_36ee1_row27_col22\" class=\"data row27 col22\" >0</td>\n",
              "      <td id=\"T_36ee1_row27_col23\" class=\"data row27 col23\" >0</td>\n",
              "      <td id=\"T_36ee1_row27_col24\" class=\"data row27 col24\" >0</td>\n",
              "      <td id=\"T_36ee1_row27_col25\" class=\"data row27 col25\" >0</td>\n",
              "      <td id=\"T_36ee1_row27_col26\" class=\"data row27 col26\" >0</td>\n",
              "      <td id=\"T_36ee1_row27_col27\" class=\"data row27 col27\" >0</td>\n",
              "    </tr>\n",
              "  </tbody>\n",
              "</table>\n"
            ]
          },
          "metadata": {},
          "execution_count": 33
        }
      ]
    },
    {
      "cell_type": "markdown",
      "source": [
        "#MODEL 1\n",
        "# take an average & see the distance from the average . Kind of similar to idea of k means , jusst the centroid will be average of the training set"
      ],
      "metadata": {
        "id": "imdQsPKnKKU1"
      }
    },
    {
      "cell_type": "code",
      "source": [
        "for i in range(0,10):\n",
        "  show_image(train_ds[i][0])"
      ],
      "metadata": {
        "colab": {
          "base_uri": "https://localhost:8080/",
          "height": 987
        },
        "id": "_Nwl72TAI5jq",
        "outputId": "0bba1a01-c97b-48c2-fa89-7516e7cb6ef1"
      },
      "execution_count": null,
      "outputs": [
        {
          "output_type": "display_data",
          "data": {
            "text/plain": [
              "<Figure size 100x100 with 1 Axes>"
            ],
            "image/png": "[encoded data removed]"
          },
          "metadata": {}
        },
        {
          "output_type": "display_data",
          "data": {
            "text/plain": [
              "<Figure size 100x100 with 1 Axes>"
            ],
            "image/png": "[encoded data removed]"
          },
          "metadata": {}
        },
        {
          "output_type": "display_data",
          "data": {
            "text/plain": [
              "<Figure size 100x100 with 1 Axes>"
            ],
            "image/png": "[encoded data removed]"
          },
          "metadata": {}
        },
        {
          "output_type": "display_data",
          "data": {
            "text/plain": [
              "<Figure size 100x100 with 1 Axes>"
            ],
            "image/png": "[encoded data removed]"
          },
          "metadata": {}
        },
        {
          "output_type": "display_data",
          "data": {
            "text/plain": [
              "<Figure size 100x100 with 1 Axes>"
            ],
            "image/png": "[encoded data removed]"
          },
          "metadata": {}
        },
        {
          "output_type": "display_data",
          "data": {
            "text/plain": [
              "<Figure size 100x100 with 1 Axes>"
            ],
            "image/png": "[encoded data removed]"
          },
          "metadata": {}
        },
        {
          "output_type": "display_data",
          "data": {
            "text/plain": [
              "<Figure size 100x100 with 1 Axes>"
            ],
            "image/png": "[encoded data removed]"
          },
          "metadata": {}
        },
        {
          "output_type": "display_data",
          "data": {
            "text/plain": [
              "<Figure size 100x100 with 1 Axes>"
            ],
            "image/png": "[encoded data removed]"
          },
          "metadata": {}
        },
        {
          "output_type": "display_data",
          "data": {
            "text/plain": [
              "<Figure size 100x100 with 1 Axes>"
            ],
            "image/png": "[encoded data removed]"
          },
          "metadata": {}
        },
        {
          "output_type": "display_data",
          "data": {
            "text/plain": [
              "<Figure size 100x100 with 1 Axes>"
            ],
            "image/png": "[encoded data removed]"
          },
          "metadata": {}
        }
      ]
    },
    {
      "cell_type": "code",
      "source": [
        "test_ds = []\n",
        "train_ds = []\n",
        "\n",
        "def populate(l,_path):\n",
        "  for p in _path.ls().sorted():\n",
        "    l.append([tensor(Image.open(x)) for x in p.ls()])"
      ],
      "metadata": {
        "id": "P3KeREgydKu1"
      },
      "execution_count": null,
      "outputs": []
    },
    {
      "cell_type": "code",
      "source": [
        "populate(train_ds,(mnist_path/'training/'))\n",
        "populate(test_ds,(mnist_path/'testing/'))\n",
        "type(train_ds[0][0])"
      ],
      "metadata": {
        "colab": {
          "base_uri": "https://localhost:8080/"
        },
        "id": "Wvi5atm4daAJ",
        "outputId": "c85e7729-f143-4bbf-b00b-5a74559dadac"
      },
      "execution_count": null,
      "outputs": [
        {
          "output_type": "execute_result",
          "data": {
            "text/plain": [
              "torch.Tensor"
            ]
          },
          "metadata": {},
          "execution_count": 66
        }
      ]
    },
    {
      "cell_type": "code",
      "source": [
        "test_ds = [torch.stack(x) for x in test_ds]\n",
        "train_ds = [torch.stack(x) for x in train_ds]\n"
      ],
      "metadata": {
        "id": "4viCbxuDeRpA"
      },
      "execution_count": null,
      "outputs": []
    },
    {
      "cell_type": "code",
      "source": [
        "for i in range(0,10):\n",
        "  print(i,f\" training set has {train_ds[i].shape[0]} samples\")"
      ],
      "metadata": {
        "colab": {
          "base_uri": "https://localhost:8080/"
        },
        "id": "VLN3g07teZot",
        "outputId": "13d8640d-92a7-4860-e32e-15e713958157"
      },
      "execution_count": null,
      "outputs": [
        {
          "output_type": "stream",
          "name": "stdout",
          "text": [
            "0  training set has 5923 samples\n",
            "1  training set has 6742 samples\n",
            "2  training set has 5958 samples\n",
            "3  training set has 6131 samples\n",
            "4  training set has 5842 samples\n",
            "5  training set has 5421 samples\n",
            "6  training set has 5918 samples\n",
            "7  training set has 6265 samples\n",
            "8  training set has 5851 samples\n",
            "9  training set has 5949 samples\n"
          ]
        }
      ]
    },
    {
      "cell_type": "code",
      "source": [
        "# data standardization -> scale to 0-1\n",
        "test_ds = [x/255 for x in test_ds]\n",
        "train_ds = [x/255 for x in train_ds]\n"
      ],
      "metadata": {
        "id": "tuvPuyd6gBxg"
      },
      "execution_count": null,
      "outputs": []
    },
    {
      "cell_type": "code",
      "source": [
        "train_ds[0].max(),train_ds[0].min(),train_ds[0].ndim,train_ds[0].shape"
      ],
      "metadata": {
        "colab": {
          "base_uri": "https://localhost:8080/"
        },
        "id": "meOIKEjpgmzx",
        "outputId": "1993ffd3-8509-48f8-c377-d7b9eed2896f"
      },
      "execution_count": null,
      "outputs": [
        {
          "output_type": "execute_result",
          "data": {
            "text/plain": [
              "(tensor(1.), tensor(0.), 3, torch.Size([5923, 28, 28]))"
            ]
          },
          "metadata": {},
          "execution_count": 79
        }
      ]
    },
    {
      "cell_type": "code",
      "source": [
        "means = [x.mean(0) for x in train_ds]\n",
        "for x in means:\n",
        "  show_image(x)"
      ],
      "metadata": {
        "colab": {
          "base_uri": "https://localhost:8080/",
          "height": 987
        },
        "id": "AYGjFTFUgrzY",
        "outputId": "3a2920eb-f8d5-4de6-c513-4897f3be1068"
      },
      "execution_count": null,
      "outputs": [
        {
          "output_type": "display_data",
          "data": {
            "text/plain": [
              "<Figure size 100x100 with 1 Axes>"
            ],
            "image/png": "[encoded data removed]"
          },
          "metadata": {}
        },
        {
          "output_type": "display_data",
          "data": {
            "text/plain": [
              "<Figure size 100x100 with 1 Axes>"
            ],
            "image/png": "[encoded data removed]"
          },
          "metadata": {}
        },
        {
          "output_type": "display_data",
          "data": {
            "text/plain": [
              "<Figure size 100x100 with 1 Axes>"
            ],
            "image/png": "[encoded data removed]"
          },
          "metadata": {}
        },
        {
          "output_type": "display_data",
          "data": {
            "text/plain": [
              "<Figure size 100x100 with 1 Axes>"
            ],
            "image/png": "[encoded data removed]"
          },
          "metadata": {}
        },
        {
          "output_type": "display_data",
          "data": {
            "text/plain": [
              "<Figure size 100x100 with 1 Axes>"
            ],
            "image/png": "[encoded data removed]"
          },
          "metadata": {}
        },
        {
          "output_type": "display_data",
          "data": {
            "text/plain": [
              "<Figure size 100x100 with 1 Axes>"
            ],
            "image/png": "[encoded data removed]"
          },
          "metadata": {}
        },
        {
          "output_type": "display_data",
          "data": {
            "text/plain": [
              "<Figure size 100x100 with 1 Axes>"
            ],
            "image/png": "[encoded data removed]"
          },
          "metadata": {}
        },
        {
          "output_type": "display_data",
          "data": {
            "text/plain": [
              "<Figure size 100x100 with 1 Axes>"
            ],
            "image/png": "[encoded data removed]"
          },
          "metadata": {}
        },
        {
          "output_type": "display_data",
          "data": {
            "text/plain": [
              "<Figure size 100x100 with 1 Axes>"
            ],
            "image/png": "[encoded data removed]"
          },
          "metadata": {}
        },
        {
          "output_type": "display_data",
          "data": {
            "text/plain": [
              "<Figure size 100x100 with 1 Axes>"
            ],
            "image/png": "[encoded data removed]"
          },
          "metadata": {}
        }
      ]
    },
    {
      "cell_type": "code",
      "source": [
        "from torch.nn.functional import mse_loss"
      ],
      "metadata": {
        "id": "W_FKSmIAhXLe"
      },
      "execution_count": null,
      "outputs": []
    },
    {
      "cell_type": "code",
      "source": [
        "for i,(t,m) in enumerate(zip(train_ds,means)):\n",
        "  print(i,F.mse_loss(t,m).sqrt())"
      ],
      "metadata": {
        "colab": {
          "base_uri": "https://localhost:8080/"
        },
        "id": "2If3bYUJiE5g",
        "outputId": "099a3986-a34f-47dc-de69-44c7ca9e90c2"
      },
      "execution_count": null,
      "outputs": [
        {
          "output_type": "stream",
          "name": "stdout",
          "text": [
            "0 tensor(0.2523)\n",
            "1 tensor(0.1693)\n",
            "2 tensor(0.2545)\n",
            "3 tensor(0.2394)\n",
            "4 tensor(0.2283)\n",
            "5 tensor(0.2464)\n",
            "6 tensor(0.2344)\n",
            "7 tensor(0.2186)\n",
            "8 tensor(0.2412)\n",
            "9 tensor(0.2218)\n"
          ]
        },
        {
          "output_type": "stream",
          "name": "stderr",
          "text": [
            "<ipython-input-85-79365ce7de79>:2: UserWarning: Using a target size (torch.Size([28, 28])) that is different to the input size (torch.Size([5923, 28, 28])). This will likely lead to incorrect results due to broadcasting. Please ensure they have the same size.\n",
            "  print(i,F.mse_loss(t,m).sqrt())\n",
            "<ipython-input-85-79365ce7de79>:2: UserWarning: Using a target size (torch.Size([28, 28])) that is different to the input size (torch.Size([6742, 28, 28])). This will likely lead to incorrect results due to broadcasting. Please ensure they have the same size.\n",
            "  print(i,F.mse_loss(t,m).sqrt())\n",
            "<ipython-input-85-79365ce7de79>:2: UserWarning: Using a target size (torch.Size([28, 28])) that is different to the input size (torch.Size([5958, 28, 28])). This will likely lead to incorrect results due to broadcasting. Please ensure they have the same size.\n",
            "  print(i,F.mse_loss(t,m).sqrt())\n",
            "<ipython-input-85-79365ce7de79>:2: UserWarning: Using a target size (torch.Size([28, 28])) that is different to the input size (torch.Size([6131, 28, 28])). This will likely lead to incorrect results due to broadcasting. Please ensure they have the same size.\n",
            "  print(i,F.mse_loss(t,m).sqrt())\n",
            "<ipython-input-85-79365ce7de79>:2: UserWarning: Using a target size (torch.Size([28, 28])) that is different to the input size (torch.Size([5842, 28, 28])). This will likely lead to incorrect results due to broadcasting. Please ensure they have the same size.\n",
            "  print(i,F.mse_loss(t,m).sqrt())\n",
            "<ipython-input-85-79365ce7de79>:2: UserWarning: Using a target size (torch.Size([28, 28])) that is different to the input size (torch.Size([5421, 28, 28])). This will likely lead to incorrect results due to broadcasting. Please ensure they have the same size.\n",
            "  print(i,F.mse_loss(t,m).sqrt())\n",
            "<ipython-input-85-79365ce7de79>:2: UserWarning: Using a target size (torch.Size([28, 28])) that is different to the input size (torch.Size([5918, 28, 28])). This will likely lead to incorrect results due to broadcasting. Please ensure they have the same size.\n",
            "  print(i,F.mse_loss(t,m).sqrt())\n",
            "<ipython-input-85-79365ce7de79>:2: UserWarning: Using a target size (torch.Size([28, 28])) that is different to the input size (torch.Size([6265, 28, 28])). This will likely lead to incorrect results due to broadcasting. Please ensure they have the same size.\n",
            "  print(i,F.mse_loss(t,m).sqrt())\n",
            "<ipython-input-85-79365ce7de79>:2: UserWarning: Using a target size (torch.Size([28, 28])) that is different to the input size (torch.Size([5851, 28, 28])). This will likely lead to incorrect results due to broadcasting. Please ensure they have the same size.\n",
            "  print(i,F.mse_loss(t,m).sqrt())\n",
            "<ipython-input-85-79365ce7de79>:2: UserWarning: Using a target size (torch.Size([28, 28])) that is different to the input size (torch.Size([5949, 28, 28])). This will likely lead to incorrect results due to broadcasting. Please ensure they have the same size.\n",
            "  print(i,F.mse_loss(t,m).sqrt())\n"
          ]
        }
      ]
    },
    {
      "cell_type": "code",
      "source": [
        "def mnist_distance(a,b):\n",
        "  l1=((a-b).abs()).mean((-1,-2))\n",
        "  print(a.shape,b.shape,l1.shape)\n",
        "  return l1"
      ],
      "metadata": {
        "id": "n897NqSCim6T"
      },
      "execution_count": null,
      "outputs": []
    },
    {
      "cell_type": "code",
      "source": [
        "results = {}\n",
        "for i in range(0,10):\n",
        "  results[i]={}\n",
        "  for j in range(0,10):\n",
        "      results[i][j] = mnist_distance(test_ds[i],means[j])\n"
      ],
      "metadata": {
        "colab": {
          "base_uri": "https://localhost:8080/"
        },
        "id": "nfmhdsCCjNFG",
        "outputId": "adf3afdb-6476-4893-d887-2ab560509f86"
      },
      "execution_count": null,
      "outputs": [
        {
          "output_type": "stream",
          "name": "stdout",
          "text": [
            "torch.Size([980, 28, 28]) torch.Size([28, 28]) torch.Size([980])\n",
            "torch.Size([980, 28, 28]) torch.Size([28, 28]) torch.Size([980])\n",
            "torch.Size([980, 28, 28]) torch.Size([28, 28]) torch.Size([980])\n",
            "torch.Size([980, 28, 28]) torch.Size([28, 28]) torch.Size([980])\n",
            "torch.Size([980, 28, 28]) torch.Size([28, 28]) torch.Size([980])\n",
            "torch.Size([980, 28, 28]) torch.Size([28, 28]) torch.Size([980])\n",
            "torch.Size([980, 28, 28]) torch.Size([28, 28]) torch.Size([980])\n",
            "torch.Size([980, 28, 28]) torch.Size([28, 28]) torch.Size([980])\n",
            "torch.Size([980, 28, 28]) torch.Size([28, 28]) torch.Size([980])\n",
            "torch.Size([980, 28, 28]) torch.Size([28, 28]) torch.Size([980])\n",
            "torch.Size([1135, 28, 28]) torch.Size([28, 28]) torch.Size([1135])\n",
            "torch.Size([1135, 28, 28]) torch.Size([28, 28]) torch.Size([1135])\n",
            "torch.Size([1135, 28, 28]) torch.Size([28, 28]) torch.Size([1135])\n",
            "torch.Size([1135, 28, 28]) torch.Size([28, 28]) torch.Size([1135])\n",
            "torch.Size([1135, 28, 28]) torch.Size([28, 28]) torch.Size([1135])\n",
            "torch.Size([1135, 28, 28]) torch.Size([28, 28]) torch.Size([1135])\n",
            "torch.Size([1135, 28, 28]) torch.Size([28, 28]) torch.Size([1135])\n",
            "torch.Size([1135, 28, 28]) torch.Size([28, 28]) torch.Size([1135])\n",
            "torch.Size([1135, 28, 28]) torch.Size([28, 28]) torch.Size([1135])\n",
            "torch.Size([1135, 28, 28]) torch.Size([28, 28]) torch.Size([1135])\n",
            "torch.Size([1032, 28, 28]) torch.Size([28, 28]) torch.Size([1032])\n",
            "torch.Size([1032, 28, 28]) torch.Size([28, 28]) torch.Size([1032])\n",
            "torch.Size([1032, 28, 28]) torch.Size([28, 28]) torch.Size([1032])\n",
            "torch.Size([1032, 28, 28]) torch.Size([28, 28]) torch.Size([1032])\n",
            "torch.Size([1032, 28, 28]) torch.Size([28, 28]) torch.Size([1032])\n",
            "torch.Size([1032, 28, 28]) torch.Size([28, 28]) torch.Size([1032])\n",
            "torch.Size([1032, 28, 28]) torch.Size([28, 28]) torch.Size([1032])\n",
            "torch.Size([1032, 28, 28]) torch.Size([28, 28]) torch.Size([1032])\n",
            "torch.Size([1032, 28, 28]) torch.Size([28, 28]) torch.Size([1032])\n",
            "torch.Size([1032, 28, 28]) torch.Size([28, 28]) torch.Size([1032])\n",
            "torch.Size([1010, 28, 28]) torch.Size([28, 28]) torch.Size([1010])\n",
            "torch.Size([1010, 28, 28]) torch.Size([28, 28]) torch.Size([1010])\n",
            "torch.Size([1010, 28, 28]) torch.Size([28, 28]) torch.Size([1010])\n",
            "torch.Size([1010, 28, 28]) torch.Size([28, 28]) torch.Size([1010])\n",
            "torch.Size([1010, 28, 28]) torch.Size([28, 28]) torch.Size([1010])\n",
            "torch.Size([1010, 28, 28]) torch.Size([28, 28]) torch.Size([1010])\n",
            "torch.Size([1010, 28, 28]) torch.Size([28, 28]) torch.Size([1010])\n",
            "torch.Size([1010, 28, 28]) torch.Size([28, 28]) torch.Size([1010])\n",
            "torch.Size([1010, 28, 28]) torch.Size([28, 28]) torch.Size([1010])\n",
            "torch.Size([1010, 28, 28]) torch.Size([28, 28]) torch.Size([1010])\n",
            "torch.Size([982, 28, 28]) torch.Size([28, 28]) torch.Size([982])\n",
            "torch.Size([982, 28, 28]) torch.Size([28, 28]) torch.Size([982])\n",
            "torch.Size([982, 28, 28]) torch.Size([28, 28]) torch.Size([982])\n",
            "torch.Size([982, 28, 28]) torch.Size([28, 28]) torch.Size([982])\n",
            "torch.Size([982, 28, 28]) torch.Size([28, 28]) torch.Size([982])\n",
            "torch.Size([982, 28, 28]) torch.Size([28, 28]) torch.Size([982])\n",
            "torch.Size([982, 28, 28]) torch.Size([28, 28]) torch.Size([982])\n",
            "torch.Size([982, 28, 28]) torch.Size([28, 28]) torch.Size([982])\n",
            "torch.Size([982, 28, 28]) torch.Size([28, 28]) torch.Size([982])\n",
            "torch.Size([982, 28, 28]) torch.Size([28, 28]) torch.Size([982])\n",
            "torch.Size([892, 28, 28]) torch.Size([28, 28]) torch.Size([892])\n",
            "torch.Size([892, 28, 28]) torch.Size([28, 28]) torch.Size([892])\n",
            "torch.Size([892, 28, 28]) torch.Size([28, 28]) torch.Size([892])\n",
            "torch.Size([892, 28, 28]) torch.Size([28, 28]) torch.Size([892])\n",
            "torch.Size([892, 28, 28]) torch.Size([28, 28]) torch.Size([892])\n",
            "torch.Size([892, 28, 28]) torch.Size([28, 28]) torch.Size([892])\n",
            "torch.Size([892, 28, 28]) torch.Size([28, 28]) torch.Size([892])\n",
            "torch.Size([892, 28, 28]) torch.Size([28, 28]) torch.Size([892])\n",
            "torch.Size([892, 28, 28]) torch.Size([28, 28]) torch.Size([892])\n",
            "torch.Size([892, 28, 28]) torch.Size([28, 28]) torch.Size([892])\n",
            "torch.Size([958, 28, 28]) torch.Size([28, 28]) torch.Size([958])\n",
            "torch.Size([958, 28, 28]) torch.Size([28, 28]) torch.Size([958])\n",
            "torch.Size([958, 28, 28]) torch.Size([28, 28]) torch.Size([958])\n",
            "torch.Size([958, 28, 28]) torch.Size([28, 28]) torch.Size([958])\n",
            "torch.Size([958, 28, 28]) torch.Size([28, 28]) torch.Size([958])\n",
            "torch.Size([958, 28, 28]) torch.Size([28, 28]) torch.Size([958])\n",
            "torch.Size([958, 28, 28]) torch.Size([28, 28]) torch.Size([958])\n",
            "torch.Size([958, 28, 28]) torch.Size([28, 28]) torch.Size([958])\n",
            "torch.Size([958, 28, 28]) torch.Size([28, 28]) torch.Size([958])\n",
            "torch.Size([958, 28, 28]) torch.Size([28, 28]) torch.Size([958])\n",
            "torch.Size([1028, 28, 28]) torch.Size([28, 28]) torch.Size([1028])\n",
            "torch.Size([1028, 28, 28]) torch.Size([28, 28]) torch.Size([1028])\n",
            "torch.Size([1028, 28, 28]) torch.Size([28, 28]) torch.Size([1028])\n",
            "torch.Size([1028, 28, 28]) torch.Size([28, 28]) torch.Size([1028])\n",
            "torch.Size([1028, 28, 28]) torch.Size([28, 28]) torch.Size([1028])\n",
            "torch.Size([1028, 28, 28]) torch.Size([28, 28]) torch.Size([1028])\n",
            "torch.Size([1028, 28, 28]) torch.Size([28, 28]) torch.Size([1028])\n",
            "torch.Size([1028, 28, 28]) torch.Size([28, 28]) torch.Size([1028])\n",
            "torch.Size([1028, 28, 28]) torch.Size([28, 28]) torch.Size([1028])\n",
            "torch.Size([1028, 28, 28]) torch.Size([28, 28]) torch.Size([1028])\n",
            "torch.Size([974, 28, 28]) torch.Size([28, 28]) torch.Size([974])\n",
            "torch.Size([974, 28, 28]) torch.Size([28, 28]) torch.Size([974])\n",
            "torch.Size([974, 28, 28]) torch.Size([28, 28]) torch.Size([974])\n",
            "torch.Size([974, 28, 28]) torch.Size([28, 28]) torch.Size([974])\n",
            "torch.Size([974, 28, 28]) torch.Size([28, 28]) torch.Size([974])\n",
            "torch.Size([974, 28, 28]) torch.Size([28, 28]) torch.Size([974])\n",
            "torch.Size([974, 28, 28]) torch.Size([28, 28]) torch.Size([974])\n",
            "torch.Size([974, 28, 28]) torch.Size([28, 28]) torch.Size([974])\n",
            "torch.Size([974, 28, 28]) torch.Size([28, 28]) torch.Size([974])\n",
            "torch.Size([974, 28, 28]) torch.Size([28, 28]) torch.Size([974])\n",
            "torch.Size([1009, 28, 28]) torch.Size([28, 28]) torch.Size([1009])\n",
            "torch.Size([1009, 28, 28]) torch.Size([28, 28]) torch.Size([1009])\n",
            "torch.Size([1009, 28, 28]) torch.Size([28, 28]) torch.Size([1009])\n",
            "torch.Size([1009, 28, 28]) torch.Size([28, 28]) torch.Size([1009])\n",
            "torch.Size([1009, 28, 28]) torch.Size([28, 28]) torch.Size([1009])\n",
            "torch.Size([1009, 28, 28]) torch.Size([28, 28]) torch.Size([1009])\n",
            "torch.Size([1009, 28, 28]) torch.Size([28, 28]) torch.Size([1009])\n",
            "torch.Size([1009, 28, 28]) torch.Size([28, 28]) torch.Size([1009])\n",
            "torch.Size([1009, 28, 28]) torch.Size([28, 28]) torch.Size([1009])\n",
            "torch.Size([1009, 28, 28]) torch.Size([28, 28]) torch.Size([1009])\n"
          ]
        }
      ]
    },
    {
      "cell_type": "code",
      "source": [
        "for i in range(0,10):\n",
        "  for j in range(1,10):\n",
        "    assert results[i][j].shape==results[i][j-1].shape"
      ],
      "metadata": {
        "id": "LdL7U-iIlh-C"
      },
      "execution_count": null,
      "outputs": []
    },
    {
      "cell_type": "code",
      "source": [
        "result_final = []\n",
        "\n",
        "for i in range(10):\n",
        "    leni = len(results[i][0])\n",
        "    result_i = []\n",
        "    for sample in range(leni):\n",
        "        min_j = min(range(10), key=lambda j: results[i][j][sample])\n",
        "        result_i.append(min_j == i)\n",
        "    result_final.append(np.array(result_i))  # note: converting each list to np.array"
      ],
      "metadata": {
        "id": "pYydW7SNm7HW"
      },
      "execution_count": null,
      "outputs": []
    },
    {
      "cell_type": "code",
      "source": [
        "result_final2 = [\n",
        "    [\n",
        "        (min(range(10), key=lambda j: results[i][j][sample]) == i)\n",
        "        for sample in range(len(results[i][0]))\n",
        "    ]\n",
        "    for i in range(10)\n",
        "]"
      ],
      "metadata": {
        "id": "wkZUc7NDovQA"
      },
      "execution_count": null,
      "outputs": []
    },
    {
      "cell_type": "code",
      "source": [
        "for x,y in zip (result_final,result_final2):\n",
        "  for r,l in zip(x,y):\n",
        "    assert r==l"
      ],
      "metadata": {
        "id": "cmSNHl1stOIj"
      },
      "execution_count": null,
      "outputs": []
    },
    {
      "cell_type": "code",
      "source": [
        "for x in range(10):\n",
        "  correct = 0\n",
        "  for item in result_final[x]:\n",
        "    if item==True:\n",
        "      correct+=1\n",
        "  print(f\"accuracy for {x} is {correct/len(result_final[x])}\")"
      ],
      "metadata": {
        "colab": {
          "base_uri": "https://localhost:8080/"
        },
        "id": "2isavng3quK_",
        "outputId": "84e0adc4-6da5-41a6-e9cb-b658cac8ec42"
      },
      "execution_count": null,
      "outputs": [
        {
          "output_type": "stream",
          "name": "stdout",
          "text": [
            "accuracy for 0 is 0.8153061224489796\n",
            "accuracy for 1 is 0.9982378854625551\n",
            "accuracy for 2 is 0.42344961240310075\n",
            "accuracy for 3 is 0.6089108910891089\n",
            "accuracy for 4 is 0.6680244399185336\n",
            "accuracy for 5 is 0.32623318385650224\n",
            "accuracy for 6 is 0.7870563674321504\n",
            "accuracy for 7 is 0.7645914396887159\n",
            "accuracy for 8 is 0.44250513347022585\n",
            "accuracy for 9 is 0.77601585728444\n"
          ]
        }
      ]
    },
    {
      "cell_type": "code",
      "source": [
        "for x in range(10):\n",
        "  print(np.mean(result_final[x]))"
      ],
      "metadata": {
        "colab": {
          "base_uri": "https://localhost:8080/"
        },
        "id": "NfKMPRAcqyem",
        "outputId": "2621a0a9-abab-4106-eb5b-cf38ed04ed44"
      },
      "execution_count": null,
      "outputs": [
        {
          "output_type": "stream",
          "name": "stdout",
          "text": [
            "0.8153061224489796\n",
            "0.9982378854625551\n",
            "0.42344961240310075\n",
            "0.6089108910891089\n",
            "0.6680244399185336\n",
            "0.32623318385650224\n",
            "0.7870563674321504\n",
            "0.7645914396887159\n",
            "0.44250513347022585\n",
            "0.77601585728444\n"
          ]
        }
      ]
    },
    {
      "cell_type": "markdown",
      "source": [
        "Now we have baseline numbers using mean of accuracy using mean as the measure of performace\n",
        "\n",
        "Next will try same using a NN"
      ],
      "metadata": {
        "id": "om4zQSsWun_c"
      }
    },
    {
      "cell_type": "code",
      "source": [
        "xt = tensor([1.,2.,3.]).requires_grad_()\n",
        "def f(x): return (x**2).sum()\n",
        "yt = f(xt)"
      ],
      "metadata": {
        "id": "WoG__IaVuiy4"
      },
      "execution_count": null,
      "outputs": []
    },
    {
      "cell_type": "code",
      "source": [
        "yt.backward()\n",
        "xt.grad"
      ],
      "metadata": {
        "colab": {
          "base_uri": "https://localhost:8080/"
        },
        "id": "g1R25uWFs6tH",
        "outputId": "6df64939-6f08-42f0-e5d3-58b3670f6e07"
      },
      "execution_count": null,
      "outputs": [
        {
          "output_type": "execute_result",
          "data": {
            "text/plain": [
              "tensor([2., 4., 6.])"
            ]
          },
          "metadata": {},
          "execution_count": 168
        }
      ]
    },
    {
      "cell_type": "code",
      "source": [
        "time = torch.arange(0,20).float();\n",
        "speed = torch.randn(20)*3 + 0.75*(time-9.5)**2 + 1\n",
        "plt.scatter(time,speed);"
      ],
      "metadata": {
        "colab": {
          "base_uri": "https://localhost:8080/",
          "height": 430
        },
        "id": "B3I9SrvYEDow",
        "outputId": "7654f4f3-5e5e-46c5-dbaf-f2a6f7713576"
      },
      "execution_count": null,
      "outputs": [
        {
          "output_type": "display_data",
          "data": {
            "text/plain": [
              "<Figure size 640x480 with 1 Axes>"
            ],
            "image/png": "[encoded data removed]"
          },
          "metadata": {}
        }
      ]
    },
    {
      "cell_type": "code",
      "source": [
        "def f(t, params):\n",
        "    a,b,c = params\n",
        "    return a*(t**2) + (b*t) + c\n",
        "def show_preds(preds, ax=None):\n",
        "    if ax is None: ax=plt.subplots()[1]\n",
        "    ax.scatter(time, speed)\n",
        "    ax.scatter(time, to_np(preds), color='red')\n",
        "    ax.set_ylim(-300,100)"
      ],
      "metadata": {
        "id": "-GXCnSeSFRf4"
      },
      "execution_count": null,
      "outputs": []
    },
    {
      "cell_type": "code",
      "source": [
        "def l2(preds, targets): return ((preds-targets)**2).mean().sqrt()\n",
        "params = torch.randn(3).requires_grad_()"
      ],
      "metadata": {
        "id": "z-EllynuFaNh"
      },
      "execution_count": null,
      "outputs": []
    },
    {
      "cell_type": "code",
      "source": [
        "preds = f(time, params)\n",
        "show_preds(preds)"
      ],
      "metadata": {
        "colab": {
          "base_uri": "https://localhost:8080/",
          "height": 435
        },
        "id": "_TgOs-G0FlBo",
        "outputId": "83242fa3-3cf5-468c-ffbf-67aa8679855d"
      },
      "execution_count": null,
      "outputs": [
        {
          "output_type": "display_data",
          "data": {
            "text/plain": [
              "<Figure size 640x480 with 1 Axes>"
            ],
            "image/png": "[encoded data removed]"
          },
          "metadata": {}
        }
      ]
    },
    {
      "cell_type": "code",
      "source": [],
      "metadata": {
        "id": "l6kKsLfFFwml"
      },
      "execution_count": null,
      "outputs": []
    },
    {
      "cell_type": "code",
      "source": [
        "def apply_step(params, prn=True,lr=0.00001):\n",
        "    preds = f(time, params)\n",
        "    loss = mse(preds, speed)\n",
        "    loss.backward()\n",
        "    params.data -= lr * params.grad.data\n",
        "    params.grad = None\n",
        "    if prn: print(loss.item())\n",
        "    return preds"
      ],
      "metadata": {
        "id": "PnrckbeQF2Zw"
      },
      "execution_count": null,
      "outputs": []
    },
    {
      "cell_type": "code",
      "source": [
        "params = torch.randn(3).requires_grad_()\n",
        "_,axs = plt.subplots(1,8,figsize=(15,3))\n",
        "for ax in axs: show_preds(apply_step(params, False), ax)\n",
        "plt.tight_layout()"
      ],
      "metadata": {
        "colab": {
          "base_uri": "https://localhost:8080/",
          "height": 142
        },
        "id": "HS69s0usHHTc",
        "outputId": "f5138aa6-f53b-4716-e5f1-91111ba5243c"
      },
      "execution_count": null,
      "outputs": [
        {
          "output_type": "display_data",
          "data": {
            "text/plain": [
              "<Figure size 1500x300 with 8 Axes>"
            ],
            "image/png": "[encoded data removed]"
          },
          "metadata": {}
        }
      ]
    },
    {
      "cell_type": "code",
      "source": [
        "#showing divergence\n",
        "params = torch.randn(3).requires_grad_()\n",
        "_,axs = plt.subplots(1,8,figsize=(15,3))\n",
        "for ax in axs: show_preds(apply_step(params, False,lr=0.0001), ax)\n",
        "plt.tight_layout()"
      ],
      "metadata": {
        "colab": {
          "base_uri": "https://localhost:8080/",
          "height": 142
        },
        "id": "Z_RGuxIfHgFJ",
        "outputId": "7bcb5d73-9f77-476c-a71f-bd889666f3d5"
      },
      "execution_count": null,
      "outputs": [
        {
          "output_type": "display_data",
          "data": {
            "text/plain": [
              "<Figure size 1500x300 with 8 Axes>"
            ],
            "image/png": "[encoded data removed]"
          },
          "metadata": {}
        }
      ]
    },
    {
      "cell_type": "markdown",
      "source": [
        "MNIST"
      ],
      "metadata": {
        "id": "PfOqkhUOTjxZ"
      }
    },
    {
      "cell_type": "code",
      "source": [
        "path = untar_data(URLs.MNIST_SAMPLE)\n",
        "threes = (path/'train'/'3').ls().sorted()\n",
        "sevens = (path/'train'/'7').ls().sorted()"
      ],
      "metadata": {
        "id": "Kh42XsoyTwmH",
        "colab": {
          "base_uri": "https://localhost:8080/",
          "height": 37
        },
        "outputId": "448254d5-af1d-481f-ff7f-b7da0de00fae"
      },
      "execution_count": null,
      "outputs": [
        {
          "output_type": "display_data",
          "data": {
            "text/plain": [
              "<IPython.core.display.HTML object>"
            ],
            "text/html": [
              "\n",
              "<style>\n",
              "    /* Turns off some styling */\n",
              "    progress {\n",
              "        /* gets rid of default border in Firefox and Opera. */\n",
              "        border: none;\n",
              "        /* Needs to be in here for Safari polyfill so background images work as expected. */\n",
              "        background-size: auto;\n",
              "    }\n",
              "    progress:not([value]), progress:not([value])::-webkit-progress-bar {\n",
              "        background: repeating-linear-gradient(45deg, #7e7e7e, #7e7e7e 10px, #5c5c5c 10px, #5c5c5c 20px);\n",
              "    }\n",
              "    .progress-bar-interrupted, .progress-bar-interrupted::-webkit-progress-bar {\n",
              "        background: #F44336;\n",
              "    }\n",
              "</style>\n"
            ]
          },
          "metadata": {}
        },
        {
          "output_type": "display_data",
          "data": {
            "text/plain": [
              "<IPython.core.display.HTML object>"
            ],
            "text/html": [
              "\n",
              "    <div>\n",
              "      <progress value='3219456' class='' max='3214948' style='width:300px; height:20px; vertical-align: middle;'></progress>\n",
              "      100.14% [3219456/3214948 00:00&lt;00:00]\n",
              "    </div>\n",
              "    "
            ]
          },
          "metadata": {}
        }
      ]
    },
    {
      "cell_type": "code",
      "source": [
        "seven_tensors = [tensor(Image.open(o)) for o in sevens]\n",
        "three_tensors = [tensor(Image.open(o)) for o in threes]\n",
        "stacked_sevens = torch.stack(seven_tensors).float()/255\n",
        "stacked_threes = torch.stack(three_tensors).float()/255"
      ],
      "metadata": {
        "id": "zy4dFnANbkbU"
      },
      "execution_count": null,
      "outputs": []
    },
    {
      "cell_type": "code",
      "source": [
        "valid_3_tens = torch.stack([tensor(Image.open(o))\n",
        "                            for o in (path/'valid'/'3').ls()])\n",
        "valid_3_tens = valid_3_tens.float()/255\n",
        "valid_7_tens = torch.stack([tensor(Image.open(o))\n",
        "                            for o in (path/'valid'/'7').ls()])\n",
        "valid_7_tens = valid_7_tens.float()/255\n",
        "valid_3_tens.shape,valid_7_tens.shape,stacked_sevens.shape,stacked_threes.shape"
      ],
      "metadata": {
        "colab": {
          "base_uri": "https://localhost:8080/"
        },
        "id": "9gTuyiY0b8Qx",
        "outputId": "9692dec5-68ad-493a-88e2-84e3d2e1505b"
      },
      "execution_count": null,
      "outputs": [
        {
          "output_type": "execute_result",
          "data": {
            "text/plain": [
              "(torch.Size([1010, 28, 28]),\n",
              " torch.Size([1028, 28, 28]),\n",
              " torch.Size([6265, 28, 28]),\n",
              " torch.Size([6131, 28, 28]))"
            ]
          },
          "metadata": {},
          "execution_count": 5
        }
      ]
    },
    {
      "cell_type": "code",
      "source": [
        "train_x = torch.cat([stacked_threes, stacked_sevens]).view(-1, 28*28)\n",
        "train_y = tensor([1]*len(threes) + [0]*len(sevens)).unsqueeze(1)\n",
        "train_x.shape,train_y.shape\n",
        "valid_x = torch.cat([valid_3_tens, valid_7_tens]).view(-1, 28*28)\n",
        "valid_y = tensor([1]*len(valid_3_tens) + [0]*len(valid_7_tens)).unsqueeze(1)\n",
        "valid_dset = list(zip(valid_x,valid_y))"
      ],
      "metadata": {
        "id": "C3U-IjIfcBr2"
      },
      "execution_count": null,
      "outputs": []
    },
    {
      "cell_type": "code",
      "source": [
        "dset = list(zip(train_x,train_y))\n",
        "x,y = dset[0]\n",
        "x.shape,y.shape"
      ],
      "metadata": {
        "colab": {
          "base_uri": "https://localhost:8080/"
        },
        "id": "LoJ1VdrudFDG",
        "outputId": "d4036336-a71d-44ca-cb09-da1417a06ae1"
      },
      "execution_count": null,
      "outputs": [
        {
          "output_type": "execute_result",
          "data": {
            "text/plain": [
              "(torch.Size([784]), torch.Size([1]))"
            ]
          },
          "metadata": {},
          "execution_count": 9
        }
      ]
    },
    {
      "cell_type": "code",
      "source": [
        "def initialise_params(size):\n",
        "  return torch.randn(size).requires_grad_()"
      ],
      "metadata": {
        "id": "QHpkH4M-dXMR"
      },
      "execution_count": null,
      "outputs": []
    },
    {
      "cell_type": "code",
      "source": [
        "weights = initialise_params((28*28,1))\n",
        "bias = initialise_params(1)"
      ],
      "metadata": {
        "id": "BRqKike6dpUh"
      },
      "execution_count": null,
      "outputs": []
    },
    {
      "cell_type": "code",
      "source": [
        "def linear_layer(x,w,b):\n",
        "  return x@w+b"
      ],
      "metadata": {
        "id": "zUZzonEfdwxu"
      },
      "execution_count": null,
      "outputs": []
    },
    {
      "cell_type": "code",
      "source": [
        "pred = linear_layer(train_x,weights,bias)\n",
        "correct = (pred>0.5).float() == train_y"
      ],
      "metadata": {
        "id": "I2LBENsJd8UI"
      },
      "execution_count": null,
      "outputs": []
    },
    {
      "cell_type": "code",
      "source": [
        "correct.float().mean()"
      ],
      "metadata": {
        "colab": {
          "base_uri": "https://localhost:8080/"
        },
        "id": "Q6DFvjPieZZM",
        "outputId": "1069abe3-ac2e-428e-a968-42dabdb73358"
      },
      "execution_count": null,
      "outputs": [
        {
          "output_type": "execute_result",
          "data": {
            "text/plain": [
              "tensor(0.4109)"
            ]
          },
          "metadata": {},
          "execution_count": 27
        }
      ]
    },
    {
      "cell_type": "code",
      "source": [
        "# ^ random weights giving 41% accuracy"
      ],
      "metadata": {
        "id": "LNjfyN4De2jw"
      },
      "execution_count": null,
      "outputs": []
    },
    {
      "cell_type": "code",
      "source": [
        "def sigmoid(x): return 1/(1+torch.exp(-x))"
      ],
      "metadata": {
        "id": "YZkKKJCNgVT2"
      },
      "execution_count": null,
      "outputs": []
    },
    {
      "cell_type": "code",
      "source": [
        "def plot_function(func, title, min=-4, max=4):\n",
        "    x = torch.linspace(min, max, 100)\n",
        "    y = func(x)\n",
        "    plt.plot(x, y)\n",
        "    plt.title(title)\n",
        "    plt.xlabel('x')\n",
        "    plt.ylabel('y')\n",
        "    plt.grid(True)\n",
        "    plt.show()"
      ],
      "metadata": {
        "id": "VHGy2RChhHJv"
      },
      "execution_count": 35,
      "outputs": []
    },
    {
      "cell_type": "code",
      "source": [
        "plot_function(torch.sigmoid, title='Sigmoid', min=-4, max=4)"
      ],
      "metadata": {
        "id": "bFiF3MekggIc",
        "outputId": "9698b12a-3281-431d-f008-59991ec221a9",
        "colab": {
          "base_uri": "https://localhost:8080/",
          "height": 472
        }
      },
      "execution_count": 36,
      "outputs": [
        {
          "output_type": "display_data",
          "data": {
            "text/plain": [
              "<Figure size 640x480 with 1 Axes>"
            ],
            "image/png": "[encoded data removed]"
          },
          "metadata": {}
        }
      ]
    },
    {
      "cell_type": "code",
      "source": [
        "def mnist_loss(predictions, targets):\n",
        "    predictions = predictions.sigmoid()\n",
        "    return torch.where(targets==1, 1-predictions, predictions).mean()"
      ],
      "metadata": {
        "id": "k_UbasnUghnD"
      },
      "execution_count": 37,
      "outputs": []
    },
    {
      "cell_type": "code",
      "source": [
        "dl = DataLoader(dset, batch_size=256)\n",
        "valid_dl = DataLoader(valid_dset,batch_size=256)\n",
        "weights = initialise_params((28*28,1))\n",
        "bias = initialise_params(1)\n",
        "def linear_layer(x):\n",
        "  return x@weights+bias\n",
        "def calc_grad(x, y, model):\n",
        "    preds = model(x)\n",
        "    loss = mnist_loss(preds, y)\n",
        "    loss.backward()\n",
        "\n",
        "def train_epoch(model, lr, params):\n",
        "    for xb,yb in dl:\n",
        "        calc_grad(xb, yb, model)\n",
        "        for p in params:\n",
        "            p.data -= p.grad*lr\n",
        "            p.grad.zero_()\n",
        "\n",
        "def batch_accuracy(yp, y):\n",
        "    preds = yp.sigmoid()\n",
        "    correct = (preds>0.5) == y\n",
        "    return correct.float().mean()\n",
        "\n",
        "def validate_epoch(model):\n",
        "    accs = [batch_accuracy(model(xb), yb) for xb,yb in valid_dl]\n",
        "    return round(torch.stack(accs).mean().item(), 4)"
      ],
      "metadata": {
        "id": "iwFW9TauhQ2X"
      },
      "execution_count": 43,
      "outputs": []
    },
    {
      "cell_type": "code",
      "source": [
        "lr = 1.\n",
        "params = weights,bias\n",
        "for i in range(20):\n",
        "    train_epoch(linear_layer, lr, params)\n",
        "    print(validate_epoch(linear_layer), end=' ')"
      ],
      "metadata": {
        "colab": {
          "base_uri": "https://localhost:8080/"
        },
        "id": "LRnDatSbjAXe",
        "outputId": "897e481e-d911-42e3-8b12-901200e4d32d"
      },
      "execution_count": 44,
      "outputs": [
        {
          "output_type": "stream",
          "name": "stdout",
          "text": [
            "0.7456 0.8887 0.9306 0.9467 0.9579 0.9662 0.9677 0.9682 0.9706 0.9706 0.9726 0.9736 0.974 0.975 0.9755 0.976 0.9775 0.9785 0.9789 0.9789 "
          ]
        }
      ]
    },
    {
      "cell_type": "code",
      "source": [
        "linear_model = nn.Linear(28*28,1)\n",
        "w,b= linear_model.parameters()\n",
        "class BasicOptim:\n",
        "    def __init__(self,params,lr): self.params,self.lr = list(params),lr\n",
        "\n",
        "    def step(self, *args, **kwargs):\n",
        "        for p in self.params: p.data -= p.grad.data * self.lr\n",
        "\n",
        "    def zero_grad(self, *args, **kwargs):\n",
        "        for p in self.params: p.grad = None\n",
        "\n",
        "opt = BasicOptim(linear_model.parameters(), lr=0.1)"
      ],
      "metadata": {
        "id": "dHUSSA0ejm9O"
      },
      "execution_count": 51,
      "outputs": []
    },
    {
      "cell_type": "code",
      "source": [
        "# used for batch\n",
        "def model_func():\n",
        "  return nn.Linear(28*28,1)\n",
        "\n",
        "def accuracy(yp,y):\n",
        "  correct = ((yp.sigmoid()>0.5).float()==y)\n",
        "  return correct.float().mean()\n",
        "\n",
        "def calc_grad(x, y, model):\n",
        "    preds = model(x)\n",
        "    loss = mnist_loss(preds, y)\n",
        "    loss.backward()\n",
        "\n",
        "def valid_accuracy(model):\n",
        "    accs = [accuracy(model(xb), yb) for xb,yb in valid_dl]\n",
        "    return round(torch.stack(accs).mean().item(), 4)\n",
        "\n",
        "def train_epoch(model,opt):\n",
        "  for x,y in dl:\n",
        "    calc_grad(x,y,model)\n",
        "    opt.step()\n",
        "    opt.zero_grad()\n",
        "  print(valid_accuracy(model),end=' ')\n"
      ],
      "metadata": {
        "id": "ss6FiVsrkJeD"
      },
      "execution_count": 87,
      "outputs": []
    },
    {
      "cell_type": "code",
      "source": [
        "model = model_func()\n",
        "opt = BasicOptim(model.parameters(), lr=0.1)\n",
        "w,b = model.parameters()\n",
        "print(w.shape,b.shape)\n",
        "def train_model(model,opt,iter):\n",
        "  for i in range(iter):\n",
        "    train_epoch(model,opt)\n",
        "train_model(model,opt,20)"
      ],
      "metadata": {
        "colab": {
          "base_uri": "https://localhost:8080/"
        },
        "id": "geIZaUwXkxuD",
        "outputId": "b134e241-92b4-4e1f-8e6c-1d905ce40c71"
      },
      "execution_count": 91,
      "outputs": [
        {
          "output_type": "stream",
          "name": "stdout",
          "text": [
            "torch.Size([1, 784]) torch.Size([1])\n",
            "0.54 0.8652 0.9326 0.9526 0.9633 0.9638 0.9657 0.9667 0.9677 0.9687 0.9692 0.9701 0.9706 0.9711 0.9716 0.9716 0.9716 0.9716 0.9716 0.9716 "
          ]
        }
      ]
    },
    {
      "cell_type": "code",
      "source": [
        "# now replace optimizer by SGD implementation\n",
        "\n",
        "model = model_func()\n",
        "opt = SGD(model.parameters(),lr=0.1)\n",
        "train_model(model,opt,20)"
      ],
      "metadata": {
        "colab": {
          "base_uri": "https://localhost:8080/"
        },
        "id": "ry3EjukAm81R",
        "outputId": "00dad7f6-c0ba-4cd9-9341-d33342c5613e"
      },
      "execution_count": 93,
      "outputs": [
        {
          "output_type": "stream",
          "name": "stdout",
          "text": [
            "0.5459 0.8745 0.936 0.9536 0.9633 0.9633 0.9648 0.9667 0.9687 0.9687 0.9696 0.9701 0.9706 0.9716 0.9716 0.9716 0.9716 0.9716 0.9716 0.9716 "
          ]
        }
      ]
    },
    {
      "cell_type": "code",
      "source": [
        "# now fitting it all into a learner class\n",
        "\n",
        "datals = DataLoaders(dl, valid_dl)\n",
        "learner = Learner(datals,model_func(),opt_func = SGD,lr=0.1,loss_func=mnist_loss,metrics=accuracy)"
      ],
      "metadata": {
        "id": "LDZX-JrQqVxA"
      },
      "execution_count": 98,
      "outputs": []
    },
    {
      "cell_type": "code",
      "source": [
        "learner.fit(40)"
      ],
      "metadata": {
        "colab": {
          "base_uri": "https://localhost:8080/",
          "height": 1000
        },
        "id": "_3LKojYZrA9I",
        "outputId": "48ed9e50-ad9d-4c5c-ae38-3f7b7fe6261d"
      },
      "execution_count": 99,
      "outputs": [
        {
          "output_type": "display_data",
          "data": {
            "text/plain": [
              "<IPython.core.display.HTML object>"
            ],
            "text/html": [
              "\n",
              "<style>\n",
              "    /* Turns off some styling */\n",
              "    progress {\n",
              "        /* gets rid of default border in Firefox and Opera. */\n",
              "        border: none;\n",
              "        /* Needs to be in here for Safari polyfill so background images work as expected. */\n",
              "        background-size: auto;\n",
              "    }\n",
              "    progress:not([value]), progress:not([value])::-webkit-progress-bar {\n",
              "        background: repeating-linear-gradient(45deg, #7e7e7e, #7e7e7e 10px, #5c5c5c 10px, #5c5c5c 20px);\n",
              "    }\n",
              "    .progress-bar-interrupted, .progress-bar-interrupted::-webkit-progress-bar {\n",
              "        background: #F44336;\n",
              "    }\n",
              "</style>\n"
            ]
          },
          "metadata": {}
        },
        {
          "output_type": "display_data",
          "data": {
            "text/plain": [
              "<IPython.core.display.HTML object>"
            ],
            "text/html": [
              "<table border=\"1\" class=\"dataframe\">\n",
              "  <thead>\n",
              "    <tr style=\"text-align: left;\">\n",
              "      <th>epoch</th>\n",
              "      <th>train_loss</th>\n",
              "      <th>valid_loss</th>\n",
              "      <th>accuracy</th>\n",
              "      <th>time</th>\n",
              "    </tr>\n",
              "  </thead>\n",
              "  <tbody>\n",
              "    <tr>\n",
              "      <td>0</td>\n",
              "      <td>0.232902</td>\n",
              "      <td>0.372041</td>\n",
              "      <td>0.547105</td>\n",
              "      <td>00:00</td>\n",
              "    </tr>\n",
              "    <tr>\n",
              "      <td>1</td>\n",
              "      <td>0.126433</td>\n",
              "      <td>0.187105</td>\n",
              "      <td>0.865064</td>\n",
              "      <td>00:00</td>\n",
              "    </tr>\n",
              "    <tr>\n",
              "      <td>2</td>\n",
              "      <td>0.085431</td>\n",
              "      <td>0.109228</td>\n",
              "      <td>0.934249</td>\n",
              "      <td>00:00</td>\n",
              "    </tr>\n",
              "    <tr>\n",
              "      <td>3</td>\n",
              "      <td>0.066204</td>\n",
              "      <td>0.080965</td>\n",
              "      <td>0.953876</td>\n",
              "      <td>00:00</td>\n",
              "    </tr>\n",
              "    <tr>\n",
              "      <td>4</td>\n",
              "      <td>0.055995</td>\n",
              "      <td>0.067255</td>\n",
              "      <td>0.963690</td>\n",
              "      <td>00:00</td>\n",
              "    </tr>\n",
              "    <tr>\n",
              "      <td>5</td>\n",
              "      <td>0.049925</td>\n",
              "      <td>0.059247</td>\n",
              "      <td>0.963690</td>\n",
              "      <td>00:00</td>\n",
              "    </tr>\n",
              "    <tr>\n",
              "      <td>6</td>\n",
              "      <td>0.045917</td>\n",
              "      <td>0.053988</td>\n",
              "      <td>0.965162</td>\n",
              "      <td>00:00</td>\n",
              "    </tr>\n",
              "    <tr>\n",
              "      <td>7</td>\n",
              "      <td>0.043029</td>\n",
              "      <td>0.050250</td>\n",
              "      <td>0.967615</td>\n",
              "      <td>00:00</td>\n",
              "    </tr>\n",
              "    <tr>\n",
              "      <td>8</td>\n",
              "      <td>0.040805</td>\n",
              "      <td>0.047442</td>\n",
              "      <td>0.968106</td>\n",
              "      <td>00:00</td>\n",
              "    </tr>\n",
              "    <tr>\n",
              "      <td>9</td>\n",
              "      <td>0.039010</td>\n",
              "      <td>0.045242</td>\n",
              "      <td>0.968597</td>\n",
              "      <td>00:00</td>\n",
              "    </tr>\n",
              "    <tr>\n",
              "      <td>10</td>\n",
              "      <td>0.037511</td>\n",
              "      <td>0.043465</td>\n",
              "      <td>0.969578</td>\n",
              "      <td>00:00</td>\n",
              "    </tr>\n",
              "    <tr>\n",
              "      <td>11</td>\n",
              "      <td>0.036231</td>\n",
              "      <td>0.041991</td>\n",
              "      <td>0.971050</td>\n",
              "      <td>00:00</td>\n",
              "    </tr>\n",
              "    <tr>\n",
              "      <td>12</td>\n",
              "      <td>0.035117</td>\n",
              "      <td>0.040744</td>\n",
              "      <td>0.971541</td>\n",
              "      <td>00:00</td>\n",
              "    </tr>\n",
              "    <tr>\n",
              "      <td>13</td>\n",
              "      <td>0.034136</td>\n",
              "      <td>0.039672</td>\n",
              "      <td>0.972522</td>\n",
              "      <td>00:00</td>\n",
              "    </tr>\n",
              "    <tr>\n",
              "      <td>14</td>\n",
              "      <td>0.033261</td>\n",
              "      <td>0.038736</td>\n",
              "      <td>0.972031</td>\n",
              "      <td>00:00</td>\n",
              "    </tr>\n",
              "    <tr>\n",
              "      <td>15</td>\n",
              "      <td>0.032475</td>\n",
              "      <td>0.037910</td>\n",
              "      <td>0.972031</td>\n",
              "      <td>00:00</td>\n",
              "    </tr>\n",
              "    <tr>\n",
              "      <td>16</td>\n",
              "      <td>0.031763</td>\n",
              "      <td>0.037173</td>\n",
              "      <td>0.972522</td>\n",
              "      <td>00:00</td>\n",
              "    </tr>\n",
              "    <tr>\n",
              "      <td>17</td>\n",
              "      <td>0.031114</td>\n",
              "      <td>0.036510</td>\n",
              "      <td>0.972522</td>\n",
              "      <td>00:00</td>\n",
              "    </tr>\n",
              "    <tr>\n",
              "      <td>18</td>\n",
              "      <td>0.030520</td>\n",
              "      <td>0.035908</td>\n",
              "      <td>0.972522</td>\n",
              "      <td>00:00</td>\n",
              "    </tr>\n",
              "    <tr>\n",
              "      <td>19</td>\n",
              "      <td>0.029972</td>\n",
              "      <td>0.035358</td>\n",
              "      <td>0.972522</td>\n",
              "      <td>00:00</td>\n",
              "    </tr>\n",
              "    <tr>\n",
              "      <td>20</td>\n",
              "      <td>0.029466</td>\n",
              "      <td>0.034853</td>\n",
              "      <td>0.972522</td>\n",
              "      <td>00:00</td>\n",
              "    </tr>\n",
              "    <tr>\n",
              "      <td>21</td>\n",
              "      <td>0.028995</td>\n",
              "      <td>0.034387</td>\n",
              "      <td>0.972522</td>\n",
              "      <td>00:00</td>\n",
              "    </tr>\n",
              "    <tr>\n",
              "      <td>22</td>\n",
              "      <td>0.028557</td>\n",
              "      <td>0.033954</td>\n",
              "      <td>0.972522</td>\n",
              "      <td>00:00</td>\n",
              "    </tr>\n",
              "    <tr>\n",
              "      <td>23</td>\n",
              "      <td>0.028147</td>\n",
              "      <td>0.033551</td>\n",
              "      <td>0.973013</td>\n",
              "      <td>00:00</td>\n",
              "    </tr>\n",
              "    <tr>\n",
              "      <td>24</td>\n",
              "      <td>0.027763</td>\n",
              "      <td>0.033174</td>\n",
              "      <td>0.974485</td>\n",
              "      <td>00:00</td>\n",
              "    </tr>\n",
              "    <tr>\n",
              "      <td>25</td>\n",
              "      <td>0.027402</td>\n",
              "      <td>0.032820</td>\n",
              "      <td>0.974975</td>\n",
              "      <td>00:00</td>\n",
              "    </tr>\n",
              "    <tr>\n",
              "      <td>26</td>\n",
              "      <td>0.027062</td>\n",
              "      <td>0.032487</td>\n",
              "      <td>0.975957</td>\n",
              "      <td>00:00</td>\n",
              "    </tr>\n",
              "    <tr>\n",
              "      <td>27</td>\n",
              "      <td>0.026740</td>\n",
              "      <td>0.032172</td>\n",
              "      <td>0.975957</td>\n",
              "      <td>00:00</td>\n",
              "    </tr>\n",
              "    <tr>\n",
              "      <td>28</td>\n",
              "      <td>0.026436</td>\n",
              "      <td>0.031874</td>\n",
              "      <td>0.975957</td>\n",
              "      <td>00:00</td>\n",
              "    </tr>\n",
              "    <tr>\n",
              "      <td>29</td>\n",
              "      <td>0.026147</td>\n",
              "      <td>0.031592</td>\n",
              "      <td>0.976448</td>\n",
              "      <td>00:00</td>\n",
              "    </tr>\n",
              "    <tr>\n",
              "      <td>30</td>\n",
              "      <td>0.025873</td>\n",
              "      <td>0.031323</td>\n",
              "      <td>0.976448</td>\n",
              "      <td>00:00</td>\n",
              "    </tr>\n",
              "    <tr>\n",
              "      <td>31</td>\n",
              "      <td>0.025612</td>\n",
              "      <td>0.031068</td>\n",
              "      <td>0.976448</td>\n",
              "      <td>00:00</td>\n",
              "    </tr>\n",
              "    <tr>\n",
              "      <td>32</td>\n",
              "      <td>0.025363</td>\n",
              "      <td>0.030824</td>\n",
              "      <td>0.976938</td>\n",
              "      <td>00:00</td>\n",
              "    </tr>\n",
              "    <tr>\n",
              "      <td>33</td>\n",
              "      <td>0.025125</td>\n",
              "      <td>0.030591</td>\n",
              "      <td>0.976938</td>\n",
              "      <td>00:00</td>\n",
              "    </tr>\n",
              "    <tr>\n",
              "      <td>34</td>\n",
              "      <td>0.024897</td>\n",
              "      <td>0.030368</td>\n",
              "      <td>0.976938</td>\n",
              "      <td>00:00</td>\n",
              "    </tr>\n",
              "    <tr>\n",
              "      <td>35</td>\n",
              "      <td>0.024680</td>\n",
              "      <td>0.030154</td>\n",
              "      <td>0.977429</td>\n",
              "      <td>00:00</td>\n",
              "    </tr>\n",
              "    <tr>\n",
              "      <td>36</td>\n",
              "      <td>0.024471</td>\n",
              "      <td>0.029949</td>\n",
              "      <td>0.977429</td>\n",
              "      <td>00:00</td>\n",
              "    </tr>\n",
              "    <tr>\n",
              "      <td>37</td>\n",
              "      <td>0.024270</td>\n",
              "      <td>0.029752</td>\n",
              "      <td>0.977429</td>\n",
              "      <td>00:00</td>\n",
              "    </tr>\n",
              "    <tr>\n",
              "      <td>38</td>\n",
              "      <td>0.024078</td>\n",
              "      <td>0.029562</td>\n",
              "      <td>0.977429</td>\n",
              "      <td>00:00</td>\n",
              "    </tr>\n",
              "    <tr>\n",
              "      <td>39</td>\n",
              "      <td>0.023892</td>\n",
              "      <td>0.029379</td>\n",
              "      <td>0.977429</td>\n",
              "      <td>00:00</td>\n",
              "    </tr>\n",
              "  </tbody>\n",
              "</table>"
            ]
          },
          "metadata": {}
        }
      ]
    },
    {
      "cell_type": "code",
      "source": [
        "plt.plot(L(learner.recorder.values).itemgot(2));"
      ],
      "metadata": {
        "colab": {
          "base_uri": "https://localhost:8080/",
          "height": 430
        },
        "id": "NKALLMS9sdVp",
        "outputId": "e208c825-5780-4027-e95e-21f4545d3ed6"
      },
      "execution_count": 105,
      "outputs": [
        {
          "output_type": "display_data",
          "data": {
            "text/plain": [
              "<Figure size 640x480 with 1 Axes>"
            ],
            "image/png": "[encoded data removed]"
          },
          "metadata": {}
        }
      ]
    },
    {
      "cell_type": "code",
      "source": [
        "simple_net = nn.Sequential(\n",
        "    nn.Linear(28*28,30),\n",
        "    nn.ReLU(),\n",
        "    nn.Linear(30,1)\n",
        ")\n",
        "\n",
        "learner2 = Learner(datals,simple_net,opt_func = SGD,lr=0.1,loss_func=mnist_loss,metrics=accuracy)\n",
        "learner2.fit(40)"
      ],
      "metadata": {
        "colab": {
          "base_uri": "https://localhost:8080/",
          "height": 1000
        },
        "id": "nTrcSLFurFKI",
        "outputId": "93fdfc28-94a5-4980-c31a-54332cd42bb9"
      },
      "execution_count": 101,
      "outputs": [
        {
          "output_type": "display_data",
          "data": {
            "text/plain": [
              "<IPython.core.display.HTML object>"
            ],
            "text/html": [
              "\n",
              "<style>\n",
              "    /* Turns off some styling */\n",
              "    progress {\n",
              "        /* gets rid of default border in Firefox and Opera. */\n",
              "        border: none;\n",
              "        /* Needs to be in here for Safari polyfill so background images work as expected. */\n",
              "        background-size: auto;\n",
              "    }\n",
              "    progress:not([value]), progress:not([value])::-webkit-progress-bar {\n",
              "        background: repeating-linear-gradient(45deg, #7e7e7e, #7e7e7e 10px, #5c5c5c 10px, #5c5c5c 20px);\n",
              "    }\n",
              "    .progress-bar-interrupted, .progress-bar-interrupted::-webkit-progress-bar {\n",
              "        background: #F44336;\n",
              "    }\n",
              "</style>\n"
            ]
          },
          "metadata": {}
        },
        {
          "output_type": "display_data",
          "data": {
            "text/plain": [
              "<IPython.core.display.HTML object>"
            ],
            "text/html": [
              "<table border=\"1\" class=\"dataframe\">\n",
              "  <thead>\n",
              "    <tr style=\"text-align: left;\">\n",
              "      <th>epoch</th>\n",
              "      <th>train_loss</th>\n",
              "      <th>valid_loss</th>\n",
              "      <th>accuracy</th>\n",
              "      <th>time</th>\n",
              "    </tr>\n",
              "  </thead>\n",
              "  <tbody>\n",
              "    <tr>\n",
              "      <td>0</td>\n",
              "      <td>0.298347</td>\n",
              "      <td>0.419335</td>\n",
              "      <td>0.504416</td>\n",
              "      <td>00:00</td>\n",
              "    </tr>\n",
              "    <tr>\n",
              "      <td>1</td>\n",
              "      <td>0.142238</td>\n",
              "      <td>0.230081</td>\n",
              "      <td>0.804220</td>\n",
              "      <td>00:00</td>\n",
              "    </tr>\n",
              "    <tr>\n",
              "      <td>2</td>\n",
              "      <td>0.079518</td>\n",
              "      <td>0.116220</td>\n",
              "      <td>0.915113</td>\n",
              "      <td>00:00</td>\n",
              "    </tr>\n",
              "    <tr>\n",
              "      <td>3</td>\n",
              "      <td>0.052726</td>\n",
              "      <td>0.078822</td>\n",
              "      <td>0.939647</td>\n",
              "      <td>00:00</td>\n",
              "    </tr>\n",
              "    <tr>\n",
              "      <td>4</td>\n",
              "      <td>0.040243</td>\n",
              "      <td>0.061752</td>\n",
              "      <td>0.953876</td>\n",
              "      <td>00:00</td>\n",
              "    </tr>\n",
              "    <tr>\n",
              "      <td>5</td>\n",
              "      <td>0.033829</td>\n",
              "      <td>0.052081</td>\n",
              "      <td>0.964181</td>\n",
              "      <td>00:00</td>\n",
              "    </tr>\n",
              "    <tr>\n",
              "      <td>6</td>\n",
              "      <td>0.030122</td>\n",
              "      <td>0.045923</td>\n",
              "      <td>0.964671</td>\n",
              "      <td>00:00</td>\n",
              "    </tr>\n",
              "    <tr>\n",
              "      <td>7</td>\n",
              "      <td>0.027703</td>\n",
              "      <td>0.041687</td>\n",
              "      <td>0.966634</td>\n",
              "      <td>00:00</td>\n",
              "    </tr>\n",
              "    <tr>\n",
              "      <td>8</td>\n",
              "      <td>0.025952</td>\n",
              "      <td>0.038603</td>\n",
              "      <td>0.967615</td>\n",
              "      <td>00:00</td>\n",
              "    </tr>\n",
              "    <tr>\n",
              "      <td>9</td>\n",
              "      <td>0.024591</td>\n",
              "      <td>0.036248</td>\n",
              "      <td>0.969087</td>\n",
              "      <td>00:00</td>\n",
              "    </tr>\n",
              "    <tr>\n",
              "      <td>10</td>\n",
              "      <td>0.023483</td>\n",
              "      <td>0.034381</td>\n",
              "      <td>0.971541</td>\n",
              "      <td>00:00</td>\n",
              "    </tr>\n",
              "    <tr>\n",
              "      <td>11</td>\n",
              "      <td>0.022556</td>\n",
              "      <td>0.032853</td>\n",
              "      <td>0.972522</td>\n",
              "      <td>00:00</td>\n",
              "    </tr>\n",
              "    <tr>\n",
              "      <td>12</td>\n",
              "      <td>0.021763</td>\n",
              "      <td>0.031571</td>\n",
              "      <td>0.974485</td>\n",
              "      <td>00:00</td>\n",
              "    </tr>\n",
              "    <tr>\n",
              "      <td>13</td>\n",
              "      <td>0.021077</td>\n",
              "      <td>0.030472</td>\n",
              "      <td>0.975466</td>\n",
              "      <td>00:00</td>\n",
              "    </tr>\n",
              "    <tr>\n",
              "      <td>14</td>\n",
              "      <td>0.020474</td>\n",
              "      <td>0.029516</td>\n",
              "      <td>0.976448</td>\n",
              "      <td>00:00</td>\n",
              "    </tr>\n",
              "    <tr>\n",
              "      <td>15</td>\n",
              "      <td>0.019940</td>\n",
              "      <td>0.028674</td>\n",
              "      <td>0.976938</td>\n",
              "      <td>00:00</td>\n",
              "    </tr>\n",
              "    <tr>\n",
              "      <td>16</td>\n",
              "      <td>0.019460</td>\n",
              "      <td>0.027924</td>\n",
              "      <td>0.977920</td>\n",
              "      <td>00:00</td>\n",
              "    </tr>\n",
              "    <tr>\n",
              "      <td>17</td>\n",
              "      <td>0.019027</td>\n",
              "      <td>0.027253</td>\n",
              "      <td>0.978410</td>\n",
              "      <td>00:00</td>\n",
              "    </tr>\n",
              "    <tr>\n",
              "      <td>18</td>\n",
              "      <td>0.018633</td>\n",
              "      <td>0.026647</td>\n",
              "      <td>0.977920</td>\n",
              "      <td>00:00</td>\n",
              "    </tr>\n",
              "    <tr>\n",
              "      <td>19</td>\n",
              "      <td>0.018271</td>\n",
              "      <td>0.026098</td>\n",
              "      <td>0.978410</td>\n",
              "      <td>00:00</td>\n",
              "    </tr>\n",
              "    <tr>\n",
              "      <td>20</td>\n",
              "      <td>0.017938</td>\n",
              "      <td>0.025597</td>\n",
              "      <td>0.978901</td>\n",
              "      <td>00:00</td>\n",
              "    </tr>\n",
              "    <tr>\n",
              "      <td>21</td>\n",
              "      <td>0.017629</td>\n",
              "      <td>0.025139</td>\n",
              "      <td>0.978901</td>\n",
              "      <td>00:00</td>\n",
              "    </tr>\n",
              "    <tr>\n",
              "      <td>22</td>\n",
              "      <td>0.017341</td>\n",
              "      <td>0.024716</td>\n",
              "      <td>0.978901</td>\n",
              "      <td>00:00</td>\n",
              "    </tr>\n",
              "    <tr>\n",
              "      <td>23</td>\n",
              "      <td>0.017073</td>\n",
              "      <td>0.024326</td>\n",
              "      <td>0.979882</td>\n",
              "      <td>00:00</td>\n",
              "    </tr>\n",
              "    <tr>\n",
              "      <td>24</td>\n",
              "      <td>0.016820</td>\n",
              "      <td>0.023966</td>\n",
              "      <td>0.979882</td>\n",
              "      <td>00:00</td>\n",
              "    </tr>\n",
              "    <tr>\n",
              "      <td>25</td>\n",
              "      <td>0.016583</td>\n",
              "      <td>0.023630</td>\n",
              "      <td>0.980373</td>\n",
              "      <td>00:00</td>\n",
              "    </tr>\n",
              "    <tr>\n",
              "      <td>26</td>\n",
              "      <td>0.016360</td>\n",
              "      <td>0.023317</td>\n",
              "      <td>0.980373</td>\n",
              "      <td>00:00</td>\n",
              "    </tr>\n",
              "    <tr>\n",
              "      <td>27</td>\n",
              "      <td>0.016148</td>\n",
              "      <td>0.023025</td>\n",
              "      <td>0.981354</td>\n",
              "      <td>00:00</td>\n",
              "    </tr>\n",
              "    <tr>\n",
              "      <td>28</td>\n",
              "      <td>0.015947</td>\n",
              "      <td>0.022752</td>\n",
              "      <td>0.981845</td>\n",
              "      <td>00:00</td>\n",
              "    </tr>\n",
              "    <tr>\n",
              "      <td>29</td>\n",
              "      <td>0.015757</td>\n",
              "      <td>0.022496</td>\n",
              "      <td>0.981845</td>\n",
              "      <td>00:00</td>\n",
              "    </tr>\n",
              "    <tr>\n",
              "      <td>30</td>\n",
              "      <td>0.015575</td>\n",
              "      <td>0.022257</td>\n",
              "      <td>0.981845</td>\n",
              "      <td>00:00</td>\n",
              "    </tr>\n",
              "    <tr>\n",
              "      <td>31</td>\n",
              "      <td>0.015402</td>\n",
              "      <td>0.022032</td>\n",
              "      <td>0.982336</td>\n",
              "      <td>00:00</td>\n",
              "    </tr>\n",
              "    <tr>\n",
              "      <td>32</td>\n",
              "      <td>0.015237</td>\n",
              "      <td>0.021821</td>\n",
              "      <td>0.981845</td>\n",
              "      <td>00:00</td>\n",
              "    </tr>\n",
              "    <tr>\n",
              "      <td>33</td>\n",
              "      <td>0.015080</td>\n",
              "      <td>0.021623</td>\n",
              "      <td>0.981845</td>\n",
              "      <td>00:00</td>\n",
              "    </tr>\n",
              "    <tr>\n",
              "      <td>34</td>\n",
              "      <td>0.014928</td>\n",
              "      <td>0.021437</td>\n",
              "      <td>0.982826</td>\n",
              "      <td>00:00</td>\n",
              "    </tr>\n",
              "    <tr>\n",
              "      <td>35</td>\n",
              "      <td>0.014783</td>\n",
              "      <td>0.021261</td>\n",
              "      <td>0.982336</td>\n",
              "      <td>00:00</td>\n",
              "    </tr>\n",
              "    <tr>\n",
              "      <td>36</td>\n",
              "      <td>0.014644</td>\n",
              "      <td>0.021096</td>\n",
              "      <td>0.982336</td>\n",
              "      <td>00:00</td>\n",
              "    </tr>\n",
              "    <tr>\n",
              "      <td>37</td>\n",
              "      <td>0.014510</td>\n",
              "      <td>0.020940</td>\n",
              "      <td>0.982336</td>\n",
              "      <td>00:00</td>\n",
              "    </tr>\n",
              "    <tr>\n",
              "      <td>38</td>\n",
              "      <td>0.014381</td>\n",
              "      <td>0.020792</td>\n",
              "      <td>0.982826</td>\n",
              "      <td>00:00</td>\n",
              "    </tr>\n",
              "    <tr>\n",
              "      <td>39</td>\n",
              "      <td>0.014257</td>\n",
              "      <td>0.020651</td>\n",
              "      <td>0.982826</td>\n",
              "      <td>00:00</td>\n",
              "    </tr>\n",
              "  </tbody>\n",
              "</table>"
            ]
          },
          "metadata": {}
        }
      ]
    },
    {
      "cell_type": "code",
      "source": [
        "plt.plot(L(learner2.recorder.values).itemgot(2));"
      ],
      "metadata": {
        "colab": {
          "base_uri": "https://localhost:8080/",
          "height": 431
        },
        "id": "bMbCWAvtr76y",
        "outputId": "aef014fb-ec62-4600-cd55-3bccfc27a3a0"
      },
      "execution_count": 103,
      "outputs": [
        {
          "output_type": "display_data",
          "data": {
            "text/plain": [
              "<Figure size 640x480 with 1 Axes>"
            ],
            "image/png": "[encoded data removed]"
          },
          "metadata": {}
        }
      ]
    },
    {
      "cell_type": "code",
      "source": [
        "learner.recorder.values"
      ],
      "metadata": {
        "colab": {
          "base_uri": "https://localhost:8080/"
        },
        "id": "wMeYYP2osaYu",
        "outputId": "be0e658a-15f1-4bca-8c7c-4e38e327127d"
      },
      "execution_count": 107,
      "outputs": [
        {
          "output_type": "execute_result",
          "data": {
            "text/plain": [
              "[(#3) [0.23290184140205383,0.37204083800315857,0.5471050143241882],\n",
              " (#3) [0.1264326423406601,0.18710532784461975,0.8650637865066528],\n",
              " (#3) [0.085431307554245,0.10922802239656448,0.9342492818832397],\n",
              " (#3) [0.06620422750711441,0.08096526563167572,0.9538763761520386],\n",
              " (#3) [0.05599546432495117,0.06725496053695679,0.9636898636817932],\n",
              " (#3) [0.049924712628126144,0.05924733728170395,0.9636898636817932],\n",
              " (#3) [0.04591681435704231,0.053987979888916016,0.965161919593811],\n",
              " (#3) [0.04302883520722389,0.050250373780727386,0.9676153063774109],\n",
              " (#3) [0.040805090218782425,0.04744180664420128,0.9681059718132019],\n",
              " (#3) [0.03900979459285736,0.045242391526699066,0.9685966372489929],\n",
              " (#3) [0.037511467933654785,0.04346451908349991,0.9695780277252197],\n",
              " (#3) [0.036230992525815964,0.04199086129665375,0.9710500240325928],\n",
              " (#3) [0.03511739894747734,0.04074428603053093,0.9715407490730286],\n",
              " (#3) [0.03413581848144531,0.03967190161347389,0.9725220799446106],\n",
              " (#3) [0.033261243253946304,0.038736261427402496,0.9720314145088196],\n",
              " (#3) [0.032475125044584274,0.037910085171461105,0.9720314145088196],\n",
              " (#3) [0.0317632220685482,0.03717302903532982,0.9725220799446106],\n",
              " (#3) [0.031114423647522926,0.03650960698723793,0.9725220799446106],\n",
              " (#3) [0.030519837513566017,0.035907816141843796,0.9725220799446106],\n",
              " (#3) [0.0299722608178854,0.03535822778940201,0.9725220799446106],\n",
              " (#3) [0.02946576662361622,0.03485329821705818,0.9725220799446106],\n",
              " (#3) [0.028995443135499954,0.03438694030046463,0.9725220799446106],\n",
              " (#3) [0.02855716273188591,0.0339541919529438,0.9725220799446106],\n",
              " (#3) [0.02814743109047413,0.0335509292781353,0.9730127453804016],\n",
              " (#3) [0.02776326984167099,0.03317373991012573,0.9744848012924194],\n",
              " (#3) [0.027402108535170555,0.032819751650094986,0.9749754667282104],\n",
              " (#3) [0.02706172503530979,0.03248651325702667,0.9759567975997925],\n",
              " (#3) [0.026740191504359245,0.03217193856835365,0.9759567975997925],\n",
              " (#3) [0.026435809209942818,0.031874239444732666,0.9759567975997925],\n",
              " (#3) [0.02614710107445717,0.03159186989068985,0.9764475226402283],\n",
              " (#3) [0.025872746482491493,0.03132346272468567,0.9764475226402283],\n",
              " (#3) [0.025611575692892075,0.031067844480276108,0.9764475226402283],\n",
              " (#3) [0.025362564250826836,0.03082396648824215,0.9769381880760193],\n",
              " (#3) [0.025124773383140564,0.030590903013944626,0.9769381880760193],\n",
              " (#3) [0.024897372350096703,0.030367840081453323,0.9769381880760193],\n",
              " (#3) [0.02467961609363556,0.030154038220643997,0.9774288535118103],\n",
              " (#3) [0.024470819160342216,0.029948845505714417,0.9774288535118103],\n",
              " (#3) [0.024270374327898026,0.02975166030228138,0.9774288535118103],\n",
              " (#3) [0.024077733978629112,0.0295619647949934,0.9774288535118103],\n",
              " (#3) [0.02389238402247429,0.029379257932305336,0.9774288535118103]]"
            ]
          },
          "metadata": {},
          "execution_count": 107
        }
      ]
    },
    {
      "cell_type": "code",
      "source": [
        "dls = ImageDataLoaders.from_folder(path)\n",
        "learn = cnn_learner(dls, resnet18, pretrained=False,\n",
        "                    loss_func=F.cross_entropy)\n",
        "learn.fit_one_cycle(1, 0.1)"
      ],
      "metadata": {
        "colab": {
          "base_uri": "https://localhost:8080/",
          "height": 81
        },
        "id": "pLo9RqJvskp_",
        "outputId": "a67f50ae-9fb3-418d-87b5-cc6d39aa8904"
      },
      "execution_count": 111,
      "outputs": [
        {
          "output_type": "display_data",
          "data": {
            "text/plain": [
              "<IPython.core.display.HTML object>"
            ],
            "text/html": [
              "\n",
              "<style>\n",
              "    /* Turns off some styling */\n",
              "    progress {\n",
              "        /* gets rid of default border in Firefox and Opera. */\n",
              "        border: none;\n",
              "        /* Needs to be in here for Safari polyfill so background images work as expected. */\n",
              "        background-size: auto;\n",
              "    }\n",
              "    progress:not([value]), progress:not([value])::-webkit-progress-bar {\n",
              "        background: repeating-linear-gradient(45deg, #7e7e7e, #7e7e7e 10px, #5c5c5c 10px, #5c5c5c 20px);\n",
              "    }\n",
              "    .progress-bar-interrupted, .progress-bar-interrupted::-webkit-progress-bar {\n",
              "        background: #F44336;\n",
              "    }\n",
              "</style>\n"
            ]
          },
          "metadata": {}
        },
        {
          "output_type": "display_data",
          "data": {
            "text/plain": [
              "<IPython.core.display.HTML object>"
            ],
            "text/html": [
              "<table border=\"1\" class=\"dataframe\">\n",
              "  <thead>\n",
              "    <tr style=\"text-align: left;\">\n",
              "      <th>epoch</th>\n",
              "      <th>train_loss</th>\n",
              "      <th>valid_loss</th>\n",
              "      <th>time</th>\n",
              "    </tr>\n",
              "  </thead>\n",
              "  <tbody>\n",
              "    <tr>\n",
              "      <td>0</td>\n",
              "      <td>0.135501</td>\n",
              "      <td>0.008845</td>\n",
              "      <td>00:14</td>\n",
              "    </tr>\n",
              "  </tbody>\n",
              "</table>"
            ]
          },
          "metadata": {}
        }
      ]
    },
    {
      "cell_type": "code",
      "source": [],
      "metadata": {
        "id": "7zMR2Bdssvx8"
      },
      "execution_count": null,
      "outputs": []
    }
  ]
}