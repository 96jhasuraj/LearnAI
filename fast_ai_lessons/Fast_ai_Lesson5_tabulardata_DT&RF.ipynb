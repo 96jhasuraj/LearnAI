{
  "nbformat": 4,
  "nbformat_minor": 0,
  "metadata": {
    "colab": {
      "provenance": []
    },
    "kernelspec": {
      "name": "python3",
      "display_name": "Python 3"
    },
    "language_info": {
      "name": "python"
    }
  },
  "cells": [
    {
      "cell_type": "markdown",
      "source": [
        "1. learn.lr_find\n",
        "2. working with tabular data\n",
        "3. preprocessing"
      ],
      "metadata": {
        "id": "3mXJhvDn2Uok"
      }
    },
    {
      "cell_type": "code",
      "execution_count": 1,
      "metadata": {
        "colab": {
          "base_uri": "https://localhost:8080/",
          "height": 108
        },
        "id": "22zkiRlQbGgF",
        "outputId": "e1c84bbd-79b4-4a5c-f80f-80a2c8d7ff5a"
      },
      "outputs": [
        {
          "output_type": "display_data",
          "data": {
            "text/plain": [
              "<IPython.core.display.HTML object>"
            ],
            "text/html": [
              "\n",
              "     <input type=\"file\" id=\"files-b479fc73-2e23-423d-ad1d-d4b512fcbc90\" name=\"files[]\" multiple disabled\n",
              "        style=\"border:none\" />\n",
              "     <output id=\"result-b479fc73-2e23-423d-ad1d-d4b512fcbc90\">\n",
              "      Upload widget is only available when the cell has been executed in the\n",
              "      current browser session. Please rerun this cell to enable.\n",
              "      </output>\n",
              "      <script>// Copyright 2017 Google LLC\n",
              "//\n",
              "// Licensed under the Apache License, Version 2.0 (the \"License\");\n",
              "// you may not use this file except in compliance with the License.\n",
              "// You may obtain a copy of the License at\n",
              "//\n",
              "//      http://www.apache.org/licenses/LICENSE-2.0\n",
              "//\n",
              "// Unless required by applicable law or agreed to in writing, software\n",
              "// distributed under the License is distributed on an \"AS IS\" BASIS,\n",
              "// WITHOUT WARRANTIES OR CONDITIONS OF ANY KIND, either express or implied.\n",
              "// See the License for the specific language governing permissions and\n",
              "// limitations under the License.\n",
              "\n",
              "/**\n",
              " * @fileoverview Helpers for google.colab Python module.\n",
              " */\n",
              "(function(scope) {\n",
              "function span(text, styleAttributes = {}) {\n",
              "  const element = document.createElement('span');\n",
              "  element.textContent = text;\n",
              "  for (const key of Object.keys(styleAttributes)) {\n",
              "    element.style[key] = styleAttributes[key];\n",
              "  }\n",
              "  return element;\n",
              "}\n",
              "\n",
              "// Max number of bytes which will be uploaded at a time.\n",
              "const MAX_PAYLOAD_SIZE = 100 * 1024;\n",
              "\n",
              "function _uploadFiles(inputId, outputId) {\n",
              "  const steps = uploadFilesStep(inputId, outputId);\n",
              "  const outputElement = document.getElementById(outputId);\n",
              "  // Cache steps on the outputElement to make it available for the next call\n",
              "  // to uploadFilesContinue from Python.\n",
              "  outputElement.steps = steps;\n",
              "\n",
              "  return _uploadFilesContinue(outputId);\n",
              "}\n",
              "\n",
              "// This is roughly an async generator (not supported in the browser yet),\n",
              "// where there are multiple asynchronous steps and the Python side is going\n",
              "// to poll for completion of each step.\n",
              "// This uses a Promise to block the python side on completion of each step,\n",
              "// then passes the result of the previous step as the input to the next step.\n",
              "function _uploadFilesContinue(outputId) {\n",
              "  const outputElement = document.getElementById(outputId);\n",
              "  const steps = outputElement.steps;\n",
              "\n",
              "  const next = steps.next(outputElement.lastPromiseValue);\n",
              "  return Promise.resolve(next.value.promise).then((value) => {\n",
              "    // Cache the last promise value to make it available to the next\n",
              "    // step of the generator.\n",
              "    outputElement.lastPromiseValue = value;\n",
              "    return next.value.response;\n",
              "  });\n",
              "}\n",
              "\n",
              "/**\n",
              " * Generator function which is called between each async step of the upload\n",
              " * process.\n",
              " * @param {string} inputId Element ID of the input file picker element.\n",
              " * @param {string} outputId Element ID of the output display.\n",
              " * @return {!Iterable<!Object>} Iterable of next steps.\n",
              " */\n",
              "function* uploadFilesStep(inputId, outputId) {\n",
              "  const inputElement = document.getElementById(inputId);\n",
              "  inputElement.disabled = false;\n",
              "\n",
              "  const outputElement = document.getElementById(outputId);\n",
              "  outputElement.innerHTML = '';\n",
              "\n",
              "  const pickedPromise = new Promise((resolve) => {\n",
              "    inputElement.addEventListener('change', (e) => {\n",
              "      resolve(e.target.files);\n",
              "    });\n",
              "  });\n",
              "\n",
              "  const cancel = document.createElement('button');\n",
              "  inputElement.parentElement.appendChild(cancel);\n",
              "  cancel.textContent = 'Cancel upload';\n",
              "  const cancelPromise = new Promise((resolve) => {\n",
              "    cancel.onclick = () => {\n",
              "      resolve(null);\n",
              "    };\n",
              "  });\n",
              "\n",
              "  // Wait for the user to pick the files.\n",
              "  const files = yield {\n",
              "    promise: Promise.race([pickedPromise, cancelPromise]),\n",
              "    response: {\n",
              "      action: 'starting',\n",
              "    }\n",
              "  };\n",
              "\n",
              "  cancel.remove();\n",
              "\n",
              "  // Disable the input element since further picks are not allowed.\n",
              "  inputElement.disabled = true;\n",
              "\n",
              "  if (!files) {\n",
              "    return {\n",
              "      response: {\n",
              "        action: 'complete',\n",
              "      }\n",
              "    };\n",
              "  }\n",
              "\n",
              "  for (const file of files) {\n",
              "    const li = document.createElement('li');\n",
              "    li.append(span(file.name, {fontWeight: 'bold'}));\n",
              "    li.append(span(\n",
              "        `(${file.type || 'n/a'}) - ${file.size} bytes, ` +\n",
              "        `last modified: ${\n",
              "            file.lastModifiedDate ? file.lastModifiedDate.toLocaleDateString() :\n",
              "                                    'n/a'} - `));\n",
              "    const percent = span('0% done');\n",
              "    li.appendChild(percent);\n",
              "\n",
              "    outputElement.appendChild(li);\n",
              "\n",
              "    const fileDataPromise = new Promise((resolve) => {\n",
              "      const reader = new FileReader();\n",
              "      reader.onload = (e) => {\n",
              "        resolve(e.target.result);\n",
              "      };\n",
              "      reader.readAsArrayBuffer(file);\n",
              "    });\n",
              "    // Wait for the data to be ready.\n",
              "    let fileData = yield {\n",
              "      promise: fileDataPromise,\n",
              "      response: {\n",
              "        action: 'continue',\n",
              "      }\n",
              "    };\n",
              "\n",
              "    // Use a chunked sending to avoid message size limits. See b/62115660.\n",
              "    let position = 0;\n",
              "    do {\n",
              "      const length = Math.min(fileData.byteLength - position, MAX_PAYLOAD_SIZE);\n",
              "      const chunk = new Uint8Array(fileData, position, length);\n",
              "      position += length;\n",
              "\n",
              "      const base64 = btoa(String.fromCharCode.apply(null, chunk));\n",
              "      yield {\n",
              "        response: {\n",
              "          action: 'append',\n",
              "          file: file.name,\n",
              "          data: base64,\n",
              "        },\n",
              "      };\n",
              "\n",
              "      let percentDone = fileData.byteLength === 0 ?\n",
              "          100 :\n",
              "          Math.round((position / fileData.byteLength) * 100);\n",
              "      percent.textContent = `${percentDone}% done`;\n",
              "\n",
              "    } while (position < fileData.byteLength);\n",
              "  }\n",
              "\n",
              "  // All done.\n",
              "  yield {\n",
              "    response: {\n",
              "      action: 'complete',\n",
              "    }\n",
              "  };\n",
              "}\n",
              "\n",
              "scope.google = scope.google || {};\n",
              "scope.google.colab = scope.google.colab || {};\n",
              "scope.google.colab._files = {\n",
              "  _uploadFiles,\n",
              "  _uploadFilesContinue,\n",
              "};\n",
              "})(self);\n",
              "</script> "
            ]
          },
          "metadata": {}
        },
        {
          "output_type": "stream",
          "name": "stdout",
          "text": [
            "Saving kaggle.json to kaggle.json\n"
          ]
        },
        {
          "output_type": "execute_result",
          "data": {
            "text/plain": [
              "{'kaggle.json': b'{\"username\":\"surajjha96\",\"key\":\"fbbbdadb1d757ce8e7a20bfdf79bdc5c\"}'}"
            ]
          },
          "metadata": {},
          "execution_count": 1
        }
      ],
      "source": [
        "from google.colab import files\n",
        "files.upload()  # Upload the kaggle.json file here"
      ]
    },
    {
      "cell_type": "code",
      "source": [
        "!pip install kaggle -Uqq\n",
        "!mkdir -p /root/.config/kaggle\n",
        "!mv kaggle.json /root/.config/kaggle/\n",
        "!chmod 600 /root/.config/kaggle/kaggle.json"
      ],
      "metadata": {
        "id": "qSkCnARTbs49"
      },
      "execution_count": 2,
      "outputs": []
    },
    {
      "cell_type": "code",
      "source": [
        "import os\n",
        "from pathlib import Path\n",
        "import torch, numpy as np, pandas as pd\n",
        "np.set_printoptions(linewidth=100)\n",
        "torch.set_printoptions(linewidth=100, sci_mode=False, edgeitems=7)\n",
        "pd.set_option('display.width', 100)"
      ],
      "metadata": {
        "id": "MTU21Bq0b10w"
      },
      "execution_count": 3,
      "outputs": []
    },
    {
      "cell_type": "code",
      "source": [
        "path = Path('titanic')\n",
        "if not path.exists():\n",
        "    import zipfile,kaggle\n",
        "    kaggle.api.competition_download_cli(str(path))\n",
        "    zipfile.ZipFile(f'{path}.zip').extractall(path)"
      ],
      "metadata": {
        "id": "4vxv2OnKcBDM"
      },
      "execution_count": 4,
      "outputs": []
    },
    {
      "cell_type": "code",
      "source": [
        "from fastai.imports import *\n",
        "np.set_printoptions(linewidth=130)"
      ],
      "metadata": {
        "id": "XSFb9FRfqKXC"
      },
      "execution_count": 5,
      "outputs": []
    },
    {
      "cell_type": "code",
      "source": [
        "df = pd.read_csv(path/'train.csv')\n",
        "tst_df = pd.read_csv(path/'test.csv')\n",
        "modes = df.mode().iloc[0]"
      ],
      "metadata": {
        "id": "ryBTMsqCcFaE"
      },
      "execution_count": 6,
      "outputs": []
    },
    {
      "cell_type": "code",
      "source": [
        "def proc_data(df):\n",
        "    df['Fare'] = df.Fare.fillna(0)\n",
        "    df.fillna(modes, inplace=True)\n",
        "    df['LogFare'] = np.log1p(df['Fare'])\n",
        "    df['Embarked'] = pd.Categorical(df.Embarked)\n",
        "    df['Sex'] = pd.Categorical(df.Sex)\n",
        "\n",
        "proc_data(df)\n",
        "proc_data(tst_df)"
      ],
      "metadata": {
        "id": "4jfWsAR8dNHL"
      },
      "execution_count": 7,
      "outputs": []
    },
    {
      "cell_type": "code",
      "source": [
        "cats=[\"Sex\",\"Embarked\"]\n",
        "conts=['Age', 'SibSp', 'Parch', 'LogFare',\"Pclass\"]\n",
        "dep=\"Survived\""
      ],
      "metadata": {
        "id": "QN00oju6pkQY"
      },
      "execution_count": 8,
      "outputs": []
    },
    {
      "cell_type": "code",
      "source": [
        "df.columns,df.head(1)"
      ],
      "metadata": {
        "id": "MG0785yKpKJu",
        "colab": {
          "base_uri": "https://localhost:8080/"
        },
        "outputId": "e28119e4-7314-4635-fed0-837cf01fe817"
      },
      "execution_count": 9,
      "outputs": [
        {
          "output_type": "execute_result",
          "data": {
            "text/plain": [
              "(Index(['PassengerId', 'Survived', 'Pclass', 'Name', 'Sex', 'Age', 'SibSp', 'Parch', 'Ticket',\n",
              "        'Fare', 'Cabin', 'Embarked', 'LogFare'],\n",
              "       dtype='object'),\n",
              "    PassengerId  Survived  Pclass                     Name   Sex   Age  SibSp  Parch     Ticket  \\\n",
              " 0            1         0       3  Braund, Mr. Owen Harris  male  22.0      1      0  A/5 21171   \n",
              " \n",
              "    Fare    Cabin Embarked   LogFare  \n",
              " 0  7.25  B96 B98        S  2.110213  )"
            ]
          },
          "metadata": {},
          "execution_count": 9
        }
      ]
    },
    {
      "cell_type": "code",
      "source": [
        "df.Sex,df.Sex.head(),df.Sex.cat.codes.head()"
      ],
      "metadata": {
        "colab": {
          "base_uri": "https://localhost:8080/"
        },
        "id": "C8FEhn3Cp3HC",
        "outputId": "908b5110-b0c5-435f-ea0f-7fb037735d3a"
      },
      "execution_count": 10,
      "outputs": [
        {
          "output_type": "execute_result",
          "data": {
            "text/plain": [
              "(0        male\n",
              " 1      female\n",
              " 2      female\n",
              " 3      female\n",
              " 4        male\n",
              "         ...  \n",
              " 886      male\n",
              " 887    female\n",
              " 888    female\n",
              " 889      male\n",
              " 890      male\n",
              " Name: Sex, Length: 891, dtype: category\n",
              " Categories (2, object): ['female', 'male'],\n",
              " 0      male\n",
              " 1    female\n",
              " 2    female\n",
              " 3    female\n",
              " 4      male\n",
              " Name: Sex, dtype: category\n",
              " Categories (2, object): ['female', 'male'],\n",
              " 0    1\n",
              " 1    0\n",
              " 2    0\n",
              " 3    0\n",
              " 4    1\n",
              " dtype: int8)"
            ]
          },
          "metadata": {},
          "execution_count": 10
        }
      ]
    },
    {
      "cell_type": "code",
      "source": [
        "import seaborn as sns\n",
        "\n",
        "fig,axs = plt.subplots(1,2, figsize=(11,5))\n",
        "sns.barplot(data=df, y=dep, x=\"Pclass\", ax=axs[0]).set(title=\"Survival rate\")\n",
        "sns.countplot(data=df, x=\"Pclass\", ax=axs[1]).set(title=\"Histogram\");"
      ],
      "metadata": {
        "id": "f0IQGGqIqOMi",
        "colab": {
          "base_uri": "https://localhost:8080/",
          "height": 345
        },
        "outputId": "f6a6f753-3fbd-4b30-c724-bdc0bfe53733"
      },
      "execution_count": 11,
      "outputs": [
        {
          "output_type": "display_data",
          "data": {
            "text/plain": [
              "<Figure size 1100x500 with 2 Axes>"
            ],
            "image/png": "[encoded data removed]"
          },
          "metadata": {}
        }
      ]
    },
    {
      "cell_type": "code",
      "source": [
        "from numpy import random\n",
        "from sklearn.model_selection import train_test_split\n",
        "\n",
        "random.seed(42)\n",
        "trn_df,val_df = train_test_split(df, test_size=0.25)\n",
        "trn_df[cats] = trn_df[cats].apply(lambda x: x.cat.codes)\n",
        "val_df[cats] = val_df[cats].apply(lambda x: x.cat.codes)"
      ],
      "metadata": {
        "id": "IXMG1wI07BRY"
      },
      "execution_count": 12,
      "outputs": []
    },
    {
      "cell_type": "code",
      "source": [
        "def xs_y(df):\n",
        "    xs = df[cats+conts].copy()\n",
        "    return xs,df[dep] if dep in df else None\n",
        "\n",
        "trn_xs,trn_y = xs_y(trn_df)\n",
        "val_xs,val_y = xs_y(val_df)"
      ],
      "metadata": {
        "id": "evNeOTj17BWo"
      },
      "execution_count": 13,
      "outputs": []
    },
    {
      "cell_type": "code",
      "source": [
        "#model1 -> just bsed on sex\n",
        "preds = val_xs.Sex==0\n",
        "from sklearn.metrics import mean_absolute_error\n",
        "mean_absolute_error(val_y, preds)"
      ],
      "metadata": {
        "id": "sNsl-lQZ7BZk",
        "colab": {
          "base_uri": "https://localhost:8080/"
        },
        "outputId": "c2f4dd78-efd0-46c0-ca98-9b752d05ac58"
      },
      "execution_count": 14,
      "outputs": [
        {
          "output_type": "execute_result",
          "data": {
            "text/plain": [
              "0.21524663677130046"
            ]
          },
          "metadata": {},
          "execution_count": 14
        }
      ]
    },
    {
      "cell_type": "code",
      "source": [
        "df_fare = trn_df[trn_df.LogFare>0]\n",
        "fig,axs = plt.subplots(1,2, figsize=(11,5))\n",
        "sns.boxenplot(data=df_fare, x=dep, y=\"LogFare\", ax=axs[0])\n",
        "sns.kdeplot(data=df_fare[df_fare['Survived']==1], x=\"LogFare\", ax=axs[1]);\n",
        "sns.kdeplot(data=df_fare[df_fare['Survived']==0], x=\"LogFare\", ax=axs[1]);"
      ],
      "metadata": {
        "colab": {
          "base_uri": "https://localhost:8080/",
          "height": 334
        },
        "id": "YFn0I2Oc7Bc5",
        "outputId": "2045c131-310e-44a0-8bbc-9e602020d2fc"
      },
      "execution_count": 15,
      "outputs": [
        {
          "output_type": "display_data",
          "data": {
            "text/plain": [
              "<Figure size 1100x500 with 2 Axes>"
            ],
            "image/png": "[encoded data removed]"
          },
          "metadata": {}
        }
      ]
    },
    {
      "cell_type": "code",
      "source": [
        "#model2: more money -> survived\n",
        "preds = val_xs.LogFare>2.7\n",
        "mean_absolute_error(val_y, preds)"
      ],
      "metadata": {
        "colab": {
          "base_uri": "https://localhost:8080/"
        },
        "id": "EMX6fMlP7BfP",
        "outputId": "96e7284d-9c51-4047-c48c-71ddd5902caf"
      },
      "execution_count": 16,
      "outputs": [
        {
          "output_type": "execute_result",
          "data": {
            "text/plain": [
              "0.336322869955157"
            ]
          },
          "metadata": {},
          "execution_count": 16
        }
      ]
    },
    {
      "cell_type": "code",
      "source": [
        "def _side_score(side, y):\n",
        "    tot = side.sum()\n",
        "    if tot<=1: return 0\n",
        "    return y[side].std()*tot\n",
        "def score(col, y, split):\n",
        "    lhs = col<=split\n",
        "    return (_side_score(lhs,y) + _side_score(~lhs,y))/len(y)\n",
        "def min_col(df, nm):\n",
        "    col,y = df[nm],df[dep]\n",
        "    unq = col.dropna().unique()\n",
        "    scores = np.array([score(col, y, o) for o in unq if not np.isnan(o)])\n",
        "    idx = scores.argmin()\n",
        "    return unq[idx],scores[idx]"
      ],
      "metadata": {
        "id": "_3mSTSx37BiE"
      },
      "execution_count": 17,
      "outputs": []
    },
    {
      "cell_type": "code",
      "source": [
        "cols = cats+conts\n",
        "{o:min_col(trn_df, o) for o in cols}"
      ],
      "metadata": {
        "colab": {
          "base_uri": "https://localhost:8080/"
        },
        "id": "w56oLh3XujIz",
        "outputId": "407c932a-9452-4c2c-d1e2-d1d266cfd0f8"
      },
      "execution_count": 18,
      "outputs": [
        {
          "output_type": "execute_result",
          "data": {
            "text/plain": [
              "{'Sex': (np.int8(0), np.float64(0.4078753098206398)),\n",
              " 'Embarked': (np.int8(0), np.float64(0.478833425731479)),\n",
              " 'Age': (np.float64(6.0), np.float64(0.47831671750899085)),\n",
              " 'SibSp': (np.int64(4), np.float64(0.4783740258817423)),\n",
              " 'Parch': (np.int64(0), np.float64(0.4805296527841601)),\n",
              " 'LogFare': (np.float64(2.4390808375825834), np.float64(0.4620823937736595)),\n",
              " 'Pclass': (np.int64(2), np.float64(0.4604826188580666))}"
            ]
          },
          "metadata": {},
          "execution_count": 18
        }
      ]
    },
    {
      "cell_type": "code",
      "source": [
        "# this shows Sex is the best split for this dataset"
      ],
      "metadata": {
        "id": "hSAYZP63ujoP"
      },
      "execution_count": 19,
      "outputs": []
    },
    {
      "cell_type": "code",
      "source": [
        "cols.remove(\"Sex\")\n",
        "ismale = trn_df.Sex==1\n",
        "males,females = trn_df[ismale],trn_df[~ismale]"
      ],
      "metadata": {
        "id": "rgSQtUcqvvsw"
      },
      "execution_count": 20,
      "outputs": []
    },
    {
      "cell_type": "code",
      "source": [
        "#split for males\n",
        "{o:min_col(males, o) for o in cols}"
      ],
      "metadata": {
        "id": "HEwuXkEGx0pC",
        "outputId": "7bbf6a9b-913f-4209-9868-38c943b779f1",
        "colab": {
          "base_uri": "https://localhost:8080/"
        }
      },
      "execution_count": 21,
      "outputs": [
        {
          "output_type": "execute_result",
          "data": {
            "text/plain": [
              "{'Embarked': (np.int8(0), np.float64(0.387558187041091)),\n",
              " 'Age': (np.float64(6.0), np.float64(0.37398283710105873)),\n",
              " 'SibSp': (np.int64(4), np.float64(0.38758642275862637)),\n",
              " 'Parch': (np.int64(0), np.float64(0.3874704821461953)),\n",
              " 'LogFare': (np.float64(2.803360380906535), np.float64(0.38048562317581447)),\n",
              " 'Pclass': (np.int64(1), np.float64(0.3815544200436083))}"
            ]
          },
          "metadata": {},
          "execution_count": 21
        }
      ]
    },
    {
      "cell_type": "code",
      "source": [
        "#Age , which is logical"
      ],
      "metadata": {
        "id": "Oz_PO5P4x4xL"
      },
      "execution_count": 22,
      "outputs": []
    },
    {
      "cell_type": "code",
      "source": [
        "#split for females\n",
        "{o:min_col(females, o) for o in cols}"
      ],
      "metadata": {
        "id": "FIVx4E6Ix9zm",
        "outputId": "380760e7-ae20-4fbe-deec-fe01c633bad4",
        "colab": {
          "base_uri": "https://localhost:8080/"
        }
      },
      "execution_count": 23,
      "outputs": [
        {
          "output_type": "execute_result",
          "data": {
            "text/plain": [
              "{'Embarked': (np.int8(0), np.float64(0.4295252982857326)),\n",
              " 'Age': (np.float64(50.0), np.float64(0.4225927658431646)),\n",
              " 'SibSp': (np.int64(4), np.float64(0.42319212059713585)),\n",
              " 'Parch': (np.int64(3), np.float64(0.4193314500446157)),\n",
              " 'LogFare': (np.float64(4.256321678298823), np.float64(0.413505983329114)),\n",
              " 'Pclass': (np.int64(2), np.float64(0.3335388911567602))}"
            ]
          },
          "metadata": {},
          "execution_count": 23
        }
      ]
    },
    {
      "cell_type": "code",
      "source": [
        "#Pclass for females.\n",
        "#So males <6 or rich females"
      ],
      "metadata": {
        "id": "-ZXL43vAyCE8"
      },
      "execution_count": 24,
      "outputs": []
    },
    {
      "cell_type": "code",
      "source": [
        "#using DT\n",
        "from sklearn.tree import DecisionTreeClassifier, export_graphviz\n",
        "\n",
        "m = DecisionTreeClassifier(max_leaf_nodes=20).fit(trn_xs, trn_y);\n",
        "import graphviz\n",
        "\n",
        "def draw_tree(t, df, size=10, ratio=0.6, precision=2, **kwargs):\n",
        "    s=export_graphviz(t, out_file=None, feature_names=df.columns, filled=True, rounded=True,\n",
        "                      special_characters=True, rotate=False, precision=precision, **kwargs)\n",
        "    return graphviz.Source(re.sub('Tree {', f'Tree {{ size={size}; ratio={ratio}', s))"
      ],
      "metadata": {
        "id": "vTEL2E1YyHPV"
      },
      "execution_count": 25,
      "outputs": []
    },
    {
      "cell_type": "code",
      "source": [
        "draw_tree(m, trn_xs, size=10)"
      ],
      "metadata": {
        "id": "Zvjek7kmyUby",
        "outputId": "71d0bd46-b13f-4ba2-bef2-c6e8e28f0593",
        "colab": {
          "base_uri": "https://localhost:8080/",
          "height": 619
        }
      },
      "execution_count": 26,
      "outputs": [
        {
          "output_type": "execute_result",
          "data": {
            "image/svg+xml": "<?xml version=\"1.0\" encoding=\"UTF-8\" standalone=\"no\"?>\n<!DOCTYPE svg PUBLIC \"-//W3C//DTD SVG 1.1//EN\"\n \"http://www.w3.org/Graphics/SVG/1.1/DTD/svg11.dtd\">\n<!-- Generated by graphviz version 2.43.0 (0)\n -->\n<!-- Title: Tree Pages: 1 -->\n<svg width=\"720pt\" height=\"433pt\"\n viewBox=\"0.00 0.00 720.00 432.94\" xmlns=\"http://www.w3.org/2000/svg\" xmlns:xlink=\"http://www.w3.org/1999/xlink\">\n<g id=\"graph0\" class=\"graph\" transform=\"scale(0.36 0.36) rotate(0) translate(4 1201)\">\n<title>Tree</title>\n<polygon fill=\"white\" stroke=\"transparent\" points=\"-4,4 -4,-1201 1999.96,-1201 1999.96,4 -4,4\"/>\n<!-- 0 -->\n<g id=\"node1\" class=\"node\">\n<title>0</title>\n<path fill=\"#f5ceb2\" stroke=\"black\" d=\"M1117.91,-1197C1117.91,-1197 1016.91,-1197 1016.91,-1197 1010.91,-1197 1004.91,-1191 1004.91,-1185 1004.91,-1185 1004.91,-1141 1004.91,-1141 1004.91,-1135 1010.91,-1129 1016.91,-1129 1016.91,-1129 1117.91,-1129 1117.91,-1129 1123.91,-1129 1129.91,-1135 1129.91,-1141 1129.91,-1141 1129.91,-1185 1129.91,-1185 1129.91,-1191 1123.91,-1197 1117.91,-1197\"/>\n<text text-anchor=\"start\" x=\"1038.41\" y=\"-1181.8\" font-family=\"Helvetica,sans-Serif\" font-size=\"14.00\">Sex ≤ 0.5</text>\n<text text-anchor=\"start\" x=\"1035.41\" y=\"-1166.8\" font-family=\"Helvetica,sans-Serif\" font-size=\"14.00\">gini = 0.47</text>\n<text text-anchor=\"start\" x=\"1022.41\" y=\"-1151.8\" font-family=\"Helvetica,sans-Serif\" font-size=\"14.00\">samples = 668</text>\n<text text-anchor=\"start\" x=\"1012.91\" y=\"-1136.8\" font-family=\"Helvetica,sans-Serif\" font-size=\"14.00\">value = [415, 253]</text>\n</g>\n<!-- 1 -->\n<g id=\"node2\" class=\"node\">\n<title>1</title>\n<path fill=\"#7ebfee\" stroke=\"black\" d=\"M984.91,-1093C984.91,-1093 891.91,-1093 891.91,-1093 885.91,-1093 879.91,-1087 879.91,-1081 879.91,-1081 879.91,-1037 879.91,-1037 879.91,-1031 885.91,-1025 891.91,-1025 891.91,-1025 984.91,-1025 984.91,-1025 990.91,-1025 996.91,-1031 996.91,-1037 996.91,-1037 996.91,-1081 996.91,-1081 996.91,-1087 990.91,-1093 984.91,-1093\"/>\n<text text-anchor=\"start\" x=\"901.41\" y=\"-1077.8\" font-family=\"Helvetica,sans-Serif\" font-size=\"14.00\">Pclass ≤ 2.5</text>\n<text text-anchor=\"start\" x=\"906.41\" y=\"-1062.8\" font-family=\"Helvetica,sans-Serif\" font-size=\"14.00\">gini = 0.38</text>\n<text text-anchor=\"start\" x=\"893.41\" y=\"-1047.8\" font-family=\"Helvetica,sans-Serif\" font-size=\"14.00\">samples = 229</text>\n<text text-anchor=\"start\" x=\"887.91\" y=\"-1032.8\" font-family=\"Helvetica,sans-Serif\" font-size=\"14.00\">value = [59, 170]</text>\n</g>\n<!-- 0&#45;&gt;1 -->\n<g id=\"edge1\" class=\"edge\">\n<title>0&#45;&gt;1</title>\n<path fill=\"none\" stroke=\"black\" d=\"M1025.52,-1128.88C1013.69,-1119.53 1000.7,-1109.26 988.45,-1099.57\"/>\n<polygon fill=\"black\" stroke=\"black\" points=\"990.53,-1096.76 980.52,-1093.3 986.19,-1102.25 990.53,-1096.76\"/>\n<text text-anchor=\"middle\" x=\"983.42\" y=\"-1114.43\" font-family=\"Helvetica,sans-Serif\" font-size=\"14.00\">True</text>\n</g>\n<!-- 2 -->\n<g id=\"node31\" class=\"node\">\n<title>2</title>\n<path fill=\"#eb9e67\" stroke=\"black\" d=\"M1335.91,-1093C1335.91,-1093 1242.91,-1093 1242.91,-1093 1236.91,-1093 1230.91,-1087 1230.91,-1081 1230.91,-1081 1230.91,-1037 1230.91,-1037 1230.91,-1031 1236.91,-1025 1242.91,-1025 1242.91,-1025 1335.91,-1025 1335.91,-1025 1341.91,-1025 1347.91,-1031 1347.91,-1037 1347.91,-1037 1347.91,-1081 1347.91,-1081 1347.91,-1087 1341.91,-1093 1335.91,-1093\"/>\n<text text-anchor=\"start\" x=\"1260.41\" y=\"-1077.8\" font-family=\"Helvetica,sans-Serif\" font-size=\"14.00\">Age ≤ 6.5</text>\n<text text-anchor=\"start\" x=\"1257.41\" y=\"-1062.8\" font-family=\"Helvetica,sans-Serif\" font-size=\"14.00\">gini = 0.31</text>\n<text text-anchor=\"start\" x=\"1244.41\" y=\"-1047.8\" font-family=\"Helvetica,sans-Serif\" font-size=\"14.00\">samples = 439</text>\n<text text-anchor=\"start\" x=\"1238.91\" y=\"-1032.8\" font-family=\"Helvetica,sans-Serif\" font-size=\"14.00\">value = [356, 83]</text>\n</g>\n<!-- 0&#45;&gt;2 -->\n<g id=\"edge30\" class=\"edge\">\n<title>0&#45;&gt;2</title>\n<path fill=\"none\" stroke=\"black\" d=\"M1130.13,-1133.18C1158.59,-1120.1 1192.31,-1104.61 1221.38,-1091.25\"/>\n<polygon fill=\"black\" stroke=\"black\" points=\"1223.02,-1094.35 1230.65,-1087 1220.1,-1087.99 1223.02,-1094.35\"/>\n<text text-anchor=\"middle\" x=\"1221.96\" y=\"-1106.74\" font-family=\"Helvetica,sans-Serif\" font-size=\"14.00\">False</text>\n</g>\n<!-- 3 -->\n<g id=\"node3\" class=\"node\">\n<title>3</title>\n<path fill=\"#40a0e6\" stroke=\"black\" d=\"M735.41,-981.5C735.41,-981.5 649.41,-981.5 649.41,-981.5 643.41,-981.5 637.41,-975.5 637.41,-969.5 637.41,-969.5 637.41,-940.5 637.41,-940.5 637.41,-934.5 643.41,-928.5 649.41,-928.5 649.41,-928.5 735.41,-928.5 735.41,-928.5 741.41,-928.5 747.41,-934.5 747.41,-940.5 747.41,-940.5 747.41,-969.5 747.41,-969.5 747.41,-975.5 741.41,-981.5 735.41,-981.5\"/>\n<text text-anchor=\"start\" x=\"660.41\" y=\"-966.3\" font-family=\"Helvetica,sans-Serif\" font-size=\"14.00\">gini = 0.06</text>\n<text text-anchor=\"start\" x=\"647.41\" y=\"-951.3\" font-family=\"Helvetica,sans-Serif\" font-size=\"14.00\">samples = 120</text>\n<text text-anchor=\"start\" x=\"645.41\" y=\"-936.3\" font-family=\"Helvetica,sans-Serif\" font-size=\"14.00\">value = [4, 116]</text>\n</g>\n<!-- 1&#45;&gt;3 -->\n<g id=\"edge2\" class=\"edge\">\n<title>1&#45;&gt;3</title>\n<path fill=\"none\" stroke=\"black\" d=\"M879.8,-1033.7C842.85,-1018.38 795.11,-998.59 757.07,-982.81\"/>\n<polygon fill=\"black\" stroke=\"black\" points=\"758.19,-979.49 747.61,-978.89 755.51,-985.95 758.19,-979.49\"/>\n</g>\n<!-- 4 -->\n<g id=\"node4\" class=\"node\">\n<title>4</title>\n<path fill=\"#fffdfb\" stroke=\"black\" d=\"M981.41,-989C981.41,-989 895.41,-989 895.41,-989 889.41,-989 883.41,-983 883.41,-977 883.41,-977 883.41,-933 883.41,-933 883.41,-927 889.41,-921 895.41,-921 895.41,-921 981.41,-921 981.41,-921 987.41,-921 993.41,-927 993.41,-933 993.41,-933 993.41,-977 993.41,-977 993.41,-983 987.41,-989 981.41,-989\"/>\n<text text-anchor=\"start\" x=\"892.41\" y=\"-973.8\" font-family=\"Helvetica,sans-Serif\" font-size=\"14.00\">LogFare ≤ 3.19</text>\n<text text-anchor=\"start\" x=\"910.41\" y=\"-958.8\" font-family=\"Helvetica,sans-Serif\" font-size=\"14.00\">gini = 0.5</text>\n<text text-anchor=\"start\" x=\"893.41\" y=\"-943.8\" font-family=\"Helvetica,sans-Serif\" font-size=\"14.00\">samples = 109</text>\n<text text-anchor=\"start\" x=\"891.41\" y=\"-928.8\" font-family=\"Helvetica,sans-Serif\" font-size=\"14.00\">value = [55, 54]</text>\n</g>\n<!-- 1&#45;&gt;4 -->\n<g id=\"edge3\" class=\"edge\">\n<title>1&#45;&gt;4</title>\n<path fill=\"none\" stroke=\"black\" d=\"M938.41,-1024.88C938.41,-1016.78 938.41,-1007.98 938.41,-999.47\"/>\n<polygon fill=\"black\" stroke=\"black\" points=\"941.91,-999.3 938.41,-989.3 934.91,-999.3 941.91,-999.3\"/>\n</g>\n<!-- 7 -->\n<g id=\"node5\" class=\"node\">\n<title>7</title>\n<path fill=\"#c7e3f8\" stroke=\"black\" d=\"M732.41,-885C732.41,-885 624.41,-885 624.41,-885 618.41,-885 612.41,-879 612.41,-873 612.41,-873 612.41,-829 612.41,-829 612.41,-823 618.41,-817 624.41,-817 624.41,-817 732.41,-817 732.41,-817 738.41,-817 744.41,-823 744.41,-829 744.41,-829 744.41,-873 744.41,-873 744.41,-879 738.41,-885 732.41,-885\"/>\n<text text-anchor=\"start\" x=\"645.41\" y=\"-869.8\" font-family=\"Helvetica,sans-Serif\" font-size=\"14.00\">Age ≤ 36.5</text>\n<text text-anchor=\"start\" x=\"646.41\" y=\"-854.8\" font-family=\"Helvetica,sans-Serif\" font-size=\"14.00\">gini = 0.49</text>\n<text text-anchor=\"start\" x=\"637.41\" y=\"-839.8\" font-family=\"Helvetica,sans-Serif\" font-size=\"14.00\">samples = 91</text>\n<text text-anchor=\"start\" x=\"620.41\" y=\"-824.8\" font-family=\"Helvetica,sans-Serif\" font-size=\"14.00\">value = [38.0, 53.0]</text>\n</g>\n<!-- 4&#45;&gt;7 -->\n<g id=\"edge4\" class=\"edge\">\n<title>4&#45;&gt;7</title>\n<path fill=\"none\" stroke=\"black\" d=\"M883.27,-932.37C845.65,-917.61 795.35,-897.88 754.01,-881.66\"/>\n<polygon fill=\"black\" stroke=\"black\" points=\"755.11,-878.33 744.52,-877.94 752.55,-884.85 755.11,-878.33\"/>\n</g>\n<!-- 8 -->\n<g id=\"node30\" class=\"node\">\n<title>8</title>\n<path fill=\"#e78845\" stroke=\"black\" d=\"M977.41,-877.5C977.41,-877.5 899.41,-877.5 899.41,-877.5 893.41,-877.5 887.41,-871.5 887.41,-865.5 887.41,-865.5 887.41,-836.5 887.41,-836.5 887.41,-830.5 893.41,-824.5 899.41,-824.5 899.41,-824.5 977.41,-824.5 977.41,-824.5 983.41,-824.5 989.41,-830.5 989.41,-836.5 989.41,-836.5 989.41,-865.5 989.41,-865.5 989.41,-871.5 983.41,-877.5 977.41,-877.5\"/>\n<text text-anchor=\"start\" x=\"910.41\" y=\"-862.3\" font-family=\"Helvetica,sans-Serif\" font-size=\"14.00\">gini = 0.1</text>\n<text text-anchor=\"start\" x=\"897.41\" y=\"-847.3\" font-family=\"Helvetica,sans-Serif\" font-size=\"14.00\">samples = 18</text>\n<text text-anchor=\"start\" x=\"895.41\" y=\"-832.3\" font-family=\"Helvetica,sans-Serif\" font-size=\"14.00\">value = [17, 1]</text>\n</g>\n<!-- 4&#45;&gt;8 -->\n<g id=\"edge29\" class=\"edge\">\n<title>4&#45;&gt;8</title>\n<path fill=\"none\" stroke=\"black\" d=\"M938.41,-920.88C938.41,-910.33 938.41,-898.6 938.41,-887.85\"/>\n<polygon fill=\"black\" stroke=\"black\" points=\"941.91,-887.52 938.41,-877.52 934.91,-887.52 941.91,-887.52\"/>\n</g>\n<!-- 13 -->\n<g id=\"node6\" class=\"node\">\n<title>13</title>\n<path fill=\"#b8dcf6\" stroke=\"black\" d=\"M605.41,-781C605.41,-781 519.41,-781 519.41,-781 513.41,-781 507.41,-775 507.41,-769 507.41,-769 507.41,-725 507.41,-725 507.41,-719 513.41,-713 519.41,-713 519.41,-713 605.41,-713 605.41,-713 611.41,-713 617.41,-719 617.41,-725 617.41,-725 617.41,-769 617.41,-769 617.41,-775 611.41,-781 605.41,-781\"/>\n<text text-anchor=\"start\" x=\"516.41\" y=\"-765.8\" font-family=\"Helvetica,sans-Serif\" font-size=\"14.00\">LogFare ≤ 2.17</text>\n<text text-anchor=\"start\" x=\"530.41\" y=\"-750.8\" font-family=\"Helvetica,sans-Serif\" font-size=\"14.00\">gini = 0.48</text>\n<text text-anchor=\"start\" x=\"521.41\" y=\"-735.8\" font-family=\"Helvetica,sans-Serif\" font-size=\"14.00\">samples = 87</text>\n<text text-anchor=\"start\" x=\"515.41\" y=\"-720.8\" font-family=\"Helvetica,sans-Serif\" font-size=\"14.00\">value = [34, 53]</text>\n</g>\n<!-- 7&#45;&gt;13 -->\n<g id=\"edge5\" class=\"edge\">\n<title>7&#45;&gt;13</title>\n<path fill=\"none\" stroke=\"black\" d=\"M640.74,-816.88C630.31,-807.71 618.87,-797.65 608.04,-788.12\"/>\n<polygon fill=\"black\" stroke=\"black\" points=\"610.1,-785.27 600.28,-781.3 605.47,-790.53 610.1,-785.27\"/>\n</g>\n<!-- 14 -->\n<g id=\"node29\" class=\"node\">\n<title>14</title>\n<path fill=\"#e58139\" stroke=\"black\" d=\"M831.91,-773.5C831.91,-773.5 760.91,-773.5 760.91,-773.5 754.91,-773.5 748.91,-767.5 748.91,-761.5 748.91,-761.5 748.91,-732.5 748.91,-732.5 748.91,-726.5 754.91,-720.5 760.91,-720.5 760.91,-720.5 831.91,-720.5 831.91,-720.5 837.91,-720.5 843.91,-726.5 843.91,-732.5 843.91,-732.5 843.91,-761.5 843.91,-761.5 843.91,-767.5 837.91,-773.5 831.91,-773.5\"/>\n<text text-anchor=\"start\" x=\"768.41\" y=\"-758.3\" font-family=\"Helvetica,sans-Serif\" font-size=\"14.00\">gini = 0.0</text>\n<text text-anchor=\"start\" x=\"758.91\" y=\"-743.3\" font-family=\"Helvetica,sans-Serif\" font-size=\"14.00\">samples = 4</text>\n<text text-anchor=\"start\" x=\"756.91\" y=\"-728.3\" font-family=\"Helvetica,sans-Serif\" font-size=\"14.00\">value = [4, 0]</text>\n</g>\n<!-- 7&#45;&gt;14 -->\n<g id=\"edge28\" class=\"edge\">\n<title>7&#45;&gt;14</title>\n<path fill=\"none\" stroke=\"black\" d=\"M716.72,-816.88C730.33,-805.12 745.63,-791.89 759.15,-780.2\"/>\n<polygon fill=\"black\" stroke=\"black\" points=\"761.61,-782.71 766.88,-773.52 757.03,-777.41 761.61,-782.71\"/>\n</g>\n<!-- 17 -->\n<g id=\"node7\" class=\"node\">\n<title>17</title>\n<path fill=\"#5dafea\" stroke=\"black\" d=\"M483.41,-677C483.41,-677 399.41,-677 399.41,-677 393.41,-677 387.41,-671 387.41,-665 387.41,-665 387.41,-621 387.41,-621 387.41,-615 393.41,-609 399.41,-609 399.41,-609 483.41,-609 483.41,-609 489.41,-609 495.41,-615 495.41,-621 495.41,-621 495.41,-665 495.41,-665 495.41,-671 489.41,-677 483.41,-677\"/>\n<text text-anchor=\"start\" x=\"395.41\" y=\"-661.8\" font-family=\"Helvetica,sans-Serif\" font-size=\"14.00\">LogFare ≤ 2.08</text>\n<text text-anchor=\"start\" x=\"409.41\" y=\"-646.8\" font-family=\"Helvetica,sans-Serif\" font-size=\"14.00\">gini = 0.26</text>\n<text text-anchor=\"start\" x=\"400.41\" y=\"-631.8\" font-family=\"Helvetica,sans-Serif\" font-size=\"14.00\">samples = 13</text>\n<text text-anchor=\"start\" x=\"398.41\" y=\"-616.8\" font-family=\"Helvetica,sans-Serif\" font-size=\"14.00\">value = [2, 11]</text>\n</g>\n<!-- 13&#45;&gt;17 -->\n<g id=\"edge6\" class=\"edge\">\n<title>13&#45;&gt;17</title>\n<path fill=\"none\" stroke=\"black\" d=\"M523.12,-712.88C512.13,-703.62 500.07,-693.45 488.67,-683.85\"/>\n<polygon fill=\"black\" stroke=\"black\" points=\"490.81,-681.07 480.91,-677.3 486.3,-686.42 490.81,-681.07\"/>\n</g>\n<!-- 18 -->\n<g id=\"node10\" class=\"node\">\n<title>18</title>\n<path fill=\"#d0e8f9\" stroke=\"black\" d=\"M729.41,-677C729.41,-677 643.41,-677 643.41,-677 637.41,-677 631.41,-671 631.41,-665 631.41,-665 631.41,-621 631.41,-621 631.41,-615 637.41,-609 643.41,-609 643.41,-609 729.41,-609 729.41,-609 735.41,-609 741.41,-615 741.41,-621 741.41,-621 741.41,-665 741.41,-665 741.41,-671 735.41,-677 729.41,-677\"/>\n<text text-anchor=\"start\" x=\"643.91\" y=\"-661.8\" font-family=\"Helvetica,sans-Serif\" font-size=\"14.00\">LogFare ≤ 2.8</text>\n<text text-anchor=\"start\" x=\"654.41\" y=\"-646.8\" font-family=\"Helvetica,sans-Serif\" font-size=\"14.00\">gini = 0.49</text>\n<text text-anchor=\"start\" x=\"645.41\" y=\"-631.8\" font-family=\"Helvetica,sans-Serif\" font-size=\"14.00\">samples = 74</text>\n<text text-anchor=\"start\" x=\"639.41\" y=\"-616.8\" font-family=\"Helvetica,sans-Serif\" font-size=\"14.00\">value = [32, 42]</text>\n</g>\n<!-- 13&#45;&gt;18 -->\n<g id=\"edge9\" class=\"edge\">\n<title>13&#45;&gt;18</title>\n<path fill=\"none\" stroke=\"black\" d=\"M602.67,-712.88C613.93,-703.62 626.28,-693.45 637.97,-683.85\"/>\n<polygon fill=\"black\" stroke=\"black\" points=\"640.42,-686.36 645.92,-677.3 635.98,-680.95 640.42,-686.36\"/>\n</g>\n<!-- 37 -->\n<g id=\"node8\" class=\"node\">\n<title>37</title>\n<path fill=\"#e58139\" stroke=\"black\" d=\"M252.91,-565.5C252.91,-565.5 181.91,-565.5 181.91,-565.5 175.91,-565.5 169.91,-559.5 169.91,-553.5 169.91,-553.5 169.91,-524.5 169.91,-524.5 169.91,-518.5 175.91,-512.5 181.91,-512.5 181.91,-512.5 252.91,-512.5 252.91,-512.5 258.91,-512.5 264.91,-518.5 264.91,-524.5 264.91,-524.5 264.91,-553.5 264.91,-553.5 264.91,-559.5 258.91,-565.5 252.91,-565.5\"/>\n<text text-anchor=\"start\" x=\"189.41\" y=\"-550.3\" font-family=\"Helvetica,sans-Serif\" font-size=\"14.00\">gini = 0.0</text>\n<text text-anchor=\"start\" x=\"179.91\" y=\"-535.3\" font-family=\"Helvetica,sans-Serif\" font-size=\"14.00\">samples = 1</text>\n<text text-anchor=\"start\" x=\"177.91\" y=\"-520.3\" font-family=\"Helvetica,sans-Serif\" font-size=\"14.00\">value = [1, 0]</text>\n</g>\n<!-- 17&#45;&gt;37 -->\n<g id=\"edge7\" class=\"edge\">\n<title>17&#45;&gt;37</title>\n<path fill=\"none\" stroke=\"black\" d=\"M387.18,-617.31C353.1,-601.79 309.18,-581.79 274.55,-566.02\"/>\n<polygon fill=\"black\" stroke=\"black\" points=\"275.6,-562.65 265.05,-561.69 272.7,-569.02 275.6,-562.65\"/>\n</g>\n<!-- 38 -->\n<g id=\"node9\" class=\"node\">\n<title>38</title>\n<path fill=\"#4ba6e7\" stroke=\"black\" d=\"M482.41,-565.5C482.41,-565.5 404.41,-565.5 404.41,-565.5 398.41,-565.5 392.41,-559.5 392.41,-553.5 392.41,-553.5 392.41,-524.5 392.41,-524.5 392.41,-518.5 398.41,-512.5 404.41,-512.5 404.41,-512.5 482.41,-512.5 482.41,-512.5 488.41,-512.5 494.41,-518.5 494.41,-524.5 494.41,-524.5 494.41,-553.5 494.41,-553.5 494.41,-559.5 488.41,-565.5 482.41,-565.5\"/>\n<text text-anchor=\"start\" x=\"411.41\" y=\"-550.3\" font-family=\"Helvetica,sans-Serif\" font-size=\"14.00\">gini = 0.15</text>\n<text text-anchor=\"start\" x=\"402.41\" y=\"-535.3\" font-family=\"Helvetica,sans-Serif\" font-size=\"14.00\">samples = 12</text>\n<text text-anchor=\"start\" x=\"400.41\" y=\"-520.3\" font-family=\"Helvetica,sans-Serif\" font-size=\"14.00\">value = [1, 11]</text>\n</g>\n<!-- 17&#45;&gt;38 -->\n<g id=\"edge8\" class=\"edge\">\n<title>17&#45;&gt;38</title>\n<path fill=\"none\" stroke=\"black\" d=\"M442.06,-608.88C442.26,-598.22 442.5,-586.35 442.71,-575.52\"/>\n<polygon fill=\"black\" stroke=\"black\" points=\"446.21,-575.59 442.91,-565.52 439.21,-575.45 446.21,-575.59\"/>\n</g>\n<!-- 19 -->\n<g id=\"node11\" class=\"node\">\n<title>19</title>\n<path fill=\"#fdf5f0\" stroke=\"black\" d=\"M727.41,-573C727.41,-573 641.41,-573 641.41,-573 635.41,-573 629.41,-567 629.41,-561 629.41,-561 629.41,-517 629.41,-517 629.41,-511 635.41,-505 641.41,-505 641.41,-505 727.41,-505 727.41,-505 733.41,-505 739.41,-511 739.41,-517 739.41,-517 739.41,-561 739.41,-561 739.41,-567 733.41,-573 727.41,-573\"/>\n<text text-anchor=\"start\" x=\"641.91\" y=\"-557.8\" font-family=\"Helvetica,sans-Serif\" font-size=\"14.00\">LogFare ≤ 2.7</text>\n<text text-anchor=\"start\" x=\"656.41\" y=\"-542.8\" font-family=\"Helvetica,sans-Serif\" font-size=\"14.00\">gini = 0.5</text>\n<text text-anchor=\"start\" x=\"643.41\" y=\"-527.8\" font-family=\"Helvetica,sans-Serif\" font-size=\"14.00\">samples = 50</text>\n<text text-anchor=\"start\" x=\"637.41\" y=\"-512.8\" font-family=\"Helvetica,sans-Serif\" font-size=\"14.00\">value = [26, 24]</text>\n</g>\n<!-- 18&#45;&gt;19 -->\n<g id=\"edge10\" class=\"edge\">\n<title>18&#45;&gt;19</title>\n<path fill=\"none\" stroke=\"black\" d=\"M685.76,-608.88C685.6,-600.78 685.43,-591.98 685.26,-583.47\"/>\n<polygon fill=\"black\" stroke=\"black\" points=\"688.75,-583.23 685.06,-573.3 681.76,-583.37 688.75,-583.23\"/>\n</g>\n<!-- 20 -->\n<g id=\"node24\" class=\"node\">\n<title>20</title>\n<path fill=\"#7bbeee\" stroke=\"black\" d=\"M978.91,-573C978.91,-573 889.91,-573 889.91,-573 883.91,-573 877.91,-567 877.91,-561 877.91,-561 877.91,-517 877.91,-517 877.91,-511 883.91,-505 889.91,-505 889.91,-505 978.91,-505 978.91,-505 984.91,-505 990.91,-511 990.91,-517 990.91,-517 990.91,-561 990.91,-561 990.91,-567 984.91,-573 978.91,-573\"/>\n<text text-anchor=\"start\" x=\"885.91\" y=\"-557.8\" font-family=\"Helvetica,sans-Serif\" font-size=\"14.00\">Embarked ≤ 1.5</text>\n<text text-anchor=\"start\" x=\"902.41\" y=\"-542.8\" font-family=\"Helvetica,sans-Serif\" font-size=\"14.00\">gini = 0.38</text>\n<text text-anchor=\"start\" x=\"893.41\" y=\"-527.8\" font-family=\"Helvetica,sans-Serif\" font-size=\"14.00\">samples = 24</text>\n<text text-anchor=\"start\" x=\"891.41\" y=\"-512.8\" font-family=\"Helvetica,sans-Serif\" font-size=\"14.00\">value = [6, 18]</text>\n</g>\n<!-- 18&#45;&gt;20 -->\n<g id=\"edge23\" class=\"edge\">\n<title>18&#45;&gt;20</title>\n<path fill=\"none\" stroke=\"black\" d=\"M741.45,-619.36C778.96,-603.93 828.83,-583.42 868.48,-567.12\"/>\n<polygon fill=\"black\" stroke=\"black\" points=\"869.88,-570.32 877.8,-563.28 867.22,-563.85 869.88,-570.32\"/>\n</g>\n<!-- 21 -->\n<g id=\"node12\" class=\"node\">\n<title>21</title>\n<path fill=\"#e5f2fc\" stroke=\"black\" d=\"M491.41,-469C491.41,-469 383.41,-469 383.41,-469 377.41,-469 371.41,-463 371.41,-457 371.41,-457 371.41,-413 371.41,-413 371.41,-407 377.41,-401 383.41,-401 383.41,-401 491.41,-401 491.41,-401 497.41,-401 503.41,-407 503.41,-413 503.41,-413 503.41,-457 503.41,-457 503.41,-463 497.41,-469 491.41,-469\"/>\n<text text-anchor=\"start\" x=\"391.41\" y=\"-453.8\" font-family=\"Helvetica,sans-Serif\" font-size=\"14.00\">LogFare ≤ 2.47</text>\n<text text-anchor=\"start\" x=\"409.41\" y=\"-438.8\" font-family=\"Helvetica,sans-Serif\" font-size=\"14.00\">gini = 0.5</text>\n<text text-anchor=\"start\" x=\"396.41\" y=\"-423.8\" font-family=\"Helvetica,sans-Serif\" font-size=\"14.00\">samples = 43</text>\n<text text-anchor=\"start\" x=\"379.41\" y=\"-408.8\" font-family=\"Helvetica,sans-Serif\" font-size=\"14.00\">value = [20.0, 23.0]</text>\n</g>\n<!-- 19&#45;&gt;21 -->\n<g id=\"edge11\" class=\"edge\">\n<title>19&#45;&gt;21</title>\n<path fill=\"none\" stroke=\"black\" d=\"M629.28,-515.24C595.07,-501.11 550.64,-482.76 513.15,-467.28\"/>\n<polygon fill=\"black\" stroke=\"black\" points=\"514.36,-463.99 503.78,-463.41 511.69,-470.46 514.36,-463.99\"/>\n</g>\n<!-- 22 -->\n<g id=\"node21\" class=\"node\">\n<title>22</title>\n<path fill=\"#e9965a\" stroke=\"black\" d=\"M727.91,-469C727.91,-469 656.91,-469 656.91,-469 650.91,-469 644.91,-463 644.91,-457 644.91,-457 644.91,-413 644.91,-413 644.91,-407 650.91,-401 656.91,-401 656.91,-401 727.91,-401 727.91,-401 733.91,-401 739.91,-407 739.91,-413 739.91,-413 739.91,-457 739.91,-457 739.91,-463 733.91,-469 727.91,-469\"/>\n<text text-anchor=\"start\" x=\"659.41\" y=\"-453.8\" font-family=\"Helvetica,sans-Serif\" font-size=\"14.00\">Age ≤ 28.5</text>\n<text text-anchor=\"start\" x=\"660.41\" y=\"-438.8\" font-family=\"Helvetica,sans-Serif\" font-size=\"14.00\">gini = 0.24</text>\n<text text-anchor=\"start\" x=\"654.91\" y=\"-423.8\" font-family=\"Helvetica,sans-Serif\" font-size=\"14.00\">samples = 7</text>\n<text text-anchor=\"start\" x=\"652.91\" y=\"-408.8\" font-family=\"Helvetica,sans-Serif\" font-size=\"14.00\">value = [6, 1]</text>\n</g>\n<!-- 19&#45;&gt;22 -->\n<g id=\"edge20\" class=\"edge\">\n<title>19&#45;&gt;22</title>\n<path fill=\"none\" stroke=\"black\" d=\"M687,-504.88C687.64,-496.78 688.33,-487.98 689,-479.47\"/>\n<polygon fill=\"black\" stroke=\"black\" points=\"692.5,-479.54 689.79,-469.3 685.52,-479 692.5,-479.54\"/>\n</g>\n<!-- 23 -->\n<g id=\"node13\" class=\"node\">\n<title>23</title>\n<path fill=\"#fbece1\" stroke=\"black\" d=\"M257.41,-365C257.41,-365 171.41,-365 171.41,-365 165.41,-365 159.41,-359 159.41,-353 159.41,-353 159.41,-309 159.41,-309 159.41,-303 165.41,-297 171.41,-297 171.41,-297 257.41,-297 257.41,-297 263.41,-297 269.41,-303 269.41,-309 269.41,-309 269.41,-353 269.41,-353 269.41,-359 263.41,-365 257.41,-365\"/>\n<text text-anchor=\"start\" x=\"171.91\" y=\"-349.8\" font-family=\"Helvetica,sans-Serif\" font-size=\"14.00\">LogFare ≤ 2.2</text>\n<text text-anchor=\"start\" x=\"186.41\" y=\"-334.8\" font-family=\"Helvetica,sans-Serif\" font-size=\"14.00\">gini = 0.5</text>\n<text text-anchor=\"start\" x=\"173.41\" y=\"-319.8\" font-family=\"Helvetica,sans-Serif\" font-size=\"14.00\">samples = 37</text>\n<text text-anchor=\"start\" x=\"167.41\" y=\"-304.8\" font-family=\"Helvetica,sans-Serif\" font-size=\"14.00\">value = [20, 17]</text>\n</g>\n<!-- 21&#45;&gt;23 -->\n<g id=\"edge12\" class=\"edge\">\n<title>21&#45;&gt;23</title>\n<path fill=\"none\" stroke=\"black\" d=\"M371.4,-403.81C342.2,-390.45 307.97,-374.8 278.94,-361.52\"/>\n<polygon fill=\"black\" stroke=\"black\" points=\"280.26,-358.27 269.71,-357.29 277.34,-364.64 280.26,-358.27\"/>\n</g>\n<!-- 24 -->\n<g id=\"node20\" class=\"node\">\n<title>24</title>\n<path fill=\"#399de5\" stroke=\"black\" d=\"M482.91,-357.5C482.91,-357.5 411.91,-357.5 411.91,-357.5 405.91,-357.5 399.91,-351.5 399.91,-345.5 399.91,-345.5 399.91,-316.5 399.91,-316.5 399.91,-310.5 405.91,-304.5 411.91,-304.5 411.91,-304.5 482.91,-304.5 482.91,-304.5 488.91,-304.5 494.91,-310.5 494.91,-316.5 494.91,-316.5 494.91,-345.5 494.91,-345.5 494.91,-351.5 488.91,-357.5 482.91,-357.5\"/>\n<text text-anchor=\"start\" x=\"419.41\" y=\"-342.3\" font-family=\"Helvetica,sans-Serif\" font-size=\"14.00\">gini = 0.0</text>\n<text text-anchor=\"start\" x=\"409.91\" y=\"-327.3\" font-family=\"Helvetica,sans-Serif\" font-size=\"14.00\">samples = 6</text>\n<text text-anchor=\"start\" x=\"407.91\" y=\"-312.3\" font-family=\"Helvetica,sans-Serif\" font-size=\"14.00\">value = [0, 6]</text>\n</g>\n<!-- 21&#45;&gt;24 -->\n<g id=\"edge19\" class=\"edge\">\n<title>21&#45;&gt;24</title>\n<path fill=\"none\" stroke=\"black\" d=\"M440.65,-400.88C441.7,-390.22 442.86,-378.35 443.92,-367.52\"/>\n<polygon fill=\"black\" stroke=\"black\" points=\"447.41,-367.81 444.9,-357.52 440.44,-367.13 447.41,-367.81\"/>\n</g>\n<!-- 25 -->\n<g id=\"node14\" class=\"node\">\n<title>25</title>\n<path fill=\"#b8dcf6\" stroke=\"black\" d=\"M137.41,-253.5C137.41,-253.5 59.41,-253.5 59.41,-253.5 53.41,-253.5 47.41,-247.5 47.41,-241.5 47.41,-241.5 47.41,-212.5 47.41,-212.5 47.41,-206.5 53.41,-200.5 59.41,-200.5 59.41,-200.5 137.41,-200.5 137.41,-200.5 143.41,-200.5 149.41,-206.5 149.41,-212.5 149.41,-212.5 149.41,-241.5 149.41,-241.5 149.41,-247.5 143.41,-253.5 137.41,-253.5\"/>\n<text text-anchor=\"start\" x=\"66.41\" y=\"-238.3\" font-family=\"Helvetica,sans-Serif\" font-size=\"14.00\">gini = 0.48</text>\n<text text-anchor=\"start\" x=\"57.41\" y=\"-223.3\" font-family=\"Helvetica,sans-Serif\" font-size=\"14.00\">samples = 23</text>\n<text text-anchor=\"start\" x=\"55.41\" y=\"-208.3\" font-family=\"Helvetica,sans-Serif\" font-size=\"14.00\">value = [9, 14]</text>\n</g>\n<!-- 23&#45;&gt;25 -->\n<g id=\"edge13\" class=\"edge\">\n<title>23&#45;&gt;25</title>\n<path fill=\"none\" stroke=\"black\" d=\"M176.74,-296.88C163.36,-285.12 148.32,-271.89 135.03,-260.2\"/>\n<polygon fill=\"black\" stroke=\"black\" points=\"137.25,-257.49 127.43,-253.52 132.63,-262.75 137.25,-257.49\"/>\n</g>\n<!-- 26 -->\n<g id=\"node15\" class=\"node\">\n<title>26</title>\n<path fill=\"#eca36f\" stroke=\"black\" d=\"M368.41,-261C368.41,-261 290.41,-261 290.41,-261 284.41,-261 278.41,-255 278.41,-249 278.41,-249 278.41,-205 278.41,-205 278.41,-199 284.41,-193 290.41,-193 290.41,-193 368.41,-193 368.41,-193 374.41,-193 380.41,-199 380.41,-205 380.41,-205 380.41,-249 380.41,-249 380.41,-255 374.41,-261 368.41,-261\"/>\n<text text-anchor=\"start\" x=\"296.41\" y=\"-245.8\" font-family=\"Helvetica,sans-Serif\" font-size=\"14.00\">Age ≤ 19.0</text>\n<text text-anchor=\"start\" x=\"297.41\" y=\"-230.8\" font-family=\"Helvetica,sans-Serif\" font-size=\"14.00\">gini = 0.34</text>\n<text text-anchor=\"start\" x=\"288.41\" y=\"-215.8\" font-family=\"Helvetica,sans-Serif\" font-size=\"14.00\">samples = 14</text>\n<text text-anchor=\"start\" x=\"286.41\" y=\"-200.8\" font-family=\"Helvetica,sans-Serif\" font-size=\"14.00\">value = [11, 3]</text>\n</g>\n<!-- 23&#45;&gt;26 -->\n<g id=\"edge14\" class=\"edge\">\n<title>23&#45;&gt;26</title>\n<path fill=\"none\" stroke=\"black\" d=\"M251.74,-296.88C262.09,-287.71 273.43,-277.65 284.17,-268.12\"/>\n<polygon fill=\"black\" stroke=\"black\" points=\"286.7,-270.55 291.86,-261.3 282.06,-265.32 286.7,-270.55\"/>\n</g>\n<!-- 33 -->\n<g id=\"node16\" class=\"node\">\n<title>33</title>\n<path fill=\"#9ccef2\" stroke=\"black\" d=\"M250.91,-149.5C250.91,-149.5 179.91,-149.5 179.91,-149.5 173.91,-149.5 167.91,-143.5 167.91,-137.5 167.91,-137.5 167.91,-108.5 167.91,-108.5 167.91,-102.5 173.91,-96.5 179.91,-96.5 179.91,-96.5 250.91,-96.5 250.91,-96.5 256.91,-96.5 262.91,-102.5 262.91,-108.5 262.91,-108.5 262.91,-137.5 262.91,-137.5 262.91,-143.5 256.91,-149.5 250.91,-149.5\"/>\n<text text-anchor=\"start\" x=\"183.41\" y=\"-134.3\" font-family=\"Helvetica,sans-Serif\" font-size=\"14.00\">gini = 0.44</text>\n<text text-anchor=\"start\" x=\"177.91\" y=\"-119.3\" font-family=\"Helvetica,sans-Serif\" font-size=\"14.00\">samples = 3</text>\n<text text-anchor=\"start\" x=\"175.91\" y=\"-104.3\" font-family=\"Helvetica,sans-Serif\" font-size=\"14.00\">value = [1, 2]</text>\n</g>\n<!-- 26&#45;&gt;33 -->\n<g id=\"edge15\" class=\"edge\">\n<title>26&#45;&gt;33</title>\n<path fill=\"none\" stroke=\"black\" d=\"M292.39,-192.88C279.24,-181.12 264.46,-167.89 251.4,-156.2\"/>\n<polygon fill=\"black\" stroke=\"black\" points=\"253.71,-153.58 243.93,-149.52 249.05,-158.8 253.71,-153.58\"/>\n</g>\n<!-- 34 -->\n<g id=\"node17\" class=\"node\">\n<title>34</title>\n<path fill=\"#e88e4d\" stroke=\"black\" d=\"M480.41,-157C480.41,-157 402.41,-157 402.41,-157 396.41,-157 390.41,-151 390.41,-145 390.41,-145 390.41,-101 390.41,-101 390.41,-95 396.41,-89 402.41,-89 402.41,-89 480.41,-89 480.41,-89 486.41,-89 492.41,-95 492.41,-101 492.41,-101 492.41,-145 492.41,-145 492.41,-151 486.41,-157 480.41,-157\"/>\n<text text-anchor=\"start\" x=\"408.41\" y=\"-141.8\" font-family=\"Helvetica,sans-Serif\" font-size=\"14.00\">Age ≤ 30.0</text>\n<text text-anchor=\"start\" x=\"409.41\" y=\"-126.8\" font-family=\"Helvetica,sans-Serif\" font-size=\"14.00\">gini = 0.17</text>\n<text text-anchor=\"start\" x=\"400.41\" y=\"-111.8\" font-family=\"Helvetica,sans-Serif\" font-size=\"14.00\">samples = 11</text>\n<text text-anchor=\"start\" x=\"398.41\" y=\"-96.8\" font-family=\"Helvetica,sans-Serif\" font-size=\"14.00\">value = [10, 1]</text>\n</g>\n<!-- 26&#45;&gt;34 -->\n<g id=\"edge16\" class=\"edge\">\n<title>26&#45;&gt;34</title>\n<path fill=\"none\" stroke=\"black\" d=\"M365.77,-192.88C375.84,-183.71 386.89,-173.65 397.35,-164.12\"/>\n<polygon fill=\"black\" stroke=\"black\" points=\"399.81,-166.62 404.84,-157.3 395.09,-161.44 399.81,-166.62\"/>\n</g>\n<!-- 35 -->\n<g id=\"node18\" class=\"node\">\n<title>35</title>\n<path fill=\"#e58139\" stroke=\"black\" d=\"M368.41,-52.5C368.41,-52.5 290.41,-52.5 290.41,-52.5 284.41,-52.5 278.41,-46.5 278.41,-40.5 278.41,-40.5 278.41,-11.5 278.41,-11.5 278.41,-5.5 284.41,0.5 290.41,0.5 290.41,0.5 368.41,0.5 368.41,0.5 374.41,0.5 380.41,-5.5 380.41,-11.5 380.41,-11.5 380.41,-40.5 380.41,-40.5 380.41,-46.5 374.41,-52.5 368.41,-52.5\"/>\n<text text-anchor=\"start\" x=\"301.41\" y=\"-37.3\" font-family=\"Helvetica,sans-Serif\" font-size=\"14.00\">gini = 0.0</text>\n<text text-anchor=\"start\" x=\"288.41\" y=\"-22.3\" font-family=\"Helvetica,sans-Serif\" font-size=\"14.00\">samples = 10</text>\n<text text-anchor=\"start\" x=\"286.41\" y=\"-7.3\" font-family=\"Helvetica,sans-Serif\" font-size=\"14.00\">value = [10, 0]</text>\n</g>\n<!-- 34&#45;&gt;35 -->\n<g id=\"edge17\" class=\"edge\">\n<title>34&#45;&gt;35</title>\n<path fill=\"none\" stroke=\"black\" d=\"M402.23,-88.77C390.96,-79.22 378.69,-68.81 367.49,-59.3\"/>\n<polygon fill=\"black\" stroke=\"black\" points=\"369.44,-56.37 359.55,-52.57 364.92,-61.71 369.44,-56.37\"/>\n</g>\n<!-- 36 -->\n<g id=\"node19\" class=\"node\">\n<title>36</title>\n<path fill=\"#399de5\" stroke=\"black\" d=\"M590.91,-52.5C590.91,-52.5 519.91,-52.5 519.91,-52.5 513.91,-52.5 507.91,-46.5 507.91,-40.5 507.91,-40.5 507.91,-11.5 507.91,-11.5 507.91,-5.5 513.91,0.5 519.91,0.5 519.91,0.5 590.91,0.5 590.91,0.5 596.91,0.5 602.91,-5.5 602.91,-11.5 602.91,-11.5 602.91,-40.5 602.91,-40.5 602.91,-46.5 596.91,-52.5 590.91,-52.5\"/>\n<text text-anchor=\"start\" x=\"527.41\" y=\"-37.3\" font-family=\"Helvetica,sans-Serif\" font-size=\"14.00\">gini = 0.0</text>\n<text text-anchor=\"start\" x=\"517.91\" y=\"-22.3\" font-family=\"Helvetica,sans-Serif\" font-size=\"14.00\">samples = 1</text>\n<text text-anchor=\"start\" x=\"515.91\" y=\"-7.3\" font-family=\"Helvetica,sans-Serif\" font-size=\"14.00\">value = [0, 1]</text>\n</g>\n<!-- 34&#45;&gt;36 -->\n<g id=\"edge18\" class=\"edge\">\n<title>34&#45;&gt;36</title>\n<path fill=\"none\" stroke=\"black\" d=\"M481.28,-88.77C492.86,-79.12 505.48,-68.6 516.97,-59.03\"/>\n<polygon fill=\"black\" stroke=\"black\" points=\"519.28,-61.66 524.72,-52.57 514.8,-56.28 519.28,-61.66\"/>\n</g>\n<!-- 31 -->\n<g id=\"node22\" class=\"node\">\n<title>31</title>\n<path fill=\"#e58139\" stroke=\"black\" d=\"M717.91,-357.5C717.91,-357.5 646.91,-357.5 646.91,-357.5 640.91,-357.5 634.91,-351.5 634.91,-345.5 634.91,-345.5 634.91,-316.5 634.91,-316.5 634.91,-310.5 640.91,-304.5 646.91,-304.5 646.91,-304.5 717.91,-304.5 717.91,-304.5 723.91,-304.5 729.91,-310.5 729.91,-316.5 729.91,-316.5 729.91,-345.5 729.91,-345.5 729.91,-351.5 723.91,-357.5 717.91,-357.5\"/>\n<text text-anchor=\"start\" x=\"654.41\" y=\"-342.3\" font-family=\"Helvetica,sans-Serif\" font-size=\"14.00\">gini = 0.0</text>\n<text text-anchor=\"start\" x=\"644.91\" y=\"-327.3\" font-family=\"Helvetica,sans-Serif\" font-size=\"14.00\">samples = 6</text>\n<text text-anchor=\"start\" x=\"642.91\" y=\"-312.3\" font-family=\"Helvetica,sans-Serif\" font-size=\"14.00\">value = [6, 0]</text>\n</g>\n<!-- 22&#45;&gt;31 -->\n<g id=\"edge21\" class=\"edge\">\n<title>22&#45;&gt;31</title>\n<path fill=\"none\" stroke=\"black\" d=\"M689.16,-400.88C688.11,-390.22 686.95,-378.35 685.89,-367.52\"/>\n<polygon fill=\"black\" stroke=\"black\" points=\"689.37,-367.13 684.91,-357.52 682.4,-367.81 689.37,-367.13\"/>\n</g>\n<!-- 32 -->\n<g id=\"node23\" class=\"node\">\n<title>32</title>\n<path fill=\"#399de5\" stroke=\"black\" d=\"M935.91,-357.5C935.91,-357.5 864.91,-357.5 864.91,-357.5 858.91,-357.5 852.91,-351.5 852.91,-345.5 852.91,-345.5 852.91,-316.5 852.91,-316.5 852.91,-310.5 858.91,-304.5 864.91,-304.5 864.91,-304.5 935.91,-304.5 935.91,-304.5 941.91,-304.5 947.91,-310.5 947.91,-316.5 947.91,-316.5 947.91,-345.5 947.91,-345.5 947.91,-351.5 941.91,-357.5 935.91,-357.5\"/>\n<text text-anchor=\"start\" x=\"872.41\" y=\"-342.3\" font-family=\"Helvetica,sans-Serif\" font-size=\"14.00\">gini = 0.0</text>\n<text text-anchor=\"start\" x=\"862.91\" y=\"-327.3\" font-family=\"Helvetica,sans-Serif\" font-size=\"14.00\">samples = 1</text>\n<text text-anchor=\"start\" x=\"860.91\" y=\"-312.3\" font-family=\"Helvetica,sans-Serif\" font-size=\"14.00\">value = [0, 1]</text>\n</g>\n<!-- 22&#45;&gt;32 -->\n<g id=\"edge22\" class=\"edge\">\n<title>22&#45;&gt;32</title>\n<path fill=\"none\" stroke=\"black\" d=\"M740.13,-410.6C770.8,-395.56 810.82,-375.93 843.2,-360.05\"/>\n<polygon fill=\"black\" stroke=\"black\" points=\"845.11,-363.01 852.55,-355.47 842.03,-356.73 845.11,-363.01\"/>\n</g>\n<!-- 27 -->\n<g id=\"node25\" class=\"node\">\n<title>27</title>\n<path fill=\"#399de5\" stroke=\"black\" d=\"M960.91,-461.5C960.91,-461.5 889.91,-461.5 889.91,-461.5 883.91,-461.5 877.91,-455.5 877.91,-449.5 877.91,-449.5 877.91,-420.5 877.91,-420.5 877.91,-414.5 883.91,-408.5 889.91,-408.5 889.91,-408.5 960.91,-408.5 960.91,-408.5 966.91,-408.5 972.91,-414.5 972.91,-420.5 972.91,-420.5 972.91,-449.5 972.91,-449.5 972.91,-455.5 966.91,-461.5 960.91,-461.5\"/>\n<text text-anchor=\"start\" x=\"897.41\" y=\"-446.3\" font-family=\"Helvetica,sans-Serif\" font-size=\"14.00\">gini = 0.0</text>\n<text text-anchor=\"start\" x=\"887.91\" y=\"-431.3\" font-family=\"Helvetica,sans-Serif\" font-size=\"14.00\">samples = 9</text>\n<text text-anchor=\"start\" x=\"885.91\" y=\"-416.3\" font-family=\"Helvetica,sans-Serif\" font-size=\"14.00\">value = [0, 9]</text>\n</g>\n<!-- 20&#45;&gt;27 -->\n<g id=\"edge24\" class=\"edge\">\n<title>20&#45;&gt;27</title>\n<path fill=\"none\" stroke=\"black\" d=\"M931.48,-504.88C930.54,-494.22 929.5,-482.35 928.54,-471.52\"/>\n<polygon fill=\"black\" stroke=\"black\" points=\"932.02,-471.17 927.66,-461.52 925.05,-471.79 932.02,-471.17\"/>\n</g>\n<!-- 28 -->\n<g id=\"node26\" class=\"node\">\n<title>28</title>\n<path fill=\"#bddef6\" stroke=\"black\" d=\"M1198.41,-469C1198.41,-469 1114.41,-469 1114.41,-469 1108.41,-469 1102.41,-463 1102.41,-457 1102.41,-457 1102.41,-413 1102.41,-413 1102.41,-407 1108.41,-401 1114.41,-401 1114.41,-401 1198.41,-401 1198.41,-401 1204.41,-401 1210.41,-407 1210.41,-413 1210.41,-413 1210.41,-457 1210.41,-457 1210.41,-463 1204.41,-469 1198.41,-469\"/>\n<text text-anchor=\"start\" x=\"1110.41\" y=\"-453.8\" font-family=\"Helvetica,sans-Serif\" font-size=\"14.00\">LogFare ≤ 2.93</text>\n<text text-anchor=\"start\" x=\"1124.41\" y=\"-438.8\" font-family=\"Helvetica,sans-Serif\" font-size=\"14.00\">gini = 0.48</text>\n<text text-anchor=\"start\" x=\"1115.41\" y=\"-423.8\" font-family=\"Helvetica,sans-Serif\" font-size=\"14.00\">samples = 15</text>\n<text text-anchor=\"start\" x=\"1116.91\" y=\"-408.8\" font-family=\"Helvetica,sans-Serif\" font-size=\"14.00\">value = [6, 9]</text>\n</g>\n<!-- 20&#45;&gt;28 -->\n<g id=\"edge25\" class=\"edge\">\n<title>20&#45;&gt;28</title>\n<path fill=\"none\" stroke=\"black\" d=\"M991,-512C1022.1,-497.71 1060.77,-479.94 1092.9,-465.18\"/>\n<polygon fill=\"black\" stroke=\"black\" points=\"1094.59,-468.26 1102.21,-460.9 1091.66,-461.89 1094.59,-468.26\"/>\n</g>\n<!-- 29 -->\n<g id=\"node27\" class=\"node\">\n<title>29</title>\n<path fill=\"#5aade9\" stroke=\"black\" d=\"M1172.91,-357.5C1172.91,-357.5 1101.91,-357.5 1101.91,-357.5 1095.91,-357.5 1089.91,-351.5 1089.91,-345.5 1089.91,-345.5 1089.91,-316.5 1089.91,-316.5 1089.91,-310.5 1095.91,-304.5 1101.91,-304.5 1101.91,-304.5 1172.91,-304.5 1172.91,-304.5 1178.91,-304.5 1184.91,-310.5 1184.91,-316.5 1184.91,-316.5 1184.91,-345.5 1184.91,-345.5 1184.91,-351.5 1178.91,-357.5 1172.91,-357.5\"/>\n<text text-anchor=\"start\" x=\"1105.41\" y=\"-342.3\" font-family=\"Helvetica,sans-Serif\" font-size=\"14.00\">gini = 0.24</text>\n<text text-anchor=\"start\" x=\"1099.91\" y=\"-327.3\" font-family=\"Helvetica,sans-Serif\" font-size=\"14.00\">samples = 7</text>\n<text text-anchor=\"start\" x=\"1097.91\" y=\"-312.3\" font-family=\"Helvetica,sans-Serif\" font-size=\"14.00\">value = [1, 6]</text>\n</g>\n<!-- 28&#45;&gt;29 -->\n<g id=\"edge26\" class=\"edge\">\n<title>28&#45;&gt;29</title>\n<path fill=\"none\" stroke=\"black\" d=\"M1150.24,-400.88C1148.25,-390.22 1146.04,-378.35 1144.02,-367.52\"/>\n<polygon fill=\"black\" stroke=\"black\" points=\"1147.43,-366.71 1142.16,-357.52 1140.55,-367.99 1147.43,-366.71\"/>\n</g>\n<!-- 30 -->\n<g id=\"node28\" class=\"node\">\n<title>30</title>\n<path fill=\"#f5cdb0\" stroke=\"black\" d=\"M1390.91,-357.5C1390.91,-357.5 1319.91,-357.5 1319.91,-357.5 1313.91,-357.5 1307.91,-351.5 1307.91,-345.5 1307.91,-345.5 1307.91,-316.5 1307.91,-316.5 1307.91,-310.5 1313.91,-304.5 1319.91,-304.5 1319.91,-304.5 1390.91,-304.5 1390.91,-304.5 1396.91,-304.5 1402.91,-310.5 1402.91,-316.5 1402.91,-316.5 1402.91,-345.5 1402.91,-345.5 1402.91,-351.5 1396.91,-357.5 1390.91,-357.5\"/>\n<text text-anchor=\"start\" x=\"1323.41\" y=\"-342.3\" font-family=\"Helvetica,sans-Serif\" font-size=\"14.00\">gini = 0.47</text>\n<text text-anchor=\"start\" x=\"1317.91\" y=\"-327.3\" font-family=\"Helvetica,sans-Serif\" font-size=\"14.00\">samples = 8</text>\n<text text-anchor=\"start\" x=\"1315.91\" y=\"-312.3\" font-family=\"Helvetica,sans-Serif\" font-size=\"14.00\">value = [5, 3]</text>\n</g>\n<!-- 28&#45;&gt;30 -->\n<g id=\"edge27\" class=\"edge\">\n<title>28&#45;&gt;30</title>\n<path fill=\"none\" stroke=\"black\" d=\"M1210.52,-406.26C1237.82,-392.27 1270.92,-375.3 1298.59,-361.12\"/>\n<polygon fill=\"black\" stroke=\"black\" points=\"1300.44,-364.11 1307.74,-356.43 1297.25,-357.88 1300.44,-364.11\"/>\n</g>\n<!-- 5 -->\n<g id=\"node32\" class=\"node\">\n<title>5</title>\n<path fill=\"#88c4ef\" stroke=\"black\" d=\"M1328.41,-989C1328.41,-989 1250.41,-989 1250.41,-989 1244.41,-989 1238.41,-983 1238.41,-977 1238.41,-977 1238.41,-933 1238.41,-933 1238.41,-927 1244.41,-921 1250.41,-921 1250.41,-921 1328.41,-921 1328.41,-921 1334.41,-921 1340.41,-927 1340.41,-933 1340.41,-933 1340.41,-977 1340.41,-977 1340.41,-983 1334.41,-989 1328.41,-989\"/>\n<text text-anchor=\"start\" x=\"1254.41\" y=\"-973.8\" font-family=\"Helvetica,sans-Serif\" font-size=\"14.00\">SibSp ≤ 3.0</text>\n<text text-anchor=\"start\" x=\"1257.41\" y=\"-958.8\" font-family=\"Helvetica,sans-Serif\" font-size=\"14.00\">gini = 0.41</text>\n<text text-anchor=\"start\" x=\"1248.41\" y=\"-943.8\" font-family=\"Helvetica,sans-Serif\" font-size=\"14.00\">samples = 21</text>\n<text text-anchor=\"start\" x=\"1246.41\" y=\"-928.8\" font-family=\"Helvetica,sans-Serif\" font-size=\"14.00\">value = [6, 15]</text>\n</g>\n<!-- 2&#45;&gt;5 -->\n<g id=\"edge31\" class=\"edge\">\n<title>2&#45;&gt;5</title>\n<path fill=\"none\" stroke=\"black\" d=\"M1289.41,-1024.88C1289.41,-1016.78 1289.41,-1007.98 1289.41,-999.47\"/>\n<polygon fill=\"black\" stroke=\"black\" points=\"1292.91,-999.3 1289.41,-989.3 1285.91,-999.3 1292.91,-999.3\"/>\n</g>\n<!-- 6 -->\n<g id=\"node35\" class=\"node\">\n<title>6</title>\n<path fill=\"#ea995f\" stroke=\"black\" d=\"M1674.91,-989C1674.91,-989 1581.91,-989 1581.91,-989 1575.91,-989 1569.91,-983 1569.91,-977 1569.91,-977 1569.91,-933 1569.91,-933 1569.91,-927 1575.91,-921 1581.91,-921 1581.91,-921 1674.91,-921 1674.91,-921 1680.91,-921 1686.91,-927 1686.91,-933 1686.91,-933 1686.91,-977 1686.91,-977 1686.91,-983 1680.91,-989 1674.91,-989\"/>\n<text text-anchor=\"start\" x=\"1591.41\" y=\"-973.8\" font-family=\"Helvetica,sans-Serif\" font-size=\"14.00\">Pclass ≤ 1.5</text>\n<text text-anchor=\"start\" x=\"1596.41\" y=\"-958.8\" font-family=\"Helvetica,sans-Serif\" font-size=\"14.00\">gini = 0.27</text>\n<text text-anchor=\"start\" x=\"1583.41\" y=\"-943.8\" font-family=\"Helvetica,sans-Serif\" font-size=\"14.00\">samples = 418</text>\n<text text-anchor=\"start\" x=\"1577.91\" y=\"-928.8\" font-family=\"Helvetica,sans-Serif\" font-size=\"14.00\">value = [350, 68]</text>\n</g>\n<!-- 2&#45;&gt;6 -->\n<g id=\"edge34\" class=\"edge\">\n<title>2&#45;&gt;6</title>\n<path fill=\"none\" stroke=\"black\" d=\"M1348.07,-1040.35C1407.07,-1022.6 1497.98,-995.24 1560.17,-976.53\"/>\n<polygon fill=\"black\" stroke=\"black\" points=\"1561.33,-979.84 1569.89,-973.61 1559.31,-973.13 1561.33,-979.84\"/>\n</g>\n<!-- 9 -->\n<g id=\"node33\" class=\"node\">\n<title>9</title>\n<path fill=\"#399de5\" stroke=\"black\" d=\"M1209.41,-877.5C1209.41,-877.5 1131.41,-877.5 1131.41,-877.5 1125.41,-877.5 1119.41,-871.5 1119.41,-865.5 1119.41,-865.5 1119.41,-836.5 1119.41,-836.5 1119.41,-830.5 1125.41,-824.5 1131.41,-824.5 1131.41,-824.5 1209.41,-824.5 1209.41,-824.5 1215.41,-824.5 1221.41,-830.5 1221.41,-836.5 1221.41,-836.5 1221.41,-865.5 1221.41,-865.5 1221.41,-871.5 1215.41,-877.5 1209.41,-877.5\"/>\n<text text-anchor=\"start\" x=\"1142.41\" y=\"-862.3\" font-family=\"Helvetica,sans-Serif\" font-size=\"14.00\">gini = 0.0</text>\n<text text-anchor=\"start\" x=\"1129.41\" y=\"-847.3\" font-family=\"Helvetica,sans-Serif\" font-size=\"14.00\">samples = 14</text>\n<text text-anchor=\"start\" x=\"1127.41\" y=\"-832.3\" font-family=\"Helvetica,sans-Serif\" font-size=\"14.00\">value = [0, 14]</text>\n</g>\n<!-- 5&#45;&gt;9 -->\n<g id=\"edge32\" class=\"edge\">\n<title>5&#45;&gt;9</title>\n<path fill=\"none\" stroke=\"black\" d=\"M1250.77,-920.88C1237.04,-909.12 1221.61,-895.89 1207.98,-884.2\"/>\n<polygon fill=\"black\" stroke=\"black\" points=\"1210.05,-881.37 1200.18,-877.52 1205.49,-886.69 1210.05,-881.37\"/>\n</g>\n<!-- 10 -->\n<g id=\"node34\" class=\"node\">\n<title>10</title>\n<path fill=\"#e9965a\" stroke=\"black\" d=\"M1430.91,-877.5C1430.91,-877.5 1359.91,-877.5 1359.91,-877.5 1353.91,-877.5 1347.91,-871.5 1347.91,-865.5 1347.91,-865.5 1347.91,-836.5 1347.91,-836.5 1347.91,-830.5 1353.91,-824.5 1359.91,-824.5 1359.91,-824.5 1430.91,-824.5 1430.91,-824.5 1436.91,-824.5 1442.91,-830.5 1442.91,-836.5 1442.91,-836.5 1442.91,-865.5 1442.91,-865.5 1442.91,-871.5 1436.91,-877.5 1430.91,-877.5\"/>\n<text text-anchor=\"start\" x=\"1363.41\" y=\"-862.3\" font-family=\"Helvetica,sans-Serif\" font-size=\"14.00\">gini = 0.24</text>\n<text text-anchor=\"start\" x=\"1357.91\" y=\"-847.3\" font-family=\"Helvetica,sans-Serif\" font-size=\"14.00\">samples = 7</text>\n<text text-anchor=\"start\" x=\"1355.91\" y=\"-832.3\" font-family=\"Helvetica,sans-Serif\" font-size=\"14.00\">value = [6, 1]</text>\n</g>\n<!-- 5&#45;&gt;10 -->\n<g id=\"edge33\" class=\"edge\">\n<title>5&#45;&gt;10</title>\n<path fill=\"none\" stroke=\"black\" d=\"M1323.82,-920.88C1335.94,-909.23 1349.53,-896.14 1361.6,-884.53\"/>\n<polygon fill=\"black\" stroke=\"black\" points=\"1364.11,-886.98 1368.89,-877.52 1359.25,-881.93 1364.11,-886.98\"/>\n</g>\n<!-- 11 -->\n<g id=\"node36\" class=\"node\">\n<title>11</title>\n<path fill=\"#f2c09c\" stroke=\"black\" d=\"M1671.41,-885C1671.41,-885 1585.41,-885 1585.41,-885 1579.41,-885 1573.41,-879 1573.41,-873 1573.41,-873 1573.41,-829 1573.41,-829 1573.41,-823 1579.41,-817 1585.41,-817 1585.41,-817 1671.41,-817 1671.41,-817 1677.41,-817 1683.41,-823 1683.41,-829 1683.41,-829 1683.41,-873 1683.41,-873 1683.41,-879 1677.41,-885 1671.41,-885\"/>\n<text text-anchor=\"start\" x=\"1582.41\" y=\"-869.8\" font-family=\"Helvetica,sans-Serif\" font-size=\"14.00\">LogFare ≤ 5.91</text>\n<text text-anchor=\"start\" x=\"1596.41\" y=\"-854.8\" font-family=\"Helvetica,sans-Serif\" font-size=\"14.00\">gini = 0.44</text>\n<text text-anchor=\"start\" x=\"1587.41\" y=\"-839.8\" font-family=\"Helvetica,sans-Serif\" font-size=\"14.00\">samples = 84</text>\n<text text-anchor=\"start\" x=\"1581.41\" y=\"-824.8\" font-family=\"Helvetica,sans-Serif\" font-size=\"14.00\">value = [56, 28]</text>\n</g>\n<!-- 6&#45;&gt;11 -->\n<g id=\"edge35\" class=\"edge\">\n<title>6&#45;&gt;11</title>\n<path fill=\"none\" stroke=\"black\" d=\"M1628.41,-920.88C1628.41,-912.78 1628.41,-903.98 1628.41,-895.47\"/>\n<polygon fill=\"black\" stroke=\"black\" points=\"1631.91,-895.3 1628.41,-885.3 1624.91,-895.3 1631.91,-895.3\"/>\n</g>\n<!-- 12 -->\n<g id=\"node39\" class=\"node\">\n<title>12</title>\n<path fill=\"#e99254\" stroke=\"black\" d=\"M1929.91,-877.5C1929.91,-877.5 1836.91,-877.5 1836.91,-877.5 1830.91,-877.5 1824.91,-871.5 1824.91,-865.5 1824.91,-865.5 1824.91,-836.5 1824.91,-836.5 1824.91,-830.5 1830.91,-824.5 1836.91,-824.5 1836.91,-824.5 1929.91,-824.5 1929.91,-824.5 1935.91,-824.5 1941.91,-830.5 1941.91,-836.5 1941.91,-836.5 1941.91,-865.5 1941.91,-865.5 1941.91,-871.5 1935.91,-877.5 1929.91,-877.5\"/>\n<text text-anchor=\"start\" x=\"1851.41\" y=\"-862.3\" font-family=\"Helvetica,sans-Serif\" font-size=\"14.00\">gini = 0.21</text>\n<text text-anchor=\"start\" x=\"1838.41\" y=\"-847.3\" font-family=\"Helvetica,sans-Serif\" font-size=\"14.00\">samples = 334</text>\n<text text-anchor=\"start\" x=\"1832.91\" y=\"-832.3\" font-family=\"Helvetica,sans-Serif\" font-size=\"14.00\">value = [294, 40]</text>\n</g>\n<!-- 6&#45;&gt;12 -->\n<g id=\"edge38\" class=\"edge\">\n<title>6&#45;&gt;12</title>\n<path fill=\"none\" stroke=\"black\" d=\"M1686.91,-930.6C1725.16,-915.3 1775.27,-895.25 1815.31,-879.24\"/>\n<polygon fill=\"black\" stroke=\"black\" points=\"1816.75,-882.43 1824.73,-875.47 1814.15,-875.93 1816.75,-882.43\"/>\n</g>\n<!-- 15 -->\n<g id=\"node37\" class=\"node\">\n<title>15</title>\n<path fill=\"#f1bc95\" stroke=\"black\" d=\"M1555.41,-773.5C1555.41,-773.5 1447.41,-773.5 1447.41,-773.5 1441.41,-773.5 1435.41,-767.5 1435.41,-761.5 1435.41,-761.5 1435.41,-732.5 1435.41,-732.5 1435.41,-726.5 1441.41,-720.5 1447.41,-720.5 1447.41,-720.5 1555.41,-720.5 1555.41,-720.5 1561.41,-720.5 1567.41,-726.5 1567.41,-732.5 1567.41,-732.5 1567.41,-761.5 1567.41,-761.5 1567.41,-767.5 1561.41,-773.5 1555.41,-773.5\"/>\n<text text-anchor=\"start\" x=\"1469.41\" y=\"-758.3\" font-family=\"Helvetica,sans-Serif\" font-size=\"14.00\">gini = 0.43</text>\n<text text-anchor=\"start\" x=\"1460.41\" y=\"-743.3\" font-family=\"Helvetica,sans-Serif\" font-size=\"14.00\">samples = 82</text>\n<text text-anchor=\"start\" x=\"1443.41\" y=\"-728.3\" font-family=\"Helvetica,sans-Serif\" font-size=\"14.00\">value = [56.0, 26.0]</text>\n</g>\n<!-- 11&#45;&gt;15 -->\n<g id=\"edge36\" class=\"edge\">\n<title>11&#45;&gt;15</title>\n<path fill=\"none\" stroke=\"black\" d=\"M1587.17,-816.88C1572.38,-805.01 1555.75,-791.65 1541.09,-779.88\"/>\n<polygon fill=\"black\" stroke=\"black\" points=\"1543.17,-777.05 1533.18,-773.52 1538.79,-782.51 1543.17,-777.05\"/>\n</g>\n<!-- 16 -->\n<g id=\"node38\" class=\"node\">\n<title>16</title>\n<path fill=\"#399de5\" stroke=\"black\" d=\"M1791.91,-773.5C1791.91,-773.5 1720.91,-773.5 1720.91,-773.5 1714.91,-773.5 1708.91,-767.5 1708.91,-761.5 1708.91,-761.5 1708.91,-732.5 1708.91,-732.5 1708.91,-726.5 1714.91,-720.5 1720.91,-720.5 1720.91,-720.5 1791.91,-720.5 1791.91,-720.5 1797.91,-720.5 1803.91,-726.5 1803.91,-732.5 1803.91,-732.5 1803.91,-761.5 1803.91,-761.5 1803.91,-767.5 1797.91,-773.5 1791.91,-773.5\"/>\n<text text-anchor=\"start\" x=\"1728.41\" y=\"-758.3\" font-family=\"Helvetica,sans-Serif\" font-size=\"14.00\">gini = 0.0</text>\n<text text-anchor=\"start\" x=\"1718.91\" y=\"-743.3\" font-family=\"Helvetica,sans-Serif\" font-size=\"14.00\">samples = 2</text>\n<text text-anchor=\"start\" x=\"1716.91\" y=\"-728.3\" font-family=\"Helvetica,sans-Serif\" font-size=\"14.00\">value = [0, 2]</text>\n</g>\n<!-- 11&#45;&gt;16 -->\n<g id=\"edge37\" class=\"edge\">\n<title>11&#45;&gt;16</title>\n<path fill=\"none\" stroke=\"black\" d=\"M1669.96,-816.88C1684.87,-805.01 1701.63,-791.65 1716.4,-779.88\"/>\n<polygon fill=\"black\" stroke=\"black\" points=\"1718.74,-782.49 1724.38,-773.52 1714.38,-777.01 1718.74,-782.49\"/>\n</g>\n</g>\n</svg>\n",
            "text/plain": [
              "<graphviz.sources.Source at 0x7a0ebc4335d0>"
            ]
          },
          "metadata": {},
          "execution_count": 26
        }
      ]
    },
    {
      "cell_type": "code",
      "source": [
        "mean_absolute_error(val_y, m.predict(val_xs))"
      ],
      "metadata": {
        "id": "epQygu1XykIV",
        "outputId": "1edb0500-b47d-440d-e8c5-402ceecefc5e",
        "colab": {
          "base_uri": "https://localhost:8080/"
        }
      },
      "execution_count": 27,
      "outputs": [
        {
          "output_type": "execute_result",
          "data": {
            "text/plain": [
              "0.17937219730941703"
            ]
          },
          "metadata": {},
          "execution_count": 27
        }
      ]
    },
    {
      "cell_type": "code",
      "source": [
        "tst_df[cats] = tst_df[cats].apply(lambda x: x.cat.codes)\n",
        "tst_xs,_ = xs_y(tst_df)\n",
        "\n",
        "def subm(preds, suff):\n",
        "    tst_df['Survived'] = preds\n",
        "    sub_df = tst_df[['PassengerId','Survived']]\n",
        "    sub_df.to_csv(f'sub-{suff}.csv', index=False)\n",
        "\n",
        "subm(m.predict(tst_xs), 'tree')"
      ],
      "metadata": {
        "id": "X-rmdLary55w"
      },
      "execution_count": 28,
      "outputs": []
    },
    {
      "cell_type": "code",
      "source": [
        "\n",
        "from sklearn.ensemble import RandomForestClassifier\n",
        "\n",
        "rf = RandomForestClassifier(100, min_samples_leaf=20)\n",
        "rf.fit(trn_xs, trn_y);\n",
        "mean_absolute_error(val_y, rf.predict(val_xs))"
      ],
      "metadata": {
        "id": "Ksc1IeR-zItY",
        "outputId": "3a9b1810-80b1-4050-994a-983374c1bb1e",
        "colab": {
          "base_uri": "https://localhost:8080/"
        }
      },
      "execution_count": 46,
      "outputs": [
        {
          "output_type": "execute_result",
          "data": {
            "text/plain": [
              "0.19282511210762332"
            ]
          },
          "metadata": {},
          "execution_count": 46
        }
      ]
    },
    {
      "cell_type": "code",
      "source": [
        "subm(rf.predict(tst_xs), 'rf')"
      ],
      "metadata": {
        "id": "ps05v3u8z3oT"
      },
      "execution_count": 39,
      "outputs": []
    },
    {
      "cell_type": "code",
      "source": [
        "pd.DataFrame(dict(cols=trn_xs.columns, imp=m.feature_importances_)).plot('cols', 'imp', 'barh');"
      ],
      "metadata": {
        "id": "YOf9FSUg0Asw",
        "outputId": "4b6b47eb-8fdd-4f2d-926b-223b43cca09f",
        "colab": {
          "base_uri": "https://localhost:8080/",
          "height": 430
        }
      },
      "execution_count": 37,
      "outputs": [
        {
          "output_type": "display_data",
          "data": {
            "text/plain": [
              "<Figure size 640x480 with 1 Axes>"
            ],
            "image/png": "[encoded data removed]"
          },
          "metadata": {}
        }
      ]
    },
    {
      "cell_type": "code",
      "source": [],
      "metadata": {
        "id": "lETt_h6y1W_E"
      },
      "execution_count": null,
      "outputs": []
    }
  ]
}