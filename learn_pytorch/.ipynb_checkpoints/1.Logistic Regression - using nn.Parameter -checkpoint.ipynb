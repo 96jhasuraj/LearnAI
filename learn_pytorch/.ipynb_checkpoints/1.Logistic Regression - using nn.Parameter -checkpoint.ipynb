{
 "cells": [
  {
   "cell_type": "code",
   "execution_count": 2,
   "id": "c797aad6-5634-4505-bf45-2fcec7e25ab8",
   "metadata": {},
   "outputs": [],
   "source": [
    "import torch\n",
    "from torch import nn \n",
    "import matplotlib.pyplot as plt"
   ]
  },
  {
   "cell_type": "code",
   "execution_count": 3,
   "id": "ecbc67e6-67cc-43da-b1d1-ee013ee40525",
   "metadata": {},
   "outputs": [],
   "source": [
    "device =\"cuda\" if torch.cuda.is_available() else \"cpu\""
   ]
  },
  {
   "cell_type": "code",
   "execution_count": 47,
   "id": "9f004638-cd36-43df-bbfc-4a222930a1a4",
   "metadata": {},
   "outputs": [],
   "source": [
    "w = 0.9\n",
    "b = 0.2\n",
    "\n",
    "x_start = 0\n",
    "x_end   = 1\n",
    "step = 0.01"
   ]
  },
  {
   "cell_type": "code",
   "execution_count": 48,
   "id": "11830c37-32cf-4d2d-89ae-643b315c1ee7",
   "metadata": {},
   "outputs": [],
   "source": [
    "X = torch.arange(x_start,x_end,step)\n",
    "Y = w*X + b"
   ]
  },
  {
   "cell_type": "code",
   "execution_count": 49,
   "id": "38cd9657-1bf7-4eca-894a-891bcc9566d5",
   "metadata": {},
   "outputs": [
    {
     "data": {
      "text/plain": [
       "(torch.Size([100]), torch.Size([100]))"
      ]
     },
     "execution_count": 49,
     "metadata": {},
     "output_type": "execute_result"
    }
   ],
   "source": [
    "X.size() , Y.size()"
   ]
  },
  {
   "cell_type": "code",
   "execution_count": 50,
   "id": "78f5b81a-a240-4c3a-8fbe-f0834ba40482",
   "metadata": {},
   "outputs": [
    {
     "data": {
      "text/plain": [
       "(80, 80, 20, 20)"
      ]
     },
     "execution_count": 50,
     "metadata": {},
     "output_type": "execute_result"
    }
   ],
   "source": [
    "train_split = int(0.8 * len(X)) \n",
    "X_train, y_train = X[:train_split], Y[:train_split]\n",
    "X_test, y_test = X[train_split:], Y[train_split:]\n",
    "\n",
    "len(X_train), len(y_train), len(X_test), len(y_test)"
   ]
  },
  {
   "cell_type": "code",
   "execution_count": 121,
   "id": "95247f5b-a701-4039-ac47-21b3127b89fa",
   "metadata": {},
   "outputs": [],
   "source": [
    "def plot_pred(train_data=X_train,train_labels=y_train,test_data=y_test,test_labels=y_test,pred=None):\n",
    "    plt.figure(figsize=(10,7))\n",
    "    plt.scatter(train_data,train_labels,c=\"b\",s=4,label=\"training data\")\n",
    "    print(len(test_data),len(test_labels))\n",
    "    plt.scatter(test_data,test_labels,c=\"r\",s=4,label=\"testing data\")\n",
    "    if pred is not None:\n",
    "        plt.scatter(test_data,pred,c=\"g\",s=4,label=\"prediction\")\n",
    "    plt.legend(prop={\"size\": 14});"
   ]
  },
  {
   "cell_type": "code",
   "execution_count": 122,
   "id": "52404ae4-3c56-4f52-a5e9-bbeae503f683",
   "metadata": {},
   "outputs": [
    {
     "name": "stdout",
     "output_type": "stream",
     "text": [
      "20 20\n"
     ]
    },
    {
     "data": {
      "image/png": "[encoded data removed]",
      "text/plain": [
       "<Figure size 1000x700 with 1 Axes>"
      ]
     },
     "metadata": {},
     "output_type": "display_data"
    }
   ],
   "source": [
    "plot_pred()"
   ]
  },
  {
   "cell_type": "markdown",
   "id": "20df8f6d-302b-44c7-86c7-ef942a172caa",
   "metadata": {},
   "source": [
    "LR class"
   ]
  },
  {
   "cell_type": "code",
   "execution_count": 56,
   "id": "4d1e2940-8240-466d-b51b-226d199d28c6",
   "metadata": {},
   "outputs": [],
   "source": [
    "class LR(nn.Module):\n",
    "    def __init__(self):\n",
    "        super().__init__()\n",
    "        self.weights = nn.Parameter(data = torch.randn(1),requires_grad = True)\n",
    "        self.bias = nn.Parameter(data = torch.randn(1) , requires_grad = True)\n",
    "\n",
    "    def forward(self,x : torch.Tensor) -> torch.Tensor:\n",
    "        return self.weights * x + self.bias"
   ]
  },
  {
   "cell_type": "code",
   "execution_count": 104,
   "id": "e2e217b9-70d1-41f9-aebf-581d0f203778",
   "metadata": {},
   "outputs": [
    {
     "name": "stdout",
     "output_type": "stream",
     "text": [
      "[Parameter containing:\n",
      "tensor([-0.1384], requires_grad=True), Parameter containing:\n",
      "tensor([-2.2454], requires_grad=True)] OrderedDict([('weights', tensor([-0.1384])), ('bias', tensor([-2.2454]))])\n",
      "tensor([-2.3561, -2.3575, -2.3589, -2.3603, -2.3617, -2.3630, -2.3644, -2.3658,\n",
      "        -2.3672, -2.3686, -2.3700, -2.3713, -2.3727, -2.3741, -2.3755, -2.3769,\n",
      "        -2.3783, -2.3797, -2.3810, -2.3824])\n"
     ]
    }
   ],
   "source": [
    "model = LR()\n",
    "print(list(model.parameters()) , model.state_dict())\n",
    "with torch.inference_mode():\n",
    "    print(model(X_test))"
   ]
  },
  {
   "cell_type": "code",
   "execution_count": 105,
   "id": "8c077f86-f5dc-46a6-aa69-59289446dfa9",
   "metadata": {},
   "outputs": [],
   "source": [
    "loss_fn = nn.L1Loss()\n",
    "optimizer = torch.optim.SGD(params=model.parameters(), lr = 0.1)"
   ]
  },
  {
   "cell_type": "code",
   "execution_count": 106,
   "id": "8d2c1161-678e-4223-bb20-0631874ce7fc",
   "metadata": {},
   "outputs": [],
   "source": [
    "def train(model,epochs=200):\n",
    "    train_loss_list = []\n",
    "    test_loss_list = []\n",
    "    epoch_list = []\n",
    "    for epoch in range(epochs):\n",
    "        model.train()\n",
    "        y_pred_epoch = model(X_train)\n",
    "        loss = loss_fn(y_pred_epoch,y_train)\n",
    "        optimizer.zero_grad()\n",
    "        loss.backward()\n",
    "        optimizer.step()\n",
    "        model.eval()\n",
    "        with torch.inference_mode():\n",
    "            test_pred = model(X_test)\n",
    "            test_loss = loss_fn(test_pred,y_test)\n",
    "            epoch_list.append(epoch)\n",
    "            train_loss_list.append(loss.detach())\n",
    "            test_loss_list.append(test_loss.detach())\n",
    "            print(f\"Epoch: {epoch} | MAE Train Loss: {loss} | MAE Test Loss: {test_loss} \")\n",
    "    return train_loss_list , test_loss_list , epoch_list"
   ]
  },
  {
   "cell_type": "code",
   "execution_count": 107,
   "id": "ff950473-e22a-4b66-a42d-44df110ba495",
   "metadata": {},
   "outputs": [
    {
     "name": "stdout",
     "output_type": "stream",
     "text": [
      "Epoch: 0 | MAE Train Loss: 2.855553150177002 | MAE Test Loss: 3.2394204139709473 \n",
      "Epoch: 1 | MAE Train Loss: 2.739950656890869 | MAE Test Loss: 3.104067325592041 \n",
      "Epoch: 2 | MAE Train Loss: 2.6243484020233154 | MAE Test Loss: 2.968714952468872 \n",
      "Epoch: 3 | MAE Train Loss: 2.5087456703186035 | MAE Test Loss: 2.833362579345703 \n",
      "Epoch: 4 | MAE Train Loss: 2.39314341545105 | MAE Test Loss: 2.698009967803955 \n",
      "Epoch: 5 | MAE Train Loss: 2.277540683746338 | MAE Test Loss: 2.562657356262207 \n",
      "Epoch: 6 | MAE Train Loss: 2.161938190460205 | MAE Test Loss: 2.427304983139038 \n",
      "Epoch: 7 | MAE Train Loss: 2.0463356971740723 | MAE Test Loss: 2.291952610015869 \n",
      "Epoch: 8 | MAE Train Loss: 1.93073308467865 | MAE Test Loss: 2.156599760055542 \n",
      "Epoch: 9 | MAE Train Loss: 1.815130591392517 | MAE Test Loss: 2.021247148513794 \n",
      "Epoch: 10 | MAE Train Loss: 1.6995280981063843 | MAE Test Loss: 1.885895013809204 \n",
      "Epoch: 11 | MAE Train Loss: 1.583925724029541 | MAE Test Loss: 1.7505422830581665 \n",
      "Epoch: 12 | MAE Train Loss: 1.4683231115341187 | MAE Test Loss: 1.6151899099349976 \n",
      "Epoch: 13 | MAE Train Loss: 1.3527204990386963 | MAE Test Loss: 1.4798372983932495 \n",
      "Epoch: 14 | MAE Train Loss: 1.2371180057525635 | MAE Test Loss: 1.3444846868515015 \n",
      "Epoch: 15 | MAE Train Loss: 1.1215153932571411 | MAE Test Loss: 1.2091323137283325 \n",
      "Epoch: 16 | MAE Train Loss: 1.0059130191802979 | MAE Test Loss: 1.073779821395874 \n",
      "Epoch: 17 | MAE Train Loss: 0.8903104662895203 | MAE Test Loss: 0.9384270906448364 \n",
      "Epoch: 18 | MAE Train Loss: 0.7747079133987427 | MAE Test Loss: 0.8030746579170227 \n",
      "Epoch: 19 | MAE Train Loss: 0.6591054201126099 | MAE Test Loss: 0.6677221655845642 \n",
      "Epoch: 20 | MAE Train Loss: 0.543502926826477 | MAE Test Loss: 0.5323697328567505 \n",
      "Epoch: 21 | MAE Train Loss: 0.4279004633426666 | MAE Test Loss: 0.3970172107219696 \n",
      "Epoch: 22 | MAE Train Loss: 0.3122979700565338 | MAE Test Loss: 0.2616647183895111 \n",
      "Epoch: 23 | MAE Train Loss: 0.196695476770401 | MAE Test Loss: 0.12631221115589142 \n",
      "Epoch: 24 | MAE Train Loss: 0.0810929536819458 | MAE Test Loss: 0.009040296077728271 \n",
      "Epoch: 25 | MAE Train Loss: 0.034509532153606415 | MAE Test Loss: 0.12631221115589142 \n",
      "Epoch: 26 | MAE Train Loss: 0.0810929536819458 | MAE Test Loss: 0.009040296077728271 \n",
      "Epoch: 27 | MAE Train Loss: 0.034509532153606415 | MAE Test Loss: 0.12631221115589142 \n",
      "Epoch: 28 | MAE Train Loss: 0.0810929536819458 | MAE Test Loss: 0.009040296077728271 \n",
      "Epoch: 29 | MAE Train Loss: 0.034509532153606415 | MAE Test Loss: 0.12631221115589142 \n",
      "Epoch: 30 | MAE Train Loss: 0.0810929536819458 | MAE Test Loss: 0.009040296077728271 \n",
      "Epoch: 31 | MAE Train Loss: 0.034509532153606415 | MAE Test Loss: 0.12631221115589142 \n",
      "Epoch: 32 | MAE Train Loss: 0.0810929536819458 | MAE Test Loss: 0.009040296077728271 \n",
      "Epoch: 33 | MAE Train Loss: 0.034509532153606415 | MAE Test Loss: 0.12631221115589142 \n",
      "Epoch: 34 | MAE Train Loss: 0.0810929536819458 | MAE Test Loss: 0.009040296077728271 \n",
      "Epoch: 35 | MAE Train Loss: 0.034509532153606415 | MAE Test Loss: 0.12631221115589142 \n",
      "Epoch: 36 | MAE Train Loss: 0.0810929536819458 | MAE Test Loss: 0.009040296077728271 \n",
      "Epoch: 37 | MAE Train Loss: 0.034509532153606415 | MAE Test Loss: 0.12631221115589142 \n",
      "Epoch: 38 | MAE Train Loss: 0.0810929536819458 | MAE Test Loss: 0.009040296077728271 \n",
      "Epoch: 39 | MAE Train Loss: 0.034509532153606415 | MAE Test Loss: 0.12631221115589142 \n",
      "Epoch: 40 | MAE Train Loss: 0.0810929536819458 | MAE Test Loss: 0.009040296077728271 \n",
      "Epoch: 41 | MAE Train Loss: 0.034509532153606415 | MAE Test Loss: 0.12631221115589142 \n",
      "Epoch: 42 | MAE Train Loss: 0.0810929536819458 | MAE Test Loss: 0.009040296077728271 \n",
      "Epoch: 43 | MAE Train Loss: 0.034509532153606415 | MAE Test Loss: 0.12631221115589142 \n",
      "Epoch: 44 | MAE Train Loss: 0.0810929536819458 | MAE Test Loss: 0.009040296077728271 \n",
      "Epoch: 45 | MAE Train Loss: 0.034509532153606415 | MAE Test Loss: 0.12631221115589142 \n",
      "Epoch: 46 | MAE Train Loss: 0.0810929536819458 | MAE Test Loss: 0.009040296077728271 \n",
      "Epoch: 47 | MAE Train Loss: 0.034509532153606415 | MAE Test Loss: 0.12631221115589142 \n",
      "Epoch: 48 | MAE Train Loss: 0.0810929536819458 | MAE Test Loss: 0.009040296077728271 \n",
      "Epoch: 49 | MAE Train Loss: 0.034509532153606415 | MAE Test Loss: 0.12631221115589142 \n",
      "Epoch: 50 | MAE Train Loss: 0.0810929536819458 | MAE Test Loss: 0.009040296077728271 \n",
      "Epoch: 51 | MAE Train Loss: 0.034509532153606415 | MAE Test Loss: 0.12631221115589142 \n",
      "Epoch: 52 | MAE Train Loss: 0.0810929536819458 | MAE Test Loss: 0.009040296077728271 \n",
      "Epoch: 53 | MAE Train Loss: 0.034509532153606415 | MAE Test Loss: 0.12631221115589142 \n",
      "Epoch: 54 | MAE Train Loss: 0.0810929536819458 | MAE Test Loss: 0.009040296077728271 \n",
      "Epoch: 55 | MAE Train Loss: 0.034509532153606415 | MAE Test Loss: 0.12631221115589142 \n",
      "Epoch: 56 | MAE Train Loss: 0.0810929536819458 | MAE Test Loss: 0.009040296077728271 \n",
      "Epoch: 57 | MAE Train Loss: 0.034509532153606415 | MAE Test Loss: 0.12631221115589142 \n",
      "Epoch: 58 | MAE Train Loss: 0.0810929536819458 | MAE Test Loss: 0.009040296077728271 \n",
      "Epoch: 59 | MAE Train Loss: 0.034509532153606415 | MAE Test Loss: 0.12631221115589142 \n",
      "Epoch: 60 | MAE Train Loss: 0.0810929536819458 | MAE Test Loss: 0.009040296077728271 \n",
      "Epoch: 61 | MAE Train Loss: 0.034509532153606415 | MAE Test Loss: 0.12631221115589142 \n",
      "Epoch: 62 | MAE Train Loss: 0.0810929536819458 | MAE Test Loss: 0.009040296077728271 \n",
      "Epoch: 63 | MAE Train Loss: 0.034509532153606415 | MAE Test Loss: 0.12631221115589142 \n",
      "Epoch: 64 | MAE Train Loss: 0.0810929536819458 | MAE Test Loss: 0.009040296077728271 \n",
      "Epoch: 65 | MAE Train Loss: 0.034509532153606415 | MAE Test Loss: 0.12631221115589142 \n",
      "Epoch: 66 | MAE Train Loss: 0.0810929536819458 | MAE Test Loss: 0.009040296077728271 \n",
      "Epoch: 67 | MAE Train Loss: 0.034509532153606415 | MAE Test Loss: 0.12631221115589142 \n",
      "Epoch: 68 | MAE Train Loss: 0.0810929536819458 | MAE Test Loss: 0.009040296077728271 \n",
      "Epoch: 69 | MAE Train Loss: 0.034509532153606415 | MAE Test Loss: 0.12631221115589142 \n",
      "Epoch: 70 | MAE Train Loss: 0.0810929536819458 | MAE Test Loss: 0.009040296077728271 \n",
      "Epoch: 71 | MAE Train Loss: 0.034509532153606415 | MAE Test Loss: 0.12631221115589142 \n",
      "Epoch: 72 | MAE Train Loss: 0.0810929536819458 | MAE Test Loss: 0.009040296077728271 \n",
      "Epoch: 73 | MAE Train Loss: 0.034509532153606415 | MAE Test Loss: 0.12631221115589142 \n",
      "Epoch: 74 | MAE Train Loss: 0.0810929536819458 | MAE Test Loss: 0.009040296077728271 \n",
      "Epoch: 75 | MAE Train Loss: 0.034509532153606415 | MAE Test Loss: 0.12631221115589142 \n",
      "Epoch: 76 | MAE Train Loss: 0.0810929536819458 | MAE Test Loss: 0.009040296077728271 \n",
      "Epoch: 77 | MAE Train Loss: 0.034509532153606415 | MAE Test Loss: 0.12631221115589142 \n",
      "Epoch: 78 | MAE Train Loss: 0.0810929536819458 | MAE Test Loss: 0.009040296077728271 \n",
      "Epoch: 79 | MAE Train Loss: 0.034509532153606415 | MAE Test Loss: 0.12631221115589142 \n",
      "Epoch: 80 | MAE Train Loss: 0.0810929536819458 | MAE Test Loss: 0.009040296077728271 \n",
      "Epoch: 81 | MAE Train Loss: 0.034509532153606415 | MAE Test Loss: 0.12631221115589142 \n",
      "Epoch: 82 | MAE Train Loss: 0.0810929536819458 | MAE Test Loss: 0.009040296077728271 \n",
      "Epoch: 83 | MAE Train Loss: 0.034509532153606415 | MAE Test Loss: 0.12631221115589142 \n",
      "Epoch: 84 | MAE Train Loss: 0.0810929536819458 | MAE Test Loss: 0.009040296077728271 \n",
      "Epoch: 85 | MAE Train Loss: 0.034509532153606415 | MAE Test Loss: 0.12631221115589142 \n",
      "Epoch: 86 | MAE Train Loss: 0.0810929536819458 | MAE Test Loss: 0.009040296077728271 \n",
      "Epoch: 87 | MAE Train Loss: 0.034509532153606415 | MAE Test Loss: 0.12631221115589142 \n",
      "Epoch: 88 | MAE Train Loss: 0.0810929536819458 | MAE Test Loss: 0.009040296077728271 \n",
      "Epoch: 89 | MAE Train Loss: 0.034509532153606415 | MAE Test Loss: 0.12631221115589142 \n",
      "Epoch: 90 | MAE Train Loss: 0.0810929536819458 | MAE Test Loss: 0.009040296077728271 \n",
      "Epoch: 91 | MAE Train Loss: 0.034509532153606415 | MAE Test Loss: 0.12631221115589142 \n",
      "Epoch: 92 | MAE Train Loss: 0.0810929536819458 | MAE Test Loss: 0.009040296077728271 \n",
      "Epoch: 93 | MAE Train Loss: 0.034509532153606415 | MAE Test Loss: 0.12631221115589142 \n",
      "Epoch: 94 | MAE Train Loss: 0.0810929536819458 | MAE Test Loss: 0.009040296077728271 \n",
      "Epoch: 95 | MAE Train Loss: 0.034509532153606415 | MAE Test Loss: 0.12631221115589142 \n",
      "Epoch: 96 | MAE Train Loss: 0.0810929536819458 | MAE Test Loss: 0.009040296077728271 \n",
      "Epoch: 97 | MAE Train Loss: 0.034509532153606415 | MAE Test Loss: 0.12631221115589142 \n",
      "Epoch: 98 | MAE Train Loss: 0.0810929536819458 | MAE Test Loss: 0.009040296077728271 \n",
      "Epoch: 99 | MAE Train Loss: 0.034509532153606415 | MAE Test Loss: 0.12631221115589142 \n",
      "Epoch: 100 | MAE Train Loss: 0.0810929536819458 | MAE Test Loss: 0.009040296077728271 \n",
      "Epoch: 101 | MAE Train Loss: 0.034509532153606415 | MAE Test Loss: 0.12631221115589142 \n",
      "Epoch: 102 | MAE Train Loss: 0.0810929536819458 | MAE Test Loss: 0.009040296077728271 \n",
      "Epoch: 103 | MAE Train Loss: 0.034509532153606415 | MAE Test Loss: 0.12631221115589142 \n",
      "Epoch: 104 | MAE Train Loss: 0.0810929536819458 | MAE Test Loss: 0.009040296077728271 \n",
      "Epoch: 105 | MAE Train Loss: 0.034509532153606415 | MAE Test Loss: 0.12631221115589142 \n",
      "Epoch: 106 | MAE Train Loss: 0.0810929536819458 | MAE Test Loss: 0.009040296077728271 \n",
      "Epoch: 107 | MAE Train Loss: 0.034509532153606415 | MAE Test Loss: 0.12631221115589142 \n",
      "Epoch: 108 | MAE Train Loss: 0.0810929536819458 | MAE Test Loss: 0.009040296077728271 \n",
      "Epoch: 109 | MAE Train Loss: 0.034509532153606415 | MAE Test Loss: 0.12631221115589142 \n",
      "Epoch: 110 | MAE Train Loss: 0.0810929536819458 | MAE Test Loss: 0.009040296077728271 \n",
      "Epoch: 111 | MAE Train Loss: 0.034509532153606415 | MAE Test Loss: 0.12631221115589142 \n",
      "Epoch: 112 | MAE Train Loss: 0.0810929536819458 | MAE Test Loss: 0.009040296077728271 \n",
      "Epoch: 113 | MAE Train Loss: 0.034509532153606415 | MAE Test Loss: 0.12631221115589142 \n",
      "Epoch: 114 | MAE Train Loss: 0.0810929536819458 | MAE Test Loss: 0.009040296077728271 \n",
      "Epoch: 115 | MAE Train Loss: 0.034509532153606415 | MAE Test Loss: 0.12631221115589142 \n",
      "Epoch: 116 | MAE Train Loss: 0.0810929536819458 | MAE Test Loss: 0.009040296077728271 \n",
      "Epoch: 117 | MAE Train Loss: 0.034509532153606415 | MAE Test Loss: 0.12631221115589142 \n",
      "Epoch: 118 | MAE Train Loss: 0.0810929536819458 | MAE Test Loss: 0.009040296077728271 \n",
      "Epoch: 119 | MAE Train Loss: 0.034509532153606415 | MAE Test Loss: 0.12631221115589142 \n",
      "Epoch: 120 | MAE Train Loss: 0.0810929536819458 | MAE Test Loss: 0.009040296077728271 \n",
      "Epoch: 121 | MAE Train Loss: 0.034509532153606415 | MAE Test Loss: 0.12631221115589142 \n",
      "Epoch: 122 | MAE Train Loss: 0.0810929536819458 | MAE Test Loss: 0.009040296077728271 \n",
      "Epoch: 123 | MAE Train Loss: 0.034509532153606415 | MAE Test Loss: 0.12631221115589142 \n",
      "Epoch: 124 | MAE Train Loss: 0.0810929536819458 | MAE Test Loss: 0.009040296077728271 \n",
      "Epoch: 125 | MAE Train Loss: 0.034509532153606415 | MAE Test Loss: 0.12631221115589142 \n",
      "Epoch: 126 | MAE Train Loss: 0.0810929536819458 | MAE Test Loss: 0.009040296077728271 \n",
      "Epoch: 127 | MAE Train Loss: 0.034509532153606415 | MAE Test Loss: 0.12631221115589142 \n",
      "Epoch: 128 | MAE Train Loss: 0.0810929536819458 | MAE Test Loss: 0.009040296077728271 \n",
      "Epoch: 129 | MAE Train Loss: 0.034509532153606415 | MAE Test Loss: 0.12631221115589142 \n",
      "Epoch: 130 | MAE Train Loss: 0.0810929536819458 | MAE Test Loss: 0.009040296077728271 \n",
      "Epoch: 131 | MAE Train Loss: 0.034509532153606415 | MAE Test Loss: 0.12631221115589142 \n",
      "Epoch: 132 | MAE Train Loss: 0.0810929536819458 | MAE Test Loss: 0.009040296077728271 \n",
      "Epoch: 133 | MAE Train Loss: 0.034509532153606415 | MAE Test Loss: 0.12631221115589142 \n",
      "Epoch: 134 | MAE Train Loss: 0.0810929536819458 | MAE Test Loss: 0.009040296077728271 \n",
      "Epoch: 135 | MAE Train Loss: 0.034509532153606415 | MAE Test Loss: 0.12631221115589142 \n",
      "Epoch: 136 | MAE Train Loss: 0.0810929536819458 | MAE Test Loss: 0.009040296077728271 \n",
      "Epoch: 137 | MAE Train Loss: 0.034509532153606415 | MAE Test Loss: 0.12631221115589142 \n",
      "Epoch: 138 | MAE Train Loss: 0.0810929536819458 | MAE Test Loss: 0.009040296077728271 \n",
      "Epoch: 139 | MAE Train Loss: 0.034509532153606415 | MAE Test Loss: 0.12631221115589142 \n",
      "Epoch: 140 | MAE Train Loss: 0.0810929536819458 | MAE Test Loss: 0.009040296077728271 \n",
      "Epoch: 141 | MAE Train Loss: 0.034509532153606415 | MAE Test Loss: 0.12631221115589142 \n",
      "Epoch: 142 | MAE Train Loss: 0.0810929536819458 | MAE Test Loss: 0.009040296077728271 \n",
      "Epoch: 143 | MAE Train Loss: 0.034509532153606415 | MAE Test Loss: 0.12631221115589142 \n",
      "Epoch: 144 | MAE Train Loss: 0.0810929536819458 | MAE Test Loss: 0.009040296077728271 \n",
      "Epoch: 145 | MAE Train Loss: 0.034509532153606415 | MAE Test Loss: 0.12631221115589142 \n",
      "Epoch: 146 | MAE Train Loss: 0.0810929536819458 | MAE Test Loss: 0.009040296077728271 \n",
      "Epoch: 147 | MAE Train Loss: 0.034509532153606415 | MAE Test Loss: 0.12631221115589142 \n",
      "Epoch: 148 | MAE Train Loss: 0.0810929536819458 | MAE Test Loss: 0.009040296077728271 \n",
      "Epoch: 149 | MAE Train Loss: 0.034509532153606415 | MAE Test Loss: 0.12631221115589142 \n",
      "Epoch: 150 | MAE Train Loss: 0.0810929536819458 | MAE Test Loss: 0.009040296077728271 \n",
      "Epoch: 151 | MAE Train Loss: 0.034509532153606415 | MAE Test Loss: 0.12631221115589142 \n",
      "Epoch: 152 | MAE Train Loss: 0.0810929536819458 | MAE Test Loss: 0.009040296077728271 \n",
      "Epoch: 153 | MAE Train Loss: 0.034509532153606415 | MAE Test Loss: 0.12631221115589142 \n",
      "Epoch: 154 | MAE Train Loss: 0.0810929536819458 | MAE Test Loss: 0.009040296077728271 \n",
      "Epoch: 155 | MAE Train Loss: 0.034509532153606415 | MAE Test Loss: 0.12631221115589142 \n",
      "Epoch: 156 | MAE Train Loss: 0.0810929536819458 | MAE Test Loss: 0.009040296077728271 \n",
      "Epoch: 157 | MAE Train Loss: 0.034509532153606415 | MAE Test Loss: 0.12631221115589142 \n",
      "Epoch: 158 | MAE Train Loss: 0.0810929536819458 | MAE Test Loss: 0.009040296077728271 \n",
      "Epoch: 159 | MAE Train Loss: 0.034509532153606415 | MAE Test Loss: 0.12631221115589142 \n",
      "Epoch: 160 | MAE Train Loss: 0.0810929536819458 | MAE Test Loss: 0.009040296077728271 \n",
      "Epoch: 161 | MAE Train Loss: 0.034509532153606415 | MAE Test Loss: 0.12631221115589142 \n",
      "Epoch: 162 | MAE Train Loss: 0.0810929536819458 | MAE Test Loss: 0.009040296077728271 \n",
      "Epoch: 163 | MAE Train Loss: 0.034509532153606415 | MAE Test Loss: 0.12631221115589142 \n",
      "Epoch: 164 | MAE Train Loss: 0.0810929536819458 | MAE Test Loss: 0.009040296077728271 \n",
      "Epoch: 165 | MAE Train Loss: 0.034509532153606415 | MAE Test Loss: 0.12631221115589142 \n",
      "Epoch: 166 | MAE Train Loss: 0.0810929536819458 | MAE Test Loss: 0.009040296077728271 \n",
      "Epoch: 167 | MAE Train Loss: 0.034509532153606415 | MAE Test Loss: 0.12631221115589142 \n",
      "Epoch: 168 | MAE Train Loss: 0.0810929536819458 | MAE Test Loss: 0.009040296077728271 \n",
      "Epoch: 169 | MAE Train Loss: 0.034509532153606415 | MAE Test Loss: 0.12631221115589142 \n",
      "Epoch: 170 | MAE Train Loss: 0.0810929536819458 | MAE Test Loss: 0.009040296077728271 \n",
      "Epoch: 171 | MAE Train Loss: 0.034509532153606415 | MAE Test Loss: 0.12631221115589142 \n",
      "Epoch: 172 | MAE Train Loss: 0.0810929536819458 | MAE Test Loss: 0.009040296077728271 \n",
      "Epoch: 173 | MAE Train Loss: 0.034509532153606415 | MAE Test Loss: 0.12631221115589142 \n",
      "Epoch: 174 | MAE Train Loss: 0.0810929536819458 | MAE Test Loss: 0.009040296077728271 \n",
      "Epoch: 175 | MAE Train Loss: 0.034509532153606415 | MAE Test Loss: 0.12631221115589142 \n",
      "Epoch: 176 | MAE Train Loss: 0.0810929536819458 | MAE Test Loss: 0.009040296077728271 \n",
      "Epoch: 177 | MAE Train Loss: 0.034509532153606415 | MAE Test Loss: 0.12631221115589142 \n",
      "Epoch: 178 | MAE Train Loss: 0.0810929536819458 | MAE Test Loss: 0.009040296077728271 \n",
      "Epoch: 179 | MAE Train Loss: 0.034509532153606415 | MAE Test Loss: 0.12631221115589142 \n",
      "Epoch: 180 | MAE Train Loss: 0.0810929536819458 | MAE Test Loss: 0.009040296077728271 \n",
      "Epoch: 181 | MAE Train Loss: 0.034509532153606415 | MAE Test Loss: 0.12631221115589142 \n",
      "Epoch: 182 | MAE Train Loss: 0.0810929536819458 | MAE Test Loss: 0.009040296077728271 \n",
      "Epoch: 183 | MAE Train Loss: 0.034509532153606415 | MAE Test Loss: 0.12631221115589142 \n",
      "Epoch: 184 | MAE Train Loss: 0.0810929536819458 | MAE Test Loss: 0.009040296077728271 \n",
      "Epoch: 185 | MAE Train Loss: 0.034509532153606415 | MAE Test Loss: 0.12631221115589142 \n",
      "Epoch: 186 | MAE Train Loss: 0.0810929536819458 | MAE Test Loss: 0.009040296077728271 \n",
      "Epoch: 187 | MAE Train Loss: 0.034509532153606415 | MAE Test Loss: 0.12631221115589142 \n",
      "Epoch: 188 | MAE Train Loss: 0.0810929536819458 | MAE Test Loss: 0.009040296077728271 \n",
      "Epoch: 189 | MAE Train Loss: 0.034509532153606415 | MAE Test Loss: 0.12631221115589142 \n",
      "Epoch: 190 | MAE Train Loss: 0.0810929536819458 | MAE Test Loss: 0.009040296077728271 \n",
      "Epoch: 191 | MAE Train Loss: 0.034509532153606415 | MAE Test Loss: 0.12631221115589142 \n",
      "Epoch: 192 | MAE Train Loss: 0.0810929536819458 | MAE Test Loss: 0.009040296077728271 \n",
      "Epoch: 193 | MAE Train Loss: 0.034509532153606415 | MAE Test Loss: 0.12631221115589142 \n",
      "Epoch: 194 | MAE Train Loss: 0.0810929536819458 | MAE Test Loss: 0.009040296077728271 \n",
      "Epoch: 195 | MAE Train Loss: 0.034509532153606415 | MAE Test Loss: 0.12631221115589142 \n",
      "Epoch: 196 | MAE Train Loss: 0.0810929536819458 | MAE Test Loss: 0.009040296077728271 \n",
      "Epoch: 197 | MAE Train Loss: 0.034509532153606415 | MAE Test Loss: 0.12631221115589142 \n",
      "Epoch: 198 | MAE Train Loss: 0.0810929536819458 | MAE Test Loss: 0.009040296077728271 \n",
      "Epoch: 199 | MAE Train Loss: 0.034509532153606415 | MAE Test Loss: 0.12631221115589142 \n"
     ]
    }
   ],
   "source": [
    "train_loss , test_loss , epoch = train(model=model)"
   ]
  },
  {
   "cell_type": "code",
   "execution_count": 108,
   "id": "8baa18ab-cafd-41cd-bab2-e07564d789e5",
   "metadata": {},
   "outputs": [],
   "source": [
    "def plot_train_test(epoch_count,train_loss_values,test_loss_values):\n",
    "    plt.plot(epoch_count, train_loss_values, label=\"Train loss\")\n",
    "    plt.plot(epoch_count, test_loss_values, label=\"Test loss\")\n",
    "    plt.title(\"Training and test loss curves\")\n",
    "    plt.ylabel(\"Loss\")\n",
    "    plt.xlabel(\"Epochs\")\n",
    "    plt.legend();"
   ]
  },
  {
   "cell_type": "code",
   "execution_count": 109,
   "id": "d5e279eb-92f2-4bc2-a4cc-fee284c4a691",
   "metadata": {},
   "outputs": [
    {
     "data": {
      "image/png": "[encoded data removed]",
      "text/plain": [
       "<Figure size 640x480 with 1 Axes>"
      ]
     },
     "metadata": {},
     "output_type": "display_data"
    }
   ],
   "source": [
    "plot_train_test(epoch,train_loss,test_loss)"
   ]
  },
  {
   "cell_type": "code",
   "execution_count": 110,
   "id": "a0ed683f-3ce8-402f-bc40-58f6f11cfa75",
   "metadata": {},
   "outputs": [
    {
     "data": {
      "text/plain": [
       "OrderedDict([('weights', tensor([0.8096])), ('bias', tensor([0.1546]))])"
      ]
     },
     "execution_count": 110,
     "metadata": {},
     "output_type": "execute_result"
    }
   ],
   "source": [
    "model.state_dict()"
   ]
  },
  {
   "cell_type": "code",
   "execution_count": 117,
   "id": "60d80109-2f14-4c77-901b-51769c82c8d4",
   "metadata": {},
   "outputs": [],
   "source": [
    "preds=model(X_test)"
   ]
  },
  {
   "cell_type": "code",
   "execution_count": 124,
   "id": "6aae9737-49e0-4dc8-938b-870195f6ea20",
   "metadata": {},
   "outputs": [
    {
     "name": "stdout",
     "output_type": "stream",
     "text": [
      "20 20\n"
     ]
    },
    {
     "data": {
      "image/png": "[encoded data removed]",
      "text/plain": [
       "<Figure size 1000x700 with 1 Axes>"
      ]
     },
     "metadata": {},
     "output_type": "display_data"
    }
   ],
   "source": [
    "plot_pred(pred = preds.detach().numpy())"
   ]
  },
  {
   "cell_type": "code",
   "execution_count": 126,
   "id": "ced08aec-2552-42c6-9b82-ba928999c40f",
   "metadata": {},
   "outputs": [
    {
     "name": "stdout",
     "output_type": "stream",
     "text": [
      "Saving model to: models\\1_lr_v0.0.pth\n"
     ]
    }
   ],
   "source": [
    "from pathlib import Path\n",
    "\n",
    "MODEL_PATH = Path(\"models\")\n",
    "MODEL_PATH.mkdir(parents=True, exist_ok=True)\n",
    "MODEL_NAME = \"1_lr_v0.0.pth\"\n",
    "MODEL_SAVE_PATH = MODEL_PATH / MODEL_NAME\n",
    "print(f\"Saving model to: {MODEL_SAVE_PATH}\")\n",
    "torch.save(obj=model.state_dict(), f=MODEL_SAVE_PATH) "
   ]
  },
  {
   "cell_type": "code",
   "execution_count": 127,
   "id": "c0ffab00-145a-45b4-869d-73633324cfec",
   "metadata": {},
   "outputs": [
    {
     "data": {
      "text/plain": [
       "<All keys matched successfully>"
      ]
     },
     "execution_count": 127,
     "metadata": {},
     "output_type": "execute_result"
    }
   ],
   "source": [
    "loaded_model_0 = LR()\n",
    "loaded_model_0.load_state_dict(torch.load(f=MODEL_SAVE_PATH))"
   ]
  },
  {
   "cell_type": "code",
   "execution_count": 129,
   "id": "896f85da-c02d-41e4-a0ef-9a4126bdfc45",
   "metadata": {},
   "outputs": [
    {
     "name": "stdout",
     "output_type": "stream",
     "text": [
      "tensor([0.8023, 0.8104, 0.8185, 0.8266, 0.8347, 0.8428, 0.8509, 0.8589, 0.8670,\n",
      "        0.8751, 0.8832, 0.8913, 0.8994, 0.9075, 0.9156, 0.9237, 0.9318, 0.9399,\n",
      "        0.9480, 0.9561])\n"
     ]
    }
   ],
   "source": [
    "with torch.inference_mode():\n",
    "    print(loaded_model_0(X_test))"
   ]
  },
  {
   "cell_type": "markdown",
   "id": "b981110f-b52a-4534-83a0-e093adf3eff6",
   "metadata": {},
   "source": [
    "# Now going through https://docs.pytorch.org/tutorials/beginner/nn_tutorial.html"
   ]
  },
  {
   "cell_type": "code",
   "execution_count": null,
   "id": "78827e42-b009-43bd-baea-27362431df27",
   "metadata": {},
   "outputs": [],
   "source": []
  }
 ],
 "metadata": {
  "kernelspec": {
   "display_name": "Python 3 (ipykernel)",
   "language": "python",
   "name": "python3"
  },
  "language_info": {
   "codemirror_mode": {
    "name": "ipython",
    "version": 3
   },
   "file_extension": ".py",
   "mimetype": "text/x-python",
   "name": "python",
   "nbconvert_exporter": "python",
   "pygments_lexer": "ipython3",
   "version": "3.11.7"
  }
 },
 "nbformat": 4,
 "nbformat_minor": 5
}
