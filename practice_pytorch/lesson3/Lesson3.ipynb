{
 "cells": [
  {
   "cell_type": "markdown",
   "id": "3774a866-2ec3-4a27-bc47-92447f3efaf2",
   "metadata": {},
   "source": [
    "\n",
    "1. PyTorch supports map- and iterable-style dataset classes. A map-style dataset is derived from the abstract class torch.utils.data.Dataset\n",
    "2.  iterable-style dataset, on the other hand, is derived from the torch.utils.data.IterableDataset abstract class. It implements the iter() \n",
    "3. \n",
    "    TensorDataset(tensors)\n",
    "    Creates a dataset object from a tensor\n",
    "    \n",
    "    ConcatDataset(datasets)\n",
    "    Creates a dataset from multiple datasets\n",
    "    \n",
    "    ChainDataset(datasets)\n",
    "    Chains multiple IterableDatasets\n",
    "    \n",
    "    Subset(dataset, indices)\n",
    "    Creates a subset of a dataset from specified indices\n",
    "\n",
    "4. The Dataset class returns a dataset object that includes data and information about the data. The Sampler class returns the actual data itself in a specified or random fashion. The DataLoader class combines a dataset with a sampler and returns an iterable\n",
    "\n",
    "5. "
   ]
  },
  {
   "cell_type": "markdown",
   "id": "3663ee43-eb96-42c7-be4d-57cdcb2898f0",
   "metadata": {},
   "source": [
    "Writing a net "
   ]
  },
  {
   "cell_type": "code",
   "execution_count": 13,
   "id": "6f1181e7-6e11-48bb-b6d5-64c505466700",
   "metadata": {},
   "outputs": [],
   "source": [
    "import torch.nn as nn\n",
    "import torch.nn.functional as F"
   ]
  },
  {
   "cell_type": "code",
   "execution_count": 18,
   "id": "1b84c9de-2ea2-4394-9d96-8961c233eaee",
   "metadata": {},
   "outputs": [],
   "source": [
    "class Net(nn.Module):\n",
    "    def __init__(self):\n",
    "        super().__init__()\n",
    "        self.fc1 = nn.Linear(1024,512)\n",
    "        self.fc2 = nn.Linear(512,128)\n",
    "    def forward(self,inp):\n",
    "        out = inp.view(-1,1024)\n",
    "        out = F.relu(self.fc1(out))\n",
    "        out = F.relu(self.fc2(out))\n",
    "        out = F.softmax(out)\n",
    "        return out\n",
    "        "
   ]
  },
  {
   "cell_type": "code",
   "execution_count": 19,
   "id": "f17f6f56-2a3b-4481-8061-f3e56d275c68",
   "metadata": {},
   "outputs": [
    {
     "name": "stdout",
     "output_type": "stream",
     "text": [
      "Net(\n",
      "  (fc1): Linear(in_features=1024, out_features=512, bias=True)\n",
      "  (fc2): Linear(in_features=512, out_features=128, bias=True)\n",
      ")\n"
     ]
    }
   ],
   "source": [
    "net = Net()\n",
    "print(net)"
   ]
  },
  {
   "cell_type": "code",
   "execution_count": 22,
   "id": "f4893734-9d38-4580-b093-e753a790d0af",
   "metadata": {},
   "outputs": [
    {
     "name": "stdout",
     "output_type": "stream",
     "text": [
      "torch.Size([10, 128]) tensor([[0.0088, 0.0073, 0.0073,  ..., 0.0078, 0.0085, 0.0073],\n",
      "        [0.0095, 0.0073, 0.0073,  ..., 0.0078, 0.0080, 0.0073],\n",
      "        [0.0084, 0.0073, 0.0073,  ..., 0.0073, 0.0073, 0.0073],\n",
      "        ...,\n",
      "        [0.0093, 0.0073, 0.0073,  ..., 0.0074, 0.0081, 0.0073],\n",
      "        [0.0076, 0.0072, 0.0072,  ..., 0.0082, 0.0084, 0.0072],\n",
      "        [0.0076, 0.0073, 0.0073,  ..., 0.0075, 0.0089, 0.0073]],\n",
      "       grad_fn=<SoftmaxBackward0>)\n"
     ]
    },
    {
     "name": "stderr",
     "output_type": "stream",
     "text": [
      "C:\\Users\\Suraj\\AppData\\Local\\Temp\\ipykernel_6248\\1918761778.py:10: UserWarning: Implicit dimension choice for softmax has been deprecated. Change the call to include dim=X as an argument.\n",
      "  out = F.softmax(out)\n"
     ]
    }
   ],
   "source": [
    "import torch\n",
    "y = net(torch.rand(10,1024))\n",
    "print(y.shape,y)"
   ]
  },
  {
   "cell_type": "code",
   "execution_count": 35,
   "id": "81eb7536-7649-484e-bceb-b95f619d3a19",
   "metadata": {},
   "outputs": [],
   "source": [
    "from torch import optim\n",
    "from torch.nn import CrossEntropyLoss\n",
    "class LeNet5(nn.Module): \n",
    "    def __init__(self):\n",
    "        super(LeNet5, self).__init__()\n",
    "        self.conv1 = nn.Conv2d(3, 6, 5)\n",
    "        self.conv2 = nn.Conv2d(6, 16, 5)\n",
    "        self.fc1 = nn.Linear(16 * 5 * 5, 120)\n",
    "        self.fc2 = nn.Linear(120, 84)\n",
    "        self.fc3 = nn.Linear(84, 10)\n",
    "\n",
    "    def forward(self, x):\n",
    "        x = F.max_pool2d(F.relu(self.conv1(x)),\n",
    "                        (2, 2))\n",
    "        x = F.max_pool2d(F.relu(self.conv2(x)), 2)\n",
    "        x = x.view(-1,\n",
    "                   int(x.nelement() / x.shape[0]))\n",
    "        x = F.relu(self.fc1(x))\n",
    "        x = F.relu(self.fc2(x))\n",
    "        x = self.fc3(x)\n",
    "        return x\n",
    "\n",
    "device = 'cuda' if torch.cuda.is_available() else 'cpu'\n",
    "model = LeNet5().to(device=device) \n",
    "lossfn = CrossEntropyLoss()\n",
    "opt = optim.SGD(model.parameters(),lr = 0.001,momentum=0.9)"
   ]
  },
  {
   "cell_type": "code",
   "execution_count": 33,
   "id": "a017c3cf-ee9e-421d-adef-c6c87d3d424e",
   "metadata": {},
   "outputs": [],
   "source": [
    "from torchvision.datasets import CIFAR10\n",
    "from torchvision import transforms\n",
    "\n",
    "train_transforms = transforms.Compose([\n",
    "  transforms.RandomCrop(32, padding=4),\n",
    "  transforms.RandomHorizontalFlip(),\n",
    "  transforms.ToTensor(),\n",
    "  transforms.Normalize(\n",
    "      mean=(0.4914, 0.4822, 0.4465),\n",
    "      std=(0.2023, 0.1994, 0.2010))])\n",
    "\n",
    "train_data = CIFAR10(root=\"./train/\",\n",
    "                     train=True,\n",
    "                     download=True,\n",
    "                    transform=train_transforms)"
   ]
  },
  {
   "cell_type": "code",
   "execution_count": 34,
   "id": "591be604-a0e7-48dd-9a62-6c8061ae30a2",
   "metadata": {},
   "outputs": [],
   "source": [
    "train_dl = torch.utils.data.DataLoader(\n",
    "                    train_data,\n",
    "                    batch_size=16,\n",
    "                    shuffle=True)"
   ]
  },
  {
   "cell_type": "code",
   "execution_count": 41,
   "id": "af9f6fc2-3821-408d-874f-ef3915f19d28",
   "metadata": {},
   "outputs": [
    {
     "name": "stderr",
     "output_type": "stream",
     "text": [
      "Epoch 1/10: 100%|█████████████████████████████████████████████████████████████████| 3125/3125 [00:28<00:00, 111.36it/s]\n"
     ]
    },
    {
     "name": "stdout",
     "output_type": "stream",
     "text": [
      "Epoch: 1 | Loss: 1.5932\n"
     ]
    },
    {
     "name": "stderr",
     "output_type": "stream",
     "text": [
      "Epoch 2/10: 100%|█████████████████████████████████████████████████████████████████| 3125/3125 [00:28<00:00, 110.14it/s]\n"
     ]
    },
    {
     "name": "stdout",
     "output_type": "stream",
     "text": [
      "Epoch: 2 | Loss: 1.4778\n"
     ]
    },
    {
     "name": "stderr",
     "output_type": "stream",
     "text": [
      "Epoch 3/10: 100%|█████████████████████████████████████████████████████████████████| 3125/3125 [00:27<00:00, 111.78it/s]\n"
     ]
    },
    {
     "name": "stdout",
     "output_type": "stream",
     "text": [
      "Epoch: 3 | Loss: 1.3977\n"
     ]
    },
    {
     "name": "stderr",
     "output_type": "stream",
     "text": [
      "Epoch 4/10: 100%|█████████████████████████████████████████████████████████████████| 3125/3125 [00:28<00:00, 110.86it/s]\n"
     ]
    },
    {
     "name": "stdout",
     "output_type": "stream",
     "text": [
      "Epoch: 4 | Loss: 1.3365\n"
     ]
    },
    {
     "name": "stderr",
     "output_type": "stream",
     "text": [
      "Epoch 5/10: 100%|█████████████████████████████████████████████████████████████████| 3125/3125 [00:28<00:00, 111.19it/s]\n"
     ]
    },
    {
     "name": "stdout",
     "output_type": "stream",
     "text": [
      "Epoch: 5 | Loss: 1.2985\n"
     ]
    },
    {
     "name": "stderr",
     "output_type": "stream",
     "text": [
      "Epoch 6/10: 100%|█████████████████████████████████████████████████████████████████| 3125/3125 [00:27<00:00, 111.68it/s]\n"
     ]
    },
    {
     "name": "stdout",
     "output_type": "stream",
     "text": [
      "Epoch: 6 | Loss: 1.2561\n"
     ]
    },
    {
     "name": "stderr",
     "output_type": "stream",
     "text": [
      "Epoch 7/10: 100%|█████████████████████████████████████████████████████████████████| 3125/3125 [00:27<00:00, 114.70it/s]\n"
     ]
    },
    {
     "name": "stdout",
     "output_type": "stream",
     "text": [
      "Epoch: 7 | Loss: 1.2270\n"
     ]
    },
    {
     "name": "stderr",
     "output_type": "stream",
     "text": [
      "Epoch 8/10: 100%|█████████████████████████████████████████████████████████████████| 3125/3125 [00:27<00:00, 112.92it/s]\n"
     ]
    },
    {
     "name": "stdout",
     "output_type": "stream",
     "text": [
      "Epoch: 8 | Loss: 1.2020\n"
     ]
    },
    {
     "name": "stderr",
     "output_type": "stream",
     "text": [
      "Epoch 9/10: 100%|█████████████████████████████████████████████████████████████████| 3125/3125 [00:28<00:00, 109.56it/s]\n"
     ]
    },
    {
     "name": "stdout",
     "output_type": "stream",
     "text": [
      "Epoch: 9 | Loss: 1.1742\n"
     ]
    },
    {
     "name": "stderr",
     "output_type": "stream",
     "text": [
      "Epoch 10/10: 100%|████████████████████████████████████████████████████████████████| 3125/3125 [00:28<00:00, 109.22it/s]"
     ]
    },
    {
     "name": "stdout",
     "output_type": "stream",
     "text": [
      "Epoch: 10 | Loss: 1.1634\n"
     ]
    },
    {
     "name": "stderr",
     "output_type": "stream",
     "text": [
      "\n"
     ]
    }
   ],
   "source": [
    "from tqdm import tqdm \n",
    "\n",
    "EPOCHS = 10\n",
    "train_loss = []\n",
    "\n",
    "for epoch in range(EPOCHS):\n",
    "    epoch_loss = 0.0\n",
    "    model.train()\n",
    "    \n",
    "    for inputs, labels in tqdm(train_dl, desc=f\"Epoch {epoch+1}/{EPOCHS}\"):\n",
    "        inputs = inputs.to(device)\n",
    "        labels = labels.to(device)\n",
    "\n",
    "        opt.zero_grad()\n",
    "        outputs = model(inputs)\n",
    "        loss = lossfn(outputs, labels)\n",
    "        loss.backward()\n",
    "        opt.step()\n",
    "\n",
    "        epoch_loss += loss.item()\n",
    "\n",
    "    avg_loss = epoch_loss / len(train_dl)\n",
    "    train_loss.append(avg_loss)\n",
    "    print(f\"Epoch: {epoch+1} | Loss: {avg_loss:.4f}\")"
   ]
  },
  {
   "cell_type": "code",
   "execution_count": 42,
   "id": "9c97df59-37f3-4855-851e-a7c82e041ec8",
   "metadata": {},
   "outputs": [
    {
     "data": {
      "text/plain": [
       "[<matplotlib.lines.Line2D at 0x1afc222de10>]"
      ]
     },
     "execution_count": 42,
     "metadata": {},
     "output_type": "execute_result"
    },
    {
     "data": {
      "image/png": "[encoded data removed]",
      "text/plain": [
       "<Figure size 640x480 with 1 Axes>"
      ]
     },
     "metadata": {},
     "output_type": "display_data"
    }
   ],
   "source": [
    "import matplotlib.pyplot as plt\n",
    "plt.plot(train_loss)"
   ]
  },
  {
   "cell_type": "markdown",
   "id": "fac82e52-f44c-42e2-b61f-f8a8d3ca1f1a",
   "metadata": {},
   "source": [
    "The CrossEntropyLoss() function includes the softmax calculation, which is usually performed in the last step of an NN classifier model. When using CrossEntropyLoss(), do not include Softmax() in the output layer of your model definition."
   ]
  },
  {
   "cell_type": "code",
   "execution_count": 43,
   "id": "6d48ebc0-3247-409d-87e5-e5e60b9c2988",
   "metadata": {},
   "outputs": [
    {
     "data": {
      "text/plain": [
       "<All keys matched successfully>"
      ]
     },
     "execution_count": 43,
     "metadata": {},
     "output_type": "execute_result"
    }
   ],
   "source": [
    "torch.save(model.state_dict(), \"./lenet5_model.pt\")\n",
    "\n",
    "model = LeNet5().to(device)\n",
    "model.load_state_dict(torch.load(\"./lenet5_model.pt\"))"
   ]
  },
  {
   "cell_type": "code",
   "execution_count": null,
   "id": "d9781eb2-780f-4b73-a088-5bf9ecadc9fb",
   "metadata": {},
   "outputs": [],
   "source": []
  }
 ],
 "metadata": {
  "kernelspec": {
   "display_name": "Python 3 (ipykernel)",
   "language": "python",
   "name": "python3"
  },
  "language_info": {
   "codemirror_mode": {
    "name": "ipython",
    "version": 3
   },
   "file_extension": ".py",
   "mimetype": "text/x-python",
   "name": "python",
   "nbconvert_exporter": "python",
   "pygments_lexer": "ipython3",
   "version": "3.11.7"
  }
 },
 "nbformat": 4,
 "nbformat_minor": 5
}
